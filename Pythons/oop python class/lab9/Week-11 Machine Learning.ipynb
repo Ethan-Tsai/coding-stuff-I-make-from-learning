{
 "cells": [
  {
   "cell_type": "markdown",
   "id": "7b8af9a0",
   "metadata": {},
   "source": [
    "# Machine Learning"
   ]
  },
  {
   "cell_type": "markdown",
   "id": "73609a8e",
   "metadata": {},
   "source": [
    "- Machine Learning is the Science (and art) of programming computers so they can learn from data\n",
    "<br></br>\n",
    "- Machine Learning is the field of study that gives computers the ability to learn without being explicitly programmed\n",
    "    - Arthur Samuel, 1959\n",
    "<br></br>\n",
    "- A computer program is said to learn from experience E with respect to some task T and some performance measure P,\n",
    "if its performance on T, as measured by P, improves with experiencerience E.\n",
    "    - Tom Mitchell, 1997"
   ]
  },
  {
   "cell_type": "markdown",
   "id": "51dc3c42",
   "metadata": {},
   "source": [
    "- Machine learning is all about creating models from data"
   ]
  },
  {
   "cell_type": "markdown",
   "id": "cd129759",
   "metadata": {},
   "source": [
    "- Machine learning involves building mathematical models to help understand data.\n",
    "- \"Learning\" enters the fray when we give these models tunable parameters that can be adapted to observed data\n",
    "- Once these models have been fit to previously seen data,\n",
    "- Those models can be used to predict and understand aspects of newly observed data."
   ]
  },
  {
   "cell_type": "markdown",
   "id": "85f621bd",
   "metadata": {},
   "source": [
    "- Understanding the problem setting in machine learning is essential to using these tools effectively"
   ]
  },
  {
   "cell_type": "markdown",
   "id": "52c0dce6",
   "metadata": {},
   "source": [
    "# Categories of Machine Learning"
   ]
  },
  {
   "cell_type": "markdown",
   "id": "5222b816",
   "metadata": {},
   "source": [
    "**`Supervised learning`**\n",
    "- Involves somehow modeling the relationship between measured features of data and some label \n",
    "associated with the data\n",
    "- Once this model is determined\n",
    "- Model can be used to apply labels to new, unknown data. "
   ]
  },
  {
   "cell_type": "markdown",
   "id": "829e929c",
   "metadata": {},
   "source": [
    "**Supervised learning further divided in to `classification` task and `regression` task**\n",
    "- In classification, the labels are `discrete categories`\n",
    "- In regression, the labels are `continuous quantities`"
   ]
  },
  {
   "cell_type": "markdown",
   "id": "32c58937",
   "metadata": {},
   "source": [
    "**`Unsupervised learning**` \n",
    "- Involves modeling the features of a dataset without reference to any label \n",
    "- It is often described as \"letting the dataset speak for itself.\" "
   ]
  },
  {
   "cell_type": "markdown",
   "id": "a873cf86",
   "metadata": {},
   "source": [
    "**Unsupervised learning further divided in to `clustering` task and `dimensionality reduction` task**"
   ]
  },
  {
   "cell_type": "markdown",
   "id": "f52691e8",
   "metadata": {},
   "source": [
    "- Clustering algorithms identify distinct groups of data\n",
    "- Dimensionality reduction algorithms search for more concise representations of the data"
   ]
  },
  {
   "cell_type": "markdown",
   "id": "ff3487ed",
   "metadata": {},
   "source": [
    "**Semi-supervised learning methods**\n",
    "- Falls somewhere between supervised learning and unsupervised learning. \n",
    "- Semi-supervised learning methods are often useful when only incomplete labels are available."
   ]
  },
  {
   "cell_type": "markdown",
   "id": "0ca0525b",
   "metadata": {},
   "source": [
    "# Qualitative Examples of Machine Learning Applications"
   ]
  },
  {
   "cell_type": "markdown",
   "id": "2a7e31c7",
   "metadata": {},
   "source": [
    "- What type of problems machine learning approaches can solve?"
   ]
  },
  {
   "cell_type": "markdown",
   "id": "5cf3d0ab",
   "metadata": {},
   "source": [
    "## Classification: Predicting discrete lables"
   ]
  },
  {
   "cell_type": "markdown",
   "id": "ceaeaeb8",
   "metadata": {},
   "source": [
    "- In classification labels are discretes"
   ]
  },
  {
   "cell_type": "markdown",
   "id": "35871774",
   "metadata": {},
   "source": [
    "### **Dataset for classification**"
   ]
  },
  {
   "cell_type": "markdown",
   "id": "72b4fd3d",
   "metadata": {},
   "source": [
    "<img src='Figure Classification Example 1.png' align='left'>"
   ]
  },
  {
   "cell_type": "markdown",
   "id": "8023ae25",
   "metadata": {},
   "source": [
    "- In above example a a datset is given with labeled points and want to use these to classify some unlabeled points\n",
    "- Two dimensional data\n",
    "- Two *features* for each point\n",
    "- Represented by *(x,y)* positions\n",
    "- One of two class labels for each points\n",
    "- Purpose is to create a model to tell us decide whether a new point should be labeled as `blue` or `red`"
   ]
  },
  {
   "cell_type": "markdown",
   "id": "ed505f9e",
   "metadata": {},
   "source": [
    "- How to do the classification task?\n",
    "- The simple way is to draw a straight line such that points on each side of the line fall in the same group\n",
    "- Here ***model*** is the quantitative version of the statement ***a straight line separates the classes***\n",
    "- ***model parameters*** are numbers describing the location and orientation of the line for our data\n",
    "- The values of these parameters are learned from the data i.e. ***training the model***"
   ]
  },
  {
   "cell_type": "markdown",
   "id": "ae72706f",
   "metadata": {},
   "source": [
    "### **Visual representation of trained model or a simple classification model**"
   ]
  },
  {
   "cell_type": "markdown",
   "id": "ee0c8106",
   "metadata": {},
   "source": [
    "<img src='Figure Classification Example 2.png' align='left'>"
   ]
  },
  {
   "cell_type": "markdown",
   "id": "6f2ab6ef",
   "metadata": {},
   "source": [
    "- As the model is trained so it can be generalized to a new ulabeled data\n",
    "- We can take a new dataset and draw this model line through it\n",
    "- Assign labels to the new points on this model\n",
    "- The stage of label assignment is usually called `prediction`"
   ]
  },
  {
   "cell_type": "markdown",
   "id": "f16cf0c7",
   "metadata": {},
   "source": [
    "<img src='Figure Classification Example 3-1.png' align='left'>"
   ]
  },
  {
   "cell_type": "markdown",
   "id": "4f2f2045",
   "metadata": {},
   "source": [
    "- Machine learning can generalize to much larger datasets in many more dimensions\n",
    "- To train a classification algorithm would need enough well-constructed features somewhere around thousand or million words or phrases"
   ]
  },
  {
   "cell_type": "markdown",
   "id": "57d95a61",
   "metadata": {},
   "source": [
    "- Some **classification** algorithms\n",
    "- `Gaussian Naive Bayes` \n",
    "- `Support Vector Machines`\n",
    "- `Random Forest Classification`"
   ]
  },
  {
   "cell_type": "markdown",
   "id": "0ba0a78d",
   "metadata": {},
   "source": [
    "## Regression: Predicting continuous lables"
   ]
  },
  {
   "cell_type": "markdown",
   "id": "e96abc17",
   "metadata": {},
   "source": [
    "- In regression labels are continuous quantities"
   ]
  },
  {
   "cell_type": "markdown",
   "id": "70f0ab27",
   "metadata": {},
   "source": [
    "<img src='figure_regression_1.png' align='left'>"
   ]
  },
  {
   "cell_type": "markdown",
   "id": "395e4ed7",
   "metadata": {},
   "source": [
    "- A point is described by two features (x,y)\n",
    "- The color represents the continuous label for that point"
   ]
  },
  {
   "cell_type": "markdown",
   "id": "3d1664a4",
   "metadata": {},
   "source": [
    "- How to predict the point?\n",
    "- We will be using simple linear regression to predict the points\n",
    "- Simple linear regression model assumes label as a third spatial dimension."
   ]
  },
  {
   "cell_type": "markdown",
   "id": "ee5bfd9b",
   "metadata": {},
   "source": [
    "**A three dimensional view of regression data**"
   ]
  },
  {
   "cell_type": "markdown",
   "id": "8a5b7073",
   "metadata": {},
   "source": [
    "<img src='figure_regression_2.png' align='left'>"
   ]
  },
  {
   "cell_type": "markdown",
   "id": "dbd2ecb8",
   "metadata": {},
   "source": [
    "- In this figure feature-1 and feature-2 are the same\n",
    "- Representing the labels by both color and three dimensional axis position"
   ]
  },
  {
   "cell_type": "markdown",
   "id": "47fa6828",
   "metadata": {},
   "source": [
    "<img src='figure_regression_3.png' align='left'>"
   ]
  },
  {
   "cell_type": "markdown",
   "id": "994e96e8",
   "metadata": {},
   "source": [
    "- Fitting a plane through this three-dimensional data would allow us to predict the expected label for any set of input parameters\n",
    "- This plane of fit give us what we need to predict labels for new points"
   ]
  },
  {
   "cell_type": "markdown",
   "id": "3e11668c",
   "metadata": {},
   "source": [
    "**Applying the regression model to new data**"
   ]
  },
  {
   "cell_type": "markdown",
   "id": "11431011",
   "metadata": {},
   "source": [
    "<img src='figure_regression_4.png' align='left'>"
   ]
  },
  {
   "cell_type": "markdown",
   "id": "37ceb15d",
   "metadata": {},
   "source": [
    "- The power of these methods lies in that fact that they can be applied and evaluated in the case of data with many, many features"
   ]
  },
  {
   "cell_type": "markdown",
   "id": "a17130e9",
   "metadata": {},
   "source": [
    "**Some regression algorithm**\n",
    "- Linear Regression\n",
    "- Support Vector Machines\n",
    "- Random Forest Regression"
   ]
  },
  {
   "cell_type": "markdown",
   "id": "93a140f6",
   "metadata": {},
   "source": [
    "- **Supervised learning involves models that describe data with reference to known labels**\n",
    "- **UnSupervised learning involves models that describe data without reference to any known labels**"
   ]
  },
  {
   "cell_type": "markdown",
   "id": "887f28a6",
   "metadata": {},
   "source": [
    "## Clustering; Inferring labels on unlabeled data"
   ]
  },
  {
   "cell_type": "markdown",
   "id": "cc58f140",
   "metadata": {},
   "source": [
    "- Clustering is done through UnSupervised learning where data is automatically assigned to some number of discrete groups.\n",
    "- In UnSupervised learning labels or other information are inferred from the structure of the data itself"
   ]
  },
  {
   "cell_type": "markdown",
   "id": "f69c69a5",
   "metadata": {},
   "source": [
    "<img src='figure_clustering_1.png' align='left'>"
   ]
  },
  {
   "cell_type": "markdown",
   "id": "4feba9e7",
   "metadata": {},
   "source": [
    "- Using the K-means algorithgm we find the clusters shown in below image"
   ]
  },
  {
   "cell_type": "markdown",
   "id": "4cd5d6d0",
   "metadata": {},
   "source": [
    "<img src='figure_clustering_2.png' align='left'>"
   ]
  },
  {
   "cell_type": "markdown",
   "id": "17f87b4c",
   "metadata": {},
   "source": [
    "- K-means fits a model consisting of k cluster centers\n",
    "- The optimal centers are assumed to be those that minimize the distance of each point from its assigned center"
   ]
  },
  {
   "cell_type": "markdown",
   "id": "675aea44",
   "metadata": {},
   "source": [
    "**Some clustering algorithm**\n",
    "- Gaussian mixture models\n",
    "- Spectral clustering"
   ]
  },
  {
   "cell_type": "markdown",
   "id": "f308425f",
   "metadata": {},
   "source": [
    "## Dimensionality reduction: Inferring structure of unlabeled data"
   ]
  },
  {
   "cell_type": "markdown",
   "id": "928534c4",
   "metadata": {},
   "source": [
    "- Dimensionality reduction pull out some low-dimensional representation of data that in some way preserves\n",
    "relevant qualities of the full dataset"
   ]
  },
  {
   "cell_type": "markdown",
   "id": "36164c14",
   "metadata": {},
   "source": [
    "- Example data for dimensionality reduction\n",
    "<img src='figure_dimensionality_reduction_1.png' align='left'>"
   ]
  },
  {
   "cell_type": "markdown",
   "id": "87ca735b",
   "metadata": {},
   "source": [
    "- Data with a label learned via dimensionality reduction\n",
    "<img src='figure_dimensionality_reduction_2.png' align='left'>"
   ]
  },
  {
   "cell_type": "markdown",
   "id": "0a2e78b1",
   "metadata": {},
   "source": [
    "- Colors represent the extracted one-dimensional latent vairable change uniformly along the spiral.\n",
    "- Means algorith detect the structure we saw by eye"
   ]
  },
  {
   "cell_type": "markdown",
   "id": "b307a050",
   "metadata": {},
   "source": [
    "- What if we have 100 or 1000 featured data and we want to visualize the relationship within a dataset\n",
    "- One way is to reduce data ti two or three dimensions using dimensionality reduction technique"
   ]
  },
  {
   "cell_type": "markdown",
   "id": "663b4bec",
   "metadata": {},
   "source": [
    "# Summary"
   ]
  },
  {
   "cell_type": "markdown",
   "id": "84dcb5ef",
   "metadata": {},
   "source": [
    "*Supervised learning*\n",
    "- Models that can predict labels based on labeled training data\n",
    "<br/><br/>\n",
    "- *Classification*\n",
    "    - Models that predict labels as two or more `discrete categories`\n",
    "    <br/><br/>\n",
    "- *Regression*\n",
    "    - Models that predict `continuous` labels"
   ]
  },
  {
   "cell_type": "markdown",
   "id": "9286f069",
   "metadata": {},
   "source": [
    "*UnSupervised learning*\n",
    "- Models that identify structure in unlabeled data\n",
    "<br/><br/>\n",
    "- *Clustering*\n",
    "    - Models that detect and identify `structure` in unlabeled data\n",
    "<br/><br/>\n",
    "- *Dimensionality reduction*\n",
    "    - Models that detect and identify `lower-dimensional structure` in higher dimensional data"
   ]
  },
  {
   "cell_type": "markdown",
   "id": "971da78e",
   "metadata": {},
   "source": [
    "# Introducing Scikit-Learn"
   ]
  },
  {
   "cell_type": "markdown",
   "id": "b36fbdb8",
   "metadata": {},
   "source": [
    "- Scikit-learn library package provides efficient version of a larger number of common algoriths.\n",
    "- The benefit lies in the basic use and syntax of Scikit-Learn for one type of model, switching to one model or algorithm is very straightfoward\n",
    "- Scikit-Learn provides clean, uniform and streamlined API"
   ]
  },
  {
   "cell_type": "markdown",
   "id": "53325be3",
   "metadata": {},
   "source": [
    "## Data Representation in Scikit-Learn"
   ]
  },
  {
   "cell_type": "markdown",
   "id": "4ba287cc",
   "metadata": {},
   "source": [
    "- We can think of data within Scikit-Leanr is in terms of tables of data"
   ]
  },
  {
   "cell_type": "markdown",
   "id": "496cc706",
   "metadata": {},
   "source": [
    "### Data as table"
   ]
  },
  {
   "cell_type": "markdown",
   "id": "e7fbac4b",
   "metadata": {},
   "source": [
    "- Rows represent individual elements of the dataset\n",
    "- Column represent quantities related to each of these elements"
   ]
  },
  {
   "cell_type": "markdown",
   "id": "99ade8d6",
   "metadata": {},
   "source": [
    "### Example: Iris dataset"
   ]
  },
  {
   "cell_type": "code",
   "execution_count": 341,
   "id": "5c058b6f",
   "metadata": {},
   "outputs": [
    {
     "data": {
      "text/html": [
       "<div>\n",
       "<style scoped>\n",
       "    .dataframe tbody tr th:only-of-type {\n",
       "        vertical-align: middle;\n",
       "    }\n",
       "\n",
       "    .dataframe tbody tr th {\n",
       "        vertical-align: top;\n",
       "    }\n",
       "\n",
       "    .dataframe thead th {\n",
       "        text-align: right;\n",
       "    }\n",
       "</style>\n",
       "<table border=\"1\" class=\"dataframe\">\n",
       "  <thead>\n",
       "    <tr style=\"text-align: right;\">\n",
       "      <th></th>\n",
       "      <th>sepal_length</th>\n",
       "      <th>sepal_width</th>\n",
       "      <th>petal_length</th>\n",
       "      <th>petal_width</th>\n",
       "      <th>species</th>\n",
       "    </tr>\n",
       "  </thead>\n",
       "  <tbody>\n",
       "    <tr>\n",
       "      <th>0</th>\n",
       "      <td>5.1</td>\n",
       "      <td>3.5</td>\n",
       "      <td>1.4</td>\n",
       "      <td>0.2</td>\n",
       "      <td>setosa</td>\n",
       "    </tr>\n",
       "    <tr>\n",
       "      <th>1</th>\n",
       "      <td>4.9</td>\n",
       "      <td>3.0</td>\n",
       "      <td>1.4</td>\n",
       "      <td>0.2</td>\n",
       "      <td>setosa</td>\n",
       "    </tr>\n",
       "    <tr>\n",
       "      <th>2</th>\n",
       "      <td>4.7</td>\n",
       "      <td>3.2</td>\n",
       "      <td>1.3</td>\n",
       "      <td>0.2</td>\n",
       "      <td>setosa</td>\n",
       "    </tr>\n",
       "    <tr>\n",
       "      <th>3</th>\n",
       "      <td>4.6</td>\n",
       "      <td>3.1</td>\n",
       "      <td>1.5</td>\n",
       "      <td>0.2</td>\n",
       "      <td>setosa</td>\n",
       "    </tr>\n",
       "    <tr>\n",
       "      <th>4</th>\n",
       "      <td>5.0</td>\n",
       "      <td>3.6</td>\n",
       "      <td>1.4</td>\n",
       "      <td>0.2</td>\n",
       "      <td>setosa</td>\n",
       "    </tr>\n",
       "  </tbody>\n",
       "</table>\n",
       "</div>"
      ],
      "text/plain": [
       "   sepal_length  sepal_width  petal_length  petal_width species\n",
       "0           5.1          3.5           1.4          0.2  setosa\n",
       "1           4.9          3.0           1.4          0.2  setosa\n",
       "2           4.7          3.2           1.3          0.2  setosa\n",
       "3           4.6          3.1           1.5          0.2  setosa\n",
       "4           5.0          3.6           1.4          0.2  setosa"
      ]
     },
     "execution_count": 341,
     "metadata": {},
     "output_type": "execute_result"
    }
   ],
   "source": [
    "import seaborn as sns\n",
    "iris = sns.load_dataset('iris')\n",
    "iris.head()"
   ]
  },
  {
   "cell_type": "markdown",
   "id": "f6eabc9e",
   "metadata": {},
   "source": [
    "- Each row refers to a single observed flower\n",
    "- The number of rows is the total number of flowers in the dataset\n",
    "- The rows of the matrix as *samples*\n",
    "- The number of rows as *n_samples*"
   ]
  },
  {
   "cell_type": "markdown",
   "id": "81d5aa84",
   "metadata": {},
   "source": [
    "- Columns refers to a particular quantittative piece of information that describes each sample.\n",
    "- Columns of the matrix as *features*\n",
    "- The number of columns as *n_features*"
   ]
  },
  {
   "cell_type": "code",
   "execution_count": 342,
   "id": "94d294a9",
   "metadata": {},
   "outputs": [
    {
     "data": {
      "text/plain": [
       "setosa        50\n",
       "versicolor    50\n",
       "virginica     50\n",
       "Name: species, dtype: int64"
      ]
     },
     "execution_count": 342,
     "metadata": {},
     "output_type": "execute_result"
    }
   ],
   "source": [
    "iris['species'].value_counts()"
   ]
  },
  {
   "cell_type": "markdown",
   "id": "3a21e807",
   "metadata": {},
   "source": [
    "<img src='figure_iris.png' align = 'left'>"
   ]
  },
  {
   "cell_type": "code",
   "execution_count": null,
   "id": "e8d84172",
   "metadata": {},
   "outputs": [],
   "source": []
  },
  {
   "cell_type": "markdown",
   "id": "e4027b11",
   "metadata": {},
   "source": [
    "### Features matrix"
   ]
  },
  {
   "cell_type": "markdown",
   "id": "bfdf107f",
   "metadata": {},
   "source": [
    "- We can think of table information as a two-dimensional numerical array or matrix which we call features matrix\n",
    "- By convention these features matrix are stored in a variable named X\n",
    "- The features matrix is assumed to be a two-dimensional with shape *`[n_samples, n_features]`*\n",
    "- Generally contained in a numpy array or pandas dataframe\n",
    "<br></br>\n",
    "- The samples(i.e. rows) always refer to the individual object\n",
    "- The features (i.e. columns) always refer to the distinct observations that describe each sample in a quantitative manner."
   ]
  },
  {
   "cell_type": "markdown",
   "id": "cd832b36",
   "metadata": {},
   "source": [
    "### Target matrix"
   ]
  },
  {
   "cell_type": "markdown",
   "id": "999bc6dc",
   "metadata": {},
   "source": [
    "- In addition to the *`feature matrix X`* we also work with a *`label`* or *`target`* array\n",
    "- By convention we call the target variable as *`y`*\n",
    "<br></br>\n",
    "- The target variable is generally one dimensional with length *`n_samples`*\n",
    "- Generally contained in a numpy array or pandas series\n",
    "<br></br>\n",
    "- How to distinguish target array and features column?"
   ]
  },
  {
   "cell_type": "markdown",
   "id": "00a127fc",
   "metadata": {},
   "source": [
    "### Visualize the Iris data"
   ]
  },
  {
   "cell_type": "code",
   "execution_count": 343,
   "id": "b258df4c",
   "metadata": {},
   "outputs": [
    {
     "data": {
      "text/plain": [
       "<seaborn.axisgrid.PairGrid at 0x27ab41668b0>"
      ]
     },
     "execution_count": 343,
     "metadata": {},
     "output_type": "execute_result"
    },
    {
     "data": {
      "image/png": "[encoded data removed]",
      "text/plain": [
       "<Figure size 518.85x432 with 20 Axes>"
      ]
     },
     "metadata": {},
     "output_type": "display_data"
    }
   ],
   "source": [
    "%matplotlib inline\n",
    "import seaborn as sns\n",
    "sns.set()\n",
    "sns.pairplot(iris, hue='species', height=1.5) # size parameter has been renames to height"
   ]
  },
  {
   "cell_type": "markdown",
   "id": "21a6df00",
   "metadata": {},
   "source": [
    "### Extracting features matrix and target array\n",
    "-  Using Iris dataset by applying Pandas dataframe"
   ]
  },
  {
   "cell_type": "code",
   "execution_count": 344,
   "id": "159226ec",
   "metadata": {},
   "outputs": [
    {
     "name": "stdout",
     "output_type": "stream",
     "text": [
      "(150, 4)\n"
     ]
    },
    {
     "data": {
      "text/plain": [
       "pandas.core.frame.DataFrame"
      ]
     },
     "execution_count": 344,
     "metadata": {},
     "output_type": "execute_result"
    }
   ],
   "source": [
    "X_iris = iris.drop('species', axis=1)\n",
    "print(X_iris.shape)\n",
    "type(X_iris)"
   ]
  },
  {
   "cell_type": "code",
   "execution_count": 345,
   "id": "dd5613b2",
   "metadata": {},
   "outputs": [
    {
     "name": "stdout",
     "output_type": "stream",
     "text": [
      "(150,)\n"
     ]
    },
    {
     "data": {
      "text/plain": [
       "pandas.core.series.Series"
      ]
     },
     "execution_count": 345,
     "metadata": {},
     "output_type": "execute_result"
    }
   ],
   "source": [
    "y_iris = iris['species']\n",
    "print(y_iris.shape)\n",
    "type(y_iris)"
   ]
  },
  {
   "cell_type": "markdown",
   "id": "1cbe2db5",
   "metadata": {},
   "source": [
    "### Scikit-Learn data layout"
   ]
  },
  {
   "cell_type": "markdown",
   "id": "3c37eee7",
   "metadata": {},
   "source": [
    "<img src='figure_sklearn_data_layout.png' align='left'>"
   ]
  },
  {
   "cell_type": "markdown",
   "id": "f3bda735",
   "metadata": {},
   "source": [
    "## Scikit-Learn's Estimator API"
   ]
  },
  {
   "cell_type": "markdown",
   "id": "1955b9ed",
   "metadata": {},
   "source": [
    "### Basics of the API"
   ]
  },
  {
   "cell_type": "markdown",
   "id": "21b2138e",
   "metadata": {},
   "source": [
    "**Steps followed to use Scikit-Learn Estimator API**\n",
    "- Choose a class of model \n",
    "- Choose a model hyperparameters\n",
    "- Arrange data into a `features matrix` and `target vector`\n",
    "- Fit the model to your data by calling `fit()` method of the model instance\n",
    "<br></br>\n",
    "- Apply the model to new data:\n",
    "    - For `supervised learning`, we predict labels for unknow data using the `predict()` method\n",
    "    - For `unsupervised learning`, we transform or infer properties of the data using `transform()` or `predict()` method"
   ]
  },
  {
   "cell_type": "markdown",
   "id": "5fd92f87",
   "metadata": {},
   "source": [
    "### Supervised learning example: Simple linear regression"
   ]
  },
  {
   "cell_type": "markdown",
   "id": "823936da",
   "metadata": {},
   "source": [
    "- Consider a simple linear regression by fitting a line to (x,y) data\n",
    "- We will use Iris simple data for our regression example"
   ]
  },
  {
   "cell_type": "code",
   "execution_count": 346,
   "id": "68a05a9a",
   "metadata": {},
   "outputs": [
    {
     "name": "stdout",
     "output_type": "stream",
     "text": [
      "(50,)\n",
      "1\n",
      "(50,)\n",
      "1\n"
     ]
    },
    {
     "data": {
      "image/png": "[encoded data removed]",
      "text/plain": [
       "<Figure size 432x288 with 1 Axes>"
      ]
     },
     "metadata": {},
     "output_type": "display_data"
    }
   ],
   "source": [
    "import matplotlib.pyplot as plt\n",
    "import numpy as np\n",
    "\n",
    "rng = np.random.RandomState(42)\n",
    "x = 10 * rng.rand(50)\n",
    "y = 2 * x - 1 + rng.randn(50) # 2 is slop and -1 is intercept\n",
    "plt.scatter(x, y)\n",
    "print(x.shape)\n",
    "print(x.ndim)\n",
    "print(y.shape)\n",
    "print(y.ndim)"
   ]
  },
  {
   "cell_type": "markdown",
   "id": "7d9aba53",
   "metadata": {},
   "source": [
    "- Now let's follow the steps outlied earlier"
   ]
  },
  {
   "cell_type": "markdown",
   "id": "35b59b0a",
   "metadata": {},
   "source": [
    "1. Choose a class model\n",
    "    - we can import a linear regression class"
   ]
  },
  {
   "cell_type": "code",
   "execution_count": 347,
   "id": "05e0cdb2",
   "metadata": {},
   "outputs": [],
   "source": [
    "from sklearn.linear_model import LinearRegression"
   ]
  },
  {
   "cell_type": "markdown",
   "id": "d06ae593",
   "metadata": {},
   "source": [
    "2. Choose a model hyperparameter\n",
    "    - A class of model is not same as an instance of a model\n",
    "    <br></br>\n",
    "    - Before that we need to ask following questions\n",
    "    1. Would we like to fit for the offset (i.e. intercept)?\n",
    "    2. Would we like the model to be normalized?\n",
    "    3. Would we like to preprocess our features to add model flexibility?\n",
    "    4. What degree of regularization would we like to use in our model?\n",
    "    5. How many model components would we like to use?\n",
    "    <br></br>\n",
    "    - Above choices are often represented by `hyperparameters`\n",
    "    - These parameters must be set before the model is fit to data\n",
    "    <br></br>\n",
    "    - We can choose hyperparameters by passing values at model instantiation"
   ]
  },
  {
   "cell_type": "code",
   "execution_count": 348,
   "id": "93ab900b",
   "metadata": {},
   "outputs": [
    {
     "data": {
      "text/plain": [
       "LinearRegression()"
      ]
     },
     "execution_count": 348,
     "metadata": {},
     "output_type": "execute_result"
    }
   ],
   "source": [
    "# Instantiation of LinearRegression class and specifying the hyperparameter\n",
    "# The only action here is storing the value of these hyperparameter\n",
    "model = LinearRegression(fit_intercept=True)\n",
    "model"
   ]
  },
  {
   "cell_type": "markdown",
   "id": "88000a33",
   "metadata": {},
   "source": [
    "3. Arrange data into `features matrix` and `target vector`\n",
    "    - Requirement of two-dimensional features matrix and one-dimensional target array\n",
    "    - Our target variable is already in shape ( a length n-samples array)\n",
    "    - But we need to transform our x variable in to a matrix [n_samples, n_features]\n",
    "    - Reshaping of one-dimensional array"
   ]
  },
  {
   "cell_type": "code",
   "execution_count": 349,
   "id": "d90e4d18",
   "metadata": {},
   "outputs": [
    {
     "name": "stdout",
     "output_type": "stream",
     "text": [
      "(50, 1)\n",
      "2\n"
     ]
    }
   ],
   "source": [
    "X = x[:, np.newaxis]\n",
    "print(X.shape)\n",
    "print(X.ndim)\n",
    "#print(X)"
   ]
  },
  {
   "cell_type": "markdown",
   "id": "1608848f",
   "metadata": {},
   "source": [
    "4. Fit the model to your data\n",
    "    - applying our model to data i.e. using fit() method of the model"
   ]
  },
  {
   "cell_type": "code",
   "execution_count": 350,
   "id": "7c6d8076",
   "metadata": {},
   "outputs": [
    {
     "data": {
      "text/plain": [
       "LinearRegression()"
      ]
     },
     "execution_count": 350,
     "metadata": {},
     "output_type": "execute_result"
    }
   ],
   "source": [
    "model.fit(X, y)"
   ]
  },
  {
   "cell_type": "markdown",
   "id": "3006ad76",
   "metadata": {},
   "source": [
    "- The results are stored in model -specific attributes\n",
    "- All model parameters that were learned during the fit() process have trailing underscore"
   ]
  },
  {
   "cell_type": "code",
   "execution_count": 351,
   "id": "71ce1953",
   "metadata": {},
   "outputs": [
    {
     "data": {
      "text/plain": [
       "array([1.9776566])"
      ]
     },
     "execution_count": 351,
     "metadata": {},
     "output_type": "execute_result"
    }
   ],
   "source": [
    "model.coef_"
   ]
  },
  {
   "cell_type": "code",
   "execution_count": 352,
   "id": "76f8008c",
   "metadata": {},
   "outputs": [
    {
     "data": {
      "text/plain": [
       "-0.903310725531111"
      ]
     },
     "execution_count": 352,
     "metadata": {},
     "output_type": "execute_result"
    }
   ],
   "source": [
    "model.intercept_"
   ]
  },
  {
   "cell_type": "markdown",
   "id": "605f417c",
   "metadata": {},
   "source": [
    "- The resultant coef and intercept are very close to our definition of slop 2 and intercept -1"
   ]
  },
  {
   "cell_type": "markdown",
   "id": "7780406c",
   "metadata": {},
   "source": [
    "5. `Predict labels` for `unknown data`\n",
    "    - Here new data will be a grid of x values\n",
    "    - We will ask what y values the model predicts"
   ]
  },
  {
   "cell_type": "code",
   "execution_count": 353,
   "id": "6ea64acc",
   "metadata": {},
   "outputs": [],
   "source": [
    "xfit = np.linspace(-1, 11)"
   ]
  },
  {
   "cell_type": "code",
   "execution_count": 354,
   "id": "8615044e",
   "metadata": {},
   "outputs": [],
   "source": [
    "#- Transforming x values into [n_samples, n_features]\n",
    "Xfit = xfit[:, np.newaxis]\n",
    "#Xfit"
   ]
  },
  {
   "cell_type": "code",
   "execution_count": 355,
   "id": "e355a0c3",
   "metadata": {},
   "outputs": [],
   "source": [
    "yfit = model.predict(Xfit)"
   ]
  },
  {
   "cell_type": "markdown",
   "id": "5bb29769",
   "metadata": {},
   "source": [
    "#### Visualize the raw data and then this model fit"
   ]
  },
  {
   "cell_type": "code",
   "execution_count": 356,
   "id": "cdda8aff",
   "metadata": {},
   "outputs": [
    {
     "data": {
      "text/plain": [
       "[<matplotlib.lines.Line2D at 0x27ab6de4340>]"
      ]
     },
     "execution_count": 356,
     "metadata": {},
     "output_type": "execute_result"
    },
    {
     "data": {
      "image/png": "[encoded data removed]",
      "text/plain": [
       "<Figure size 432x288 with 1 Axes>"
      ]
     },
     "metadata": {},
     "output_type": "display_data"
    }
   ],
   "source": [
    "plt.scatter(X, y) # raw data\n",
    "plt.plot(xfit, yfit) # model fit"
   ]
  },
  {
   "cell_type": "markdown",
   "id": "05ae6cdb",
   "metadata": {},
   "source": [
    "- The efficacy of the model is evaluated by comparing the results to some know baseline"
   ]
  },
  {
   "cell_type": "markdown",
   "id": "77ef80e3",
   "metadata": {},
   "source": [
    "### Supervised learning example: Iris classification"
   ]
  },
  {
   "cell_type": "markdown",
   "id": "bb607889",
   "metadata": {},
   "source": [
    "- In this example of Iris classification we will be using Gaussian naive Bayes \n",
    "- It is fast and no hyperparameters to choose\n",
    "- Bayes is often a good model to use as a baseline classification for further improvements"
   ]
  },
  {
   "cell_type": "markdown",
   "id": "0cb95782",
   "metadata": {},
   "source": [
    "**Evaluate the model on data it has not seen before**\n",
    "- Split the data into training set and testing set\n",
    "- Using train_test_split function"
   ]
  },
  {
   "cell_type": "code",
   "execution_count": 357,
   "id": "ec8e30e6",
   "metadata": {},
   "outputs": [
    {
     "data": {
      "text/html": [
       "<div>\n",
       "<style scoped>\n",
       "    .dataframe tbody tr th:only-of-type {\n",
       "        vertical-align: middle;\n",
       "    }\n",
       "\n",
       "    .dataframe tbody tr th {\n",
       "        vertical-align: top;\n",
       "    }\n",
       "\n",
       "    .dataframe thead th {\n",
       "        text-align: right;\n",
       "    }\n",
       "</style>\n",
       "<table border=\"1\" class=\"dataframe\">\n",
       "  <thead>\n",
       "    <tr style=\"text-align: right;\">\n",
       "      <th></th>\n",
       "      <th>sepal_length</th>\n",
       "      <th>sepal_width</th>\n",
       "      <th>petal_length</th>\n",
       "      <th>petal_width</th>\n",
       "      <th>species</th>\n",
       "    </tr>\n",
       "  </thead>\n",
       "  <tbody>\n",
       "    <tr>\n",
       "      <th>0</th>\n",
       "      <td>5.1</td>\n",
       "      <td>3.5</td>\n",
       "      <td>1.4</td>\n",
       "      <td>0.2</td>\n",
       "      <td>setosa</td>\n",
       "    </tr>\n",
       "    <tr>\n",
       "      <th>1</th>\n",
       "      <td>4.9</td>\n",
       "      <td>3.0</td>\n",
       "      <td>1.4</td>\n",
       "      <td>0.2</td>\n",
       "      <td>setosa</td>\n",
       "    </tr>\n",
       "    <tr>\n",
       "      <th>2</th>\n",
       "      <td>4.7</td>\n",
       "      <td>3.2</td>\n",
       "      <td>1.3</td>\n",
       "      <td>0.2</td>\n",
       "      <td>setosa</td>\n",
       "    </tr>\n",
       "    <tr>\n",
       "      <th>3</th>\n",
       "      <td>4.6</td>\n",
       "      <td>3.1</td>\n",
       "      <td>1.5</td>\n",
       "      <td>0.2</td>\n",
       "      <td>setosa</td>\n",
       "    </tr>\n",
       "    <tr>\n",
       "      <th>4</th>\n",
       "      <td>5.0</td>\n",
       "      <td>3.6</td>\n",
       "      <td>1.4</td>\n",
       "      <td>0.2</td>\n",
       "      <td>setosa</td>\n",
       "    </tr>\n",
       "  </tbody>\n",
       "</table>\n",
       "</div>"
      ],
      "text/plain": [
       "   sepal_length  sepal_width  petal_length  petal_width species\n",
       "0           5.1          3.5           1.4          0.2  setosa\n",
       "1           4.9          3.0           1.4          0.2  setosa\n",
       "2           4.7          3.2           1.3          0.2  setosa\n",
       "3           4.6          3.1           1.5          0.2  setosa\n",
       "4           5.0          3.6           1.4          0.2  setosa"
      ]
     },
     "execution_count": 357,
     "metadata": {},
     "output_type": "execute_result"
    }
   ],
   "source": [
    "from sklearn.model_selection import train_test_split \n",
    "\n",
    "#ModuleNotFoundError: No module named 'sklearn.cross_validation'\n",
    "# use model_selection\n",
    "\n",
    "iris.head()"
   ]
  },
  {
   "cell_type": "code",
   "execution_count": 358,
   "id": "807faf52",
   "metadata": {},
   "outputs": [],
   "source": [
    "# Splitting the data into training and test dataset\n",
    "\n",
    "Xtrain, Xtest, ytrain, ytest = train_test_split(X_iris, y_iris, random_state=1)"
   ]
  },
  {
   "cell_type": "markdown",
   "id": "f7ee67ad",
   "metadata": {},
   "source": [
    "- As we have data ararnged then we can follow our recipe"
   ]
  },
  {
   "cell_type": "code",
   "execution_count": 359,
   "id": "cd653ecf",
   "metadata": {},
   "outputs": [],
   "source": [
    "# 1. Choose model class\n",
    "from sklearn.naive_bayes import GaussianNB "
   ]
  },
  {
   "cell_type": "code",
   "execution_count": 360,
   "id": "f1677a19",
   "metadata": {},
   "outputs": [],
   "source": [
    "# 2. Instantiate the model\n",
    "model = GaussianNB()    \n"
   ]
  },
  {
   "cell_type": "code",
   "execution_count": 361,
   "id": "1d83513f",
   "metadata": {},
   "outputs": [
    {
     "data": {
      "text/plain": [
       "GaussianNB()"
      ]
     },
     "execution_count": 361,
     "metadata": {},
     "output_type": "execute_result"
    }
   ],
   "source": [
    "# 3. fit model to data\n",
    "model.fit(Xtrain, ytrain)  \n"
   ]
  },
  {
   "cell_type": "code",
   "execution_count": 362,
   "id": "baa9fc89",
   "metadata": {},
   "outputs": [],
   "source": [
    "# 4. predict on new data\n",
    "y_model = model.predict(Xtest)"
   ]
  },
  {
   "cell_type": "markdown",
   "id": "1b5fbafa",
   "metadata": {},
   "source": [
    "**Use accuracy score to match the predicted labels with their true value**\n",
    "\n",
    "- True and Predict True data / All of the True data"
   ]
  },
  {
   "cell_type": "code",
   "execution_count": 363,
   "id": "90734f4a",
   "metadata": {},
   "outputs": [
    {
     "data": {
      "text/plain": [
       "0.9736842105263158"
      ]
     },
     "execution_count": 363,
     "metadata": {},
     "output_type": "execute_result"
    }
   ],
   "source": [
    "from sklearn.metrics import accuracy_score\n",
    "accuracy_score(ytest, y_model)"
   ]
  },
  {
   "cell_type": "markdown",
   "id": "e5f24cca",
   "metadata": {},
   "source": [
    "### Unsupervised learning example: Iris dimensionality reduction"
   ]
  },
  {
   "cell_type": "markdown",
   "id": "7b6ec3f6",
   "metadata": {},
   "source": [
    "- Iris data is having four features means four dimensional data\n",
    "- The purpose is to visualize the data by retaining the essential features of the data\n",
    "- It is hard to visualize four-dimensional data compare to two-dimensional data"
   ]
  },
  {
   "cell_type": "markdown",
   "id": "aa6eacc0",
   "metadata": {},
   "source": [
    "**Using Principal Component Analysis (PCA)**\n",
    "   - A fast linear dimensionality reduction technique\n",
    "   - Asking the model to return two-dimensional data"
   ]
  },
  {
   "cell_type": "markdown",
   "id": "47579942",
   "metadata": {},
   "source": [
    "**Let's follow our sequence of steps**"
   ]
  },
  {
   "cell_type": "code",
   "execution_count": 364,
   "id": "61aa1e44",
   "metadata": {},
   "outputs": [],
   "source": [
    "# 1. Choose the model class\n",
    "from sklearn.decomposition import PCA\n",
    "    "
   ]
  },
  {
   "cell_type": "code",
   "execution_count": 365,
   "id": "25862ed0",
   "metadata": {},
   "outputs": [],
   "source": [
    "# 2. Instantiate the model with hyperparameters \n",
    "model = PCA(n_components=2)\n"
   ]
  },
  {
   "cell_type": "code",
   "execution_count": 366,
   "id": "d13fda3f",
   "metadata": {},
   "outputs": [
    {
     "data": {
      "text/plain": [
       "PCA(n_components=2)"
      ]
     },
     "execution_count": 366,
     "metadata": {},
     "output_type": "execute_result"
    }
   ],
   "source": [
    "# 3. Fit to data. notice y is not specified\n",
    "model.fit(X_iris)\n"
   ]
  },
  {
   "cell_type": "code",
   "execution_count": 367,
   "id": "66772004",
   "metadata": {},
   "outputs": [],
   "source": [
    "# Transform the data to two dimension\n",
    "X_2D = model.transform(X_iris)\n"
   ]
  },
  {
   "cell_type": "markdown",
   "id": "6485737d",
   "metadata": {},
   "source": [
    "**Let's plot the results**\n",
    "- The best way is to insert the result into original Iris dataset\n",
    "- Use Seabrn's lmplot to show the results"
   ]
  },
  {
   "cell_type": "code",
   "execution_count": 368,
   "id": "964d7860",
   "metadata": {},
   "outputs": [
    {
     "data": {
      "text/html": [
       "<div>\n",
       "<style scoped>\n",
       "    .dataframe tbody tr th:only-of-type {\n",
       "        vertical-align: middle;\n",
       "    }\n",
       "\n",
       "    .dataframe tbody tr th {\n",
       "        vertical-align: top;\n",
       "    }\n",
       "\n",
       "    .dataframe thead th {\n",
       "        text-align: right;\n",
       "    }\n",
       "</style>\n",
       "<table border=\"1\" class=\"dataframe\">\n",
       "  <thead>\n",
       "    <tr style=\"text-align: right;\">\n",
       "      <th></th>\n",
       "      <th>sepal_length</th>\n",
       "      <th>sepal_width</th>\n",
       "      <th>petal_length</th>\n",
       "      <th>petal_width</th>\n",
       "      <th>species</th>\n",
       "    </tr>\n",
       "  </thead>\n",
       "  <tbody>\n",
       "    <tr>\n",
       "      <th>0</th>\n",
       "      <td>5.1</td>\n",
       "      <td>3.5</td>\n",
       "      <td>1.4</td>\n",
       "      <td>0.2</td>\n",
       "      <td>setosa</td>\n",
       "    </tr>\n",
       "    <tr>\n",
       "      <th>1</th>\n",
       "      <td>4.9</td>\n",
       "      <td>3.0</td>\n",
       "      <td>1.4</td>\n",
       "      <td>0.2</td>\n",
       "      <td>setosa</td>\n",
       "    </tr>\n",
       "    <tr>\n",
       "      <th>2</th>\n",
       "      <td>4.7</td>\n",
       "      <td>3.2</td>\n",
       "      <td>1.3</td>\n",
       "      <td>0.2</td>\n",
       "      <td>setosa</td>\n",
       "    </tr>\n",
       "    <tr>\n",
       "      <th>3</th>\n",
       "      <td>4.6</td>\n",
       "      <td>3.1</td>\n",
       "      <td>1.5</td>\n",
       "      <td>0.2</td>\n",
       "      <td>setosa</td>\n",
       "    </tr>\n",
       "    <tr>\n",
       "      <th>4</th>\n",
       "      <td>5.0</td>\n",
       "      <td>3.6</td>\n",
       "      <td>1.4</td>\n",
       "      <td>0.2</td>\n",
       "      <td>setosa</td>\n",
       "    </tr>\n",
       "    <tr>\n",
       "      <th>...</th>\n",
       "      <td>...</td>\n",
       "      <td>...</td>\n",
       "      <td>...</td>\n",
       "      <td>...</td>\n",
       "      <td>...</td>\n",
       "    </tr>\n",
       "    <tr>\n",
       "      <th>145</th>\n",
       "      <td>6.7</td>\n",
       "      <td>3.0</td>\n",
       "      <td>5.2</td>\n",
       "      <td>2.3</td>\n",
       "      <td>virginica</td>\n",
       "    </tr>\n",
       "    <tr>\n",
       "      <th>146</th>\n",
       "      <td>6.3</td>\n",
       "      <td>2.5</td>\n",
       "      <td>5.0</td>\n",
       "      <td>1.9</td>\n",
       "      <td>virginica</td>\n",
       "    </tr>\n",
       "    <tr>\n",
       "      <th>147</th>\n",
       "      <td>6.5</td>\n",
       "      <td>3.0</td>\n",
       "      <td>5.2</td>\n",
       "      <td>2.0</td>\n",
       "      <td>virginica</td>\n",
       "    </tr>\n",
       "    <tr>\n",
       "      <th>148</th>\n",
       "      <td>6.2</td>\n",
       "      <td>3.4</td>\n",
       "      <td>5.4</td>\n",
       "      <td>2.3</td>\n",
       "      <td>virginica</td>\n",
       "    </tr>\n",
       "    <tr>\n",
       "      <th>149</th>\n",
       "      <td>5.9</td>\n",
       "      <td>3.0</td>\n",
       "      <td>5.1</td>\n",
       "      <td>1.8</td>\n",
       "      <td>virginica</td>\n",
       "    </tr>\n",
       "  </tbody>\n",
       "</table>\n",
       "<p>150 rows × 5 columns</p>\n",
       "</div>"
      ],
      "text/plain": [
       "     sepal_length  sepal_width  petal_length  petal_width    species\n",
       "0             5.1          3.5           1.4          0.2     setosa\n",
       "1             4.9          3.0           1.4          0.2     setosa\n",
       "2             4.7          3.2           1.3          0.2     setosa\n",
       "3             4.6          3.1           1.5          0.2     setosa\n",
       "4             5.0          3.6           1.4          0.2     setosa\n",
       "..            ...          ...           ...          ...        ...\n",
       "145           6.7          3.0           5.2          2.3  virginica\n",
       "146           6.3          2.5           5.0          1.9  virginica\n",
       "147           6.5          3.0           5.2          2.0  virginica\n",
       "148           6.2          3.4           5.4          2.3  virginica\n",
       "149           5.9          3.0           5.1          1.8  virginica\n",
       "\n",
       "[150 rows x 5 columns]"
      ]
     },
     "execution_count": 368,
     "metadata": {},
     "output_type": "execute_result"
    }
   ],
   "source": [
    "iris"
   ]
  },
  {
   "cell_type": "code",
   "execution_count": 369,
   "id": "646097ec",
   "metadata": {},
   "outputs": [
    {
     "data": {
      "text/plain": [
       "array([[-2.68412563,  0.31939725],\n",
       "       [-2.71414169, -0.17700123],\n",
       "       [-2.88899057, -0.14494943],\n",
       "       [-2.74534286, -0.31829898],\n",
       "       [-2.72871654,  0.32675451],\n",
       "       [-2.28085963,  0.74133045],\n",
       "       [-2.82053775, -0.08946138],\n",
       "       [-2.62614497,  0.16338496],\n",
       "       [-2.88638273, -0.57831175],\n",
       "       [-2.6727558 , -0.11377425],\n",
       "       [-2.50694709,  0.6450689 ],\n",
       "       [-2.61275523,  0.01472994],\n",
       "       [-2.78610927, -0.235112  ],\n",
       "       [-3.22380374, -0.51139459],\n",
       "       [-2.64475039,  1.17876464],\n",
       "       [-2.38603903,  1.33806233],\n",
       "       [-2.62352788,  0.81067951],\n",
       "       [-2.64829671,  0.31184914],\n",
       "       [-2.19982032,  0.87283904],\n",
       "       [-2.5879864 ,  0.51356031],\n",
       "       [-2.31025622,  0.39134594],\n",
       "       [-2.54370523,  0.43299606],\n",
       "       [-3.21593942,  0.13346807],\n",
       "       [-2.30273318,  0.09870885],\n",
       "       [-2.35575405, -0.03728186],\n",
       "       [-2.50666891, -0.14601688],\n",
       "       [-2.46882007,  0.13095149],\n",
       "       [-2.56231991,  0.36771886],\n",
       "       [-2.63953472,  0.31203998],\n",
       "       [-2.63198939, -0.19696122],\n",
       "       [-2.58739848, -0.20431849],\n",
       "       [-2.4099325 ,  0.41092426],\n",
       "       [-2.64886233,  0.81336382],\n",
       "       [-2.59873675,  1.09314576],\n",
       "       [-2.63692688, -0.12132235],\n",
       "       [-2.86624165,  0.06936447],\n",
       "       [-2.62523805,  0.59937002],\n",
       "       [-2.80068412,  0.26864374],\n",
       "       [-2.98050204, -0.48795834],\n",
       "       [-2.59000631,  0.22904384],\n",
       "       [-2.77010243,  0.26352753],\n",
       "       [-2.84936871, -0.94096057],\n",
       "       [-2.99740655, -0.34192606],\n",
       "       [-2.40561449,  0.18887143],\n",
       "       [-2.20948924,  0.43666314],\n",
       "       [-2.71445143, -0.2502082 ],\n",
       "       [-2.53814826,  0.50377114],\n",
       "       [-2.83946217, -0.22794557],\n",
       "       [-2.54308575,  0.57941002],\n",
       "       [-2.70335978,  0.10770608],\n",
       "       [ 1.28482569,  0.68516047],\n",
       "       [ 0.93248853,  0.31833364],\n",
       "       [ 1.46430232,  0.50426282],\n",
       "       [ 0.18331772, -0.82795901],\n",
       "       [ 1.08810326,  0.07459068],\n",
       "       [ 0.64166908, -0.41824687],\n",
       "       [ 1.09506066,  0.28346827],\n",
       "       [-0.74912267, -1.00489096],\n",
       "       [ 1.04413183,  0.2283619 ],\n",
       "       [-0.0087454 , -0.72308191],\n",
       "       [-0.50784088, -1.26597119],\n",
       "       [ 0.51169856, -0.10398124],\n",
       "       [ 0.26497651, -0.55003646],\n",
       "       [ 0.98493451, -0.12481785],\n",
       "       [-0.17392537, -0.25485421],\n",
       "       [ 0.92786078,  0.46717949],\n",
       "       [ 0.66028376, -0.35296967],\n",
       "       [ 0.23610499, -0.33361077],\n",
       "       [ 0.94473373, -0.54314555],\n",
       "       [ 0.04522698, -0.58383438],\n",
       "       [ 1.11628318, -0.08461685],\n",
       "       [ 0.35788842, -0.06892503],\n",
       "       [ 1.29818388, -0.32778731],\n",
       "       [ 0.92172892, -0.18273779],\n",
       "       [ 0.71485333,  0.14905594],\n",
       "       [ 0.90017437,  0.32850447],\n",
       "       [ 1.33202444,  0.24444088],\n",
       "       [ 1.55780216,  0.26749545],\n",
       "       [ 0.81329065, -0.1633503 ],\n",
       "       [-0.30558378, -0.36826219],\n",
       "       [-0.06812649, -0.70517213],\n",
       "       [-0.18962247, -0.68028676],\n",
       "       [ 0.13642871, -0.31403244],\n",
       "       [ 1.38002644, -0.42095429],\n",
       "       [ 0.58800644, -0.48428742],\n",
       "       [ 0.80685831,  0.19418231],\n",
       "       [ 1.22069088,  0.40761959],\n",
       "       [ 0.81509524, -0.37203706],\n",
       "       [ 0.24595768, -0.2685244 ],\n",
       "       [ 0.16641322, -0.68192672],\n",
       "       [ 0.46480029, -0.67071154],\n",
       "       [ 0.8908152 , -0.03446444],\n",
       "       [ 0.23054802, -0.40438585],\n",
       "       [-0.70453176, -1.01224823],\n",
       "       [ 0.35698149, -0.50491009],\n",
       "       [ 0.33193448, -0.21265468],\n",
       "       [ 0.37621565, -0.29321893],\n",
       "       [ 0.64257601,  0.01773819],\n",
       "       [-0.90646986, -0.75609337],\n",
       "       [ 0.29900084, -0.34889781],\n",
       "       [ 2.53119273, -0.00984911],\n",
       "       [ 1.41523588, -0.57491635],\n",
       "       [ 2.61667602,  0.34390315],\n",
       "       [ 1.97153105, -0.1797279 ],\n",
       "       [ 2.35000592, -0.04026095],\n",
       "       [ 3.39703874,  0.55083667],\n",
       "       [ 0.52123224, -1.19275873],\n",
       "       [ 2.93258707,  0.3555    ],\n",
       "       [ 2.32122882, -0.2438315 ],\n",
       "       [ 2.91675097,  0.78279195],\n",
       "       [ 1.66177415,  0.24222841],\n",
       "       [ 1.80340195, -0.21563762],\n",
       "       [ 2.1655918 ,  0.21627559],\n",
       "       [ 1.34616358, -0.77681835],\n",
       "       [ 1.58592822, -0.53964071],\n",
       "       [ 1.90445637,  0.11925069],\n",
       "       [ 1.94968906,  0.04194326],\n",
       "       [ 3.48705536,  1.17573933],\n",
       "       [ 3.79564542,  0.25732297],\n",
       "       [ 1.30079171, -0.76114964],\n",
       "       [ 2.42781791,  0.37819601],\n",
       "       [ 1.19900111, -0.60609153],\n",
       "       [ 3.49992004,  0.4606741 ],\n",
       "       [ 1.38876613, -0.20439933],\n",
       "       [ 2.2754305 ,  0.33499061],\n",
       "       [ 2.61409047,  0.56090136],\n",
       "       [ 1.25850816, -0.17970479],\n",
       "       [ 1.29113206, -0.11666865],\n",
       "       [ 2.12360872, -0.20972948],\n",
       "       [ 2.38800302,  0.4646398 ],\n",
       "       [ 2.84167278,  0.37526917],\n",
       "       [ 3.23067366,  1.37416509],\n",
       "       [ 2.15943764, -0.21727758],\n",
       "       [ 1.44416124, -0.14341341],\n",
       "       [ 1.78129481, -0.49990168],\n",
       "       [ 3.07649993,  0.68808568],\n",
       "       [ 2.14424331,  0.1400642 ],\n",
       "       [ 1.90509815,  0.04930053],\n",
       "       [ 1.16932634, -0.16499026],\n",
       "       [ 2.10761114,  0.37228787],\n",
       "       [ 2.31415471,  0.18365128],\n",
       "       [ 1.9222678 ,  0.40920347],\n",
       "       [ 1.41523588, -0.57491635],\n",
       "       [ 2.56301338,  0.2778626 ],\n",
       "       [ 2.41874618,  0.3047982 ],\n",
       "       [ 1.94410979,  0.1875323 ],\n",
       "       [ 1.52716661, -0.37531698],\n",
       "       [ 1.76434572,  0.07885885],\n",
       "       [ 1.90094161,  0.11662796],\n",
       "       [ 1.39018886, -0.28266094]])"
      ]
     },
     "execution_count": 369,
     "metadata": {},
     "output_type": "execute_result"
    }
   ],
   "source": [
    "X_2D"
   ]
  },
  {
   "cell_type": "code",
   "execution_count": 370,
   "id": "45fbeda9",
   "metadata": {},
   "outputs": [],
   "source": [
    "iris['PCA1'] =X_2D[:,0]\n",
    "iris['PCA2'] =X_2D[:,1]"
   ]
  },
  {
   "cell_type": "code",
   "execution_count": 371,
   "id": "a4e30f86",
   "metadata": {},
   "outputs": [
    {
     "data": {
      "text/html": [
       "<div>\n",
       "<style scoped>\n",
       "    .dataframe tbody tr th:only-of-type {\n",
       "        vertical-align: middle;\n",
       "    }\n",
       "\n",
       "    .dataframe tbody tr th {\n",
       "        vertical-align: top;\n",
       "    }\n",
       "\n",
       "    .dataframe thead th {\n",
       "        text-align: right;\n",
       "    }\n",
       "</style>\n",
       "<table border=\"1\" class=\"dataframe\">\n",
       "  <thead>\n",
       "    <tr style=\"text-align: right;\">\n",
       "      <th></th>\n",
       "      <th>sepal_length</th>\n",
       "      <th>sepal_width</th>\n",
       "      <th>petal_length</th>\n",
       "      <th>petal_width</th>\n",
       "      <th>species</th>\n",
       "      <th>PCA1</th>\n",
       "      <th>PCA2</th>\n",
       "    </tr>\n",
       "  </thead>\n",
       "  <tbody>\n",
       "    <tr>\n",
       "      <th>0</th>\n",
       "      <td>5.1</td>\n",
       "      <td>3.5</td>\n",
       "      <td>1.4</td>\n",
       "      <td>0.2</td>\n",
       "      <td>setosa</td>\n",
       "      <td>-2.684126</td>\n",
       "      <td>0.319397</td>\n",
       "    </tr>\n",
       "    <tr>\n",
       "      <th>1</th>\n",
       "      <td>4.9</td>\n",
       "      <td>3.0</td>\n",
       "      <td>1.4</td>\n",
       "      <td>0.2</td>\n",
       "      <td>setosa</td>\n",
       "      <td>-2.714142</td>\n",
       "      <td>-0.177001</td>\n",
       "    </tr>\n",
       "    <tr>\n",
       "      <th>2</th>\n",
       "      <td>4.7</td>\n",
       "      <td>3.2</td>\n",
       "      <td>1.3</td>\n",
       "      <td>0.2</td>\n",
       "      <td>setosa</td>\n",
       "      <td>-2.888991</td>\n",
       "      <td>-0.144949</td>\n",
       "    </tr>\n",
       "    <tr>\n",
       "      <th>3</th>\n",
       "      <td>4.6</td>\n",
       "      <td>3.1</td>\n",
       "      <td>1.5</td>\n",
       "      <td>0.2</td>\n",
       "      <td>setosa</td>\n",
       "      <td>-2.745343</td>\n",
       "      <td>-0.318299</td>\n",
       "    </tr>\n",
       "    <tr>\n",
       "      <th>4</th>\n",
       "      <td>5.0</td>\n",
       "      <td>3.6</td>\n",
       "      <td>1.4</td>\n",
       "      <td>0.2</td>\n",
       "      <td>setosa</td>\n",
       "      <td>-2.728717</td>\n",
       "      <td>0.326755</td>\n",
       "    </tr>\n",
       "    <tr>\n",
       "      <th>...</th>\n",
       "      <td>...</td>\n",
       "      <td>...</td>\n",
       "      <td>...</td>\n",
       "      <td>...</td>\n",
       "      <td>...</td>\n",
       "      <td>...</td>\n",
       "      <td>...</td>\n",
       "    </tr>\n",
       "    <tr>\n",
       "      <th>145</th>\n",
       "      <td>6.7</td>\n",
       "      <td>3.0</td>\n",
       "      <td>5.2</td>\n",
       "      <td>2.3</td>\n",
       "      <td>virginica</td>\n",
       "      <td>1.944110</td>\n",
       "      <td>0.187532</td>\n",
       "    </tr>\n",
       "    <tr>\n",
       "      <th>146</th>\n",
       "      <td>6.3</td>\n",
       "      <td>2.5</td>\n",
       "      <td>5.0</td>\n",
       "      <td>1.9</td>\n",
       "      <td>virginica</td>\n",
       "      <td>1.527167</td>\n",
       "      <td>-0.375317</td>\n",
       "    </tr>\n",
       "    <tr>\n",
       "      <th>147</th>\n",
       "      <td>6.5</td>\n",
       "      <td>3.0</td>\n",
       "      <td>5.2</td>\n",
       "      <td>2.0</td>\n",
       "      <td>virginica</td>\n",
       "      <td>1.764346</td>\n",
       "      <td>0.078859</td>\n",
       "    </tr>\n",
       "    <tr>\n",
       "      <th>148</th>\n",
       "      <td>6.2</td>\n",
       "      <td>3.4</td>\n",
       "      <td>5.4</td>\n",
       "      <td>2.3</td>\n",
       "      <td>virginica</td>\n",
       "      <td>1.900942</td>\n",
       "      <td>0.116628</td>\n",
       "    </tr>\n",
       "    <tr>\n",
       "      <th>149</th>\n",
       "      <td>5.9</td>\n",
       "      <td>3.0</td>\n",
       "      <td>5.1</td>\n",
       "      <td>1.8</td>\n",
       "      <td>virginica</td>\n",
       "      <td>1.390189</td>\n",
       "      <td>-0.282661</td>\n",
       "    </tr>\n",
       "  </tbody>\n",
       "</table>\n",
       "<p>150 rows × 7 columns</p>\n",
       "</div>"
      ],
      "text/plain": [
       "     sepal_length  sepal_width  petal_length  petal_width    species  \\\n",
       "0             5.1          3.5           1.4          0.2     setosa   \n",
       "1             4.9          3.0           1.4          0.2     setosa   \n",
       "2             4.7          3.2           1.3          0.2     setosa   \n",
       "3             4.6          3.1           1.5          0.2     setosa   \n",
       "4             5.0          3.6           1.4          0.2     setosa   \n",
       "..            ...          ...           ...          ...        ...   \n",
       "145           6.7          3.0           5.2          2.3  virginica   \n",
       "146           6.3          2.5           5.0          1.9  virginica   \n",
       "147           6.5          3.0           5.2          2.0  virginica   \n",
       "148           6.2          3.4           5.4          2.3  virginica   \n",
       "149           5.9          3.0           5.1          1.8  virginica   \n",
       "\n",
       "         PCA1      PCA2  \n",
       "0   -2.684126  0.319397  \n",
       "1   -2.714142 -0.177001  \n",
       "2   -2.888991 -0.144949  \n",
       "3   -2.745343 -0.318299  \n",
       "4   -2.728717  0.326755  \n",
       "..        ...       ...  \n",
       "145  1.944110  0.187532  \n",
       "146  1.527167 -0.375317  \n",
       "147  1.764346  0.078859  \n",
       "148  1.900942  0.116628  \n",
       "149  1.390189 -0.282661  \n",
       "\n",
       "[150 rows x 7 columns]"
      ]
     },
     "execution_count": 371,
     "metadata": {},
     "output_type": "execute_result"
    }
   ],
   "source": [
    "iris"
   ]
  },
  {
   "cell_type": "code",
   "execution_count": 372,
   "id": "0eb0a54c",
   "metadata": {},
   "outputs": [
    {
     "data": {
      "text/html": [
       "<div>\n",
       "<style scoped>\n",
       "    .dataframe tbody tr th:only-of-type {\n",
       "        vertical-align: middle;\n",
       "    }\n",
       "\n",
       "    .dataframe tbody tr th {\n",
       "        vertical-align: top;\n",
       "    }\n",
       "\n",
       "    .dataframe thead th {\n",
       "        text-align: right;\n",
       "    }\n",
       "</style>\n",
       "<table border=\"1\" class=\"dataframe\">\n",
       "  <thead>\n",
       "    <tr style=\"text-align: right;\">\n",
       "      <th></th>\n",
       "      <th>sepal_length</th>\n",
       "      <th>sepal_width</th>\n",
       "      <th>petal_length</th>\n",
       "      <th>petal_width</th>\n",
       "      <th>species</th>\n",
       "      <th>PCA1</th>\n",
       "      <th>PCA2</th>\n",
       "    </tr>\n",
       "  </thead>\n",
       "  <tbody>\n",
       "    <tr>\n",
       "      <th>0</th>\n",
       "      <td>5.1</td>\n",
       "      <td>3.5</td>\n",
       "      <td>1.4</td>\n",
       "      <td>0.2</td>\n",
       "      <td>setosa</td>\n",
       "      <td>-2.684126</td>\n",
       "      <td>0.319397</td>\n",
       "    </tr>\n",
       "    <tr>\n",
       "      <th>1</th>\n",
       "      <td>4.9</td>\n",
       "      <td>3.0</td>\n",
       "      <td>1.4</td>\n",
       "      <td>0.2</td>\n",
       "      <td>setosa</td>\n",
       "      <td>-2.714142</td>\n",
       "      <td>-0.177001</td>\n",
       "    </tr>\n",
       "    <tr>\n",
       "      <th>2</th>\n",
       "      <td>4.7</td>\n",
       "      <td>3.2</td>\n",
       "      <td>1.3</td>\n",
       "      <td>0.2</td>\n",
       "      <td>setosa</td>\n",
       "      <td>-2.888991</td>\n",
       "      <td>-0.144949</td>\n",
       "    </tr>\n",
       "    <tr>\n",
       "      <th>3</th>\n",
       "      <td>4.6</td>\n",
       "      <td>3.1</td>\n",
       "      <td>1.5</td>\n",
       "      <td>0.2</td>\n",
       "      <td>setosa</td>\n",
       "      <td>-2.745343</td>\n",
       "      <td>-0.318299</td>\n",
       "    </tr>\n",
       "    <tr>\n",
       "      <th>4</th>\n",
       "      <td>5.0</td>\n",
       "      <td>3.6</td>\n",
       "      <td>1.4</td>\n",
       "      <td>0.2</td>\n",
       "      <td>setosa</td>\n",
       "      <td>-2.728717</td>\n",
       "      <td>0.326755</td>\n",
       "    </tr>\n",
       "    <tr>\n",
       "      <th>...</th>\n",
       "      <td>...</td>\n",
       "      <td>...</td>\n",
       "      <td>...</td>\n",
       "      <td>...</td>\n",
       "      <td>...</td>\n",
       "      <td>...</td>\n",
       "      <td>...</td>\n",
       "    </tr>\n",
       "    <tr>\n",
       "      <th>145</th>\n",
       "      <td>6.7</td>\n",
       "      <td>3.0</td>\n",
       "      <td>5.2</td>\n",
       "      <td>2.3</td>\n",
       "      <td>virginica</td>\n",
       "      <td>1.944110</td>\n",
       "      <td>0.187532</td>\n",
       "    </tr>\n",
       "    <tr>\n",
       "      <th>146</th>\n",
       "      <td>6.3</td>\n",
       "      <td>2.5</td>\n",
       "      <td>5.0</td>\n",
       "      <td>1.9</td>\n",
       "      <td>virginica</td>\n",
       "      <td>1.527167</td>\n",
       "      <td>-0.375317</td>\n",
       "    </tr>\n",
       "    <tr>\n",
       "      <th>147</th>\n",
       "      <td>6.5</td>\n",
       "      <td>3.0</td>\n",
       "      <td>5.2</td>\n",
       "      <td>2.0</td>\n",
       "      <td>virginica</td>\n",
       "      <td>1.764346</td>\n",
       "      <td>0.078859</td>\n",
       "    </tr>\n",
       "    <tr>\n",
       "      <th>148</th>\n",
       "      <td>6.2</td>\n",
       "      <td>3.4</td>\n",
       "      <td>5.4</td>\n",
       "      <td>2.3</td>\n",
       "      <td>virginica</td>\n",
       "      <td>1.900942</td>\n",
       "      <td>0.116628</td>\n",
       "    </tr>\n",
       "    <tr>\n",
       "      <th>149</th>\n",
       "      <td>5.9</td>\n",
       "      <td>3.0</td>\n",
       "      <td>5.1</td>\n",
       "      <td>1.8</td>\n",
       "      <td>virginica</td>\n",
       "      <td>1.390189</td>\n",
       "      <td>-0.282661</td>\n",
       "    </tr>\n",
       "  </tbody>\n",
       "</table>\n",
       "<p>150 rows × 7 columns</p>\n",
       "</div>"
      ],
      "text/plain": [
       "     sepal_length  sepal_width  petal_length  petal_width    species  \\\n",
       "0             5.1          3.5           1.4          0.2     setosa   \n",
       "1             4.9          3.0           1.4          0.2     setosa   \n",
       "2             4.7          3.2           1.3          0.2     setosa   \n",
       "3             4.6          3.1           1.5          0.2     setosa   \n",
       "4             5.0          3.6           1.4          0.2     setosa   \n",
       "..            ...          ...           ...          ...        ...   \n",
       "145           6.7          3.0           5.2          2.3  virginica   \n",
       "146           6.3          2.5           5.0          1.9  virginica   \n",
       "147           6.5          3.0           5.2          2.0  virginica   \n",
       "148           6.2          3.4           5.4          2.3  virginica   \n",
       "149           5.9          3.0           5.1          1.8  virginica   \n",
       "\n",
       "         PCA1      PCA2  \n",
       "0   -2.684126  0.319397  \n",
       "1   -2.714142 -0.177001  \n",
       "2   -2.888991 -0.144949  \n",
       "3   -2.745343 -0.318299  \n",
       "4   -2.728717  0.326755  \n",
       "..        ...       ...  \n",
       "145  1.944110  0.187532  \n",
       "146  1.527167 -0.375317  \n",
       "147  1.764346  0.078859  \n",
       "148  1.900942  0.116628  \n",
       "149  1.390189 -0.282661  \n",
       "\n",
       "[150 rows x 7 columns]"
      ]
     },
     "execution_count": 372,
     "metadata": {},
     "output_type": "execute_result"
    }
   ],
   "source": [
    "iris"
   ]
  },
  {
   "cell_type": "code",
   "execution_count": 373,
   "id": "5c1a7980",
   "metadata": {},
   "outputs": [
    {
     "data": {
      "text/plain": [
       "<seaborn.axisgrid.FacetGrid at 0x27ab65092b0>"
      ]
     },
     "execution_count": 373,
     "metadata": {},
     "output_type": "execute_result"
    },
    {
     "data": {
      "image/png": "[encoded data removed]",
      "text/plain": [
       "<Figure size 446.85x360 with 1 Axes>"
      ]
     },
     "metadata": {},
     "output_type": "display_data"
    }
   ],
   "source": [
    "sns.lmplot(data=iris, x='PCA1', y='PCA2', hue='species', fit_reg=False)"
   ]
  },
  {
   "cell_type": "markdown",
   "id": "f7bed341",
   "metadata": {},
   "source": [
    "- In two dimensional data, the species are fairly well separated even though PCA had no \n",
    "knwoledge about species label\n",
    "- A relatively straightforward classification will ve effective on the dataset"
   ]
  },
  {
   "cell_type": "markdown",
   "id": "64d72a35",
   "metadata": {},
   "source": [
    "### Unsupervised learning: Iris clustering"
   ]
  },
  {
   "cell_type": "markdown",
   "id": "b81e8e91",
   "metadata": {},
   "source": [
    "- Now let's apply clustering to the Iris data\n",
    "- Without reference to any label clustering tries find the groups in data\n",
    "- Gaussian mixture model is a powerful clustering method"
   ]
  },
  {
   "cell_type": "markdown",
   "id": "422434a9",
   "metadata": {},
   "source": [
    "**We can fix the Gaussian mixture model**"
   ]
  },
  {
   "cell_type": "code",
   "execution_count": 374,
   "id": "dd12d177",
   "metadata": {},
   "outputs": [],
   "source": [
    "# 1. Choose the model class\n",
    "from sklearn.mixture import GaussianMixture as GMM\n"
   ]
  },
  {
   "cell_type": "code",
   "execution_count": 375,
   "id": "ca96156d",
   "metadata": {},
   "outputs": [],
   "source": [
    "# 2. Instantiate the model with hyperparameter\n",
    "model = GMM(n_components=3, covariance_type='full')\n",
    "# covariance_type controls the degrees of freedom in the shape of each cluster\n",
    "# covariance_type=\"full\", which allows each cluster to be modeled as an ellipse with arbitrary orientation."
   ]
  },
  {
   "cell_type": "markdown",
   "id": "1d3ad586",
   "metadata": {},
   "source": [
    "<img src='figure_gmm_covariance.png' align ='left'>"
   ]
  },
  {
   "cell_type": "code",
   "execution_count": 376,
   "id": "b5d6cbff",
   "metadata": {},
   "outputs": [
    {
     "data": {
      "text/plain": [
       "GaussianMixture(n_components=3)"
      ]
     },
     "execution_count": 376,
     "metadata": {},
     "output_type": "execute_result"
    }
   ],
   "source": [
    "# 3. Fit the data, notice y is not specified\n",
    "model.fit(X_iris)\n"
   ]
  },
  {
   "cell_type": "code",
   "execution_count": 377,
   "id": "10094335",
   "metadata": {},
   "outputs": [],
   "source": [
    "# 4. Determine the cluster\n",
    "y_gmm = model.predict(X_iris)"
   ]
  },
  {
   "cell_type": "markdown",
   "id": "f1406aaa",
   "metadata": {},
   "source": [
    "- We add cluster label to Iris Dataframe and use seaborn to plot the results"
   ]
  },
  {
   "cell_type": "code",
   "execution_count": 378,
   "id": "e78e70ca",
   "metadata": {},
   "outputs": [],
   "source": [
    "iris['cluster'] = y_gmm"
   ]
  },
  {
   "cell_type": "code",
   "execution_count": 379,
   "id": "c46ee526",
   "metadata": {},
   "outputs": [
    {
     "data": {
      "text/html": [
       "<div>\n",
       "<style scoped>\n",
       "    .dataframe tbody tr th:only-of-type {\n",
       "        vertical-align: middle;\n",
       "    }\n",
       "\n",
       "    .dataframe tbody tr th {\n",
       "        vertical-align: top;\n",
       "    }\n",
       "\n",
       "    .dataframe thead th {\n",
       "        text-align: right;\n",
       "    }\n",
       "</style>\n",
       "<table border=\"1\" class=\"dataframe\">\n",
       "  <thead>\n",
       "    <tr style=\"text-align: right;\">\n",
       "      <th></th>\n",
       "      <th>sepal_length</th>\n",
       "      <th>sepal_width</th>\n",
       "      <th>petal_length</th>\n",
       "      <th>petal_width</th>\n",
       "      <th>species</th>\n",
       "      <th>PCA1</th>\n",
       "      <th>PCA2</th>\n",
       "      <th>cluster</th>\n",
       "    </tr>\n",
       "  </thead>\n",
       "  <tbody>\n",
       "    <tr>\n",
       "      <th>0</th>\n",
       "      <td>5.1</td>\n",
       "      <td>3.5</td>\n",
       "      <td>1.4</td>\n",
       "      <td>0.2</td>\n",
       "      <td>setosa</td>\n",
       "      <td>-2.684126</td>\n",
       "      <td>0.319397</td>\n",
       "      <td>0</td>\n",
       "    </tr>\n",
       "    <tr>\n",
       "      <th>1</th>\n",
       "      <td>4.9</td>\n",
       "      <td>3.0</td>\n",
       "      <td>1.4</td>\n",
       "      <td>0.2</td>\n",
       "      <td>setosa</td>\n",
       "      <td>-2.714142</td>\n",
       "      <td>-0.177001</td>\n",
       "      <td>0</td>\n",
       "    </tr>\n",
       "    <tr>\n",
       "      <th>2</th>\n",
       "      <td>4.7</td>\n",
       "      <td>3.2</td>\n",
       "      <td>1.3</td>\n",
       "      <td>0.2</td>\n",
       "      <td>setosa</td>\n",
       "      <td>-2.888991</td>\n",
       "      <td>-0.144949</td>\n",
       "      <td>0</td>\n",
       "    </tr>\n",
       "    <tr>\n",
       "      <th>3</th>\n",
       "      <td>4.6</td>\n",
       "      <td>3.1</td>\n",
       "      <td>1.5</td>\n",
       "      <td>0.2</td>\n",
       "      <td>setosa</td>\n",
       "      <td>-2.745343</td>\n",
       "      <td>-0.318299</td>\n",
       "      <td>0</td>\n",
       "    </tr>\n",
       "    <tr>\n",
       "      <th>4</th>\n",
       "      <td>5.0</td>\n",
       "      <td>3.6</td>\n",
       "      <td>1.4</td>\n",
       "      <td>0.2</td>\n",
       "      <td>setosa</td>\n",
       "      <td>-2.728717</td>\n",
       "      <td>0.326755</td>\n",
       "      <td>0</td>\n",
       "    </tr>\n",
       "    <tr>\n",
       "      <th>...</th>\n",
       "      <td>...</td>\n",
       "      <td>...</td>\n",
       "      <td>...</td>\n",
       "      <td>...</td>\n",
       "      <td>...</td>\n",
       "      <td>...</td>\n",
       "      <td>...</td>\n",
       "      <td>...</td>\n",
       "    </tr>\n",
       "    <tr>\n",
       "      <th>145</th>\n",
       "      <td>6.7</td>\n",
       "      <td>3.0</td>\n",
       "      <td>5.2</td>\n",
       "      <td>2.3</td>\n",
       "      <td>virginica</td>\n",
       "      <td>1.944110</td>\n",
       "      <td>0.187532</td>\n",
       "      <td>1</td>\n",
       "    </tr>\n",
       "    <tr>\n",
       "      <th>146</th>\n",
       "      <td>6.3</td>\n",
       "      <td>2.5</td>\n",
       "      <td>5.0</td>\n",
       "      <td>1.9</td>\n",
       "      <td>virginica</td>\n",
       "      <td>1.527167</td>\n",
       "      <td>-0.375317</td>\n",
       "      <td>1</td>\n",
       "    </tr>\n",
       "    <tr>\n",
       "      <th>147</th>\n",
       "      <td>6.5</td>\n",
       "      <td>3.0</td>\n",
       "      <td>5.2</td>\n",
       "      <td>2.0</td>\n",
       "      <td>virginica</td>\n",
       "      <td>1.764346</td>\n",
       "      <td>0.078859</td>\n",
       "      <td>1</td>\n",
       "    </tr>\n",
       "    <tr>\n",
       "      <th>148</th>\n",
       "      <td>6.2</td>\n",
       "      <td>3.4</td>\n",
       "      <td>5.4</td>\n",
       "      <td>2.3</td>\n",
       "      <td>virginica</td>\n",
       "      <td>1.900942</td>\n",
       "      <td>0.116628</td>\n",
       "      <td>1</td>\n",
       "    </tr>\n",
       "    <tr>\n",
       "      <th>149</th>\n",
       "      <td>5.9</td>\n",
       "      <td>3.0</td>\n",
       "      <td>5.1</td>\n",
       "      <td>1.8</td>\n",
       "      <td>virginica</td>\n",
       "      <td>1.390189</td>\n",
       "      <td>-0.282661</td>\n",
       "      <td>1</td>\n",
       "    </tr>\n",
       "  </tbody>\n",
       "</table>\n",
       "<p>150 rows × 8 columns</p>\n",
       "</div>"
      ],
      "text/plain": [
       "     sepal_length  sepal_width  petal_length  petal_width    species  \\\n",
       "0             5.1          3.5           1.4          0.2     setosa   \n",
       "1             4.9          3.0           1.4          0.2     setosa   \n",
       "2             4.7          3.2           1.3          0.2     setosa   \n",
       "3             4.6          3.1           1.5          0.2     setosa   \n",
       "4             5.0          3.6           1.4          0.2     setosa   \n",
       "..            ...          ...           ...          ...        ...   \n",
       "145           6.7          3.0           5.2          2.3  virginica   \n",
       "146           6.3          2.5           5.0          1.9  virginica   \n",
       "147           6.5          3.0           5.2          2.0  virginica   \n",
       "148           6.2          3.4           5.4          2.3  virginica   \n",
       "149           5.9          3.0           5.1          1.8  virginica   \n",
       "\n",
       "         PCA1      PCA2  cluster  \n",
       "0   -2.684126  0.319397        0  \n",
       "1   -2.714142 -0.177001        0  \n",
       "2   -2.888991 -0.144949        0  \n",
       "3   -2.745343 -0.318299        0  \n",
       "4   -2.728717  0.326755        0  \n",
       "..        ...       ...      ...  \n",
       "145  1.944110  0.187532        1  \n",
       "146  1.527167 -0.375317        1  \n",
       "147  1.764346  0.078859        1  \n",
       "148  1.900942  0.116628        1  \n",
       "149  1.390189 -0.282661        1  \n",
       "\n",
       "[150 rows x 8 columns]"
      ]
     },
     "execution_count": 379,
     "metadata": {},
     "output_type": "execute_result"
    }
   ],
   "source": [
    "iris"
   ]
  },
  {
   "cell_type": "code",
   "execution_count": 380,
   "id": "50cf4dcc",
   "metadata": {},
   "outputs": [
    {
     "data": {
      "text/plain": [
       "<seaborn.axisgrid.FacetGrid at 0x27ab6c15d00>"
      ]
     },
     "execution_count": 380,
     "metadata": {},
     "output_type": "execute_result"
    },
    {
     "data": {
      "image/png": "[encoded data removed]",
      "text/plain": [
       "<Figure size 1166.85x360 with 3 Axes>"
      ]
     },
     "metadata": {},
     "output_type": "display_data"
    }
   ],
   "source": [
    "sns.lmplot(data=iris, x='PCA1', y='PCA2', hue='species', col='cluster', fit_reg=False)"
   ]
  },
  {
   "cell_type": "markdown",
   "id": "508e0ed4",
   "metadata": {},
   "source": [
    "- Setosa species in Cluster 0 is perfectly separated however we can see some mixing of versicolor \n",
    "with virginica in cluster 1\n",
    "- The measurement of these flowers are distinct enough that we could automatically identify the presence\n",
    "of different groups wih the help of simple clustering algorithm"
   ]
  },
  {
   "cell_type": "markdown",
   "id": "ed504734",
   "metadata": {},
   "source": [
    "# Application: Exploring Handwritten Digits"
   ]
  },
  {
   "cell_type": "markdown",
   "id": "18e41ef6",
   "metadata": {},
   "source": [
    "## Loading and visualizing the digits data"
   ]
  },
  {
   "cell_type": "markdown",
   "id": "b54d0ec7",
   "metadata": {},
   "source": [
    "## Unsupervised learning: Dimensionality reduction"
   ]
  },
  {
   "cell_type": "markdown",
   "id": "a99aea29",
   "metadata": {},
   "source": [
    "## Classification on digits"
   ]
  },
  {
   "cell_type": "markdown",
   "id": "a17de0b6",
   "metadata": {},
   "source": [
    "# Hyperparameters and Model Validation"
   ]
  },
  {
   "cell_type": "markdown",
   "id": "56111a96",
   "metadata": {},
   "source": [
    "**The most important question in machine learning is how to select and validate your model**"
   ]
  },
  {
   "cell_type": "markdown",
   "id": "a5f9f404",
   "metadata": {},
   "source": [
    "1. Choose a class of model\n",
    "2. Choose a model hyperparameters\n",
    "3. Fit the model to the training data\n",
    "4. Use the model to predict labels for new data"
   ]
  },
  {
   "cell_type": "markdown",
   "id": "9857543c",
   "metadata": {},
   "source": [
    "- In order to make informed decision, we need a way to validate that our model and our \n",
    "hyperparameters are a good fit to the data."
   ]
  },
  {
   "cell_type": "markdown",
   "id": "3960287d",
   "metadata": {},
   "source": [
    "## Thinking about Model validation"
   ]
  },
  {
   "cell_type": "markdown",
   "id": "85aebe0c",
   "metadata": {},
   "source": [
    "- One way to check the effectiveness of our model to apply training data and compare the \n",
    "prediction to the known value"
   ]
  },
  {
   "cell_type": "markdown",
   "id": "6edd8bfd",
   "metadata": {},
   "source": [
    "### Model validation the wrong way"
   ]
  },
  {
   "cell_type": "markdown",
   "id": "b6e07658",
   "metadata": {},
   "source": [
    "- Let's import Iris data"
   ]
  },
  {
   "cell_type": "code",
   "execution_count": 406,
   "id": "cdb18448",
   "metadata": {},
   "outputs": [],
   "source": [
    "from sklearn.datasets import load_iris\n",
    "iris  = load_iris()"
   ]
  },
  {
   "cell_type": "code",
   "execution_count": 407,
   "id": "332a71ac",
   "metadata": {},
   "outputs": [],
   "source": [
    "X = iris.data\n",
    "y = iris.target"
   ]
  },
  {
   "cell_type": "markdown",
   "id": "ca7920e8",
   "metadata": {},
   "source": [
    "- Here we will use k-neighbors classifier with n_neighbors=1. \n",
    "- It says the label of an unknown point is the same as the label of its closest training point"
   ]
  },
  {
   "cell_type": "code",
   "execution_count": 384,
   "id": "3459cb5b",
   "metadata": {},
   "outputs": [],
   "source": [
    "# Choose the model \n",
    "# Instantiate the model with hyperparameter\n",
    "\n",
    "from sklearn.neighbors import KNeighborsClassifier\n",
    "model = KNeighborsClassifier(n_neighbors=1)"
   ]
  },
  {
   "cell_type": "code",
   "execution_count": 385,
   "id": "6ac76b15",
   "metadata": {},
   "outputs": [
    {
     "data": {
      "text/plain": [
       "KNeighborsClassifier(n_neighbors=1)"
      ]
     },
     "execution_count": 385,
     "metadata": {},
     "output_type": "execute_result"
    }
   ],
   "source": [
    "# We train the model \n",
    "model.fit(X, y)\n"
   ]
  },
  {
   "cell_type": "code",
   "execution_count": 386,
   "id": "d3c407b6",
   "metadata": {},
   "outputs": [],
   "source": [
    "# Use the trained model to predict labels for data we already know\n",
    "y_model = model.predict(X)\n"
   ]
  },
  {
   "cell_type": "code",
   "execution_count": 387,
   "id": "022b30c0",
   "metadata": {},
   "outputs": [
    {
     "data": {
      "text/plain": [
       "1.0"
      ]
     },
     "execution_count": 387,
     "metadata": {},
     "output_type": "execute_result"
    }
   ],
   "source": [
    "# Calculate accuracy score\n",
    "from sklearn.metrics import accuracy_score\n",
    "accuracy_score(y, y_model)\n"
   ]
  },
  {
   "cell_type": "markdown",
   "id": "e43b871e",
   "metadata": {},
   "source": [
    "- Is this truely measuring the expected accuracy?\n",
    "- The fundamental flow is that it trains and evaluate on the same data\n",
    "- Which we mostly call over-fitting"
   ]
  },
  {
   "cell_type": "markdown",
   "id": "883802e1",
   "metadata": {},
   "source": [
    "### Model validation the right way: Holdout sets"
   ]
  },
  {
   "cell_type": "markdown",
   "id": "3c90f35b",
   "metadata": {},
   "source": [
    "- We can have better sense of a model's performance by using holdout set.\n",
    "- and then use this holdout set to check the model performance\n",
    "- We can do this splitting the data by using train_test_split utility in Scikit-Learn"
   ]
  },
  {
   "cell_type": "code",
   "execution_count": 388,
   "id": "f5bab949",
   "metadata": {},
   "outputs": [],
   "source": [
    "from sklearn.model_selection import train_test_split"
   ]
  },
  {
   "cell_type": "code",
   "execution_count": 389,
   "id": "0ef9c35b",
   "metadata": {},
   "outputs": [],
   "source": [
    "#X"
   ]
  },
  {
   "cell_type": "code",
   "execution_count": 390,
   "id": "dc21481e",
   "metadata": {},
   "outputs": [],
   "source": [
    "# Split the data with 50% in each set\n",
    "# using X-data, y-target of the Iris dataset\n",
    "X1, X2, y1, y2 = train_test_split(X, y, random_state=0, train_size=0.5)\n"
   ]
  },
  {
   "cell_type": "code",
   "execution_count": 391,
   "id": "4300763f",
   "metadata": {},
   "outputs": [
    {
     "data": {
      "text/plain": [
       "KNeighborsClassifier(n_neighbors=1)"
      ]
     },
     "execution_count": 391,
     "metadata": {},
     "output_type": "execute_result"
    }
   ],
   "source": [
    "# fit the model on one set of the data\n",
    "model.fit(X1, y1)\n"
   ]
  },
  {
   "cell_type": "code",
   "execution_count": 392,
   "id": "e171f50c",
   "metadata": {},
   "outputs": [],
   "source": [
    "# Predict the model on the second set of data\n",
    "y2_model = model.predict(X2)"
   ]
  },
  {
   "cell_type": "code",
   "execution_count": 393,
   "id": "5b103691",
   "metadata": {},
   "outputs": [
    {
     "data": {
      "text/plain": [
       "0.9066666666666666"
      ]
     },
     "execution_count": 393,
     "metadata": {},
     "output_type": "execute_result"
    }
   ],
   "source": [
    "# Evaluate the accuracy score\n",
    "accuracy_score(y2, y2_model)"
   ]
  },
  {
   "cell_type": "markdown",
   "id": "2f5dbe1a",
   "metadata": {},
   "source": [
    "- The nearest-neighbor classifier is about 90% accurate on this holdout set.\n",
    "- This holdout set is similar to unknown data because model has not seen it before"
   ]
  },
  {
   "cell_type": "markdown",
   "id": "7e39f9f5",
   "metadata": {},
   "source": [
    "### Model validation via cross-validation"
   ]
  },
  {
   "cell_type": "markdown",
   "id": "97aaf4e3",
   "metadata": {},
   "source": [
    "- One disadvantage of holdout ser for model validation is that we have lost a portion of our data to the model training\n",
    "- It will be problematic if the initial data is small"
   ]
  },
  {
   "cell_type": "markdown",
   "id": "31e8fe6d",
   "metadata": {},
   "source": [
    "- One way to address this is to use `cross-validation`\n",
    "- In cross-validation each subset of data is used as a training set and a validation set"
   ]
  },
  {
   "cell_type": "markdown",
   "id": "f4e23c99",
   "metadata": {},
   "source": [
    "<img src='figure_two_fold_cross_validation.png' align='left'>"
   ]
  },
  {
   "cell_type": "markdown",
   "id": "6ab77843",
   "metadata": {},
   "source": [
    "- Alternatively we can use each half of the data as a holdout set.\n",
    "- We can use split data"
   ]
  },
  {
   "cell_type": "code",
   "execution_count": 394,
   "id": "3472c53e",
   "metadata": {},
   "outputs": [],
   "source": [
    "from sklearn.metrics import accuracy_score"
   ]
  },
  {
   "cell_type": "code",
   "execution_count": 395,
   "id": "89506d97",
   "metadata": {},
   "outputs": [
    {
     "data": {
      "text/plain": [
       "(0.96, 0.9066666666666666)"
      ]
     },
     "execution_count": 395,
     "metadata": {},
     "output_type": "execute_result"
    }
   ],
   "source": [
    "y2_model = model.fit(X1, y1).predict(X2)\n",
    "y1_model = model.fit(X2, y2).predict(X1)\n",
    "accuracy_score(y1, y1_model), accuracy_score(y2, y2_model)"
   ]
  },
  {
   "cell_type": "markdown",
   "id": "701efedf",
   "metadata": {},
   "source": [
    "- We got two accuracy scores which can be combine to get the mean for a better measurement of \n",
    "global model performance\n",
    "- This form of cross-validation is a two-fold cross-validation\n",
    "- Where in we divided the data into two set and for each turn each set is used as a validation set"
   ]
  },
  {
   "cell_type": "markdown",
   "id": "217a4cd4",
   "metadata": {},
   "source": [
    "**Further extending the idea to five-fold criss-validation**"
   ]
  },
  {
   "cell_type": "markdown",
   "id": "6a9dbf83",
   "metadata": {},
   "source": [
    "- In this type of validation we evaluate the model fit using 4/5 of the data\n",
    "- We can use Scikit-learn's cross_val_score"
   ]
  },
  {
   "cell_type": "markdown",
   "id": "abaab8ef",
   "metadata": {},
   "source": [
    "<img src='figure_five_fold_cross_validation.png' width = '550' length = '350' align = 'left'>"
   ]
  },
  {
   "cell_type": "code",
   "execution_count": 396,
   "id": "239e7a55",
   "metadata": {},
   "outputs": [
    {
     "data": {
      "text/plain": [
       "array([0.96666667, 0.96666667, 0.93333333, 0.93333333, 1.        ])"
      ]
     },
     "execution_count": 396,
     "metadata": {},
     "output_type": "execute_result"
    }
   ],
   "source": [
    "from sklearn.model_selection import cross_val_score\n",
    "# ModuleNotFoundError: No module named 'sklearn.cross_validation'\n",
    "cross_val_score(model, X, y, cv=5)"
   ]
  },
  {
   "cell_type": "code",
   "execution_count": 397,
   "id": "962b0953",
   "metadata": {},
   "outputs": [
    {
     "data": {
      "text/plain": [
       "0.96"
      ]
     },
     "execution_count": 397,
     "metadata": {},
     "output_type": "execute_result"
    }
   ],
   "source": [
    "score = cross_val_score(model, X, y, cv=5)\n",
    "score.mean()"
   ]
  },
  {
   "cell_type": "markdown",
   "id": "eecac715",
   "metadata": {},
   "source": [
    "- Repeating the validation across different subset of the data gives us an even better \n",
    "idea of performance of the algorithm"
   ]
  },
  {
   "cell_type": "markdown",
   "id": "fb13683f",
   "metadata": {},
   "source": [
    "**Leave-One-Out corss validation**"
   ]
  },
  {
   "cell_type": "markdown",
   "id": "01d75673",
   "metadata": {},
   "source": [
    "- Here we got number of folds equal to number of data points \n",
    "- That is we train on all data points except one data point is left for test purpose\n",
    "- This type of cross-validation is known as leave-one-out cross-validation"
   ]
  },
  {
   "cell_type": "code",
   "execution_count": 398,
   "id": "d25c3364",
   "metadata": {},
   "outputs": [],
   "source": [
    "from sklearn.model_selection import LeaveOneOut"
   ]
  },
  {
   "cell_type": "code",
   "execution_count": 399,
   "id": "2d337a55",
   "metadata": {},
   "outputs": [
    {
     "name": "stdout",
     "output_type": "stream",
     "text": [
      "[1. 1. 1. 1. 1. 1. 1. 1. 1. 1. 1. 1. 1. 1. 1. 1. 1. 1. 1. 1. 1. 1. 1. 1.\n",
      " 1. 1. 1. 1. 1. 1. 1. 1. 1. 1. 1. 1. 1. 1. 1. 1. 1. 1. 1. 1. 1. 1. 1. 1.\n",
      " 1. 1. 1. 1. 1. 1. 1. 1. 1. 1. 1. 1. 1. 1. 1. 1. 1. 1. 1. 1. 1. 1. 0. 1.\n",
      " 0. 1. 1. 1. 1. 1. 1. 1. 1. 1. 1. 0. 1. 1. 1. 1. 1. 1. 1. 1. 1. 1. 1. 1.\n",
      " 1. 1. 1. 1. 1. 1. 1. 1. 1. 1. 0. 1. 1. 1. 1. 1. 1. 1. 1. 1. 1. 1. 1. 0.\n",
      " 1. 1. 1. 1. 1. 1. 1. 1. 1. 1. 1. 1. 1. 0. 1. 1. 1. 1. 1. 1. 1. 1. 1. 1.\n",
      " 1. 1. 1. 1. 1. 1.]\n"
     ]
    },
    {
     "data": {
      "text/plain": [
       "150"
      ]
     },
     "execution_count": 399,
     "metadata": {},
     "output_type": "execute_result"
    }
   ],
   "source": [
    "scores = cross_val_score(model, X, y, cv=LeaveOneOut())\n",
    "print(scores)\n",
    "len(scores)\n",
    "#TypeError: LeaveOneOut(len(X)) takes no arguments"
   ]
  },
  {
   "cell_type": "markdown",
   "id": "aa830121",
   "metadata": {},
   "source": [
    "- The output results scores for 150 trials\n",
    "- The score indicates either successful(1.0) or unsuccessful(0.0) prediction\n",
    "- The mean of these gives an estimates of the error rate"
   ]
  },
  {
   "cell_type": "code",
   "execution_count": 400,
   "id": "2a4f72f2",
   "metadata": {},
   "outputs": [
    {
     "data": {
      "text/plain": [
       "0.96"
      ]
     },
     "execution_count": 400,
     "metadata": {},
     "output_type": "execute_result"
    }
   ],
   "source": [
    "scores.mean()"
   ]
  },
  {
   "cell_type": "markdown",
   "id": "f256698d",
   "metadata": {},
   "source": [
    "## Selecting the Best Model"
   ]
  },
  {
   "cell_type": "markdown",
   "id": "d1a3f880",
   "metadata": {},
   "source": [
    "### The bias-variance trade-off"
   ]
  },
  {
   "cell_type": "markdown",
   "id": "40c558eb",
   "metadata": {},
   "source": [
    "### Validation curves in Scikit-learn"
   ]
  },
  {
   "cell_type": "markdown",
   "id": "f7bf9b05",
   "metadata": {},
   "source": [
    "## Learning Curves"
   ]
  },
  {
   "cell_type": "markdown",
   "id": "2cf7c22f",
   "metadata": {},
   "source": [
    "### Learning curves in Scikit-Learn"
   ]
  },
  {
   "cell_type": "markdown",
   "id": "1837edd3",
   "metadata": {},
   "source": [
    "## Validation in Practice: Grid Search"
   ]
  },
  {
   "cell_type": "code",
   "execution_count": null,
   "id": "a5731d2e",
   "metadata": {},
   "outputs": [],
   "source": []
  }
 ],
 "metadata": {
  "kernelspec": {
   "display_name": "Python 3.9.7 64-bit",
   "language": "python",
   "name": "python3"
  },
  "language_info": {
   "codemirror_mode": {
    "name": "ipython",
    "version": 3
   },
   "file_extension": ".py",
   "mimetype": "text/x-python",
   "name": "python",
   "nbconvert_exporter": "python",
   "pygments_lexer": "ipython3",
   "version": "3.9.7"
  },
  "toc": {
   "base_numbering": 1,
   "nav_menu": {},
   "number_sections": true,
   "sideBar": true,
   "skip_h1_title": false,
   "title_cell": "Table of Contents",
   "title_sidebar": "Contents",
   "toc_cell": false,
   "toc_position": {},
   "toc_section_display": true,
   "toc_window_display": true
  },
  "vscode": {
   "interpreter": {
    "hash": "ccc4e194e61914dee5ed0ddb7d5c2edfc9b4a097a99aa6a9614e030905ed375c"
   }
  }
 },
 "nbformat": 4,
 "nbformat_minor": 5
}
