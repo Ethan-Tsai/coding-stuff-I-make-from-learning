{
 "cells": [
  {
   "cell_type": "markdown",
   "metadata": {},
   "source": [
    "# MIS132 程式設計實習 - Lecture05"
   ]
  },
  {
   "cell_type": "markdown",
   "metadata": {},
   "source": [
    "### Outline this week\n",
    "\n",
    "- Tuple\n",
    "  - 用法\n",
    "  - 優點\n",
    "  - Unpakcing\n",
    "- Dict\n",
    "  - 介紹\n",
    "  - 建立與查詢\n",
    "  - 新增、修改、刪除\n",
    "  - 和 tuple 混用\n",
    "- Lab 練習\n",
    "\n",
    "----"
   ]
  },
  {
   "cell_type": "markdown",
   "metadata": {},
   "source": [
    "## Tuple\n",
    "\n",
    "### 用法與簡介\n",
    "Q. Tuple 怎麼念？\n",
    "\n",
    "A. 念「他剖（tup-ple）」或「吐剖（too-ple）」，啊我比較常聽到念他剖，推薦\n",
    "\n",
    "Q. Tuple 是啥？他跟 list 有啥關係？\n",
    "\n",
    "A. Tuple 和 list **大概 80% 的用法都一樣**，區別只有兩個\n",
    "\n",
    "1. Tuple 使用 小括號`(data1, data2)`宣告\n",
    "2. Tuple 內容在建立後不可修改"
   ]
  },
  {
   "cell_type": "code",
   "execution_count": 1,
   "metadata": {},
   "outputs": [
    {
     "name": "stdout",
     "output_type": "stream",
     "text": [
      "('Glenn', 'Sally', 9, [1, 3])\n",
      "app\n",
      "dragon\n",
      "('bar', 'dragon')\n"
     ]
    }
   ],
   "source": [
    "# 宣告與 Indexing\n",
    "t1 = ('Glenn', 'Sally', 9, [1, 3])\n",
    "print(t1)\n",
    "\n",
    "t2 = ('app', 'bar', 'cat', 'dragon', 'ear')\n",
    "print(t2[0])\n",
    "print(t2[-2])\n",
    "print(t2[1::2])"
   ]
  },
  {
   "cell_type": "code",
   "execution_count": 2,
   "metadata": {},
   "outputs": [
    {
     "ename": "TypeError",
     "evalue": "'tuple' object does not support item assignment",
     "output_type": "error",
     "traceback": [
      "\u001b[0;31m---------------------------------------------------------------------------\u001b[0m",
      "\u001b[0;31mTypeError\u001b[0m                                 Traceback (most recent call last)",
      "\u001b[0;32m<ipython-input-2-61f4e7684d42>\u001b[0m in \u001b[0;36m<module>\u001b[0;34m\u001b[0m\n\u001b[0;32m----> 1\u001b[0;31m \u001b[0mt2\u001b[0m\u001b[0;34m[\u001b[0m\u001b[0;36m0\u001b[0m\u001b[0;34m]\u001b[0m \u001b[0;34m=\u001b[0m \u001b[0;34m'yoyo'\u001b[0m\u001b[0;34m\u001b[0m\u001b[0;34m\u001b[0m\u001b[0m\n\u001b[0m",
      "\u001b[0;31mTypeError\u001b[0m: 'tuple' object does not support item assignment"
     ]
    }
   ],
   "source": [
    "t2[0] = 'yoyo'"
   ]
  },
  {
   "cell_type": "markdown",
   "metadata": {},
   "source": [
    "Tuple 和 string 一樣不能修改"
   ]
  },
  {
   "cell_type": "markdown",
   "metadata": {},
   "source": [
    "### 所以 Tuple 有啥優點？\n",
    "\n",
    "1. 執行速度上比 list 更快（size 大才比較明顯）\n",
    "2. tuple 不能修改，可以把他當 const 來用，避免後面的扣修改到\n",
    "3. 可以和 dict 有個互動，後面會提到"
   ]
  },
  {
   "cell_type": "markdown",
   "metadata": {},
   "source": [
    "### Unpacking\n",
    "\n",
    "再來是 Tuple 使用上的一個技巧，當我們宣告 Tuple 時，他會把變數「packing」進去\n",
    "\n",
    "![](https://files.realpython.com/media/t.feb20d10b75d.png)\n",
    "\n",
    "如果把這個 packed object assign 給一個 tuple，他會用 「unpacking」技巧，將裡面的數值按照順序傳給前面的 Tuple  \n",
    "阿這邊的 `( )` 是可以省略的\n",
    "\n",
    "![](https://files.realpython.com/media/t.629d7402a412.png)"
   ]
  },
  {
   "cell_type": "code",
   "execution_count": 3,
   "metadata": {},
   "outputs": [
    {
     "name": "stdout",
     "output_type": "stream",
     "text": [
      "('app', 'bar', 'cat')\n",
      "app bar cat\n",
      "app bar cat\n"
     ]
    }
   ],
   "source": [
    "# pack into tuple\n",
    "t = ('app', 'bar', 'cat')\n",
    "print(t)\n",
    "\n",
    "# BAD: 一般來說，如果你要把他們拿出來\n",
    "s1 = t[0]\n",
    "s2 = t[1]\n",
    "s3 = t[2]\n",
    "print(s1, s2, s3)\n",
    "# 蠻累贅的，index 如果有換，要刪除修改很多地方\n",
    "\n",
    "# GOOD: 這時 unpacking 的技巧就派上用場了\n",
    "s1, s2, s3 = t\n",
    "print(s1, s2, s3)"
   ]
  },
  {
   "cell_type": "markdown",
   "metadata": {},
   "source": [
    "**注意！這裡有個 error case！**\n",
    "\n",
    "當你的 packed object 長度和你想要 unpack 的數量不同時，會出現 error\n",
    "\n",
    "例如\n",
    "```python\n",
    "t = (1, 3, 5, 7)\n",
    "n1, n2, n3 = t\n",
    "# 這樣會出錯！\n",
    "```\n",
    "\n",
    "這裡有個不是必會的技巧，你可以使用 `_` 這個變數名稱（`_` 在 Python 中有三四種特別的用法，後面緣分有到再介紹）\n",
    "\n",
    "他默認是 **「要被忽略的變數」**，賦予給他的數值我們會默認他是沒有要被使用的（沒有強致力啦，你還是可以存取他）"
   ]
  },
  {
   "cell_type": "code",
   "execution_count": 3,
   "metadata": {},
   "outputs": [
    {
     "name": "stdout",
     "output_type": "stream",
     "text": [
      "(1, 3, 5, 7)\n"
     ]
    }
   ],
   "source": [
    "t = (1, 3, 5, 7)\n",
    "n1, n2, n3, _ = t\n",
    "print(t)"
   ]
  },
  {
   "cell_type": "code",
   "execution_count": 5,
   "metadata": {},
   "outputs": [
    {
     "name": "stdout",
     "output_type": "stream",
     "text": [
      "1 3 5\n",
      "_ is 7\n",
      "_ is 10\n",
      "1 3\n",
      "_ is 7\n"
     ]
    }
   ],
   "source": [
    "t = (1, 3, 5, 7)\n",
    "# 假如我們只要 t 的前三個元素\n",
    "\n",
    "# n1, n2, n3 = t\n",
    "# # 這樣會出錯！\n",
    "\n",
    "n1, n2, n3, _ = t\n",
    "print(n1, n2, n3)\n",
    "# 降就可以了\n",
    "\n",
    "# 實際上，你還是可以存取 _\n",
    "print('_ is', _) # 7\n",
    "_ = 10\n",
    "print('_ is', _) # 10\n",
    "\n",
    "n1, n2, _, _ = t\n",
    "print(n1, n2)\n",
    "print('_ is', _)"
   ]
  },
  {
   "cell_type": "code",
   "execution_count": 6,
   "metadata": {},
   "outputs": [
    {
     "name": "stdout",
     "output_type": "stream",
     "text": [
      "20 10\n",
      "10 20\n"
     ]
    }
   ],
   "source": [
    "# 還有一個交換變數的黑科技\n",
    "a = 10\n",
    "b = 20\n",
    "\n",
    "# 正常想交換兩個變數的內容\n",
    "temp = a\n",
    "a = b\n",
    "b = temp\n",
    "print(a, b)\n",
    "\n",
    "# 黑科技來了\n",
    "a, b = b, a\n",
    "print(a, b)"
   ]
  },
  {
   "cell_type": "markdown",
   "metadata": {},
   "source": [
    "## Dict\n",
    "### 介紹\n",
    "\n",
    "Dict 為 python 中一種非常強大的容器（Collection）\n",
    "\n",
    "上面提到的 list `[a, b, c]` 跟 tuple `(a, b, c)` 都是一種 Collection\n",
    "\n",
    "> 打個比喻 list 跟 tuple 像是抽屜，你必須把他們疊在一起，按照順序去存取  \n",
    "> 而 dict 就像是百寶袋, 每個東西都有專屬的名稱，你只能直接呼叫他的名字來存取他\n",
    "\n",
    "dict 裡面存放物品需要給兩個數值, 一個是 key, 另外一個則是相對應的 value\n",
    "\n",
    "- key to value\n",
    "- key -> value\n",
    "\n",
    "![](https://www.learnbyexample.org/wp-content/uploads/python/Dictionary-Key-Value-Pairs-Illustration.png)"
   ]
  },
  {
   "cell_type": "markdown",
   "metadata": {},
   "source": [
    "### 建立與查詢\n",
    "#### 建立\n",
    "\n",
    "宣告一個空的 dict 有兩種方法，記得他們一個使用大括號`{}`另一個是小括號`()`，**請務必優先使用第一種方式！**\n",
    "\n",
    "```python\n",
    "d = {}\n",
    "# or\n",
    "d = dict()\n",
    "# 第二種較少用\n",
    "```\n",
    "\n",
    "如果要放入初始數值則是這樣\n",
    "\n",
    "e.g.\n",
    "```python\n",
    "a = {\n",
    "    'name': 'value',\n",
    "    'score': 12,\n",
    "}\n",
    "# or\n",
    "b = dict( \n",
    "    name='value',\n",
    "    score=12,\n",
    ")\n",
    "```"
   ]
  },
  {
   "cell_type": "code",
   "execution_count": 7,
   "metadata": {},
   "outputs": [
    {
     "name": "stdout",
     "output_type": "stream",
     "text": [
      "{} {}\n",
      "{'name': 'value', 'score': 12}\n",
      "{'name': 'value', 'score': 12}\n"
     ]
    }
   ],
   "source": [
    "d1 = {}\n",
    "d2 = dict()\n",
    "print(d1, d2)\n",
    "\n",
    "a = {\n",
    "    'name': 'value',\n",
    "    'score': 12,\n",
    "}\n",
    "print(a)\n",
    "\n",
    "# or\n",
    "b = dict( \n",
    "    name='value',\n",
    "    score=12,\n",
    ")\n",
    "print(b)"
   ]
  },
  {
   "cell_type": "markdown",
   "metadata": {},
   "source": [
    "不過在此, 我們推薦第一種方法 (a), 因為第二種方法會限制你的 key 不能為保留字, 否則將會出錯"
   ]
  },
  {
   "cell_type": "code",
   "execution_count": 8,
   "metadata": {},
   "outputs": [
    {
     "ename": "SyntaxError",
     "evalue": "invalid syntax (<ipython-input-8-02ab88989b7a>, line 5)",
     "output_type": "error",
     "traceback": [
      "\u001b[0;36m  File \u001b[0;32m\"<ipython-input-8-02ab88989b7a>\"\u001b[0;36m, line \u001b[0;32m5\u001b[0m\n\u001b[0;31m    import='trade',\u001b[0m\n\u001b[0m         ^\u001b[0m\n\u001b[0;31mSyntaxError\u001b[0m\u001b[0;31m:\u001b[0m invalid syntax\n"
     ]
    }
   ],
   "source": [
    "# ！！！這個會出錯！！！\n",
    "# 因為使用到\"import\"這個保留字，而用 dict 給值的方法有限制保留字的使用\n",
    "\n",
    "b = dict(\n",
    "   import='trade', \n",
    "   1=7.8\n",
    ")\n",
    "print(b)\n",
    "\n",
    "# 當然保留字能不用就盡量不要用到"
   ]
  },
  {
   "cell_type": "markdown",
   "metadata": {},
   "source": [
    "key 和 value 除了使用 `'數值'` 來賦予外，也可以使用變數\n",
    "\n",
    "當你的數值會變動，或很長的時候，就可以改用變數傳入"
   ]
  },
  {
   "cell_type": "code",
   "execution_count": 3,
   "metadata": {},
   "outputs": [
    {
     "name": "stdout",
     "output_type": "stream",
     "text": [
      "{'mail': 'apple@google.com', 'sender': 'm094020055@student.nsysu.edu.tw', 'note': 'm094020055@student.nsysu.edu.tw', 'receiver': 'm094020055@student.nsysu.edu.tw'}\n"
     ]
    }
   ],
   "source": [
    "key1 = 'mail'\n",
    "key2 = 'receiver'\n",
    "value = 'm094020055@student.nsysu.edu.tw'\n",
    "\n",
    "d = {\n",
    "    key1: 'apple@google.com',\n",
    "    'sender': value,\n",
    "    'note': value, # 兩個 key 可以有同一個 value\n",
    "    key2: value,\n",
    "    # key2: 'test', # 不建議用一樣的 key，會被覆蓋掉\n",
    "}\n",
    "print(d)"
   ]
  },
  {
   "cell_type": "markdown",
   "metadata": {},
   "source": [
    "#### 查詢\n",
    "\n",
    "dict 和 list 在建立時傳入的值不同，查詢時當然也不一樣\n",
    "\n",
    "dict 使用 key 查詢，一樣可以使用 `'數值'` 或 **變數** 來查詢"
   ]
  },
  {
   "cell_type": "code",
   "execution_count": 4,
   "metadata": {},
   "outputs": [
    {
     "name": "stdout",
     "output_type": "stream",
     "text": [
      "{'mail': 'apple@google.com', 'sender': 'm094020055@student.nsysu.edu.tw', 'note': 'm094020055@student.nsysu.edu.tw', 'receiver': 'm094020055@student.nsysu.edu.tw'}\n",
      "\n",
      "apple@google.com\n",
      "m094020055@student.nsysu.edu.tw\n"
     ]
    }
   ],
   "source": [
    "# 沿用上面的 d\n",
    "print(d)\n",
    "print()\n",
    "\n",
    "print(d['mail'])\n",
    "\n",
    "key = 'sender'\n",
    "print(d[key])"
   ]
  },
  {
   "cell_type": "markdown",
   "metadata": {},
   "source": [
    "所以當你儲存的資料很多、且經常查詢修改，就建議使用 dict 格式來儲存\n",
    "\n",
    "BUT....\n",
    "當你找尋不在 dict 中的 key 時, 會發生錯誤\n",
    "\n",
    "**Note!**\n",
    "可以透過 in 來確定某個 key 有沒有在一 dict 中  \n",
    "**注意，是檢查 key**"
   ]
  },
  {
   "cell_type": "code",
   "execution_count": 5,
   "metadata": {},
   "outputs": [
    {
     "ename": "KeyError",
     "evalue": "'mail2'",
     "output_type": "error",
     "traceback": [
      "\u001b[0;31m---------------------------------------------------------------------------\u001b[0m",
      "\u001b[0;31mKeyError\u001b[0m                                  Traceback (most recent call last)",
      "\u001b[0;32m<ipython-input-5-6bbabe016ddb>\u001b[0m in \u001b[0;36m<module>\u001b[0;34m\u001b[0m\n\u001b[1;32m      1\u001b[0m \u001b[0;31m# ！！！這個會出錯！！！\u001b[0m\u001b[0;34m\u001b[0m\u001b[0;34m\u001b[0m\u001b[0;34m\u001b[0m\u001b[0m\n\u001b[1;32m      2\u001b[0m \u001b[0;31m# 嘗試存取不存在的 key\u001b[0m\u001b[0;34m\u001b[0m\u001b[0;34m\u001b[0m\u001b[0;34m\u001b[0m\u001b[0m\n\u001b[0;32m----> 3\u001b[0;31m \u001b[0md\u001b[0m\u001b[0;34m[\u001b[0m\u001b[0;34m'mail2'\u001b[0m\u001b[0;34m]\u001b[0m\u001b[0;34m\u001b[0m\u001b[0;34m\u001b[0m\u001b[0m\n\u001b[0m",
      "\u001b[0;31mKeyError\u001b[0m: 'mail2'"
     ]
    }
   ],
   "source": [
    "# ！！！這個會出錯！！！\n",
    "# 嘗試存取不存在的 key\n",
    "d['mail2']"
   ]
  },
  {
   "cell_type": "code",
   "execution_count": 6,
   "metadata": {},
   "outputs": [
    {
     "name": "stdout",
     "output_type": "stream",
     "text": [
      "True\n",
      "False\n",
      "True\n"
     ]
    }
   ],
   "source": [
    "# 如果想知道某個 key 是否\n",
    "\n",
    "print('mail' in d)\n",
    "print('mail2' in d)\n",
    "print('receiver' in d)"
   ]
  },
  {
   "cell_type": "markdown",
   "metadata": {},
   "source": [
    "還有一個重要的是 dict 可以和 for 搭配  \n",
    "依序取出所有的 key\n",
    "\n",
    "```python\n",
    "for key in a_dict:\n",
    "    print(key, a_dict[key])\n",
    "```\n"
   ]
  },
  {
   "cell_type": "code",
   "execution_count": 7,
   "metadata": {},
   "outputs": [
    {
     "name": "stdout",
     "output_type": "stream",
     "text": [
      "mail apple@google.com\n",
      "sender m094020055@student.nsysu.edu.tw\n",
      "note m094020055@student.nsysu.edu.tw\n",
      "receiver m094020055@student.nsysu.edu.tw\n"
     ]
    }
   ],
   "source": [
    "for key in d:\n",
    "    print(key, d[key])"
   ]
  },
  {
   "cell_type": "code",
   "execution_count": 13,
   "metadata": {},
   "outputs": [
    {
     "name": "stdout",
     "output_type": "stream",
     "text": [
      "dict_keys(['mail', 'sender', 'note', 'receiver'])\n",
      "dict_values(['apple@google.com', 'm094020055@student.nsysu.edu.tw', 'm094020055@student.nsysu.edu.tw', 'm094020055@student.nsysu.edu.tw'])\n",
      "dict_items([('mail', 'apple@google.com'), ('sender', 'm094020055@student.nsysu.edu.tw'), ('note', 'm094020055@student.nsysu.edu.tw'), ('receiver', 'm094020055@student.nsysu.edu.tw')])\n"
     ]
    }
   ],
   "source": [
    "# 可能會用到的 function\n",
    "print(d.keys())\n",
    "print(d.values())\n",
    "print(d.items())"
   ]
  },
  {
   "cell_type": "markdown",
   "metadata": {},
   "source": [
    "### 新增、修改、刪除\n",
    "\n",
    "#### 新增修改\n",
    "\n",
    "dict 如何新增與修改？\n",
    "\n",
    "你可以直接 assign 數值給一個 key，如果 key 不存在就新增，存在就修改 key 成為新 value"
   ]
  },
  {
   "cell_type": "code",
   "execution_count": 8,
   "metadata": {},
   "outputs": [
    {
     "name": "stdout",
     "output_type": "stream",
     "text": [
      "{'b': 'band', 'c': 'cat', 'd': 'dragon'}\n",
      "{'b': 'band', 'c': 'cat', 'd': 'dragon', 'e': 'electric', 10: 100, 3.14: 'pi'}\n",
      "{'b': 'be nice', 'c': 'candy', 'd': 'dragon', 'e': 'electric', 10: 100, 3.14: 'pi'}\n"
     ]
    }
   ],
   "source": [
    "items = {'b': 'band', 'c': 'cat', 'd': 'dragon'}\n",
    "print(items)\n",
    "\n",
    "items['e'] = 'electric'\n",
    "items[10] = 100\n",
    "items[3.14] = 'pi'\n",
    "# 'e', 10, 3.14 不存在，直接新增\n",
    "print(items)\n",
    "\n",
    "items['c'] = 'candy'\n",
    "items['b'] = 'be nice'\n",
    "# 'c', 'b' 都存在，修改數值\n",
    "print(items)"
   ]
  },
  {
   "cell_type": "markdown",
   "metadata": {},
   "source": [
    "#### 刪除\n",
    "\n",
    "Python 中可以使用 `del` 關鍵字來刪除變數，也可以從 dict 中刪除某個 key"
   ]
  },
  {
   "cell_type": "code",
   "execution_count": 9,
   "metadata": {},
   "outputs": [
    {
     "name": "stdout",
     "output_type": "stream",
     "text": [
      "10\n"
     ]
    },
    {
     "ename": "NameError",
     "evalue": "name 'a' is not defined",
     "output_type": "error",
     "traceback": [
      "\u001b[0;31m---------------------------------------------------------------------------\u001b[0m",
      "\u001b[0;31mNameError\u001b[0m                                 Traceback (most recent call last)",
      "\u001b[0;32m<ipython-input-9-1aad90c7d7c3>\u001b[0m in \u001b[0;36m<module>\u001b[0;34m\u001b[0m\n\u001b[1;32m      2\u001b[0m \u001b[0mprint\u001b[0m\u001b[0;34m(\u001b[0m\u001b[0ma\u001b[0m\u001b[0;34m)\u001b[0m\u001b[0;34m\u001b[0m\u001b[0;34m\u001b[0m\u001b[0m\n\u001b[1;32m      3\u001b[0m \u001b[0;32mdel\u001b[0m \u001b[0ma\u001b[0m\u001b[0;34m\u001b[0m\u001b[0;34m\u001b[0m\u001b[0m\n\u001b[0;32m----> 4\u001b[0;31m \u001b[0mprint\u001b[0m\u001b[0;34m(\u001b[0m\u001b[0ma\u001b[0m\u001b[0;34m)\u001b[0m\u001b[0;34m\u001b[0m\u001b[0;34m\u001b[0m\u001b[0m\n\u001b[0m",
      "\u001b[0;31mNameError\u001b[0m: name 'a' is not defined"
     ]
    }
   ],
   "source": [
    "a = 10\n",
    "print(a)\n",
    "del a\n",
    "print(a)"
   ]
  },
  {
   "cell_type": "code",
   "execution_count": 10,
   "metadata": {},
   "outputs": [
    {
     "name": "stdout",
     "output_type": "stream",
     "text": [
      "{'mail': 'apple@google.com', 'sender': 'm094020055@student.nsysu.edu.tw', 'note': 'm094020055@student.nsysu.edu.tw', 'receiver': 'm094020055@student.nsysu.edu.tw'}\n",
      "{'mail': 'apple@google.com', 'note': 'm094020055@student.nsysu.edu.tw', 'receiver': 'm094020055@student.nsysu.edu.tw'}\n"
     ]
    }
   ],
   "source": [
    "print(d)\n",
    "del d['sender']\n",
    "print(d)"
   ]
  },
  {
   "cell_type": "markdown",
   "metadata": {},
   "source": [
    "#### 與 tuple 混用\n",
    "\n",
    "dict 的 key 必須是**「不可修改」**，所以 list 不能作為 dict 的 key  \n",
    "tuple 和 string 則可以作為 dict 的 key 使用"
   ]
  },
  {
   "cell_type": "code",
   "execution_count": 12,
   "metadata": {},
   "outputs": [
    {
     "name": "stdout",
     "output_type": "stream",
     "text": [
      "{'a': 'apple'}\n"
     ]
    },
    {
     "ename": "TypeError",
     "evalue": "unhashable type: 'list'",
     "output_type": "error",
     "traceback": [
      "\u001b[0;31m---------------------------------------------------------------------------\u001b[0m",
      "\u001b[0;31mTypeError\u001b[0m                                 Traceback (most recent call last)",
      "\u001b[0;32m<ipython-input-12-d1ffb93e8f4a>\u001b[0m in \u001b[0;36m<module>\u001b[0;34m\u001b[0m\n\u001b[1;32m      3\u001b[0m \u001b[0mprint\u001b[0m\u001b[0;34m(\u001b[0m\u001b[0mdd\u001b[0m\u001b[0;34m)\u001b[0m\u001b[0;34m\u001b[0m\u001b[0;34m\u001b[0m\u001b[0m\n\u001b[1;32m      4\u001b[0m \u001b[0;31m# ！！！這個會出錯！！！\u001b[0m\u001b[0;34m\u001b[0m\u001b[0;34m\u001b[0m\u001b[0;34m\u001b[0m\u001b[0m\n\u001b[0;32m----> 5\u001b[0;31m \u001b[0mdd\u001b[0m\u001b[0;34m[\u001b[0m\u001b[0;34m[\u001b[0m\u001b[0;36m1\u001b[0m\u001b[0;34m,\u001b[0m \u001b[0;36m3\u001b[0m\u001b[0;34m]\u001b[0m\u001b[0;34m]\u001b[0m \u001b[0;34m=\u001b[0m \u001b[0;34m'1340'\u001b[0m\u001b[0;34m\u001b[0m\u001b[0;34m\u001b[0m\u001b[0m\n\u001b[0m",
      "\u001b[0;31mTypeError\u001b[0m: unhashable type: 'list'"
     ]
    }
   ],
   "source": [
    "dd = {}\n",
    "dd['a'] = 'apple'\n",
    "print(dd)\n",
    "# ！！！這個會出錯！！！\n",
    "dd[[1, 3]] = '1340'"
   ]
  },
  {
   "cell_type": "code",
   "execution_count": 18,
   "metadata": {},
   "outputs": [
    {
     "name": "stdout",
     "output_type": "stream",
     "text": [
      "{(1, 3): '1340', (1, 'apple', (0.5, 3.14)): 'strange'}\n"
     ]
    }
   ],
   "source": [
    "dd = {}\n",
    "\n",
    "# ！！！這個就可以！！！\n",
    "dd[(1, 3)] = '1340'\n",
    "dd[(1, 'apple', (0.5, 3.14))] = 'strange'\n",
    "\n",
    "print(dd)"
   ]
  },
  {
   "cell_type": "markdown",
   "metadata": {},
   "source": [
    "### Lab 練習 (100 points)\n",
    "\n",
    "請開啟一份新的 .ipynb 筆記檔案, 檔名為「學號_L05.ipynb」，寫完上傳至網大.\n",
    "\n",
    "Question: 請寫一個計算機，用 dict 儲存數個暫存數字（例如：n1 為 0, n2 為 10）。這個程式能不停輸入指令、執行指令並輸出結果，直到輸入 end 為止\n",
    "\n",
    "基本指令（70 分）如下：\n",
    "- `printall` 顯示所有暫存數字\n",
    "- `add NAME NUMBER` 將 dict 中 NAME 的數值**加上** NUMBER，並顯示運算式\n",
    "- `mul NAME NUMBER` 將 dict 中 NAME 的數值**乘上** NUMBER，並顯示運算式\n",
    "- `end` 結束程式\n",
    "\n",
    "進階指令（30 分）如下：\n",
    "- `delall` 刪除 dict 中所有暫存數字\n",
    "- `new NAME` 在 dict 中建立 NAME 變數，初始化為 0\n",
    "- `del NAME` 刪除 dict 中叫做 NAME 的變數"
   ]
  },
  {
   "cell_type": "markdown",
   "metadata": {},
   "source": [
    "這裡補充一個東東 `str.split(CHAR)`  \n",
    "他會把 string 用給定的 CHAR 切割成陣列回傳\n",
    "\n",
    "```python\n",
    "s = 'abc 2 zzz'\n",
    "print(s.split(' ')) # => ['abc', '2', 'zzz']\n",
    "\n",
    "s = '3_13_dd_ddfdf3'\n",
    "print(s.split('_')) # => ['3', '13', 'dd', 'ddfdf3']\n",
    "\n",
    "s = 'a,b,c,13'\n",
    "print(s.split(',')) # => ['a', 'b', 'c', '13']\n",
    "```"
   ]
  },
  {
   "cell_type": "markdown",
   "metadata": {},
   "source": [
    "**給你照抄和提示的扣：**\n",
    "```python\n",
    "data = {\n",
    "    'n1': 0,\n",
    "    'n2': 10\n",
    "}\n",
    "\n",
    "while True:\n",
    "    inputs = input('Please input your operation:')\n",
    "    inputs = inputs.split(' ')\n",
    "    \n",
    "    # using unpacking to get each parameters\n",
    "    if len(inputs) == 1: # printall, delall\n",
    "        op = inputs[0]\n",
    "    elif len(inputs) == 2: # del, new\n",
    "        ...\n",
    "        # unpacking inputs to op and name variables\n",
    "    elif len(inputs) == 3: # add, mul\n",
    "        ...\n",
    "        # unpacking ...\n",
    "    \n",
    "    # handle operation logic\n",
    "    if op == 'printall':\n",
    "        print(data)\n",
    "    elif op == 'delall':\n",
    "        ...\n",
    "    elif op == 'del':\n",
    "        ...\n",
    "    elif op == 'new':\n",
    "        ...\n",
    "    elif op == 'add':\n",
    "        ...\n",
    "        # calculate\n",
    "        # print \"old_num + number = new_num\"\n",
    "    elif op == 'mul':\n",
    "        ...\n",
    "        # same as add\n",
    "    elif op == 'end':\n",
    "        break\n",
    "```\n",
    "\n",
    "**Bonus：再用類似的邏輯實現一個你覺得應該加入的計算機功能，越進階分數越高（20 分）**"
   ]
  },
  {
   "cell_type": "markdown",
   "metadata": {},
   "source": [
    "#### Input and Output samples:\n",
    "\n",
    "請按照以下測試  \n",
    "`new n3` 前為基本測試\n",
    "\n",
    "<div>\n",
    "    <img src=\"https://i.imgur.com/epDd9QL.png\" style=\"width: 70%; margin: 0 15%;\">\n",
    "</div>"
   ]
  }
 ],
 "metadata": {
  "kernelspec": {
   "display_name": "Python 3",
   "language": "python",
   "name": "python3"
  },
  "language_info": {
   "codemirror_mode": {
    "name": "ipython",
    "version": 3
   },
   "file_extension": ".py",
   "mimetype": "text/x-python",
   "name": "python",
   "nbconvert_exporter": "python",
   "pygments_lexer": "ipython3",
   "version": "3.10.2"
  }
 },
 "nbformat": 4,
 "nbformat_minor": 4
}
