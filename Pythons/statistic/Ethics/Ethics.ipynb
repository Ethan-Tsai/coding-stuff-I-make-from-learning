{
 "cells": [
  {
   "cell_type": "code",
   "execution_count": 206,
   "metadata": {},
   "outputs": [],
   "source": [
    "import numpy as np\n",
    "import pandas as pd\n",
    "import matplotlib as mpl\n",
    "from scipy import stats"
   ]
  },
  {
   "cell_type": "code",
   "execution_count": 207,
   "metadata": {},
   "outputs": [
    {
     "data": {
      "text/html": [
       "<div>\n",
       "<style scoped>\n",
       "    .dataframe tbody tr th:only-of-type {\n",
       "        vertical-align: middle;\n",
       "    }\n",
       "\n",
       "    .dataframe tbody tr th {\n",
       "        vertical-align: top;\n",
       "    }\n",
       "\n",
       "    .dataframe thead th {\n",
       "        text-align: right;\n",
       "    }\n",
       "</style>\n",
       "<table border=\"1\" class=\"dataframe\">\n",
       "  <thead>\n",
       "    <tr style=\"text-align: right;\">\n",
       "      <th></th>\n",
       "      <th>PREVUSE</th>\n",
       "      <th>SPEC</th>\n",
       "      <th>YRSPRAC</th>\n",
       "      <th>EDHRS</th>\n",
       "      <th>FUTUREUSE</th>\n",
       "      <th>ECTRAIN</th>\n",
       "      <th>ECEDUC</th>\n",
       "      <th>ECMORAL</th>\n",
       "      <th>ECFULL</th>\n",
       "    </tr>\n",
       "  </thead>\n",
       "  <tbody>\n",
       "    <tr>\n",
       "      <th>0</th>\n",
       "      <td>NEVER</td>\n",
       "      <td>SURG</td>\n",
       "      <td>6</td>\n",
       "      <td>6</td>\n",
       "      <td>NO</td>\n",
       "      <td>.</td>\n",
       "      <td>.</td>\n",
       "      <td>.</td>\n",
       "      <td>.</td>\n",
       "    </tr>\n",
       "    <tr>\n",
       "      <th>1</th>\n",
       "      <td>NEVER</td>\n",
       "      <td>MED</td>\n",
       "      <td>27</td>\n",
       "      <td>0</td>\n",
       "      <td>NO</td>\n",
       "      <td>.</td>\n",
       "      <td>.</td>\n",
       "      <td>.</td>\n",
       "      <td>.</td>\n",
       "    </tr>\n",
       "    <tr>\n",
       "      <th>2</th>\n",
       "      <td>NEVER</td>\n",
       "      <td>MED</td>\n",
       "      <td>7</td>\n",
       "      <td>5</td>\n",
       "      <td>NO</td>\n",
       "      <td>1</td>\n",
       "      <td>1</td>\n",
       "      <td>5</td>\n",
       "      <td>5</td>\n",
       "    </tr>\n",
       "    <tr>\n",
       "      <th>3</th>\n",
       "      <td>NEVER</td>\n",
       "      <td>SURG</td>\n",
       "      <td>25</td>\n",
       "      <td>6</td>\n",
       "      <td>NO</td>\n",
       "      <td>4</td>\n",
       "      <td>4</td>\n",
       "      <td>2</td>\n",
       "      <td>2</td>\n",
       "    </tr>\n",
       "    <tr>\n",
       "      <th>4</th>\n",
       "      <td>NEVER</td>\n",
       "      <td>SURG</td>\n",
       "      <td>1</td>\n",
       "      <td>12</td>\n",
       "      <td>NO</td>\n",
       "      <td>3</td>\n",
       "      <td>3</td>\n",
       "      <td>2</td>\n",
       "      <td>3</td>\n",
       "    </tr>\n",
       "    <tr>\n",
       "      <th>...</th>\n",
       "      <td>...</td>\n",
       "      <td>...</td>\n",
       "      <td>...</td>\n",
       "      <td>...</td>\n",
       "      <td>...</td>\n",
       "      <td>...</td>\n",
       "      <td>...</td>\n",
       "      <td>...</td>\n",
       "      <td>...</td>\n",
       "    </tr>\n",
       "    <tr>\n",
       "      <th>113</th>\n",
       "      <td>NEVER</td>\n",
       "      <td>MED</td>\n",
       "      <td>5</td>\n",
       "      <td>30</td>\n",
       "      <td>YES</td>\n",
       "      <td>5</td>\n",
       "      <td>5</td>\n",
       "      <td>3</td>\n",
       "      <td>1</td>\n",
       "    </tr>\n",
       "    <tr>\n",
       "      <th>114</th>\n",
       "      <td>NEVER</td>\n",
       "      <td>SURG</td>\n",
       "      <td>.</td>\n",
       "      <td>.</td>\n",
       "      <td>YES</td>\n",
       "      <td>3</td>\n",
       "      <td>2</td>\n",
       "      <td>4</td>\n",
       "      <td>2</td>\n",
       "    </tr>\n",
       "    <tr>\n",
       "      <th>115</th>\n",
       "      <td>USED</td>\n",
       "      <td>MED</td>\n",
       "      <td>20</td>\n",
       "      <td>4</td>\n",
       "      <td>YES</td>\n",
       "      <td>4</td>\n",
       "      <td>4</td>\n",
       "      <td>1</td>\n",
       "      <td>1</td>\n",
       "    </tr>\n",
       "    <tr>\n",
       "      <th>116</th>\n",
       "      <td>NEVER</td>\n",
       "      <td>MED</td>\n",
       "      <td>14</td>\n",
       "      <td>.</td>\n",
       "      <td>YES</td>\n",
       "      <td>3</td>\n",
       "      <td>3</td>\n",
       "      <td>3</td>\n",
       "      <td>3</td>\n",
       "    </tr>\n",
       "    <tr>\n",
       "      <th>117</th>\n",
       "      <td>NEVER</td>\n",
       "      <td>SURG</td>\n",
       "      <td>14</td>\n",
       "      <td>21</td>\n",
       "      <td>YES</td>\n",
       "      <td>3</td>\n",
       "      <td>2</td>\n",
       "      <td>4</td>\n",
       "      <td>4</td>\n",
       "    </tr>\n",
       "  </tbody>\n",
       "</table>\n",
       "<p>118 rows × 9 columns</p>\n",
       "</div>"
      ],
      "text/plain": [
       "    PREVUSE  SPEC YRSPRAC EDHRS FUTUREUSE ECTRAIN ECEDUC ECMORAL ECFULL\n",
       "0     NEVER  SURG       6     6        NO       .      .       .      .\n",
       "1     NEVER   MED      27     0        NO       .      .       .      .\n",
       "2     NEVER   MED       7     5        NO       1      1       5      5\n",
       "3     NEVER  SURG      25     6        NO       4      4       2      2\n",
       "4     NEVER  SURG       1    12        NO       3      3       2      3\n",
       "..      ...   ...     ...   ...       ...     ...    ...     ...    ...\n",
       "113   NEVER   MED       5    30       YES       5      5       3      1\n",
       "114   NEVER  SURG       .     .       YES       3      2       4      2\n",
       "115    USED   MED      20     4       YES       4      4       1      1\n",
       "116   NEVER   MED      14     .       YES       3      3       3      3\n",
       "117   NEVER  SURG      14    21       YES       3      2       4      4\n",
       "\n",
       "[118 rows x 9 columns]"
      ]
     },
     "execution_count": 207,
     "metadata": {},
     "output_type": "execute_result"
    }
   ],
   "source": [
    "df = pd.read_excel('files/ETHICS.xlsx')\n",
    "df"
   ]
  },
  {
   "cell_type": "markdown",
   "metadata": {},
   "source": [
    "### a. Graphic of prevuse is used or not"
   ]
  },
  {
   "cell_type": "code",
   "execution_count": 10,
   "metadata": {},
   "outputs": [
    {
     "data": {
      "text/plain": [
       "Text(0.5, 1.0, 'Prevuse is used or not')"
      ]
     },
     "execution_count": 10,
     "metadata": {},
     "output_type": "execute_result"
    },
    {
     "data": {
      "image/png": "[encoded data removed]",
      "text/plain": [
       "<Figure size 432x288 with 1 Axes>"
      ]
     },
     "metadata": {},
     "output_type": "display_data"
    }
   ],
   "source": [
    "fig1 = df['PREVUSE'].value_counts().plot(kind='pie', autopct='%1.1f%%')\n",
    "fig1.set_title('Prevuse is used or not')"
   ]
  },
  {
   "cell_type": "markdown",
   "metadata": {},
   "source": [
    "### b. Graphic of will not use in future"
   ]
  },
  {
   "cell_type": "code",
   "execution_count": 11,
   "metadata": {},
   "outputs": [
    {
     "data": {
      "text/plain": [
       "Text(0.5, 1.0, 'Prevuse will be used or not')"
      ]
     },
     "execution_count": 11,
     "metadata": {},
     "output_type": "execute_result"
    },
    {
     "data": {
      "image/png": "[encoded data removed]",
      "text/plain": [
       "<Figure size 432x288 with 1 Axes>"
      ]
     },
     "metadata": {},
     "output_type": "display_data"
    }
   ],
   "source": [
    "fig2 = df['FUTUREUSE'].value_counts().plot(kind='pie', autopct='%1.1f%%')\n",
    "fig2.set_title('Prevuse will be used or not')"
   ]
  },
  {
   "cell_type": "markdown",
   "metadata": {},
   "source": [
    "### c. Graphic compare SURG and MED about preuse or not"
   ]
  },
  {
   "cell_type": "code",
   "execution_count": 78,
   "metadata": {},
   "outputs": [
    {
     "data": {
      "text/plain": [
       "Text(0.5, 1.0, 'SURG')"
      ]
     },
     "execution_count": 78,
     "metadata": {},
     "output_type": "execute_result"
    },
    {
     "data": {
      "image/png": "[encoded data removed]",
      "text/plain": [
       "<Figure size 432x288 with 2 Axes>"
      ]
     },
     "metadata": {},
     "output_type": "display_data"
    }
   ],
   "source": [
    "fig3, (ax1,ax2) = mpl.pyplot.subplots(1,2)\n",
    "\n",
    "fig3.suptitle('Pie chart of preuse')\n",
    "\n",
    "labels = ['NEVER', 'USED']\n",
    "\n",
    "ax1.pie(df[df['SPEC'] == 'MED']['PREVUSE'].value_counts(), autopct='%1.1f%%', labels=labels)\n",
    "ax1.set_title('MED')\n",
    "\n",
    "\n",
    "ax2.pie(df[df['SPEC'] == 'SURG']['PREVUSE'].value_counts(), autopct='%1.1f%%', labels=labels)\n",
    "ax2.set_title('SURG')"
   ]
  },
  {
   "cell_type": "markdown",
   "metadata": {},
   "source": [
    "### d. Graphic compare SURG and MED will not use in future"
   ]
  },
  {
   "cell_type": "code",
   "execution_count": 77,
   "metadata": {},
   "outputs": [
    {
     "data": {
      "text/plain": [
       "Text(0.5, 1.0, 'SURG')"
      ]
     },
     "execution_count": 77,
     "metadata": {},
     "output_type": "execute_result"
    },
    {
     "data": {
      "image/png": "[encoded data removed]",
      "text/plain": [
       "<Figure size 432x288 with 2 Axes>"
      ]
     },
     "metadata": {},
     "output_type": "display_data"
    }
   ],
   "source": [
    "fig4, (ax1,ax2) = mpl.pyplot.subplots(1,2)\n",
    "\n",
    "fig4.suptitle('Pie chart of furtureuse')\n",
    "\n",
    "labels = ['YES', 'NO']\n",
    "\n",
    "ax1.pie(df[df['SPEC'] == 'MED']['FUTUREUSE'].value_counts(), autopct='%1.1f%%', labels=labels)\n",
    "ax1.set_title('MED')\n",
    "\n",
    "\n",
    "ax2.pie(df[df['SPEC'] == 'SURG']['FUTUREUSE'].value_counts(), autopct='%1.1f%%', labels=labels)\n",
    "ax2.set_title('SURG')"
   ]
  },
  {
   "cell_type": "markdown",
   "metadata": {},
   "source": [
    "### e. Years in pratices for two group of doctors"
   ]
  },
  {
   "cell_type": "code",
   "execution_count": 136,
   "metadata": {},
   "outputs": [
    {
     "data": {
      "text/plain": [
       "Text(0.5, 1.0, 'YES')"
      ]
     },
     "execution_count": 136,
     "metadata": {},
     "output_type": "execute_result"
    },
    {
     "data": {
      "image/png": "[encoded data removed]",
      "text/plain": [
       "<Figure size 432x288 with 2 Axes>"
      ]
     },
     "metadata": {
      "needs_background": "light"
     },
     "output_type": "display_data"
    }
   ],
   "source": [
    "from matplotlib.pyplot import xlim\n",
    "\n",
    "\n",
    "fig5, (ax1,ax2) = mpl.pyplot.subplots(1,2)\n",
    "\n",
    "fig5.suptitle('Histogram of YRSPRAC')\n",
    "\n",
    "labels = ['YES', 'NO']\n",
    "\n",
    "\n",
    "data = df[(df['FUTUREUSE'] == 'NO') & (df['YRSPRAC'] != '.')]['YRSPRAC']\n",
    "step = 2\n",
    "start = (min(data) / step) * step\n",
    "stop = max(data) + step\n",
    "bin_edges = np.arange(start, stop, step=step)\n",
    "\n",
    "ax1.hist(data, bins=bin_edges, ec='white', weights=np.ones(len(data)) / len(data))\n",
    "ax1.set_xlabel('Years have worked')\n",
    "ax1.set_ylabel('Percentage')\n",
    "ax1.set_title('NO')\n",
    "\n",
    "data = df[(df['FUTUREUSE'] == 'YES') & (df['YRSPRAC'] != '.')]['YRSPRAC']\n",
    "step = 2\n",
    "start = (min(data) / step) * step\n",
    "stop = max(data) + step\n",
    "bin_edges = np.arange(start, stop, step=step)\n",
    "\n",
    "ax2.hist(data, bins=bin_edges, ec='white', weights=np.ones(len(data)) / len(data))\n",
    "ax2.set_ylim([0, 0.25])\n",
    "ax2.set_xlabel('Years have worked')\n",
    "ax2.set_ylabel('Percentage')\n",
    "ax2.set_title('YES')"
   ]
  },
  {
   "cell_type": "markdown",
   "metadata": {},
   "source": [
    "- 38% doctors more than 20 years said \"no\"\n",
    "- 19% doctors more than 20 years said \"yes\"\n",
    "\n",
    "This support the research saying that the older, more experienced doctors will be less likely to use ethics consultation in the furture."
   ]
  },
  {
   "cell_type": "markdown",
   "metadata": {},
   "source": [
    "### f. Mean Median, and Mode for the length of times in practice"
   ]
  },
  {
   "cell_type": "code",
   "execution_count": 176,
   "metadata": {},
   "outputs": [
    {
     "data": {
      "text/html": [
       "<div>\n",
       "<style scoped>\n",
       "    .dataframe tbody tr th:only-of-type {\n",
       "        vertical-align: middle;\n",
       "    }\n",
       "\n",
       "    .dataframe tbody tr th {\n",
       "        vertical-align: top;\n",
       "    }\n",
       "\n",
       "    .dataframe thead th {\n",
       "        text-align: right;\n",
       "    }\n",
       "</style>\n",
       "<table border=\"1\" class=\"dataframe\">\n",
       "  <thead>\n",
       "    <tr style=\"text-align: right;\">\n",
       "      <th></th>\n",
       "      <th>Variable</th>\n",
       "      <th>N</th>\n",
       "      <th>N*</th>\n",
       "      <th>Mean</th>\n",
       "      <th>Minimum</th>\n",
       "      <th>Median</th>\n",
       "      <th>Maximum</th>\n",
       "      <th>Mode</th>\n",
       "      <th>Mode Amounts</th>\n",
       "    </tr>\n",
       "  </thead>\n",
       "  <tbody>\n",
       "    <tr>\n",
       "      <th>0</th>\n",
       "      <td>YRSPRAC</td>\n",
       "      <td>112</td>\n",
       "      <td>6</td>\n",
       "      <td>14.598214</td>\n",
       "      <td>1</td>\n",
       "      <td>14.0</td>\n",
       "      <td>40</td>\n",
       "      <td>[14, 20, 25]</td>\n",
       "      <td>[9]</td>\n",
       "    </tr>\n",
       "  </tbody>\n",
       "</table>\n",
       "</div>"
      ],
      "text/plain": [
       "  Variable    N  N*       Mean  Minimum  Median  Maximum          Mode  \\\n",
       "0  YRSPRAC  112   6  14.598214        1    14.0       40  [14, 20, 25]   \n",
       "\n",
       "  Mode Amounts  \n",
       "0          [9]  "
      ]
     },
     "execution_count": 176,
     "metadata": {},
     "output_type": "execute_result"
    }
   ],
   "source": [
    "df_st = pd.DataFrame({\n",
    "    'Variable': ['YRSPRAC'],\n",
    "    'N': [df[(df['YRSPRAC'] != '.')]['YRSPRAC'].count()],\n",
    "    'N*': [df[(df['YRSPRAC'] == '.')]['YRSPRAC'].count()],\n",
    "    'Mean': [df[(df['YRSPRAC'] != '.')]['YRSPRAC'].mean()],\n",
    "    'Minimum': [df[(df['YRSPRAC'] != '.')]['YRSPRAC'].min()],\n",
    "    'Median': [df[(df['YRSPRAC'] != '.')]['YRSPRAC'].median()],\n",
    "    'Maximum': [df[(df['YRSPRAC'] != '.')]['YRSPRAC'].max()],\n",
    "    'Mode': [df[(df['YRSPRAC'] != '.')]['YRSPRAC'].mode().to_list()],\n",
    "    'Mode Amounts': [stats.mode(df[(df['YRSPRAC'] != '.')]['YRSPRAC'])[1]],\n",
    "})\n",
    "\n",
    "df_st"
   ]
  },
  {
   "cell_type": "markdown",
   "metadata": {},
   "source": [
    "### g. & h. Mean Median, and Mode for the length of times in practice split by FUTUREUSE"
   ]
  },
  {
   "cell_type": "code",
   "execution_count": 186,
   "metadata": {},
   "outputs": [
    {
     "data": {
      "text/html": [
       "<div>\n",
       "<style scoped>\n",
       "    .dataframe tbody tr th:only-of-type {\n",
       "        vertical-align: middle;\n",
       "    }\n",
       "\n",
       "    .dataframe tbody tr th {\n",
       "        vertical-align: top;\n",
       "    }\n",
       "\n",
       "    .dataframe thead th {\n",
       "        text-align: right;\n",
       "    }\n",
       "</style>\n",
       "<table border=\"1\" class=\"dataframe\">\n",
       "  <thead>\n",
       "    <tr style=\"text-align: right;\">\n",
       "      <th></th>\n",
       "      <th>Variable</th>\n",
       "      <th>FUTUREUSE</th>\n",
       "      <th>N</th>\n",
       "      <th>N*</th>\n",
       "      <th>Mean</th>\n",
       "      <th>Minimum</th>\n",
       "      <th>Median</th>\n",
       "      <th>Maximum</th>\n",
       "      <th>Mode</th>\n",
       "      <th>Mode Amounts</th>\n",
       "    </tr>\n",
       "  </thead>\n",
       "  <tbody>\n",
       "    <tr>\n",
       "      <th>0</th>\n",
       "      <td>YRSPRAC</td>\n",
       "      <td>YES</td>\n",
       "      <td>91</td>\n",
       "      <td>4</td>\n",
       "      <td>14.175824</td>\n",
       "      <td>1</td>\n",
       "      <td>14.0</td>\n",
       "      <td>40</td>\n",
       "      <td>[14, 20]</td>\n",
       "      <td>[8]</td>\n",
       "    </tr>\n",
       "    <tr>\n",
       "      <th>1</th>\n",
       "      <td>YRSPRAC</td>\n",
       "      <td>NO</td>\n",
       "      <td>21</td>\n",
       "      <td>2</td>\n",
       "      <td>16.428571</td>\n",
       "      <td>1</td>\n",
       "      <td>18.0</td>\n",
       "      <td>35</td>\n",
       "      <td>[25]</td>\n",
       "      <td>[5]</td>\n",
       "    </tr>\n",
       "  </tbody>\n",
       "</table>\n",
       "</div>"
      ],
      "text/plain": [
       "  Variable FUTUREUSE   N  N*       Mean  Minimum  Median  Maximum      Mode  \\\n",
       "0  YRSPRAC       YES  91   4  14.175824        1    14.0       40  [14, 20]   \n",
       "1  YRSPRAC        NO  21   2  16.428571        1    18.0       35      [25]   \n",
       "\n",
       "  Mode Amounts  \n",
       "0          [8]  \n",
       "1          [5]  "
      ]
     },
     "execution_count": 186,
     "metadata": {},
     "output_type": "execute_result"
    }
   ],
   "source": [
    "df_yes = df[df['FUTUREUSE'] == 'YES']\n",
    "df_no = df[df['FUTUREUSE'] == 'NO']\n",
    "\n",
    "df_st = pd.DataFrame({\n",
    "    'Variable': 'YRSPRAC',\n",
    "    'FUTUREUSE': ['YES', 'NO'],\n",
    "    'N': [df_yes[(df_yes['YRSPRAC'] != '.')]['YRSPRAC'].count(), df_no[(df_no['YRSPRAC'] != '.')]['YRSPRAC'].count()],\n",
    "    'N*': [df_yes[(df_yes['YRSPRAC'] == '.')]['YRSPRAC'].count(), df_no[(df_no['YRSPRAC'] == '.')]['YRSPRAC'].count()],\n",
    "    'Mean': [df_yes[(df_yes['YRSPRAC'] != '.')]['YRSPRAC'].mean(), df_no[(df_no['YRSPRAC'] != '.')]['YRSPRAC'].mean()],\n",
    "    'Minimum': [df_yes[(df_yes['YRSPRAC'] != '.')]['YRSPRAC'].min(), df_no[(df_no['YRSPRAC'] != '.')]['YRSPRAC'].min()],\n",
    "    'Median': [df_yes[(df_yes['YRSPRAC'] != '.')]['YRSPRAC'].median(), df_no[(df_no['YRSPRAC'] != '.')]['YRSPRAC'].median()],\n",
    "    'Maximum': [df_yes[(df_yes['YRSPRAC'] != '.')]['YRSPRAC'].max(), df_no[(df_no['YRSPRAC'] != '.')]['YRSPRAC'].max()],\n",
    "    'Mode': [df_yes[(df_yes['YRSPRAC'] != '.')]['YRSPRAC'].mode().to_list(), df_no[(df_no['YRSPRAC'] != '.')]['YRSPRAC'].mode().to_list()],\n",
    "    'Mode Amounts': [stats.mode(df_yes[(df_yes['YRSPRAC'] != '.')]['YRSPRAC'])[1], stats.mode(df_no[(df_no['YRSPRAC'] != '.')]['YRSPRAC'])[1]],\n",
    "})\n",
    "\n",
    "df_st"
   ]
  },
  {
   "cell_type": "markdown",
   "metadata": {},
   "source": [
    "### i. Use g, h to comment the medical researchers' theory"
   ]
  },
  {
   "cell_type": "markdown",
   "metadata": {},
   "source": [
    "The mean, median and mode who will not use in furture are higher than those who will use which inference the same result as the researchers' results"
   ]
  },
  {
   "cell_type": "markdown",
   "metadata": {},
   "source": [
    "### j. Range, variance and standard deviaton for the length of times in practice"
   ]
  },
  {
   "cell_type": "code",
   "execution_count": 195,
   "metadata": {},
   "outputs": [
    {
     "data": {
      "text/html": [
       "<div>\n",
       "<style scoped>\n",
       "    .dataframe tbody tr th:only-of-type {\n",
       "        vertical-align: middle;\n",
       "    }\n",
       "\n",
       "    .dataframe tbody tr th {\n",
       "        vertical-align: top;\n",
       "    }\n",
       "\n",
       "    .dataframe thead th {\n",
       "        text-align: right;\n",
       "    }\n",
       "</style>\n",
       "<table border=\"1\" class=\"dataframe\">\n",
       "  <thead>\n",
       "    <tr style=\"text-align: right;\">\n",
       "      <th></th>\n",
       "      <th>Variable</th>\n",
       "      <th>N</th>\n",
       "      <th>N*</th>\n",
       "      <th>Mean</th>\n",
       "      <th>StDev</th>\n",
       "      <th>Variance</th>\n",
       "      <th>Range</th>\n",
       "    </tr>\n",
       "  </thead>\n",
       "  <tbody>\n",
       "    <tr>\n",
       "      <th>0</th>\n",
       "      <td>YRSPRAC</td>\n",
       "      <td>112</td>\n",
       "      <td>6</td>\n",
       "      <td>14.598214</td>\n",
       "      <td>9.160687</td>\n",
       "      <td>83.918195</td>\n",
       "      <td>39</td>\n",
       "    </tr>\n",
       "  </tbody>\n",
       "</table>\n",
       "</div>"
      ],
      "text/plain": [
       "  Variable    N  N*       Mean     StDev   Variance  Range\n",
       "0  YRSPRAC  112   6  14.598214  9.160687  83.918195     39"
      ]
     },
     "execution_count": 195,
     "metadata": {},
     "output_type": "execute_result"
    }
   ],
   "source": [
    "df_st = pd.DataFrame({\n",
    "    'Variable': ['YRSPRAC'],\n",
    "    'N': [df[(df['YRSPRAC'] != '.')]['YRSPRAC'].count()],\n",
    "    'N*': [df[(df['YRSPRAC'] == '.')]['YRSPRAC'].count()],\n",
    "    'Mean': [df[(df['YRSPRAC'] != '.')]['YRSPRAC'].mean()],\n",
    "    'StDev': [df[(df['YRSPRAC'] != '.')]['YRSPRAC'].std()],\n",
    "    'Variance': [df[(df['YRSPRAC'] != '.')]['YRSPRAC'].var()],\n",
    "    'Range': [df[(df['YRSPRAC'] != '.')]['YRSPRAC'].max() - df[(df['YRSPRAC'] != '.')]['YRSPRAC'].min()]\n",
    "})\n",
    "\n",
    "df_st"
   ]
  },
  {
   "cell_type": "markdown",
   "metadata": {},
   "source": [
    "### k. & l. Range, variance and standard deviaton for the length of times in practice split by FUTUREUSE"
   ]
  },
  {
   "cell_type": "code",
   "execution_count": 199,
   "metadata": {},
   "outputs": [
    {
     "data": {
      "text/html": [
       "<div>\n",
       "<style scoped>\n",
       "    .dataframe tbody tr th:only-of-type {\n",
       "        vertical-align: middle;\n",
       "    }\n",
       "\n",
       "    .dataframe tbody tr th {\n",
       "        vertical-align: top;\n",
       "    }\n",
       "\n",
       "    .dataframe thead th {\n",
       "        text-align: right;\n",
       "    }\n",
       "</style>\n",
       "<table border=\"1\" class=\"dataframe\">\n",
       "  <thead>\n",
       "    <tr style=\"text-align: right;\">\n",
       "      <th></th>\n",
       "      <th>Variable</th>\n",
       "      <th>FUTUREUSE</th>\n",
       "      <th>N</th>\n",
       "      <th>N*</th>\n",
       "      <th>Mean</th>\n",
       "      <th>StDev</th>\n",
       "      <th>Variance</th>\n",
       "      <th>Range</th>\n",
       "    </tr>\n",
       "  </thead>\n",
       "  <tbody>\n",
       "    <tr>\n",
       "      <th>0</th>\n",
       "      <td>YRSPRAC</td>\n",
       "      <td>YES</td>\n",
       "      <td>91</td>\n",
       "      <td>4</td>\n",
       "      <td>14.175824</td>\n",
       "      <td>8.949976</td>\n",
       "      <td>80.102076</td>\n",
       "      <td>39</td>\n",
       "    </tr>\n",
       "    <tr>\n",
       "      <th>1</th>\n",
       "      <td>YRSPRAC</td>\n",
       "      <td>NO</td>\n",
       "      <td>21</td>\n",
       "      <td>2</td>\n",
       "      <td>16.428571</td>\n",
       "      <td>10.047743</td>\n",
       "      <td>100.957143</td>\n",
       "      <td>34</td>\n",
       "    </tr>\n",
       "  </tbody>\n",
       "</table>\n",
       "</div>"
      ],
      "text/plain": [
       "  Variable FUTUREUSE   N  N*       Mean      StDev    Variance  Range\n",
       "0  YRSPRAC       YES  91   4  14.175824   8.949976   80.102076     39\n",
       "1  YRSPRAC        NO  21   2  16.428571  10.047743  100.957143     34"
      ]
     },
     "execution_count": 199,
     "metadata": {},
     "output_type": "execute_result"
    }
   ],
   "source": [
    "df_yes = df[df['FUTUREUSE'] == 'YES']\n",
    "df_no = df[df['FUTUREUSE'] == 'NO']\n",
    "\n",
    "df_st = pd.DataFrame({\n",
    "    'Variable': 'YRSPRAC',\n",
    "    'FUTUREUSE': ['YES', 'NO'],\n",
    "    'N': [df_yes[(df_yes['YRSPRAC'] != '.')]['YRSPRAC'].count(), df_no[(df_no['YRSPRAC'] != '.')]['YRSPRAC'].count()],\n",
    "    'N*': [df_yes[(df_yes['YRSPRAC'] == '.')]['YRSPRAC'].count(), df_no[(df_no['YRSPRAC'] == '.')]['YRSPRAC'].count()],\n",
    "    'Mean': [df_yes[(df_yes['YRSPRAC'] != '.')]['YRSPRAC'].mean(), df_no[(df_no['YRSPRAC'] != '.')]['YRSPRAC'].mean()],\n",
    "    'StDev': [df_yes[(df_yes['YRSPRAC'] != '.')]['YRSPRAC'].std(), df_no[(df_no['YRSPRAC'] != '.')]['YRSPRAC'].std()],\n",
    "    'Variance': [df_yes[(df_yes['YRSPRAC'] != '.')]['YRSPRAC'].var(), df_no[(df_no['YRSPRAC'] != '.')]['YRSPRAC'].var()],\n",
    "    'Range': [\n",
    "        df_yes[(df_yes['YRSPRAC'] != '.')]['YRSPRAC'].max() - df_yes[(df_yes['YRSPRAC'] != '.')]['YRSPRAC'].min(), \n",
    "        df_no[(df_no['YRSPRAC'] != '.')]['YRSPRAC'].max() - df_no[(df_no['YRSPRAC'] != '.')]['YRSPRAC'].min()\n",
    "    ]\n",
    "})\n",
    "\n",
    "df_st"
   ]
  },
  {
   "cell_type": "markdown",
   "metadata": {},
   "source": [
    "### m. Use g, h to compare the variation in the length of the time practice"
   ]
  },
  {
   "cell_type": "markdown",
   "metadata": {},
   "source": [
    "The variation for who refuses to use is greater than who would use"
   ]
  },
  {
   "cell_type": "markdown",
   "metadata": {},
   "source": [
    "### n. Scatterplot of YRSPRAC vs EDHRS"
   ]
  },
  {
   "cell_type": "code",
   "execution_count": 245,
   "metadata": {},
   "outputs": [
    {
     "data": {
      "text/plain": [
       "[Text(0.5, 1.0, 'YRSPRAC vs EDHRS'),\n",
       " Text(0.5, 0, 'EDHRS'),\n",
       " Text(0, 0.5, 'YRSPRAC')]"
      ]
     },
     "execution_count": 245,
     "metadata": {},
     "output_type": "execute_result"
    },
    {
     "data": {
      "image/png": "[encoded data removed]",
      "text/plain": [
       "<Figure size 432x288 with 1 Axes>"
      ]
     },
     "metadata": {
      "needs_background": "light"
     },
     "output_type": "display_data"
    }
   ],
   "source": [
    "x = df[(df['YRSPRAC'] != '.') & (df['EDHRS'] != '.')]['EDHRS']\n",
    "y = df[(df['YRSPRAC'] != '.') & (df['EDHRS'] != '.')]['YRSPRAC']\n",
    "\n",
    "mpl.pyplot.scatter(x, y)\n",
    "mpl.pyplot.gca().update(dict(title='YRSPRAC vs EDHRS', xlabel='EDHRS', ylabel='YRSPRAC'))"
   ]
  },
  {
   "cell_type": "markdown",
   "metadata": {},
   "source": [
    "### o. Identify the highly outlier of the set"
   ]
  },
  {
   "cell_type": "code",
   "execution_count": 249,
   "metadata": {},
   "outputs": [
    {
     "data": {
      "text/plain": [
       "[Text(0.5, 1.0, 'EDHRS boxplot'), Text(0, 0.5, 'EDHRS')]"
      ]
     },
     "execution_count": 249,
     "metadata": {},
     "output_type": "execute_result"
    },
    {
     "data": {
      "image/png": "[encoded data removed]",
      "text/plain": [
       "<Figure size 432x288 with 1 Axes>"
      ]
     },
     "metadata": {
      "needs_background": "light"
     },
     "output_type": "display_data"
    }
   ],
   "source": [
    "mpl.pyplot.boxplot(df[(df['YRSPRAC'] != '.') & (df['EDHRS'] != '.')]['EDHRS'])\n",
    "mpl.pyplot.gca().update(dict(title='EDHRS boxplot', ylabel='EDHRS'))"
   ]
  },
  {
   "cell_type": "markdown",
   "metadata": {},
   "source": [
    "The outlier is the value 1000"
   ]
  },
  {
   "cell_type": "markdown",
   "metadata": {},
   "source": [
    "p. Remove outlier and re-create the scatter plot of n"
   ]
  },
  {
   "cell_type": "code",
   "execution_count": 246,
   "metadata": {},
   "outputs": [
    {
     "data": {
      "text/plain": [
       "[Text(0.5, 1.0, 'YRSPRAC vs EDHRS'),\n",
       " Text(0.5, 0, 'EDHRS'),\n",
       " Text(0, 0.5, 'YRSPRAC')]"
      ]
     },
     "execution_count": 246,
     "metadata": {},
     "output_type": "execute_result"
    },
    {
     "data": {
      "image/png": "[encoded data removed]",
      "text/plain": [
       "<Figure size 432x288 with 1 Axes>"
      ]
     },
     "metadata": {
      "needs_background": "light"
     },
     "output_type": "display_data"
    }
   ],
   "source": [
    "x = df[(df['YRSPRAC'] != '.') & (df['EDHRS'] != '.') & (df['EDHRS'] != 1000)]['EDHRS']\n",
    "y = df[(df['YRSPRAC'] != '.') & (df['EDHRS'] != '.') & (df['EDHRS'] != 1000)]['YRSPRAC']\n",
    "\n",
    "mpl.pyplot.scatter(x, y)\n",
    "mpl.pyplot.gca().update(dict(title='YRSPRAC vs EDHRS', xlabel='EDHRS', ylabel='YRSPRAC'))"
   ]
  }
 ],
 "metadata": {
  "kernelspec": {
   "display_name": "Python 3.10.2 64-bit",
   "language": "python",
   "name": "python3"
  },
  "language_info": {
   "codemirror_mode": {
    "name": "ipython",
    "version": 3
   },
   "file_extension": ".py",
   "mimetype": "text/x-python",
   "name": "python",
   "nbconvert_exporter": "python",
   "pygments_lexer": "ipython3",
   "version": "3.10.2"
  },
  "orig_nbformat": 4,
  "vscode": {
   "interpreter": {
    "hash": "af8cdbec20cabee94335913951c23f0843030a4cf1aa91f8cc372c55171c1b62"
   }
  }
 },
 "nbformat": 4,
 "nbformat_minor": 2
}
