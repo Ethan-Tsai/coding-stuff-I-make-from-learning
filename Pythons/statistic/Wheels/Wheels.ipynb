{
 "cells": [
  {
   "cell_type": "code",
   "execution_count": 10,
   "metadata": {},
   "outputs": [],
   "source": [
    "import numpy as np\n",
    "import pandas as pd\n",
    "import matplotlib as mpl\n",
    "import stemgraphic as stem"
   ]
  },
  {
   "cell_type": "code",
   "execution_count": 5,
   "metadata": {},
   "outputs": [
    {
     "data": {
      "text/html": [
       "<div>\n",
       "<style scoped>\n",
       "    .dataframe tbody tr th:only-of-type {\n",
       "        vertical-align: middle;\n",
       "    }\n",
       "\n",
       "    .dataframe tbody tr th {\n",
       "        vertical-align: top;\n",
       "    }\n",
       "\n",
       "    .dataframe thead th {\n",
       "        text-align: right;\n",
       "    }\n",
       "</style>\n",
       "<table border=\"1\" class=\"dataframe\">\n",
       "  <thead>\n",
       "    <tr style=\"text-align: right;\">\n",
       "      <th></th>\n",
       "      <th>REQUEST</th>\n",
       "      <th>MARKET</th>\n",
       "      <th>ENGINEER</th>\n",
       "      <th>ACCOUNT</th>\n",
       "      <th>LOST</th>\n",
       "    </tr>\n",
       "  </thead>\n",
       "  <tbody>\n",
       "    <tr>\n",
       "      <th>0</th>\n",
       "      <td>1</td>\n",
       "      <td>7.0</td>\n",
       "      <td>6.2</td>\n",
       "      <td>0.1</td>\n",
       "      <td>no</td>\n",
       "    </tr>\n",
       "    <tr>\n",
       "      <th>1</th>\n",
       "      <td>2</td>\n",
       "      <td>0.4</td>\n",
       "      <td>5.2</td>\n",
       "      <td>0.1</td>\n",
       "      <td>no</td>\n",
       "    </tr>\n",
       "    <tr>\n",
       "      <th>2</th>\n",
       "      <td>3</td>\n",
       "      <td>2.4</td>\n",
       "      <td>4.6</td>\n",
       "      <td>0.6</td>\n",
       "      <td>no</td>\n",
       "    </tr>\n",
       "    <tr>\n",
       "      <th>3</th>\n",
       "      <td>4</td>\n",
       "      <td>6.2</td>\n",
       "      <td>13.0</td>\n",
       "      <td>0.8</td>\n",
       "      <td>yes</td>\n",
       "    </tr>\n",
       "    <tr>\n",
       "      <th>4</th>\n",
       "      <td>5</td>\n",
       "      <td>4.7</td>\n",
       "      <td>0.9</td>\n",
       "      <td>0.5</td>\n",
       "      <td>no</td>\n",
       "    </tr>\n",
       "    <tr>\n",
       "      <th>5</th>\n",
       "      <td>6</td>\n",
       "      <td>1.3</td>\n",
       "      <td>0.4</td>\n",
       "      <td>0.1</td>\n",
       "      <td>no</td>\n",
       "    </tr>\n",
       "    <tr>\n",
       "      <th>6</th>\n",
       "      <td>7</td>\n",
       "      <td>7.3</td>\n",
       "      <td>6.1</td>\n",
       "      <td>0.1</td>\n",
       "      <td>no</td>\n",
       "    </tr>\n",
       "    <tr>\n",
       "      <th>7</th>\n",
       "      <td>8</td>\n",
       "      <td>5.6</td>\n",
       "      <td>3.6</td>\n",
       "      <td>3.8</td>\n",
       "      <td>no</td>\n",
       "    </tr>\n",
       "    <tr>\n",
       "      <th>8</th>\n",
       "      <td>9</td>\n",
       "      <td>5.5</td>\n",
       "      <td>9.6</td>\n",
       "      <td>0.5</td>\n",
       "      <td>no</td>\n",
       "    </tr>\n",
       "    <tr>\n",
       "      <th>9</th>\n",
       "      <td>10</td>\n",
       "      <td>5.3</td>\n",
       "      <td>4.8</td>\n",
       "      <td>0.8</td>\n",
       "      <td>no</td>\n",
       "    </tr>\n",
       "    <tr>\n",
       "      <th>10</th>\n",
       "      <td>11</td>\n",
       "      <td>6.0</td>\n",
       "      <td>2.6</td>\n",
       "      <td>0.1</td>\n",
       "      <td>no</td>\n",
       "    </tr>\n",
       "    <tr>\n",
       "      <th>11</th>\n",
       "      <td>12</td>\n",
       "      <td>2.6</td>\n",
       "      <td>11.3</td>\n",
       "      <td>1.0</td>\n",
       "      <td>no</td>\n",
       "    </tr>\n",
       "    <tr>\n",
       "      <th>12</th>\n",
       "      <td>13</td>\n",
       "      <td>2.0</td>\n",
       "      <td>0.6</td>\n",
       "      <td>0.8</td>\n",
       "      <td>no</td>\n",
       "    </tr>\n",
       "    <tr>\n",
       "      <th>13</th>\n",
       "      <td>14</td>\n",
       "      <td>0.4</td>\n",
       "      <td>12.2</td>\n",
       "      <td>1.0</td>\n",
       "      <td>no</td>\n",
       "    </tr>\n",
       "    <tr>\n",
       "      <th>14</th>\n",
       "      <td>15</td>\n",
       "      <td>8.7</td>\n",
       "      <td>2.2</td>\n",
       "      <td>3.7</td>\n",
       "      <td>no</td>\n",
       "    </tr>\n",
       "    <tr>\n",
       "      <th>15</th>\n",
       "      <td>16</td>\n",
       "      <td>4.7</td>\n",
       "      <td>9.6</td>\n",
       "      <td>0.1</td>\n",
       "      <td>no</td>\n",
       "    </tr>\n",
       "    <tr>\n",
       "      <th>16</th>\n",
       "      <td>17</td>\n",
       "      <td>6.9</td>\n",
       "      <td>12.3</td>\n",
       "      <td>0.2</td>\n",
       "      <td>yes</td>\n",
       "    </tr>\n",
       "    <tr>\n",
       "      <th>17</th>\n",
       "      <td>18</td>\n",
       "      <td>0.2</td>\n",
       "      <td>4.2</td>\n",
       "      <td>0.3</td>\n",
       "      <td>no</td>\n",
       "    </tr>\n",
       "    <tr>\n",
       "      <th>18</th>\n",
       "      <td>19</td>\n",
       "      <td>5.5</td>\n",
       "      <td>3.5</td>\n",
       "      <td>0.4</td>\n",
       "      <td>no</td>\n",
       "    </tr>\n",
       "    <tr>\n",
       "      <th>19</th>\n",
       "      <td>20</td>\n",
       "      <td>2.9</td>\n",
       "      <td>5.3</td>\n",
       "      <td>22.0</td>\n",
       "      <td>no</td>\n",
       "    </tr>\n",
       "    <tr>\n",
       "      <th>20</th>\n",
       "      <td>21</td>\n",
       "      <td>5.9</td>\n",
       "      <td>7.3</td>\n",
       "      <td>1.7</td>\n",
       "      <td>no</td>\n",
       "    </tr>\n",
       "    <tr>\n",
       "      <th>21</th>\n",
       "      <td>22</td>\n",
       "      <td>6.2</td>\n",
       "      <td>4.4</td>\n",
       "      <td>0.1</td>\n",
       "      <td>no</td>\n",
       "    </tr>\n",
       "    <tr>\n",
       "      <th>22</th>\n",
       "      <td>23</td>\n",
       "      <td>4.1</td>\n",
       "      <td>2.1</td>\n",
       "      <td>30.0</td>\n",
       "      <td>yes</td>\n",
       "    </tr>\n",
       "    <tr>\n",
       "      <th>23</th>\n",
       "      <td>24</td>\n",
       "      <td>5.8</td>\n",
       "      <td>0.6</td>\n",
       "      <td>0.1</td>\n",
       "      <td>no</td>\n",
       "    </tr>\n",
       "    <tr>\n",
       "      <th>24</th>\n",
       "      <td>25</td>\n",
       "      <td>5.0</td>\n",
       "      <td>3.1</td>\n",
       "      <td>2.3</td>\n",
       "      <td>no</td>\n",
       "    </tr>\n",
       "    <tr>\n",
       "      <th>25</th>\n",
       "      <td>26</td>\n",
       "      <td>0.6</td>\n",
       "      <td>2.2</td>\n",
       "      <td>0.5</td>\n",
       "      <td>no</td>\n",
       "    </tr>\n",
       "    <tr>\n",
       "      <th>26</th>\n",
       "      <td>27</td>\n",
       "      <td>6.0</td>\n",
       "      <td>1.8</td>\n",
       "      <td>0.2</td>\n",
       "      <td>no</td>\n",
       "    </tr>\n",
       "    <tr>\n",
       "      <th>27</th>\n",
       "      <td>28</td>\n",
       "      <td>5.8</td>\n",
       "      <td>0.6</td>\n",
       "      <td>0.5</td>\n",
       "      <td>no</td>\n",
       "    </tr>\n",
       "    <tr>\n",
       "      <th>28</th>\n",
       "      <td>29</td>\n",
       "      <td>7.8</td>\n",
       "      <td>7.2</td>\n",
       "      <td>2.2</td>\n",
       "      <td>yes</td>\n",
       "    </tr>\n",
       "    <tr>\n",
       "      <th>29</th>\n",
       "      <td>30</td>\n",
       "      <td>3.2</td>\n",
       "      <td>6.9</td>\n",
       "      <td>0.1</td>\n",
       "      <td>no</td>\n",
       "    </tr>\n",
       "    <tr>\n",
       "      <th>30</th>\n",
       "      <td>31</td>\n",
       "      <td>11.0</td>\n",
       "      <td>1.7</td>\n",
       "      <td>3.3</td>\n",
       "      <td>no</td>\n",
       "    </tr>\n",
       "    <tr>\n",
       "      <th>31</th>\n",
       "      <td>32</td>\n",
       "      <td>6.2</td>\n",
       "      <td>1.3</td>\n",
       "      <td>2.0</td>\n",
       "      <td>no</td>\n",
       "    </tr>\n",
       "    <tr>\n",
       "      <th>32</th>\n",
       "      <td>33</td>\n",
       "      <td>6.9</td>\n",
       "      <td>6.0</td>\n",
       "      <td>10.5</td>\n",
       "      <td>yes</td>\n",
       "    </tr>\n",
       "    <tr>\n",
       "      <th>33</th>\n",
       "      <td>34</td>\n",
       "      <td>5.4</td>\n",
       "      <td>0.4</td>\n",
       "      <td>8.4</td>\n",
       "      <td>no</td>\n",
       "    </tr>\n",
       "    <tr>\n",
       "      <th>34</th>\n",
       "      <td>35</td>\n",
       "      <td>6.0</td>\n",
       "      <td>7.9</td>\n",
       "      <td>0.4</td>\n",
       "      <td>no</td>\n",
       "    </tr>\n",
       "    <tr>\n",
       "      <th>35</th>\n",
       "      <td>36</td>\n",
       "      <td>4.0</td>\n",
       "      <td>1.8</td>\n",
       "      <td>18.2</td>\n",
       "      <td>yes</td>\n",
       "    </tr>\n",
       "    <tr>\n",
       "      <th>36</th>\n",
       "      <td>37</td>\n",
       "      <td>4.5</td>\n",
       "      <td>1.3</td>\n",
       "      <td>0.3</td>\n",
       "      <td>no</td>\n",
       "    </tr>\n",
       "    <tr>\n",
       "      <th>37</th>\n",
       "      <td>38</td>\n",
       "      <td>2.2</td>\n",
       "      <td>4.8</td>\n",
       "      <td>0.4</td>\n",
       "      <td>no</td>\n",
       "    </tr>\n",
       "    <tr>\n",
       "      <th>38</th>\n",
       "      <td>39</td>\n",
       "      <td>3.5</td>\n",
       "      <td>7.2</td>\n",
       "      <td>7.0</td>\n",
       "      <td>yes</td>\n",
       "    </tr>\n",
       "    <tr>\n",
       "      <th>39</th>\n",
       "      <td>40</td>\n",
       "      <td>0.1</td>\n",
       "      <td>0.9</td>\n",
       "      <td>14.4</td>\n",
       "      <td>no</td>\n",
       "    </tr>\n",
       "    <tr>\n",
       "      <th>40</th>\n",
       "      <td>41</td>\n",
       "      <td>2.9</td>\n",
       "      <td>7.7</td>\n",
       "      <td>5.8</td>\n",
       "      <td>no</td>\n",
       "    </tr>\n",
       "    <tr>\n",
       "      <th>41</th>\n",
       "      <td>42</td>\n",
       "      <td>5.4</td>\n",
       "      <td>3.8</td>\n",
       "      <td>0.3</td>\n",
       "      <td>no</td>\n",
       "    </tr>\n",
       "    <tr>\n",
       "      <th>42</th>\n",
       "      <td>43</td>\n",
       "      <td>6.7</td>\n",
       "      <td>1.3</td>\n",
       "      <td>0.1</td>\n",
       "      <td>no</td>\n",
       "    </tr>\n",
       "    <tr>\n",
       "      <th>43</th>\n",
       "      <td>44</td>\n",
       "      <td>2.0</td>\n",
       "      <td>6.3</td>\n",
       "      <td>9.9</td>\n",
       "      <td>yes</td>\n",
       "    </tr>\n",
       "    <tr>\n",
       "      <th>44</th>\n",
       "      <td>45</td>\n",
       "      <td>0.1</td>\n",
       "      <td>12.0</td>\n",
       "      <td>3.2</td>\n",
       "      <td>no</td>\n",
       "    </tr>\n",
       "    <tr>\n",
       "      <th>45</th>\n",
       "      <td>46</td>\n",
       "      <td>6.4</td>\n",
       "      <td>1.3</td>\n",
       "      <td>6.2</td>\n",
       "      <td>no</td>\n",
       "    </tr>\n",
       "    <tr>\n",
       "      <th>46</th>\n",
       "      <td>47</td>\n",
       "      <td>4.0</td>\n",
       "      <td>2.4</td>\n",
       "      <td>13.5</td>\n",
       "      <td>yes</td>\n",
       "    </tr>\n",
       "    <tr>\n",
       "      <th>47</th>\n",
       "      <td>48</td>\n",
       "      <td>10.0</td>\n",
       "      <td>5.3</td>\n",
       "      <td>0.1</td>\n",
       "      <td>no</td>\n",
       "    </tr>\n",
       "    <tr>\n",
       "      <th>48</th>\n",
       "      <td>49</td>\n",
       "      <td>8.0</td>\n",
       "      <td>14.4</td>\n",
       "      <td>1.9</td>\n",
       "      <td>yes</td>\n",
       "    </tr>\n",
       "    <tr>\n",
       "      <th>49</th>\n",
       "      <td>50</td>\n",
       "      <td>7.0</td>\n",
       "      <td>10.0</td>\n",
       "      <td>2.0</td>\n",
       "      <td>no</td>\n",
       "    </tr>\n",
       "  </tbody>\n",
       "</table>\n",
       "</div>"
      ],
      "text/plain": [
       "    REQUEST  MARKET  ENGINEER  ACCOUNT LOST\n",
       "0         1     7.0       6.2      0.1   no\n",
       "1         2     0.4       5.2      0.1   no\n",
       "2         3     2.4       4.6      0.6   no\n",
       "3         4     6.2      13.0      0.8  yes\n",
       "4         5     4.7       0.9      0.5   no\n",
       "5         6     1.3       0.4      0.1   no\n",
       "6         7     7.3       6.1      0.1   no\n",
       "7         8     5.6       3.6      3.8   no\n",
       "8         9     5.5       9.6      0.5   no\n",
       "9        10     5.3       4.8      0.8   no\n",
       "10       11     6.0       2.6      0.1   no\n",
       "11       12     2.6      11.3      1.0   no\n",
       "12       13     2.0       0.6      0.8   no\n",
       "13       14     0.4      12.2      1.0   no\n",
       "14       15     8.7       2.2      3.7   no\n",
       "15       16     4.7       9.6      0.1   no\n",
       "16       17     6.9      12.3      0.2  yes\n",
       "17       18     0.2       4.2      0.3   no\n",
       "18       19     5.5       3.5      0.4   no\n",
       "19       20     2.9       5.3     22.0   no\n",
       "20       21     5.9       7.3      1.7   no\n",
       "21       22     6.2       4.4      0.1   no\n",
       "22       23     4.1       2.1     30.0  yes\n",
       "23       24     5.8       0.6      0.1   no\n",
       "24       25     5.0       3.1      2.3   no\n",
       "25       26     0.6       2.2      0.5   no\n",
       "26       27     6.0       1.8      0.2   no\n",
       "27       28     5.8       0.6      0.5   no\n",
       "28       29     7.8       7.2      2.2  yes\n",
       "29       30     3.2       6.9      0.1   no\n",
       "30       31    11.0       1.7      3.3   no\n",
       "31       32     6.2       1.3      2.0   no\n",
       "32       33     6.9       6.0     10.5  yes\n",
       "33       34     5.4       0.4      8.4   no\n",
       "34       35     6.0       7.9      0.4   no\n",
       "35       36     4.0       1.8     18.2  yes\n",
       "36       37     4.5       1.3      0.3   no\n",
       "37       38     2.2       4.8      0.4   no\n",
       "38       39     3.5       7.2      7.0  yes\n",
       "39       40     0.1       0.9     14.4   no\n",
       "40       41     2.9       7.7      5.8   no\n",
       "41       42     5.4       3.8      0.3   no\n",
       "42       43     6.7       1.3      0.1   no\n",
       "43       44     2.0       6.3      9.9  yes\n",
       "44       45     0.1      12.0      3.2   no\n",
       "45       46     6.4       1.3      6.2   no\n",
       "46       47     4.0       2.4     13.5  yes\n",
       "47       48    10.0       5.3      0.1   no\n",
       "48       49     8.0      14.4      1.9  yes\n",
       "49       50     7.0      10.0      2.0   no"
      ]
     },
     "execution_count": 5,
     "metadata": {},
     "output_type": "execute_result"
    }
   ],
   "source": [
    "df = pd.read_excel('files/WHEELS.xlsx')\n",
    "df"
   ]
  },
  {
   "cell_type": "markdown",
   "metadata": {},
   "source": [
    "### a. Stem graphic for all department and lost for total"
   ]
  },
  {
   "cell_type": "code",
   "execution_count": 6,
   "metadata": {},
   "outputs": [],
   "source": [
    "df['TOTAL'] = df['MARKET'] + df['ENGINEER'] + df['ACCOUNT']"
   ]
  },
  {
   "cell_type": "code",
   "execution_count": 87,
   "metadata": {},
   "outputs": [
    {
     "data": {
      "text/plain": [
       "(<Figure size 540x180 with 1 Axes>, <Axes:>)"
      ]
     },
     "execution_count": 87,
     "metadata": {},
     "output_type": "execute_result"
    },
    {
     "data": {
      "image/png": "[encoded data removed]",
      "text/plain": [
       "<Figure size 540x270 with 1 Axes>"
      ]
     },
     "metadata": {
      "needs_background": "light"
     },
     "output_type": "display_data"
    },
    {
     "data": {
      "image/png": "[encoded data removed]",
      "text/plain": [
       "<Figure size 540x180 with 1 Axes>"
      ]
     },
     "metadata": {
      "needs_background": "light"
     },
     "output_type": "display_data"
    }
   ],
   "source": [
    "stem.stem_graphic(df['MARKET'], asc=False)\n",
    "stem.stem_graphic(df[df['LOST'] == 'yes']['MARKET'], asc=False)"
   ]
  },
  {
   "cell_type": "code",
   "execution_count": 86,
   "metadata": {},
   "outputs": [
    {
     "data": {
      "text/plain": [
       "(<Figure size 540x306 with 1 Axes>, <Axes:>)"
      ]
     },
     "execution_count": 86,
     "metadata": {},
     "output_type": "execute_result"
    },
    {
     "data": {
      "image/png": "[encoded data removed]",
      "text/plain": [
       "<Figure size 540x324 with 1 Axes>"
      ]
     },
     "metadata": {
      "needs_background": "light"
     },
     "output_type": "display_data"
    },
    {
     "data": {
      "image/png": "[encoded data removed]",
      "text/plain": [
       "<Figure size 540x306 with 1 Axes>"
      ]
     },
     "metadata": {
      "needs_background": "light"
     },
     "output_type": "display_data"
    }
   ],
   "source": [
    "stem.stem_graphic(df['ENGINEER'], asc=False)\n",
    "stem.stem_graphic(df[df['LOST'] == 'yes']['ENGINEER'], asc=False)"
   ]
  },
  {
   "cell_type": "code",
   "execution_count": 85,
   "metadata": {},
   "outputs": [
    {
     "data": {
      "image/png": "[encoded data removed]",
      "text/plain": [
       "<Figure size 540x324 with 1 Axes>"
      ]
     },
     "metadata": {
      "needs_background": "light"
     },
     "output_type": "display_data"
    },
    {
     "data": {
      "image/png": "[encoded data removed]",
      "text/plain": [
       "<Figure size 540x126 with 1 Axes>"
      ]
     },
     "metadata": {
      "needs_background": "light"
     },
     "output_type": "display_data"
    }
   ],
   "source": [
    "stem.stem_graphic(df['ACCOUNT'], asc=False, compact=True)\n",
    "lost = stem.stem_graphic(df[df['LOST'] == 'yes']['ACCOUNT'], asc=False, compact=True)"
   ]
  },
  {
   "cell_type": "code",
   "execution_count": 88,
   "metadata": {},
   "outputs": [
    {
     "data": {
      "text/plain": [
       "(<Figure size 540x162 with 1 Axes>, <Axes:>)"
      ]
     },
     "execution_count": 88,
     "metadata": {},
     "output_type": "execute_result"
    },
    {
     "data": {
      "image/png": "[encoded data removed]",
      "text/plain": [
       "<Figure size 540x198 with 1 Axes>"
      ]
     },
     "metadata": {
      "needs_background": "light"
     },
     "output_type": "display_data"
    },
    {
     "data": {
      "image/png": "[encoded data removed]",
      "text/plain": [
       "<Figure size 540x162 with 1 Axes>"
      ]
     },
     "metadata": {
      "needs_background": "light"
     },
     "output_type": "display_data"
    }
   ],
   "source": [
    "stem.stem_graphic(df['TOTAL'], scale=10, asc=False, break_on=5)\n",
    "stem.stem_graphic(df[df['LOST'] == 'yes']['TOTAL'], scale=10, asc=False, break_on=5)"
   ]
  },
  {
   "cell_type": "markdown",
   "metadata": {},
   "source": [
    "Each od three department are scattered throughout the distribution. The process time of departments do not appear to be related to whether the require is lost or not. Total processing time for lost appear to be longer than the others. If the process time can cut under than 17 days, it will reduce the number of lost."
   ]
  },
  {
   "cell_type": "markdown",
   "metadata": {},
   "source": [
    "### b. Develop max day of department"
   ]
  },
  {
   "cell_type": "code",
   "execution_count": 143,
   "metadata": {},
   "outputs": [],
   "source": [
    "max_market = 6.5\n",
    "max_engineer = 7\n",
    "max_account = 8.5\n",
    "max_total = 17"
   ]
  },
  {
   "cell_type": "markdown",
   "metadata": {},
   "source": [
    "### c. Descriptive Statistic: Request, Market, Engineer, Account"
   ]
  },
  {
   "cell_type": "code",
   "execution_count": 122,
   "metadata": {},
   "outputs": [
    {
     "data": {
      "text/html": [
       "<div>\n",
       "<style scoped>\n",
       "    .dataframe tbody tr th:only-of-type {\n",
       "        vertical-align: middle;\n",
       "    }\n",
       "\n",
       "    .dataframe tbody tr th {\n",
       "        vertical-align: top;\n",
       "    }\n",
       "\n",
       "    .dataframe thead th {\n",
       "        text-align: right;\n",
       "    }\n",
       "</style>\n",
       "<table border=\"1\" class=\"dataframe\">\n",
       "  <thead>\n",
       "    <tr style=\"text-align: right;\">\n",
       "      <th></th>\n",
       "      <th>Variable</th>\n",
       "      <th>N</th>\n",
       "      <th>Mean</th>\n",
       "      <th>StDev</th>\n",
       "      <th>Minimum</th>\n",
       "      <th>Q1</th>\n",
       "      <th>Median</th>\n",
       "      <th>Q3</th>\n",
       "      <th>Maximum</th>\n",
       "    </tr>\n",
       "  </thead>\n",
       "  <tbody>\n",
       "    <tr>\n",
       "      <th>0</th>\n",
       "      <td>MARKET</td>\n",
       "      <td>50</td>\n",
       "      <td>4.766</td>\n",
       "      <td>2.583986</td>\n",
       "      <td>0.1</td>\n",
       "      <td>2.900</td>\n",
       "      <td>5.40</td>\n",
       "      <td>6.2</td>\n",
       "      <td>11.0</td>\n",
       "    </tr>\n",
       "    <tr>\n",
       "      <th>1</th>\n",
       "      <td>ENGINEER</td>\n",
       "      <td>50</td>\n",
       "      <td>5.044</td>\n",
       "      <td>3.834599</td>\n",
       "      <td>0.4</td>\n",
       "      <td>1.800</td>\n",
       "      <td>4.50</td>\n",
       "      <td>7.2</td>\n",
       "      <td>14.4</td>\n",
       "    </tr>\n",
       "    <tr>\n",
       "      <th>2</th>\n",
       "      <td>ACCOUNT</td>\n",
       "      <td>50</td>\n",
       "      <td>3.652</td>\n",
       "      <td>6.256433</td>\n",
       "      <td>0.1</td>\n",
       "      <td>0.225</td>\n",
       "      <td>0.80</td>\n",
       "      <td>3.6</td>\n",
       "      <td>30.0</td>\n",
       "    </tr>\n",
       "    <tr>\n",
       "      <th>3</th>\n",
       "      <td>TOTAL</td>\n",
       "      <td>50</td>\n",
       "      <td>13.462</td>\n",
       "      <td>6.820494</td>\n",
       "      <td>1.8</td>\n",
       "      <td>8.250</td>\n",
       "      <td>13.75</td>\n",
       "      <td>16.3</td>\n",
       "      <td>36.2</td>\n",
       "    </tr>\n",
       "  </tbody>\n",
       "</table>\n",
       "</div>"
      ],
      "text/plain": [
       "   Variable   N    Mean     StDev  Minimum     Q1  Median    Q3  Maximum\n",
       "0    MARKET  50   4.766  2.583986      0.1  2.900    5.40   6.2     11.0\n",
       "1  ENGINEER  50   5.044  3.834599      0.4  1.800    4.50   7.2     14.4\n",
       "2   ACCOUNT  50   3.652  6.256433      0.1  0.225    0.80   3.6     30.0\n",
       "3     TOTAL  50  13.462  6.820494      1.8  8.250   13.75  16.3     36.2"
      ]
     },
     "execution_count": 122,
     "metadata": {},
     "output_type": "execute_result"
    }
   ],
   "source": [
    "variables = ['MARKET', 'ENGINEER', 'ACCOUNT', 'TOTAL']\n",
    "df_st = pd.DataFrame({'Variable': variables, \n",
    "                      'N': 50,\n",
    "                      'Mean': [np.mean(df[var]) for var in variables],\n",
    "                      'StDev': [np.std(df[var], ddof=1) for var in variables],\n",
    "                      'Minimum': [np.min(df[var]) for var in variables],\n",
    "                      'Q1': [np.quantile(df[var], 0.25) for var in variables],\n",
    "                      'Median': [np.median(df[var]) for var in variables],\n",
    "                      'Q3': [np.quantile(df[var], 0.75) for var in variables],\n",
    "                      'Maximum': [np.max(df[var]) for var in variables]\n",
    "})\n",
    "df_st"
   ]
  },
  {
   "cell_type": "markdown",
   "metadata": {},
   "source": [
    "### d. Z score of the max day we decide"
   ]
  },
  {
   "cell_type": "code",
   "execution_count": 123,
   "metadata": {},
   "outputs": [],
   "source": [
    "def z_score(x: float, x_mean: float, stdev: float) -> float:\n",
    "    return (x - x_mean) / stdev"
   ]
  },
  {
   "cell_type": "code",
   "execution_count": 144,
   "metadata": {},
   "outputs": [
    {
     "name": "stdout",
     "output_type": "stream",
     "text": [
      "Marketing: 0.6710562660626934\n",
      "Engineering: 0.5100924946102385\n",
      "Accounting: 0.7748824169521069\n",
      "Total: 0.5187307526219973\n"
     ]
    }
   ],
   "source": [
    "print(f'Marketing: {z_score(max_market, df_st[\"Mean\"][0], df_st[\"StDev\"][0])}')\n",
    "print(f'Engineering: {z_score(max_engineer, df_st[\"Mean\"][1], df_st[\"StDev\"][1])}')\n",
    "print(f'Accounting: {z_score(max_account, df_st[\"Mean\"][2], df_st[\"StDev\"][2])}')\n",
    "print(f'Total: {z_score(max_total, df_st[\"Mean\"][3], df_st[\"StDev\"][3])}')"
   ]
  },
  {
   "cell_type": "markdown",
   "metadata": {},
   "source": [
    "### e. Max day when z score is 3"
   ]
  },
  {
   "cell_type": "code",
   "execution_count": 159,
   "metadata": {},
   "outputs": [],
   "source": [
    "def max_day(x_mean: float, z: float, stdev: float) -> float:\n",
    "    return x_mean + z * stdev"
   ]
  },
  {
   "cell_type": "code",
   "execution_count": 176,
   "metadata": {},
   "outputs": [
    {
     "name": "stdout",
     "output_type": "stream",
     "text": [
      "MArketing: 12.517958014671162\n",
      "Empty DataFrame\n",
      "Columns: [REQUEST, MARKET, ENGINEER, ACCOUNT, LOST, TOTAL]\n",
      "Index: []\n",
      "\n",
      "Engineering: 16.547796001710896\n",
      "Empty DataFrame\n",
      "Columns: [REQUEST, MARKET, ENGINEER, ACCOUNT, LOST, TOTAL]\n",
      "Index: []\n"
     ]
    }
   ],
   "source": [
    "print(f'MArketing: {max_day(df_st[\"Mean\"][0], 3, df_st[\"StDev\"][0])}')\n",
    "print(df[df['MARKET'] > max_day(df_st[\"Mean\"][0], 3, df_st[\"StDev\"][0])])\n",
    "\n",
    "print(f'\\nEngineering: {max_day(df_st[\"Mean\"][1], 3, df_st[\"StDev\"][1])}')\n",
    "print(df[df['ENGINEER'] > max_day(df_st[\"Mean\"][1], 3, df_st[\"StDev\"][1])])"
   ]
  },
  {
   "cell_type": "markdown",
   "metadata": {},
   "source": [
    "These agree with both Chebyshev and Empirical Rules"
   ]
  },
  {
   "cell_type": "code",
   "execution_count": 177,
   "metadata": {},
   "outputs": [
    {
     "name": "stdout",
     "output_type": "stream",
     "text": [
      "Accounting: 22.42129929215173\n",
      "    REQUEST  MARKET  ENGINEER  ACCOUNT LOST  TOTAL\n",
      "22       23     4.1       2.1     30.0  yes   36.2\n",
      "\n",
      "Total: 33.92348208169662\n",
      "    REQUEST  MARKET  ENGINEER  ACCOUNT LOST  TOTAL\n",
      "22       23     4.1       2.1     30.0  yes   36.2\n"
     ]
    }
   ],
   "source": [
    "print(f'Accounting: {max_day(df_st[\"Mean\"][2], 3, df_st[\"StDev\"][2])}')\n",
    "print(df[df['ACCOUNT'] > max_day(df_st[\"Mean\"][2], 3, df_st[\"StDev\"][2])])\n",
    "\n",
    "print(f'\\nTotal: {max_day(df_st[\"Mean\"][3], 3, df_st[\"StDev\"][3])}')\n",
    "print(df[df['TOTAL'] > max_day(df_st[\"Mean\"][3], 3, df_st[\"StDev\"][3])])"
   ]
  },
  {
   "cell_type": "markdown",
   "metadata": {},
   "source": [
    "These only agree with Chebyshev Rule"
   ]
  },
  {
   "cell_type": "markdown",
   "metadata": {},
   "source": [
    "### f. Max day when z score is 2"
   ]
  },
  {
   "cell_type": "code",
   "execution_count": 174,
   "metadata": {},
   "outputs": [
    {
     "name": "stdout",
     "output_type": "stream",
     "text": [
      "MArketing: 9.933972009780774\n",
      "    REQUEST  MARKET  ENGINEER  ACCOUNT LOST  TOTAL\n",
      "30       31    11.0       1.7      3.3   no   16.0\n",
      "47       48    10.0       5.3      0.1   no   15.4\n",
      "\n",
      "Engineering: 12.713197334473932\n",
      "    REQUEST  MARKET  ENGINEER  ACCOUNT LOST  TOTAL\n",
      "3         4     6.2      13.0      0.8  yes   20.0\n",
      "48       49     8.0      14.4      1.9  yes   24.3\n",
      "\n",
      "Accounting: 16.16486619476782\n",
      "    REQUEST  MARKET  ENGINEER  ACCOUNT LOST  TOTAL\n",
      "19       20     2.9       5.3     22.0   no   30.2\n",
      "22       23     4.1       2.1     30.0  yes   36.2\n",
      "35       36     4.0       1.8     18.2  yes   24.0\n",
      "\n",
      "Total: 27.10298805446441\n",
      "    REQUEST  MARKET  ENGINEER  ACCOUNT LOST  TOTAL\n",
      "19       20     2.9       5.3     22.0   no   30.2\n",
      "22       23     4.1       2.1     30.0  yes   36.2\n"
     ]
    }
   ],
   "source": [
    "print(f'MArketing: {max_day(df_st[\"Mean\"][0], 2, df_st[\"StDev\"][0])}')\n",
    "print(df[df['MARKET'] > max_day(df_st[\"Mean\"][0], 2, df_st[\"StDev\"][0])])\n",
    "\n",
    "print(f'\\nEngineering: {max_day(df_st[\"Mean\"][1], 2, df_st[\"StDev\"][1])}')\n",
    "print(df[df['ENGINEER'] > max_day(df_st[\"Mean\"][1], 2, df_st[\"StDev\"][1])])\n",
    "\n",
    "print(f'\\nAccounting: {max_day(df_st[\"Mean\"][2], 2, df_st[\"StDev\"][2])}')\n",
    "print(df[df['ACCOUNT'] > max_day(df_st[\"Mean\"][2], 2, df_st[\"StDev\"][2])])\n",
    "\n",
    "print(f'\\nTotal: {max_day(df_st[\"Mean\"][3], 2, df_st[\"StDev\"][3])}')\n",
    "print(df[df['TOTAL'] > max_day(df_st[\"Mean\"][3], 2, df_st[\"StDev\"][3])])"
   ]
  },
  {
   "cell_type": "markdown",
   "metadata": {},
   "source": [
    "All agree with Chebyshev Rule but not Empirical Rule."
   ]
  },
  {
   "cell_type": "markdown",
   "metadata": {},
   "source": [
    "### g. e or f which guildline is better"
   ]
  }
 ],
 "metadata": {
  "kernelspec": {
   "display_name": "Python 3.10.2 64-bit",
   "language": "python",
   "name": "python3"
  },
  "language_info": {
   "codemirror_mode": {
    "name": "ipython",
    "version": 3
   },
   "file_extension": ".py",
   "mimetype": "text/x-python",
   "name": "python",
   "nbconvert_exporter": "python",
   "pygments_lexer": "ipython3",
   "version": "3.10.2"
  },
  "orig_nbformat": 4,
  "vscode": {
   "interpreter": {
    "hash": "af8cdbec20cabee94335913951c23f0843030a4cf1aa91f8cc372c55171c1b62"
   }
  }
 },
 "nbformat": 4,
 "nbformat_minor": 2
}
