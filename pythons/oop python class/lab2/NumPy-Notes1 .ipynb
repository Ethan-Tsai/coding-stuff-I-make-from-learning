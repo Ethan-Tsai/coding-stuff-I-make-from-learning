{
 "cells": [
  {
   "cell_type": "markdown",
   "id": "b803615a",
   "metadata": {},
   "source": [
    "# NumPy"
   ]
  },
  {
   "cell_type": "markdown",
   "id": "cef7213f",
   "metadata": {},
   "source": [
    "**- Numpy provide much more efficient storage and data operations on arrays**\n",
    "- Python ease of use is attributed by Dynamic typing\n",
    "- The variable doesn't only contain the value but extra information about the type of the value\n",
    "- Data may come in the heterogeneous form (text, image, audio)\n",
    "- The first step in making them analyzable is to transform them into arrays of numbers\n",
    "- Efficient storage, and manipulation of numerical arrays is fundamental to the process of doing data science\n",
    "- Python provide us specialized tools to handle such numerical arrays: NumPy package and Pandas Package"
   ]
  },
  {
   "cell_type": "code",
   "execution_count": 2,
   "id": "57276cbf",
   "metadata": {},
   "outputs": [],
   "source": [
    "import numpy as np"
   ]
  },
  {
   "cell_type": "code",
   "execution_count": null,
   "id": "408ae39e",
   "metadata": {},
   "outputs": [],
   "source": [
    "np.version.version"
   ]
  },
  {
   "cell_type": "code",
   "execution_count": null,
   "id": "c80acd16",
   "metadata": {
    "scrolled": true
   },
   "outputs": [],
   "source": [
    "np. #provide the content in numpy"
   ]
  },
  {
   "cell_type": "code",
   "execution_count": null,
   "id": "8ab010e6",
   "metadata": {},
   "outputs": [],
   "source": [
    "np? #provide built-in-documentation"
   ]
  },
  {
   "cell_type": "markdown",
   "id": "a84ff754",
   "metadata": {},
   "source": [
    "## Creating Arrays"
   ]
  },
  {
   "cell_type": "markdown",
   "id": "ee557072",
   "metadata": {},
   "source": [
    "### Creating Arrays from Python Lists"
   ]
  },
  {
   "cell_type": "markdown",
   "id": "06deecf5",
   "metadata": {},
   "source": [
    "- Use np.array to create arrays from Python lists"
   ]
  },
  {
   "cell_type": "code",
   "execution_count": null,
   "id": "030bc8dc",
   "metadata": {},
   "outputs": [],
   "source": [
    "np.array([1, 2, 3])"
   ]
  },
  {
   "cell_type": "markdown",
   "id": "f33bc8f3",
   "metadata": {},
   "source": [
    "- In NumPy arrays are of same type\n",
    "- If not then Numpy will Upcast if possible"
   ]
  },
  {
   "cell_type": "code",
   "execution_count": null,
   "id": "548cc693",
   "metadata": {},
   "outputs": [],
   "source": [
    "np.array([1, 2, 3.0])"
   ]
  },
  {
   "cell_type": "markdown",
   "id": "3306e688",
   "metadata": {},
   "source": [
    "- We can set the data type of the array by the keyword dtype"
   ]
  },
  {
   "cell_type": "code",
   "execution_count": null,
   "id": "e8214603",
   "metadata": {},
   "outputs": [],
   "source": [
    "np.array([1, 2, 3], dtype='float32')"
   ]
  },
  {
   "cell_type": "markdown",
   "id": "6ce16177",
   "metadata": {},
   "source": [
    "- Numpy arrays can be multidimensional\n",
    "- Multidimensional arrays can be initialized by using list of lists"
   ]
  },
  {
   "cell_type": "code",
   "execution_count": null,
   "id": "93b167d9",
   "metadata": {},
   "outputs": [],
   "source": [
    "np.array([[1, 2], [3, 4]])"
   ]
  },
  {
   "cell_type": "markdown",
   "id": "86cac40b",
   "metadata": {
    "heading_collapsed": true
   },
   "source": [
    "### Creating Arrays from Scratch"
   ]
  },
  {
   "cell_type": "markdown",
   "id": "e230073f",
   "metadata": {
    "hidden": true
   },
   "source": [
    "- To create larger arrays it is better to create using routines built into NumPy"
   ]
  },
  {
   "cell_type": "code",
   "execution_count": null,
   "id": "307ee0c0",
   "metadata": {
    "hidden": true
   },
   "outputs": [],
   "source": [
    "# Create a length -10 integer array filled with zeros\n",
    "# zeros(shape, dtype=float, order='C', *, like=None)\n",
    "\n",
    "np.zeros(10, dtype = int)"
   ]
  },
  {
   "cell_type": "code",
   "execution_count": null,
   "id": "75b5357a",
   "metadata": {
    "hidden": true
   },
   "outputs": [],
   "source": [
    "# Create a 3X5 floating point array filled with 1s\n",
    "# np.ones(shape, dtype=None, order='C', *, like=None)\n",
    "\n",
    "np.ones((3,5), dtype=float)"
   ]
  },
  {
   "cell_type": "code",
   "execution_count": null,
   "id": "2f2f48f4",
   "metadata": {
    "hidden": true
   },
   "outputs": [],
   "source": [
    "# Create a 3X5 array filled with 3.15\n",
    "# np.full(shape, fill_value, dtype=None, order='C', *, like=None)\n",
    "\n",
    "np.full((3,5), 3.14)"
   ]
  },
  {
   "cell_type": "code",
   "execution_count": null,
   "id": "b2eaafbb",
   "metadata": {
    "hidden": true
   },
   "outputs": [],
   "source": [
    "# Craete an array starting at 0, ending at 20, stepping by 2\n",
    "# The interval inludes the starting value but exclude the ending valye\n",
    "# arange([start,] stop[, step,], dtype=None, *, like=None)\n",
    "\n",
    "np.arange(0, 20, 2)"
   ]
  },
  {
   "cell_type": "code",
   "execution_count": null,
   "id": "71dfdafb",
   "metadata": {
    "hidden": true
   },
   "outputs": [],
   "source": [
    "# Create an array filled with a linear sequence\n",
    "# Create an array of five values evely spaced between 0 and 1\n",
    "# np.linspace( start, stop, num=50, endpoint=True, retstep=False, dtype=None, axis=0)\n",
    "\n",
    "np.linspace(0, 2, 5)"
   ]
  },
  {
   "cell_type": "code",
   "execution_count": null,
   "id": "85fcad9c",
   "metadata": {
    "hidden": true
   },
   "outputs": [],
   "source": [
    "# Create a 3x3 array of uniformly distributed random values between 0 and 1\n",
    "\n",
    "np.random.random((3,3))"
   ]
  },
  {
   "cell_type": "code",
   "execution_count": null,
   "id": "9495ab7a",
   "metadata": {
    "hidden": true
   },
   "outputs": [],
   "source": [
    "# Create a 3x3 array of normally distributed/ bell curve random values with mean 0 and standard deviation 1\n",
    "\n",
    "np.random.normal(0, 1, (3,3))"
   ]
  },
  {
   "cell_type": "code",
   "execution_count": null,
   "id": "3e786779",
   "metadata": {
    "hidden": true
   },
   "outputs": [],
   "source": [
    "# Create a 3x3 array of random integers in the interval of 0 to 10\n",
    "\n",
    "np.random.randint(0, 10, (3,3))"
   ]
  },
  {
   "cell_type": "code",
   "execution_count": null,
   "id": "39076d84",
   "metadata": {
    "hidden": true
   },
   "outputs": [],
   "source": [
    "# Create a 3x3 identity matrix\n",
    "\n",
    "np.eye(3,3)"
   ]
  },
  {
   "cell_type": "code",
   "execution_count": null,
   "id": "4eeb8e93",
   "metadata": {
    "hidden": true
   },
   "outputs": [],
   "source": [
    "# Create an uninitialized array of three integers\n",
    "# The value will be whatever happens to already exist at that memory location\n",
    "\n",
    "np.empty(3)"
   ]
  },
  {
   "cell_type": "markdown",
   "id": "91e3d79e",
   "metadata": {},
   "source": [
    "## Basics of  NumPy Arrays"
   ]
  },
  {
   "cell_type": "markdown",
   "id": "980e6dc4",
   "metadata": {},
   "source": [
    "- This section will do **data manipulation** using NumPy array to access data and subarrays, and to split, reshape, and, join the arrays\n",
    "\n",
    "1. [ ] Attributes of arrays: Determining the dimension, shape, size, memory consumption, and data types of arrays.\n",
    "2. [ ] Indexing of arrays: Getting and setting the values of individual array elements\n",
    "3. [ ] Slicing of arrays: Getting and setting smaller subarrays within a larger array\n",
    "4. [ ] Reshaping of a given array: Changing the shape of a given array\n",
    "5. [ ] Joining and splitting of arrays: Combining multiple arrays into one, and splitting one array into many"
   ]
  },
  {
   "cell_type": "markdown",
   "id": "540f41e4",
   "metadata": {},
   "source": [
    "### Array Attributes: NumPy"
   ]
  },
  {
   "cell_type": "code",
   "execution_count": 31,
   "id": "af55b65e",
   "metadata": {},
   "outputs": [],
   "source": [
    "import numpy as np\n",
    "\n",
    "np.random.seed(0) # seed for reproducibility"
   ]
  },
  {
   "cell_type": "code",
   "execution_count": 16,
   "id": "761cad5f",
   "metadata": {},
   "outputs": [],
   "source": [
    "x1 = np.random.randint(10, size=6) # one-dimensional array\n",
    "x2 = np.random.randint(10, size=(3,4)) # two-dimensional array\n",
    "x3 = np.random.randint(10, size=(3,4,5)) # three-dimensional array"
   ]
  },
  {
   "cell_type": "code",
   "execution_count": 39,
   "id": "fad456c9",
   "metadata": {},
   "outputs": [
    {
     "data": {
      "text/plain": [
       "array([3, 7, 5, 5, 0, 1])"
      ]
     },
     "execution_count": 39,
     "metadata": {},
     "output_type": "execute_result"
    }
   ],
   "source": [
    "x1"
   ]
  },
  {
   "cell_type": "code",
   "execution_count": 40,
   "id": "18053830",
   "metadata": {},
   "outputs": [
    {
     "data": {
      "text/plain": [
       "array([[5, 9, 3, 0],\n",
       "       [5, 0, 1, 2],\n",
       "       [4, 2, 0, 3]])"
      ]
     },
     "execution_count": 40,
     "metadata": {},
     "output_type": "execute_result"
    }
   ],
   "source": [
    "x2"
   ]
  },
  {
   "cell_type": "code",
   "execution_count": 41,
   "id": "ac7d1b0f",
   "metadata": {},
   "outputs": [
    {
     "data": {
      "text/plain": [
       "array([[[2, 0, 7, 5, 9],\n",
       "        [0, 2, 7, 2, 9],\n",
       "        [2, 3, 3, 2, 3],\n",
       "        [4, 1, 2, 9, 1]],\n",
       "\n",
       "       [[4, 6, 8, 2, 3],\n",
       "        [0, 0, 6, 0, 6],\n",
       "        [3, 3, 8, 8, 8],\n",
       "        [2, 3, 2, 0, 8]],\n",
       "\n",
       "       [[8, 3, 8, 2, 8],\n",
       "        [4, 3, 0, 4, 3],\n",
       "        [6, 9, 8, 0, 8],\n",
       "        [5, 9, 0, 9, 6]]])"
      ]
     },
     "execution_count": 41,
     "metadata": {},
     "output_type": "execute_result"
    }
   ],
   "source": [
    "x3"
   ]
  },
  {
   "cell_type": "code",
   "execution_count": 42,
   "id": "bfcf44e4",
   "metadata": {},
   "outputs": [
    {
     "data": {
      "text/plain": [
       "'\\nEach array has attributes ndim( the number of dimensions), shape( the size of each dimension), \\nsize (total size of the array)\\n'"
      ]
     },
     "execution_count": 42,
     "metadata": {},
     "output_type": "execute_result"
    }
   ],
   "source": [
    "#Each array has attributes ndim( the number of dimensions), shape( the size of each dimension), \n",
    "# size (total size of the array), dtype, itemsize(each size of the array), nbytes(total size of the array)"
   ]
  },
  {
   "cell_type": "code",
   "execution_count": 48,
   "id": "ccd733ee",
   "metadata": {},
   "outputs": [
    {
     "name": "stdout",
     "output_type": "stream",
     "text": [
      "x3 ndim: 3\n",
      "x3 shape: (3, 4, 5)\n",
      "x3 size: 60\n",
      "x3 dtype: int64\n",
      "x3 itemsize: 8 bytes\n",
      "x3 nbytes: 480 bytes\n"
     ]
    }
   ],
   "source": [
    "print(\"x3 ndim:\", x3.ndim)\n",
    "print(\"x3 shape:\", x3.shape)\n",
    "print(\"x3 size:\", x3.size)\n",
    "print(\"x3 dtype:\", x3.dtype)\n",
    "print(\"x3 itemsize:\", x3.itemsize, \"bytes\")\n",
    "print(\"x3 nbytes:\", x3.nbytes, \"bytes\")"
   ]
  },
  {
   "cell_type": "markdown",
   "id": "9805c30b",
   "metadata": {},
   "source": [
    "### Array Indexing: Accessing Single Elements\n",
    "\n",
    "1. [x] Attributes of arrays: Determining the dimension, shape, size, memory consumption, and data types of arrays.\n",
    "2. [ ] Indexing of arrays: Getting and setting the values of individual array elements\n",
    "3. [ ] Slicing of arrays: Getting and setting smaller subarrays within a larger array\n",
    "4. [ ] Reshaping of a given array: Changing the shape of a given array\n",
    "5. [ ] Joining and splitting of arrays: Combining multiple arrays into one, and splitting one array into many"
   ]
  },
  {
   "cell_type": "code",
   "execution_count": 49,
   "id": "08e9209d",
   "metadata": {},
   "outputs": [
    {
     "data": {
      "text/plain": [
       "array([3, 7, 5, 5, 0, 1])"
      ]
     },
     "execution_count": 49,
     "metadata": {},
     "output_type": "execute_result"
    }
   ],
   "source": [
    "x1"
   ]
  },
  {
   "cell_type": "code",
   "execution_count": 50,
   "id": "64774dd5",
   "metadata": {},
   "outputs": [
    {
     "data": {
      "text/plain": [
       "3"
      ]
     },
     "execution_count": 50,
     "metadata": {},
     "output_type": "execute_result"
    }
   ],
   "source": [
    "x1[0] # Square bracket to access the individual array elements"
   ]
  },
  {
   "cell_type": "code",
   "execution_count": 51,
   "id": "661e8682",
   "metadata": {},
   "outputs": [
    {
     "data": {
      "text/plain": [
       "0"
      ]
     },
     "execution_count": 51,
     "metadata": {},
     "output_type": "execute_result"
    }
   ],
   "source": [
    "x1[4]"
   ]
  },
  {
   "cell_type": "code",
   "execution_count": 52,
   "id": "642311ad",
   "metadata": {},
   "outputs": [
    {
     "data": {
      "text/plain": [
       "1"
      ]
     },
     "execution_count": 52,
     "metadata": {},
     "output_type": "execute_result"
    }
   ],
   "source": [
    "x1[-1] # use negative indices to access end of the array"
   ]
  },
  {
   "cell_type": "code",
   "execution_count": 53,
   "id": "56b20e9a",
   "metadata": {},
   "outputs": [
    {
     "data": {
      "text/plain": [
       "0"
      ]
     },
     "execution_count": 53,
     "metadata": {},
     "output_type": "execute_result"
    }
   ],
   "source": [
    "x1[-2]"
   ]
  },
  {
   "cell_type": "code",
   "execution_count": 54,
   "id": "4acf9b56",
   "metadata": {},
   "outputs": [
    {
     "data": {
      "text/plain": [
       "array([[5, 9, 3, 0],\n",
       "       [5, 0, 1, 2],\n",
       "       [4, 2, 0, 3]])"
      ]
     },
     "execution_count": 54,
     "metadata": {},
     "output_type": "execute_result"
    }
   ],
   "source": [
    "x2"
   ]
  },
  {
   "cell_type": "code",
   "execution_count": 55,
   "id": "f60b28f3",
   "metadata": {},
   "outputs": [
    {
     "data": {
      "text/plain": [
       "5"
      ]
     },
     "execution_count": 55,
     "metadata": {},
     "output_type": "execute_result"
    }
   ],
   "source": [
    "# In multi-dimensional array, use a comma-separated tuple of indices\n",
    "# first value before comma represents row and after comma the value is of column\n",
    "x2[0,0]"
   ]
  },
  {
   "cell_type": "code",
   "execution_count": 59,
   "id": "904a3bc6",
   "metadata": {},
   "outputs": [
    {
     "data": {
      "text/plain": [
       "2"
      ]
     },
     "execution_count": 59,
     "metadata": {},
     "output_type": "execute_result"
    }
   ],
   "source": [
    "x2[2,1]"
   ]
  },
  {
   "cell_type": "code",
   "execution_count": 57,
   "id": "38935356",
   "metadata": {},
   "outputs": [
    {
     "data": {
      "text/plain": [
       "3"
      ]
     },
     "execution_count": 57,
     "metadata": {},
     "output_type": "execute_result"
    }
   ],
   "source": [
    "x2[2,-1]"
   ]
  },
  {
   "cell_type": "code",
   "execution_count": 61,
   "id": "8536ec9b",
   "metadata": {},
   "outputs": [],
   "source": [
    "# Indexing can be used to modify the value of an item\n",
    "\n",
    "x2[0,3] = 12"
   ]
  },
  {
   "cell_type": "code",
   "execution_count": 62,
   "id": "e2685fc0",
   "metadata": {},
   "outputs": [
    {
     "data": {
      "text/plain": [
       "array([[ 5,  9,  3, 12],\n",
       "       [ 5,  0,  1,  2],\n",
       "       [ 4,  2,  0,  3]])"
      ]
     },
     "execution_count": 62,
     "metadata": {},
     "output_type": "execute_result"
    }
   ],
   "source": [
    "x2"
   ]
  },
  {
   "cell_type": "code",
   "execution_count": 64,
   "id": "abfa4a02",
   "metadata": {},
   "outputs": [
    {
     "data": {
      "text/plain": [
       "array([3, 7, 5, 5, 0, 1])"
      ]
     },
     "execution_count": 64,
     "metadata": {},
     "output_type": "execute_result"
    }
   ],
   "source": [
    "x1"
   ]
  },
  {
   "cell_type": "code",
   "execution_count": 65,
   "id": "3b6005b1",
   "metadata": {},
   "outputs": [],
   "source": [
    "x1[0] = 3.14159 # Assigning float value to integer array will lead to truncate the value"
   ]
  },
  {
   "cell_type": "code",
   "execution_count": 66,
   "id": "29a2ca84",
   "metadata": {},
   "outputs": [
    {
     "data": {
      "text/plain": [
       "array([3, 7, 5, 5, 0, 1])"
      ]
     },
     "execution_count": 66,
     "metadata": {},
     "output_type": "execute_result"
    }
   ],
   "source": [
    "x1"
   ]
  },
  {
   "cell_type": "markdown",
   "id": "63b6680f",
   "metadata": {},
   "source": [
    "### Array Slicing: Accessing Subarrays\n",
    "\n",
    "1. [x] Attributes of arrays: Determining the dimension, shape, size, memory consumption, and data types of arrays.\n",
    "2. [x] Indexing of arrays: Getting and setting the values of individual array elements\n",
    "3. [ ] Slicing of arrays: Getting and setting smaller subarrays within a larger array\n",
    "4. [ ] Reshaping of a given array: Changing the shape of a given array\n",
    "5. [ ] Joining and splitting of arrays: Combining multiple arrays into one, and splitting one array into many"
   ]
  },
  {
   "cell_type": "markdown",
   "id": "beabe935",
   "metadata": {},
   "source": [
    "- **Use square brackets to access subarrays with the slice notation by the colon (:) character**\n",
    "\n",
    "- **x[start:stop:step]**"
   ]
  },
  {
   "cell_type": "markdown",
   "id": "51b6d904",
   "metadata": {},
   "source": [
    "**a. Accessing subarrays in one dimension**\n"
   ]
  },
  {
   "cell_type": "code",
   "execution_count": 4,
   "id": "529ea173",
   "metadata": {},
   "outputs": [],
   "source": [
    "x = np.arange(10)"
   ]
  },
  {
   "cell_type": "code",
   "execution_count": 5,
   "id": "e582b6ca",
   "metadata": {},
   "outputs": [
    {
     "data": {
      "text/plain": [
       "array([0, 1, 2, 3, 4, 5, 6, 7, 8, 9])"
      ]
     },
     "execution_count": 5,
     "metadata": {},
     "output_type": "execute_result"
    }
   ],
   "source": [
    "x"
   ]
  },
  {
   "cell_type": "code",
   "execution_count": 6,
   "id": "a4ca262e",
   "metadata": {},
   "outputs": [
    {
     "data": {
      "text/plain": [
       "array([0, 1, 2, 3, 4])"
      ]
     },
     "execution_count": 6,
     "metadata": {},
     "output_type": "execute_result"
    }
   ],
   "source": [
    "# first five elements\n",
    "x[:5]"
   ]
  },
  {
   "cell_type": "code",
   "execution_count": 7,
   "id": "694e29fe",
   "metadata": {},
   "outputs": [
    {
     "data": {
      "text/plain": [
       "array([5, 6, 7, 8, 9])"
      ]
     },
     "execution_count": 7,
     "metadata": {},
     "output_type": "execute_result"
    }
   ],
   "source": [
    "# elements after index 5\n",
    "x[5:]"
   ]
  },
  {
   "cell_type": "code",
   "execution_count": 8,
   "id": "b7d05f2f",
   "metadata": {},
   "outputs": [
    {
     "data": {
      "text/plain": [
       "array([4, 5, 6])"
      ]
     },
     "execution_count": 8,
     "metadata": {},
     "output_type": "execute_result"
    }
   ],
   "source": [
    "# middle subarrays\n",
    "x[4:7]"
   ]
  },
  {
   "cell_type": "code",
   "execution_count": 9,
   "id": "ff5496bb",
   "metadata": {},
   "outputs": [
    {
     "data": {
      "text/plain": [
       "array([0, 2, 4, 6, 8])"
      ]
     },
     "execution_count": 9,
     "metadata": {},
     "output_type": "execute_result"
    }
   ],
   "source": [
    "# every other element\n",
    "x[::2]"
   ]
  },
  {
   "cell_type": "code",
   "execution_count": 10,
   "id": "19e24383",
   "metadata": {},
   "outputs": [
    {
     "data": {
      "text/plain": [
       "array([1, 3, 5, 7, 9])"
      ]
     },
     "execution_count": 10,
     "metadata": {},
     "output_type": "execute_result"
    }
   ],
   "source": [
    "# every other element starting at index 1\n",
    "x[1::2]"
   ]
  },
  {
   "cell_type": "code",
   "execution_count": 12,
   "id": "33a6019e",
   "metadata": {},
   "outputs": [
    {
     "data": {
      "text/plain": [
       "array([1, 3, 5, 7])"
      ]
     },
     "execution_count": 12,
     "metadata": {},
     "output_type": "execute_result"
    }
   ],
   "source": [
    "# every other element starting at index 1 and stop before index 8\n",
    "x[1:8:2]"
   ]
  },
  {
   "cell_type": "code",
   "execution_count": 13,
   "id": "6171ce91",
   "metadata": {},
   "outputs": [
    {
     "data": {
      "text/plain": [
       "array([9, 8, 7, 6, 5, 4, 3, 2, 1, 0])"
      ]
     },
     "execution_count": 13,
     "metadata": {},
     "output_type": "execute_result"
    }
   ],
   "source": [
    "# reverse the elements by using -1 in steps\n",
    "\n",
    "x[::-1]"
   ]
  },
  {
   "cell_type": "code",
   "execution_count": 14,
   "id": "82f41524",
   "metadata": {},
   "outputs": [
    {
     "data": {
      "text/plain": [
       "array([5, 3, 1])"
      ]
     },
     "execution_count": 14,
     "metadata": {},
     "output_type": "execute_result"
    }
   ],
   "source": [
    "# reverse every other element from index 5\n",
    "\n",
    "x[5::-2]"
   ]
  },
  {
   "cell_type": "markdown",
   "id": "606fecf7",
   "metadata": {},
   "source": [
    "**b. Access Multidimensional subarrays**"
   ]
  },
  {
   "cell_type": "code",
   "execution_count": 17,
   "id": "e4663fb5",
   "metadata": {},
   "outputs": [
    {
     "data": {
      "text/plain": [
       "array([[9, 7, 9, 7],\n",
       "       [2, 3, 3, 4],\n",
       "       [0, 3, 7, 5]])"
      ]
     },
     "execution_count": 17,
     "metadata": {},
     "output_type": "execute_result"
    }
   ],
   "source": [
    "# Multiple slicies separated by commas\n",
    "x2"
   ]
  },
  {
   "cell_type": "code",
   "execution_count": 19,
   "id": "6bfa2e88",
   "metadata": {},
   "outputs": [
    {
     "data": {
      "text/plain": [
       "array([[9, 7, 9],\n",
       "       [2, 3, 3]])"
      ]
     },
     "execution_count": 19,
     "metadata": {},
     "output_type": "execute_result"
    }
   ],
   "source": [
    "# two rows, three columns\n",
    "x2[:2,:3]  #by default it takes start from 0 and step as 1"
   ]
  },
  {
   "cell_type": "code",
   "execution_count": 20,
   "id": "c3aafd44",
   "metadata": {},
   "outputs": [
    {
     "data": {
      "text/plain": [
       "array([[9, 9],\n",
       "       [2, 3],\n",
       "       [0, 7]])"
      ]
     },
     "execution_count": 20,
     "metadata": {},
     "output_type": "execute_result"
    }
   ],
   "source": [
    "# all rows, every other column\n",
    "\n",
    "x2[:3, ::2]"
   ]
  },
  {
   "cell_type": "code",
   "execution_count": 24,
   "id": "a0c2bf6b",
   "metadata": {},
   "outputs": [
    {
     "data": {
      "text/plain": [
       "array([[9, 7, 9, 7],\n",
       "       [2, 3, 3, 4],\n",
       "       [0, 3, 7, 5]])"
      ]
     },
     "execution_count": 24,
     "metadata": {},
     "output_type": "execute_result"
    }
   ],
   "source": [
    "x2"
   ]
  },
  {
   "cell_type": "code",
   "execution_count": 22,
   "id": "1032882b",
   "metadata": {},
   "outputs": [
    {
     "data": {
      "text/plain": [
       "array([[0, 3, 7, 5],\n",
       "       [2, 3, 3, 4],\n",
       "       [9, 7, 9, 7]])"
      ]
     },
     "execution_count": 22,
     "metadata": {},
     "output_type": "execute_result"
    }
   ],
   "source": [
    "x2[::-1, :] # reversing all rows"
   ]
  },
  {
   "cell_type": "code",
   "execution_count": 23,
   "id": "266fc184",
   "metadata": {},
   "outputs": [
    {
     "data": {
      "text/plain": [
       "array([[7, 9, 7, 9],\n",
       "       [4, 3, 3, 2],\n",
       "       [5, 7, 3, 0]])"
      ]
     },
     "execution_count": 23,
     "metadata": {},
     "output_type": "execute_result"
    }
   ],
   "source": [
    "x2[:, ::-1] # reversing all columns"
   ]
  },
  {
   "cell_type": "code",
   "execution_count": 25,
   "id": "fdda43e1",
   "metadata": {},
   "outputs": [
    {
     "data": {
      "text/plain": [
       "array([[5, 7, 3, 0],\n",
       "       [4, 3, 3, 2],\n",
       "       [7, 9, 7, 9]])"
      ]
     },
     "execution_count": 25,
     "metadata": {},
     "output_type": "execute_result"
    }
   ],
   "source": [
    "# reversing rows and columns\n",
    "x2[::-1, ::-1]"
   ]
  },
  {
   "cell_type": "markdown",
   "id": "e7a23011",
   "metadata": {},
   "source": [
    "**c. Accessing array rows and columns**"
   ]
  },
  {
   "cell_type": "code",
   "execution_count": 28,
   "id": "8342e61b",
   "metadata": {},
   "outputs": [
    {
     "data": {
      "text/plain": [
       "array([[9, 7, 9, 7],\n",
       "       [2, 3, 3, 4],\n",
       "       [0, 3, 7, 5]])"
      ]
     },
     "execution_count": 28,
     "metadata": {},
     "output_type": "execute_result"
    }
   ],
   "source": [
    "x2"
   ]
  },
  {
   "cell_type": "code",
   "execution_count": 26,
   "id": "828b0542",
   "metadata": {},
   "outputs": [
    {
     "data": {
      "text/plain": [
       "array([9, 2, 0])"
      ]
     },
     "execution_count": 26,
     "metadata": {},
     "output_type": "execute_result"
    }
   ],
   "source": [
    "# all rows, first column (specify the slice notation only with indexing\n",
    "\n",
    "x2[:,0]"
   ]
  },
  {
   "cell_type": "code",
   "execution_count": 27,
   "id": "9356c40e",
   "metadata": {},
   "outputs": [
    {
     "data": {
      "text/plain": [
       "array([9, 7, 9, 7])"
      ]
     },
     "execution_count": 27,
     "metadata": {},
     "output_type": "execute_result"
    }
   ],
   "source": [
    "# first row, all columns\n",
    "x2[0,:]"
   ]
  },
  {
   "cell_type": "code",
   "execution_count": 29,
   "id": "3cd6dff6",
   "metadata": {},
   "outputs": [
    {
     "data": {
      "text/plain": [
       "array([9, 7, 9, 7])"
      ]
     },
     "execution_count": 29,
     "metadata": {},
     "output_type": "execute_result"
    }
   ],
   "source": [
    "x2[0] # is equivalent to x2[0,:]"
   ]
  },
  {
   "cell_type": "markdown",
   "id": "7d40884b",
   "metadata": {},
   "source": [
    "**d. Subarrays as no-copy views**\n",
    "- Arrays slices return views rather than copies of the array data"
   ]
  },
  {
   "cell_type": "code",
   "execution_count": 31,
   "id": "f4f6eb48",
   "metadata": {},
   "outputs": [
    {
     "name": "stdout",
     "output_type": "stream",
     "text": [
      "[[9 7 9 7]\n",
      " [2 3 3 4]\n",
      " [0 3 7 5]]\n"
     ]
    }
   ],
   "source": [
    "print(x2)"
   ]
  },
  {
   "cell_type": "code",
   "execution_count": 32,
   "id": "f2adf087",
   "metadata": {},
   "outputs": [],
   "source": [
    "# extract 2x2 subarray from x2\n",
    "\n",
    "x2_sub = x2[:2,:2]"
   ]
  },
  {
   "cell_type": "code",
   "execution_count": 33,
   "id": "449c0487",
   "metadata": {},
   "outputs": [
    {
     "data": {
      "text/plain": [
       "array([[9, 7],\n",
       "       [2, 3]])"
      ]
     },
     "execution_count": 33,
     "metadata": {},
     "output_type": "execute_result"
    }
   ],
   "source": [
    "x2_sub"
   ]
  },
  {
   "cell_type": "code",
   "execution_count": 34,
   "id": "b6d6da4e",
   "metadata": {},
   "outputs": [],
   "source": [
    "x2_sub[0,0] = 99"
   ]
  },
  {
   "cell_type": "code",
   "execution_count": 35,
   "id": "b66677b6",
   "metadata": {},
   "outputs": [
    {
     "data": {
      "text/plain": [
       "array([[99,  7],\n",
       "       [ 2,  3]])"
      ]
     },
     "execution_count": 35,
     "metadata": {},
     "output_type": "execute_result"
    }
   ],
   "source": [
    "x2_sub"
   ]
  },
  {
   "cell_type": "code",
   "execution_count": 36,
   "id": "c5f35f06",
   "metadata": {},
   "outputs": [
    {
     "data": {
      "text/plain": [
       "array([[99,  7,  9,  7],\n",
       "       [ 2,  3,  3,  4],\n",
       "       [ 0,  3,  7,  5]])"
      ]
     },
     "execution_count": 36,
     "metadata": {},
     "output_type": "execute_result"
    }
   ],
   "source": [
    "x2"
   ]
  },
  {
   "cell_type": "markdown",
   "id": "20ca83fd",
   "metadata": {},
   "source": [
    "**e. Creating copies of arrays**\n",
    "- By using the method copy()"
   ]
  },
  {
   "cell_type": "code",
   "execution_count": 42,
   "id": "3cf30569",
   "metadata": {},
   "outputs": [],
   "source": [
    "x2_sub_copy = x2[:2,:2].copy()"
   ]
  },
  {
   "cell_type": "code",
   "execution_count": 43,
   "id": "8fa9f089",
   "metadata": {},
   "outputs": [
    {
     "data": {
      "text/plain": [
       "array([[99,  7],\n",
       "       [ 2,  3]])"
      ]
     },
     "execution_count": 43,
     "metadata": {},
     "output_type": "execute_result"
    }
   ],
   "source": [
    "x2_sub_copy"
   ]
  },
  {
   "cell_type": "code",
   "execution_count": 44,
   "id": "0940fa8a",
   "metadata": {},
   "outputs": [],
   "source": [
    "x2_sub_copy[0,0] = 42"
   ]
  },
  {
   "cell_type": "code",
   "execution_count": 45,
   "id": "047001bd",
   "metadata": {},
   "outputs": [
    {
     "data": {
      "text/plain": [
       "array([[42,  7],\n",
       "       [ 2,  3]])"
      ]
     },
     "execution_count": 45,
     "metadata": {},
     "output_type": "execute_result"
    }
   ],
   "source": [
    "x2_sub_copy"
   ]
  },
  {
   "cell_type": "code",
   "execution_count": 46,
   "id": "dca70838",
   "metadata": {},
   "outputs": [
    {
     "data": {
      "text/plain": [
       "array([[99,  7,  9,  7],\n",
       "       [ 2,  3,  3,  4],\n",
       "       [ 0,  3,  7,  5]])"
      ]
     },
     "execution_count": 46,
     "metadata": {},
     "output_type": "execute_result"
    }
   ],
   "source": [
    "x2"
   ]
  },
  {
   "cell_type": "markdown",
   "id": "07cc0428",
   "metadata": {},
   "source": [
    "### Reshaping of Arrays\n",
    "\n",
    "1. [x] Attributes of arrays: Determining the dimension, shape, size, memory consumption, and data types of arrays.\n",
    "2. [x] Indexing of arrays: Getting and setting the values of individual array elements\n",
    "3. [x] Slicing of arrays: Getting and setting smaller subarrays within a larger array\n",
    "4. [ ] Reshaping of a given array: Changing the shape of a given array\n",
    "5. [ ] Joining and splitting of arrays: Combining multiple arrays into one, and splitting one array into many"
   ]
  },
  {
   "cell_type": "markdown",
   "id": "082240d0",
   "metadata": {},
   "source": [
    "**- Use of reshape() method to transform the data**"
   ]
  },
  {
   "cell_type": "code",
   "execution_count": 48,
   "id": "0f3bf49a",
   "metadata": {},
   "outputs": [],
   "source": [
    "grid = np.arange(1,10).reshape(3,3)"
   ]
  },
  {
   "cell_type": "code",
   "execution_count": 50,
   "id": "ff0e7d36",
   "metadata": {},
   "outputs": [
    {
     "name": "stdout",
     "output_type": "stream",
     "text": [
      "[[1 2 3]\n",
      " [4 5 6]\n",
      " [7 8 9]]\n"
     ]
    }
   ],
   "source": [
    "print(grid)"
   ]
  },
  {
   "cell_type": "markdown",
   "id": "cf137641",
   "metadata": {},
   "source": [
    "**- Conversion of one-dimensional array into a two-dimensional row or column matrix**"
   ]
  },
  {
   "cell_type": "code",
   "execution_count": 51,
   "id": "f284fe6e",
   "metadata": {},
   "outputs": [],
   "source": [
    "x = np.array([1,2,3])"
   ]
  },
  {
   "cell_type": "code",
   "execution_count": 52,
   "id": "b0899091",
   "metadata": {},
   "outputs": [
    {
     "data": {
      "text/plain": [
       "array([1, 2, 3])"
      ]
     },
     "execution_count": 52,
     "metadata": {},
     "output_type": "execute_result"
    }
   ],
   "source": [
    "x"
   ]
  },
  {
   "cell_type": "code",
   "execution_count": 53,
   "id": "68af0ee0",
   "metadata": {},
   "outputs": [
    {
     "data": {
      "text/plain": [
       "array([[1, 2, 3]])"
      ]
     },
     "execution_count": 53,
     "metadata": {},
     "output_type": "execute_result"
    }
   ],
   "source": [
    "x.reshape(1,3) # row vector via reshape"
   ]
  },
  {
   "cell_type": "code",
   "execution_count": 54,
   "id": "694a253b",
   "metadata": {},
   "outputs": [
    {
     "data": {
      "text/plain": [
       "array([[1, 2, 3]])"
      ]
     },
     "execution_count": 54,
     "metadata": {},
     "output_type": "execute_result"
    }
   ],
   "source": [
    "x[np.newaxis, :] # row vector via newaxis"
   ]
  },
  {
   "cell_type": "code",
   "execution_count": 55,
   "id": "3f0eb6b9",
   "metadata": {},
   "outputs": [
    {
     "data": {
      "text/plain": [
       "array([[1],\n",
       "       [2],\n",
       "       [3]])"
      ]
     },
     "execution_count": 55,
     "metadata": {},
     "output_type": "execute_result"
    }
   ],
   "source": [
    "x.reshape(3,1) # column vector via reshape"
   ]
  },
  {
   "cell_type": "code",
   "execution_count": 56,
   "id": "f9a0e3b3",
   "metadata": {},
   "outputs": [
    {
     "data": {
      "text/plain": [
       "array([[1],\n",
       "       [2],\n",
       "       [3]])"
      ]
     },
     "execution_count": 56,
     "metadata": {},
     "output_type": "execute_result"
    }
   ],
   "source": [
    "x[:, np.newaxis] # column vector via newaxis"
   ]
  },
  {
   "cell_type": "markdown",
   "id": "673bf4ce",
   "metadata": {},
   "source": [
    "### Array Concatenation and Splitting\n",
    "\n",
    "1. [x] Attributes of arrays: Determining the dimension, shape, size, memory consumption, and data types of arrays.\n",
    "2. [x] Indexing of arrays: Getting and setting the values of individual array elements\n",
    "3. [x] Slicing of arrays: Getting and setting smaller subarrays within a larger array\n",
    "4. [X] Reshaping of a given array: Changing the shape of a given array\n",
    "5. [ ] Joining and splitting of arrays: Combining multiple arrays into one, and splitting one array into many"
   ]
  },
  {
   "cell_type": "markdown",
   "id": "c7e19d42",
   "metadata": {},
   "source": [
    "**a. Concatenation of arrays**\n",
    "- By using np.concatenate, np.vstack, and np.hstack"
   ]
  },
  {
   "cell_type": "code",
   "execution_count": 85,
   "id": "e53a5d46",
   "metadata": {},
   "outputs": [],
   "source": [
    "# One-dimensional array\n",
    "\n",
    "x = np.array([1,2,3])\n",
    "y = np.array([3,2,1])"
   ]
  },
  {
   "cell_type": "code",
   "execution_count": 86,
   "id": "cb972d08",
   "metadata": {},
   "outputs": [
    {
     "data": {
      "text/plain": [
       "array([1, 2, 3, 3, 2, 1])"
      ]
     },
     "execution_count": 86,
     "metadata": {},
     "output_type": "execute_result"
    }
   ],
   "source": [
    "np.concatenate([x, y])"
   ]
  },
  {
   "cell_type": "code",
   "execution_count": 87,
   "id": "180d27be",
   "metadata": {},
   "outputs": [],
   "source": [
    "# Concatenate more than two dimensional array\n",
    "\n",
    "z = np.array([99,99,99])"
   ]
  },
  {
   "cell_type": "code",
   "execution_count": 88,
   "id": "5642033e",
   "metadata": {},
   "outputs": [
    {
     "data": {
      "text/plain": [
       "array([ 1,  2,  3,  3,  2,  1, 99, 99, 99])"
      ]
     },
     "execution_count": 88,
     "metadata": {},
     "output_type": "execute_result"
    }
   ],
   "source": [
    "np.concatenate([x, y, z])"
   ]
  },
  {
   "cell_type": "code",
   "execution_count": 69,
   "id": "b3aa343a",
   "metadata": {},
   "outputs": [],
   "source": [
    "# Concatenation for two-dimensional array\n",
    "\n",
    "grid = np.arange(1,7).reshape(2,3)"
   ]
  },
  {
   "cell_type": "code",
   "execution_count": 70,
   "id": "d5112de1",
   "metadata": {},
   "outputs": [
    {
     "data": {
      "text/plain": [
       "array([[1, 2, 3],\n",
       "       [4, 5, 6]])"
      ]
     },
     "execution_count": 70,
     "metadata": {},
     "output_type": "execute_result"
    }
   ],
   "source": [
    "grid"
   ]
  },
  {
   "cell_type": "code",
   "execution_count": 71,
   "id": "a69378d0",
   "metadata": {},
   "outputs": [
    {
     "data": {
      "text/plain": [
       "array([[1, 2, 3],\n",
       "       [4, 5, 6],\n",
       "       [1, 2, 3],\n",
       "       [4, 5, 6]])"
      ]
     },
     "execution_count": 71,
     "metadata": {},
     "output_type": "execute_result"
    }
   ],
   "source": [
    "np.concatenate([grid, grid]) # on axis=0 or rows"
   ]
  },
  {
   "cell_type": "code",
   "execution_count": 72,
   "id": "8aa4fad8",
   "metadata": {},
   "outputs": [
    {
     "data": {
      "text/plain": [
       "array([[1, 2, 3, 1, 2, 3],\n",
       "       [4, 5, 6, 4, 5, 6]])"
      ]
     },
     "execution_count": 72,
     "metadata": {},
     "output_type": "execute_result"
    }
   ],
   "source": [
    "np.concatenate([grid, grid], axis=1) # on axis=1 or columns"
   ]
  },
  {
   "cell_type": "markdown",
   "id": "f9017d7d",
   "metadata": {},
   "source": [
    "**- Mixed dimensions can be concatenated by using np.vstack, and np.hstack**"
   ]
  },
  {
   "cell_type": "code",
   "execution_count": 74,
   "id": "9a044eaf",
   "metadata": {},
   "outputs": [
    {
     "data": {
      "text/plain": [
       "array([1, 2, 3])"
      ]
     },
     "execution_count": 74,
     "metadata": {},
     "output_type": "execute_result"
    }
   ],
   "source": [
    "x"
   ]
  },
  {
   "cell_type": "code",
   "execution_count": 75,
   "id": "c37ea910",
   "metadata": {},
   "outputs": [
    {
     "data": {
      "text/plain": [
       "array([[1, 2, 3],\n",
       "       [4, 5, 6]])"
      ]
     },
     "execution_count": 75,
     "metadata": {},
     "output_type": "execute_result"
    }
   ],
   "source": [
    "grid"
   ]
  },
  {
   "cell_type": "code",
   "execution_count": 76,
   "id": "894bd381",
   "metadata": {},
   "outputs": [
    {
     "data": {
      "text/plain": [
       "array([[1, 2, 3],\n",
       "       [1, 2, 3],\n",
       "       [4, 5, 6]])"
      ]
     },
     "execution_count": 76,
     "metadata": {},
     "output_type": "execute_result"
    }
   ],
   "source": [
    "np.vstack([x, grid]) # Vertically stack the arrays"
   ]
  },
  {
   "cell_type": "code",
   "execution_count": 78,
   "id": "532b4cd7",
   "metadata": {},
   "outputs": [],
   "source": [
    "y = np.array([[99], [99]])"
   ]
  },
  {
   "cell_type": "code",
   "execution_count": 79,
   "id": "c48002c3",
   "metadata": {},
   "outputs": [
    {
     "data": {
      "text/plain": [
       "array([[99],\n",
       "       [99]])"
      ]
     },
     "execution_count": 79,
     "metadata": {},
     "output_type": "execute_result"
    }
   ],
   "source": [
    "y"
   ]
  },
  {
   "cell_type": "code",
   "execution_count": 80,
   "id": "3cf50224",
   "metadata": {},
   "outputs": [
    {
     "data": {
      "text/plain": [
       "array([[99,  1,  2,  3],\n",
       "       [99,  4,  5,  6]])"
      ]
     },
     "execution_count": 80,
     "metadata": {},
     "output_type": "execute_result"
    }
   ],
   "source": [
    "np.hstack([y, grid]) # horizontally stack the arrays"
   ]
  },
  {
   "cell_type": "markdown",
   "id": "74f5b9ff",
   "metadata": {},
   "source": [
    "**b. Splitting of arrays**\n",
    "- By implementing the functions np.split, np.vsplit, and np.hsplit\n",
    "- Passing a list of indices giving the split points"
   ]
  },
  {
   "cell_type": "code",
   "execution_count": 89,
   "id": "2f11fd02",
   "metadata": {},
   "outputs": [],
   "source": [
    "x = [1,2,3,99,99, 3,2,1]"
   ]
  },
  {
   "cell_type": "code",
   "execution_count": 90,
   "id": "bad8182d",
   "metadata": {},
   "outputs": [
    {
     "data": {
      "text/plain": [
       "[1, 2, 3, 99, 99, 3, 2, 1]"
      ]
     },
     "execution_count": 90,
     "metadata": {},
     "output_type": "execute_result"
    }
   ],
   "source": [
    "x"
   ]
  },
  {
   "cell_type": "code",
   "execution_count": 93,
   "id": "d5f9024e",
   "metadata": {},
   "outputs": [],
   "source": [
    "x1,x2,x3 = np.split(x,[3,6]) # N split points leads to N+1 subarrays"
   ]
  },
  {
   "cell_type": "code",
   "execution_count": 94,
   "id": "70b19914",
   "metadata": {},
   "outputs": [
    {
     "name": "stdout",
     "output_type": "stream",
     "text": [
      "[1 2 3] [99 99  3] [2 1]\n"
     ]
    }
   ],
   "source": [
    "print(x1,x2,x3)"
   ]
  },
  {
   "cell_type": "code",
   "execution_count": 95,
   "id": "ca0522d1",
   "metadata": {},
   "outputs": [
    {
     "name": "stdout",
     "output_type": "stream",
     "text": [
      "[[ 0  1  2  3]\n",
      " [ 4  5  6  7]\n",
      " [ 8  9 10 11]\n",
      " [12 13 14 15]]\n"
     ]
    }
   ],
   "source": [
    "# vertical split\n",
    "\n",
    "grid = np.arange(16).reshape(4,4)\n",
    "print(grid)"
   ]
  },
  {
   "cell_type": "code",
   "execution_count": 96,
   "id": "c0d89d97",
   "metadata": {},
   "outputs": [],
   "source": [
    "upper, lower = np.vsplit(grid,[2])"
   ]
  },
  {
   "cell_type": "code",
   "execution_count": 97,
   "id": "ba567c53",
   "metadata": {},
   "outputs": [
    {
     "name": "stdout",
     "output_type": "stream",
     "text": [
      "[[0 1 2 3]\n",
      " [4 5 6 7]]\n",
      "[[ 8  9 10 11]\n",
      " [12 13 14 15]]\n"
     ]
    }
   ],
   "source": [
    "print(upper)\n",
    "print(lower)"
   ]
  },
  {
   "cell_type": "code",
   "execution_count": 98,
   "id": "d9601fcb",
   "metadata": {},
   "outputs": [],
   "source": [
    "# horizontal split\n",
    "\n",
    "left, right = np.hsplit(grid,[2])"
   ]
  },
  {
   "cell_type": "code",
   "execution_count": 99,
   "id": "8661e4de",
   "metadata": {},
   "outputs": [
    {
     "name": "stdout",
     "output_type": "stream",
     "text": [
      "[[ 0  1]\n",
      " [ 4  5]\n",
      " [ 8  9]\n",
      " [12 13]]\n",
      "[[ 2  3]\n",
      " [ 6  7]\n",
      " [10 11]\n",
      " [14 15]]\n"
     ]
    }
   ],
   "source": [
    "print(left)\n",
    "print(right)"
   ]
  },
  {
   "cell_type": "markdown",
   "id": "91ff670f",
   "metadata": {},
   "source": [
    "### Summary completion of Basics of NumPy Arrays\n",
    "\n",
    "1. [x] Attributes of arrays: Determining the dimension, shape, size, memory consumption, and data types of arrays.\n",
    "2. [x] Indexing of arrays: Getting and setting the values of individual array elements\n",
    "3. [x] Slicing of arrays: Getting and setting smaller subarrays within a larger array\n",
    "4. [X] Reshaping of a given array: Changing the shape of a given array\n",
    "5. [x] Joining and splitting of arrays: Combining multiple arrays into one, and splitting one array into many"
   ]
  },
  {
   "cell_type": "markdown",
   "id": "513b9181",
   "metadata": {},
   "source": [
    "## Computation on NumPy Arrays: Universal Functions"
   ]
  },
  {
   "cell_type": "code",
   "execution_count": 100,
   "id": "4ca4c6ff",
   "metadata": {},
   "outputs": [],
   "source": [
    "# As we have Python native arithmatic operators like addition, subtraction, multiplication, \n",
    "# and division. So, we have artihmatic functions in NumPy"
   ]
  },
  {
   "cell_type": "code",
   "execution_count": 101,
   "id": "3a6de2ef",
   "metadata": {},
   "outputs": [
    {
     "name": "stdout",
     "output_type": "stream",
     "text": [
      "[0 1 2 3]\n"
     ]
    }
   ],
   "source": [
    "x = np.arange(4)\n"
   ]
  },
  {
   "cell_type": "code",
   "execution_count": 104,
   "id": "b325747d",
   "metadata": {},
   "outputs": [
    {
     "name": "stdout",
     "output_type": "stream",
     "text": [
      "x =  [0 1 2 3]\n",
      "x + 5 = [5 6 7 8]\n",
      "x -  5 = [-5 -4 -3 -2]\n",
      "x * 2 = [0 2 4 6]\n",
      "x / 2 = [0.  0.5 1.  1.5]\n",
      "x // 2 = [0 0 1 1]\n"
     ]
    }
   ],
   "source": [
    "print(\"x = \", x)\n",
    "print(\"x + 5 =\", x + 5)\n",
    "print(\"x -  5 =\", x - 5)\n",
    "print(\"x * 2 =\", x * 2)\n",
    "print(\"x / 2 =\", x / 2)\n",
    "print( \"x // 2 =\", x // 2)"
   ]
  },
  {
   "cell_type": "code",
   "execution_count": 107,
   "id": "8ebb4175",
   "metadata": {},
   "outputs": [
    {
     "name": "stdout",
     "output_type": "stream",
     "text": [
      "-x =  [ 0 -1 -2 -3]\n",
      "x ** 2 =  [0 1 4 9]\n",
      "x % 2 = [0 1 0 1]\n"
     ]
    }
   ],
   "source": [
    "print(\"-x = \", -x) # negation\n",
    "print(\"x ** 2 = \", x ** 2) # exponentiation\n",
    "print(\"x % 2 =\", x % 2) # Modulus"
   ]
  },
  {
   "cell_type": "code",
   "execution_count": 109,
   "id": "31c18a9a",
   "metadata": {},
   "outputs": [
    {
     "data": {
      "text/plain": [
       "array([2, 3, 4, 5])"
      ]
     },
     "execution_count": 109,
     "metadata": {},
     "output_type": "execute_result"
    }
   ],
   "source": [
    "np.add(x, 2)"
   ]
  },
  {
   "cell_type": "code",
   "execution_count": 110,
   "id": "aa9bea9a",
   "metadata": {},
   "outputs": [
    {
     "data": {
      "text/plain": [
       "array([-3, -2, -1,  0])"
      ]
     },
     "execution_count": 110,
     "metadata": {},
     "output_type": "execute_result"
    }
   ],
   "source": [
    "np.subtract(x, 3)"
   ]
  },
  {
   "cell_type": "code",
   "execution_count": 111,
   "id": "a58e3c09",
   "metadata": {},
   "outputs": [
    {
     "data": {
      "text/plain": [
       "array([ 0, -1, -2, -3])"
      ]
     },
     "execution_count": 111,
     "metadata": {},
     "output_type": "execute_result"
    }
   ],
   "source": [
    "np.negative(x)"
   ]
  },
  {
   "cell_type": "code",
   "execution_count": 112,
   "id": "a90dbd95",
   "metadata": {},
   "outputs": [
    {
     "data": {
      "text/plain": [
       "array([ 0,  4,  8, 12])"
      ]
     },
     "execution_count": 112,
     "metadata": {},
     "output_type": "execute_result"
    }
   ],
   "source": [
    "np.multiply(x, 4)"
   ]
  },
  {
   "cell_type": "code",
   "execution_count": 113,
   "id": "4412e42f",
   "metadata": {},
   "outputs": [
    {
     "data": {
      "text/plain": [
       "array([0. , 0.5, 1. , 1.5])"
      ]
     },
     "execution_count": 113,
     "metadata": {},
     "output_type": "execute_result"
    }
   ],
   "source": [
    "np.divide(x, 2)"
   ]
  },
  {
   "cell_type": "code",
   "execution_count": 114,
   "id": "3d83939c",
   "metadata": {},
   "outputs": [
    {
     "data": {
      "text/plain": [
       "array([0, 0, 1, 1])"
      ]
     },
     "execution_count": 114,
     "metadata": {},
     "output_type": "execute_result"
    }
   ],
   "source": [
    "np.floor_divide(x, 2)"
   ]
  },
  {
   "cell_type": "code",
   "execution_count": 115,
   "id": "6d53b088",
   "metadata": {},
   "outputs": [
    {
     "data": {
      "text/plain": [
       "array([0, 1, 4, 9])"
      ]
     },
     "execution_count": 115,
     "metadata": {},
     "output_type": "execute_result"
    }
   ],
   "source": [
    "np.power(x, 2)"
   ]
  },
  {
   "cell_type": "code",
   "execution_count": 116,
   "id": "83ff7ed4",
   "metadata": {},
   "outputs": [
    {
     "data": {
      "text/plain": [
       "array([0, 1, 0, 1])"
      ]
     },
     "execution_count": 116,
     "metadata": {},
     "output_type": "execute_result"
    }
   ],
   "source": [
    "np.mod(x, 2)"
   ]
  },
  {
   "cell_type": "code",
   "execution_count": 117,
   "id": "06607558",
   "metadata": {},
   "outputs": [],
   "source": [
    "# Absolute function\n",
    "\n",
    "x = np.array([-2, -1, 0, 1, 2])"
   ]
  },
  {
   "cell_type": "code",
   "execution_count": 118,
   "id": "de1d1762",
   "metadata": {},
   "outputs": [
    {
     "data": {
      "text/plain": [
       "array([2, 1, 0, 1, 2])"
      ]
     },
     "execution_count": 118,
     "metadata": {},
     "output_type": "execute_result"
    }
   ],
   "source": [
    "abs(x)"
   ]
  },
  {
   "cell_type": "code",
   "execution_count": 119,
   "id": "a84e96b7",
   "metadata": {},
   "outputs": [
    {
     "data": {
      "text/plain": [
       "array([2, 1, 0, 1, 2])"
      ]
     },
     "execution_count": 119,
     "metadata": {},
     "output_type": "execute_result"
    }
   ],
   "source": [
    "np.abs(x)"
   ]
  },
  {
   "cell_type": "code",
   "execution_count": 120,
   "id": "a476b5e8",
   "metadata": {},
   "outputs": [
    {
     "data": {
      "text/plain": [
       "array([2, 1, 0, 1, 2])"
      ]
     },
     "execution_count": 120,
     "metadata": {},
     "output_type": "execute_result"
    }
   ],
   "source": [
    "np.absolute(x) # np.abs is the shorthand function"
   ]
  },
  {
   "cell_type": "markdown",
   "id": "c1547028",
   "metadata": {},
   "source": [
    "**- Calculating logarithmic value by using natural log, base-2, or base-10**"
   ]
  },
  {
   "cell_type": "code",
   "execution_count": 121,
   "id": "6001eace",
   "metadata": {},
   "outputs": [],
   "source": [
    "x = [1, 2, 4, 10]"
   ]
  },
  {
   "cell_type": "code",
   "execution_count": 124,
   "id": "f4b1a8a5",
   "metadata": {},
   "outputs": [
    {
     "name": "stdout",
     "output_type": "stream",
     "text": [
      "ln(x) [0.         0.69314718 1.38629436 2.30258509]\n",
      "log2(x) [0.         1.         2.         3.32192809]\n",
      "log10(x) [0.         0.30103    0.60205999 1.        ]\n"
     ]
    }
   ],
   "source": [
    "print(\"ln(x)\",np.log(x))\n",
    "print(\"log2(x)\",np.log2(x))\n",
    "print(\"log10(x)\",np.log10(x))"
   ]
  },
  {
   "cell_type": "markdown",
   "id": "51495702",
   "metadata": {},
   "source": [
    "## Aggregations: Min, Max and others"
   ]
  },
  {
   "cell_type": "markdown",
   "id": "e1120516",
   "metadata": {},
   "source": [
    "- One dimension aggregate operation"
   ]
  },
  {
   "cell_type": "code",
   "execution_count": 125,
   "id": "0c25cbf6",
   "metadata": {},
   "outputs": [],
   "source": [
    "L = np.random.random(100) "
   ]
  },
  {
   "cell_type": "code",
   "execution_count": 126,
   "id": "1e0e2899",
   "metadata": {},
   "outputs": [
    {
     "data": {
      "text/plain": [
       "46.49012388313727"
      ]
     },
     "execution_count": 126,
     "metadata": {},
     "output_type": "execute_result"
    }
   ],
   "source": [
    "sum(L) #Python built in aggregation function"
   ]
  },
  {
   "cell_type": "code",
   "execution_count": 127,
   "id": "778f5876",
   "metadata": {},
   "outputs": [
    {
     "data": {
      "text/plain": [
       "46.490123883137294"
      ]
     },
     "execution_count": 127,
     "metadata": {},
     "output_type": "execute_result"
    }
   ],
   "source": [
    "np.sum(L) #NumPy built in aggregation function"
   ]
  },
  {
   "cell_type": "code",
   "execution_count": 129,
   "id": "87d3e05a",
   "metadata": {},
   "outputs": [
    {
     "name": "stdout",
     "output_type": "stream",
     "text": [
      "8.33 µs ± 30.9 ns per loop (mean ± std. dev. of 7 runs, 100000 loops each)\n",
      "2.66 µs ± 21.9 ns per loop (mean ± std. dev. of 7 runs, 100000 loops each)\n"
     ]
    }
   ],
   "source": [
    "%timeit sum(L)\n",
    "%timeit np.sum(L)"
   ]
  },
  {
   "cell_type": "code",
   "execution_count": 130,
   "id": "1c1d5f38",
   "metadata": {},
   "outputs": [],
   "source": [
    "big_array = np.random.random(1000000)"
   ]
  },
  {
   "cell_type": "code",
   "execution_count": 131,
   "id": "b835ede0",
   "metadata": {},
   "outputs": [
    {
     "name": "stdout",
     "output_type": "stream",
     "text": [
      "78.6 ms ± 382 µs per loop (mean ± std. dev. of 7 runs, 10 loops each)\n",
      "193 µs ± 929 ns per loop (mean ± std. dev. of 7 runs, 10000 loops each)\n"
     ]
    }
   ],
   "source": [
    "%timeit sum(big_array)\n",
    "%timeit np.sum(big_array)"
   ]
  },
  {
   "cell_type": "code",
   "execution_count": 133,
   "id": "aab69891",
   "metadata": {},
   "outputs": [
    {
     "name": "stdout",
     "output_type": "stream",
     "text": [
      "0.004377978446895026\n",
      "0.9999707926217818\n"
     ]
    }
   ],
   "source": [
    "# Python built-in min and max\n",
    "print(min(L))\n",
    "print(max(L))"
   ]
  },
  {
   "cell_type": "code",
   "execution_count": 134,
   "id": "47739f83",
   "metadata": {},
   "outputs": [
    {
     "name": "stdout",
     "output_type": "stream",
     "text": [
      "0.004377978446895026\n",
      "0.9999707926217818\n"
     ]
    }
   ],
   "source": [
    "# NumPy buil-in min and max\n",
    "\n",
    "print(np.min(L))\n",
    "print(np.max(L))"
   ]
  },
  {
   "cell_type": "code",
   "execution_count": 138,
   "id": "00ed09d0",
   "metadata": {},
   "outputs": [
    {
     "data": {
      "text/plain": [
       "(0.004377978446895026, 0.9999707926217818, 46.49012388313727)"
      ]
     },
     "execution_count": 138,
     "metadata": {},
     "output_type": "execute_result"
    }
   ],
   "source": [
    "min(L), max(L), sum(L)"
   ]
  },
  {
   "cell_type": "code",
   "execution_count": 137,
   "id": "c46e30f3",
   "metadata": {},
   "outputs": [
    {
     "name": "stdout",
     "output_type": "stream",
     "text": [
      "1.0202525901892301e-07 0.9999989458789282 499577.5280977442\n"
     ]
    }
   ],
   "source": [
    "# NumPy aggregates short syntax\n",
    "\n",
    "print(big_array.min(), big_array.max(), big_array.sum())"
   ]
  },
  {
   "cell_type": "markdown",
   "id": "3c83650a",
   "metadata": {},
   "source": [
    "**- Multi-dimensional aggregates**\n",
    "- Aggregation against row or column "
   ]
  },
  {
   "cell_type": "code",
   "execution_count": 3,
   "id": "70696c8b",
   "metadata": {},
   "outputs": [],
   "source": [
    "M = np.random.random((3,4))"
   ]
  },
  {
   "cell_type": "code",
   "execution_count": 4,
   "id": "e2ead5b0",
   "metadata": {},
   "outputs": [
    {
     "data": {
      "text/plain": [
       "array([[0.43894429, 0.80216422, 0.07477117, 0.04854035],\n",
       "       [0.48822921, 0.63274277, 0.080721  , 0.54700134],\n",
       "       [0.71298675, 0.35752035, 0.28493925, 0.21538613]])"
      ]
     },
     "execution_count": 4,
     "metadata": {},
     "output_type": "execute_result"
    }
   ],
   "source": [
    "M"
   ]
  },
  {
   "cell_type": "code",
   "execution_count": 6,
   "id": "6da70bb8",
   "metadata": {},
   "outputs": [
    {
     "data": {
      "text/plain": [
       "array([1.64016025, 1.79242734, 0.44043142, 0.81092782])"
      ]
     },
     "execution_count": 6,
     "metadata": {},
     "output_type": "execute_result"
    }
   ],
   "source": [
    "sum(M)"
   ]
  },
  {
   "cell_type": "code",
   "execution_count": 5,
   "id": "c39c7d21",
   "metadata": {},
   "outputs": [
    {
     "data": {
      "text/plain": [
       "4.68394683342652"
      ]
     },
     "execution_count": 5,
     "metadata": {},
     "output_type": "execute_result"
    }
   ],
   "source": [
    "M.sum() # by default it will return the aggregate over the entire array"
   ]
  },
  {
   "cell_type": "markdown",
   "id": "920a25c2",
   "metadata": {},
   "source": [
    "**- The axis keyword used here are confusing**\n",
    "- Here it is specifies the dimension of the array that will be collapsed\n",
    "- Rather than the dimension that will be returned"
   ]
  },
  {
   "cell_type": "code",
   "execution_count": 7,
   "id": "057953ea",
   "metadata": {},
   "outputs": [
    {
     "data": {
      "text/plain": [
       "array([0.43894429, 0.35752035, 0.07477117, 0.04854035])"
      ]
     },
     "execution_count": 7,
     "metadata": {},
     "output_type": "execute_result"
    }
   ],
   "source": [
    "M.min(axis = 0) # find the min values within each column by specifying axis=0"
   ]
  },
  {
   "cell_type": "code",
   "execution_count": 144,
   "id": "ab5615a9",
   "metadata": {},
   "outputs": [
    {
     "data": {
      "text/plain": [
       "array([0.8640827 , 0.7889667 , 0.78527936])"
      ]
     },
     "execution_count": 144,
     "metadata": {},
     "output_type": "execute_result"
    }
   ],
   "source": [
    "M.max(axis = 1) # find the min values within each row by specifying axis=1"
   ]
  },
  {
   "cell_type": "markdown",
   "id": "1e85c4d6",
   "metadata": {},
   "source": [
    "## Computation on Arrays: Broadcasting"
   ]
  },
  {
   "cell_type": "markdown",
   "id": "f83f6170",
   "metadata": {},
   "source": [
    "**- NumPy universal functions can be used to vectorize operations**\n",
    "- Another means of vectorizing operations is to use NumPy's broadcasting functionality\n",
    "- Broadcasting is simply a set of rules to apply binary functions ('+', '-', 'x') on arrays of different sizes."
   ]
  },
  {
   "cell_type": "code",
   "execution_count": 2,
   "id": "2383e4b6",
   "metadata": {},
   "outputs": [],
   "source": [
    "# Binary operation on same size of array\n",
    "\n",
    "a = np.array([0, 1, 2])\n",
    "b = np.array([5, 5, 5])"
   ]
  },
  {
   "cell_type": "code",
   "execution_count": 3,
   "id": "6c69ea95",
   "metadata": {},
   "outputs": [
    {
     "data": {
      "text/plain": [
       "array([5, 6, 7])"
      ]
     },
     "execution_count": 3,
     "metadata": {},
     "output_type": "execute_result"
    }
   ],
   "source": [
    "a + b"
   ]
  },
  {
   "cell_type": "markdown",
   "id": "c8bd5e8f",
   "metadata": {},
   "source": [
    "**- How about the binary operation when the size of arrays are different?**\n"
   ]
  },
  {
   "cell_type": "markdown",
   "id": "f7fb9695",
   "metadata": {},
   "source": [
    "### Rules of Broadcasting\n",
    "- Rule 1: If the two arrays differ in their number of dimensions, the shape of the\n",
    "one with fewer dimensions is padded with ones on its leading (left) side.\n",
    "\n",
    "- Rule 2: If the shape of the two arrays does not match in any dimension, the array\n",
    "with shape equal to 1 in that dimension is stretched to match the other shape.\n",
    "\n",
    "- Rule 3: If in any dimension the sizes disagree and neither is equal to 1, an error is\n",
    "raised."
   ]
  },
  {
   "cell_type": "code",
   "execution_count": 4,
   "id": "af0d3c5d",
   "metadata": {},
   "outputs": [
    {
     "data": {
      "text/plain": [
       "array([5, 6, 7])"
      ]
     },
     "execution_count": 4,
     "metadata": {},
     "output_type": "execute_result"
    }
   ],
   "source": [
    "a + 5 # adding a scaler value"
   ]
  },
  {
   "cell_type": "markdown",
   "id": "52f4efe5",
   "metadata": {},
   "source": [
    "- The condition when we have to broadcast one array "
   ]
  },
  {
   "cell_type": "code",
   "execution_count": 5,
   "id": "fe06f551",
   "metadata": {},
   "outputs": [],
   "source": [
    "M = np.ones((3,3))"
   ]
  },
  {
   "cell_type": "code",
   "execution_count": 6,
   "id": "4361444f",
   "metadata": {},
   "outputs": [
    {
     "data": {
      "text/plain": [
       "array([[1., 1., 1.],\n",
       "       [1., 1., 1.],\n",
       "       [1., 1., 1.]])"
      ]
     },
     "execution_count": 6,
     "metadata": {},
     "output_type": "execute_result"
    }
   ],
   "source": [
    "M"
   ]
  },
  {
   "cell_type": "code",
   "execution_count": 8,
   "id": "c40b80c5",
   "metadata": {},
   "outputs": [
    {
     "data": {
      "text/plain": [
       "(3, 3)"
      ]
     },
     "execution_count": 8,
     "metadata": {},
     "output_type": "execute_result"
    }
   ],
   "source": [
    "M.shape"
   ]
  },
  {
   "cell_type": "code",
   "execution_count": 9,
   "id": "d374e3c3",
   "metadata": {},
   "outputs": [
    {
     "data": {
      "text/plain": [
       "(3,)"
      ]
     },
     "execution_count": 9,
     "metadata": {},
     "output_type": "execute_result"
    }
   ],
   "source": [
    "a.shape # Broadcasting of single array"
   ]
  },
  {
   "cell_type": "code",
   "execution_count": 7,
   "id": "3b80db7e",
   "metadata": {},
   "outputs": [
    {
     "data": {
      "text/plain": [
       "array([[1., 2., 3.],\n",
       "       [1., 2., 3.],\n",
       "       [1., 2., 3.]])"
      ]
     },
     "execution_count": 7,
     "metadata": {},
     "output_type": "execute_result"
    }
   ],
   "source": [
    "M + a"
   ]
  },
  {
   "cell_type": "markdown",
   "id": "0cb428cf",
   "metadata": {},
   "source": [
    "- Broadcasting of both the arrays"
   ]
  },
  {
   "cell_type": "code",
   "execution_count": 10,
   "id": "1069f858",
   "metadata": {},
   "outputs": [],
   "source": [
    "a = np.arange(3)\n",
    "b = np.arange(3)[:,np.newaxis]"
   ]
  },
  {
   "cell_type": "code",
   "execution_count": 12,
   "id": "09d730d3",
   "metadata": {},
   "outputs": [
    {
     "name": "stdout",
     "output_type": "stream",
     "text": [
      "(3,)\n",
      "(3, 1)\n"
     ]
    }
   ],
   "source": [
    "print(a.shape)\n",
    "print(b.shape)"
   ]
  },
  {
   "cell_type": "code",
   "execution_count": 13,
   "id": "191549e1",
   "metadata": {},
   "outputs": [
    {
     "name": "stdout",
     "output_type": "stream",
     "text": [
      "[0 1 2]\n",
      "[[0]\n",
      " [1]\n",
      " [2]]\n"
     ]
    }
   ],
   "source": [
    "print(a)\n",
    "print(b)"
   ]
  },
  {
   "cell_type": "code",
   "execution_count": 14,
   "id": "49136452",
   "metadata": {},
   "outputs": [
    {
     "data": {
      "text/plain": [
       "array([[0, 1, 2],\n",
       "       [1, 2, 3],\n",
       "       [2, 3, 4]])"
      ]
     },
     "execution_count": 14,
     "metadata": {},
     "output_type": "execute_result"
    }
   ],
   "source": [
    "a + b"
   ]
  },
  {
   "cell_type": "markdown",
   "id": "561eb8c8",
   "metadata": {},
   "source": [
    "- Example when two arrays are not compatible"
   ]
  },
  {
   "cell_type": "code",
   "execution_count": 17,
   "id": "38212e2f",
   "metadata": {},
   "outputs": [],
   "source": [
    "M = np.ones((3,2))\n",
    "a = np.arange(3)"
   ]
  },
  {
   "cell_type": "code",
   "execution_count": 18,
   "id": "dc462f04",
   "metadata": {},
   "outputs": [
    {
     "name": "stdout",
     "output_type": "stream",
     "text": [
      "(3, 2)\n",
      "(3,)\n"
     ]
    }
   ],
   "source": [
    "print(M.shape)\n",
    "print(a.shape)"
   ]
  },
  {
   "cell_type": "code",
   "execution_count": 19,
   "id": "d1b21638",
   "metadata": {},
   "outputs": [
    {
     "ename": "ValueError",
     "evalue": "operands could not be broadcast together with shapes (3,2) (3,) ",
     "output_type": "error",
     "traceback": [
      "\u001b[0;31m---------------------------------------------------------------------------\u001b[0m",
      "\u001b[0;31mValueError\u001b[0m                                Traceback (most recent call last)",
      "\u001b[0;32m<ipython-input-19-8cac1d547906>\u001b[0m in \u001b[0;36m<module>\u001b[0;34m\u001b[0m\n\u001b[0;32m----> 1\u001b[0;31m \u001b[0mM\u001b[0m \u001b[0;34m+\u001b[0m \u001b[0ma\u001b[0m\u001b[0;34m\u001b[0m\u001b[0;34m\u001b[0m\u001b[0m\n\u001b[0m",
      "\u001b[0;31mValueError\u001b[0m: operands could not be broadcast together with shapes (3,2) (3,) "
     ]
    }
   ],
   "source": [
    "M + a"
   ]
  },
  {
   "cell_type": "code",
   "execution_count": 20,
   "id": "344637d3",
   "metadata": {},
   "outputs": [
    {
     "data": {
      "text/plain": [
       "(3, 1)"
      ]
     },
     "execution_count": 20,
     "metadata": {},
     "output_type": "execute_result"
    }
   ],
   "source": [
    "# Solution\n",
    "\n",
    "a[:,np.newaxis].shape"
   ]
  },
  {
   "cell_type": "code",
   "execution_count": 23,
   "id": "0e700d4c",
   "metadata": {},
   "outputs": [
    {
     "data": {
      "text/plain": [
       "array([[1., 1.],\n",
       "       [1., 1.],\n",
       "       [1., 1.]])"
      ]
     },
     "execution_count": 23,
     "metadata": {},
     "output_type": "execute_result"
    }
   ],
   "source": [
    "M"
   ]
  },
  {
   "cell_type": "code",
   "execution_count": 24,
   "id": "e53d5cb4",
   "metadata": {},
   "outputs": [
    {
     "data": {
      "text/plain": [
       "array([0, 1, 2])"
      ]
     },
     "execution_count": 24,
     "metadata": {},
     "output_type": "execute_result"
    }
   ],
   "source": [
    "a"
   ]
  },
  {
   "cell_type": "code",
   "execution_count": 22,
   "id": "9d75b92c",
   "metadata": {},
   "outputs": [
    {
     "data": {
      "text/plain": [
       "array([[1., 1.],\n",
       "       [2., 2.],\n",
       "       [3., 3.]])"
      ]
     },
     "execution_count": 22,
     "metadata": {},
     "output_type": "execute_result"
    }
   ],
   "source": [
    "M + a[:,np.newaxis]"
   ]
  },
  {
   "cell_type": "code",
   "execution_count": null,
   "id": "66abc1c9",
   "metadata": {},
   "outputs": [],
   "source": []
  }
 ],
 "metadata": {
  "kernelspec": {
   "display_name": "Python 3.10.2 64-bit",
   "language": "python",
   "name": "python3"
  },
  "language_info": {
   "codemirror_mode": {
    "name": "ipython",
    "version": 3
   },
   "file_extension": ".py",
   "mimetype": "text/x-python",
   "name": "python",
   "nbconvert_exporter": "python",
   "pygments_lexer": "ipython3",
   "version": "3.10.2"
  },
  "toc": {
   "base_numbering": 1,
   "nav_menu": {},
   "number_sections": true,
   "sideBar": true,
   "skip_h1_title": false,
   "title_cell": "Table of Contents",
   "title_sidebar": "Contents",
   "toc_cell": false,
   "toc_position": {},
   "toc_section_display": true,
   "toc_window_display": true
  },
  "vscode": {
   "interpreter": {
    "hash": "af8cdbec20cabee94335913951c23f0843030a4cf1aa91f8cc372c55171c1b62"
   }
  }
 },
 "nbformat": 4,
 "nbformat_minor": 5
}
