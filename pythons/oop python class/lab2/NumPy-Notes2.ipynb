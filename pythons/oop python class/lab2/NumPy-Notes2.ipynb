{
 "cells": [
  {
   "cell_type": "markdown",
   "id": "37e5fc1d",
   "metadata": {},
   "source": [
    "# Comparisons, Masks, and Boolean Logic"
   ]
  },
  {
   "cell_type": "markdown",
   "id": "52d27d55",
   "metadata": {},
   "source": [
    "- Examine and manipulate values within NumPy arrays\n",
    "- Masking is useful to extract, modify, count or manipulate based on some criteria\n",
    "- For example: \n",
    "1. Count all values greater than a certain value\n",
    "2. Remove all outliers that are above some threshold"
   ]
  },
  {
   "cell_type": "markdown",
   "id": "08833bf1",
   "metadata": {},
   "source": [
    "**- Suppose we have a rainfall data from a city and we are interested to know the following questions**\n",
    "- How many number of days without rain?\n",
    "- How many number of days with rain?\n",
    "- How many rainy days were there with more than 5mm of rain?\n",
    "- How many rainy days were there with less than 15mm of rain?"
   ]
  },
  {
   "cell_type": "markdown",
   "id": "609b8683",
   "metadata": {},
   "source": [
    "- NumPy ufuncs are faster than loops to do element-wise arithmatic operations over arrays\n",
    "- We can use ufuncs to do element-wise comparisons overs arrays to manipulate the results \n",
    "to answer the questions we have"
   ]
  },
  {
   "cell_type": "markdown",
   "id": "5247d737",
   "metadata": {},
   "source": [
    "- Comparison operators such as <(less than) and > (greater than)\n",
    "- The results of these comparison operatorsrators is always an array with Boolean data type\n",
    "- Six standard comparison operators <, >, <=, >=, !=, =="
   ]
  },
  {
   "cell_type": "code",
   "execution_count": 1,
   "id": "91a2e787",
   "metadata": {},
   "outputs": [],
   "source": [
    "import numpy as np\n",
    "import pandas as pd"
   ]
  },
  {
   "cell_type": "markdown",
   "id": "f6d5f262",
   "metadata": {},
   "source": [
    "# Comparison and Boolean operators"
   ]
  },
  {
   "cell_type": "markdown",
   "id": "569e1e22",
   "metadata": {},
   "source": [
    "## Comparison operators <, >, <=, >=, !=, =="
   ]
  },
  {
   "cell_type": "code",
   "execution_count": 3,
   "id": "f1071407",
   "metadata": {},
   "outputs": [],
   "source": [
    "x = np.array([1,2,3,4,5]) # one-dimensional array"
   ]
  },
  {
   "cell_type": "code",
   "execution_count": 4,
   "id": "74ccaaeb",
   "metadata": {},
   "outputs": [
    {
     "data": {
      "text/plain": [
       "array([ True,  True, False, False, False])"
      ]
     },
     "execution_count": 4,
     "metadata": {},
     "output_type": "execute_result"
    }
   ],
   "source": [
    "x < 3 #less than"
   ]
  },
  {
   "cell_type": "code",
   "execution_count": 5,
   "id": "c268a67a",
   "metadata": {},
   "outputs": [
    {
     "data": {
      "text/plain": [
       "array([ True,  True, False, False, False])"
      ]
     },
     "execution_count": 5,
     "metadata": {},
     "output_type": "execute_result"
    }
   ],
   "source": [
    "np.less(x,3)"
   ]
  },
  {
   "cell_type": "code",
   "execution_count": 8,
   "id": "135bf15d",
   "metadata": {},
   "outputs": [
    {
     "data": {
      "text/plain": [
       "array([False, False, False,  True,  True])"
      ]
     },
     "execution_count": 8,
     "metadata": {},
     "output_type": "execute_result"
    }
   ],
   "source": [
    "x > 3 # greater than"
   ]
  },
  {
   "cell_type": "code",
   "execution_count": 6,
   "id": "4ed1b453",
   "metadata": {},
   "outputs": [
    {
     "data": {
      "text/plain": [
       "array([False, False, False,  True,  True])"
      ]
     },
     "execution_count": 6,
     "metadata": {},
     "output_type": "execute_result"
    }
   ],
   "source": [
    "np.greater(x,3)"
   ]
  },
  {
   "cell_type": "code",
   "execution_count": 9,
   "id": "a0a8ec8e",
   "metadata": {},
   "outputs": [
    {
     "data": {
      "text/plain": [
       "array([ True,  True,  True, False, False])"
      ]
     },
     "execution_count": 9,
     "metadata": {},
     "output_type": "execute_result"
    }
   ],
   "source": [
    "x <= 3 # less than or equal"
   ]
  },
  {
   "cell_type": "code",
   "execution_count": 7,
   "id": "562ceb91",
   "metadata": {},
   "outputs": [
    {
     "data": {
      "text/plain": [
       "array([ True,  True,  True, False, False])"
      ]
     },
     "execution_count": 7,
     "metadata": {},
     "output_type": "execute_result"
    }
   ],
   "source": [
    "np.less_equal(x,3)"
   ]
  },
  {
   "cell_type": "code",
   "execution_count": 10,
   "id": "a822207b",
   "metadata": {},
   "outputs": [
    {
     "data": {
      "text/plain": [
       "array([False, False,  True,  True,  True])"
      ]
     },
     "execution_count": 10,
     "metadata": {},
     "output_type": "execute_result"
    }
   ],
   "source": [
    "x >= 3 # greater than or equal"
   ]
  },
  {
   "cell_type": "code",
   "execution_count": 8,
   "id": "d2971308",
   "metadata": {},
   "outputs": [
    {
     "data": {
      "text/plain": [
       "array([False, False,  True,  True,  True])"
      ]
     },
     "execution_count": 8,
     "metadata": {},
     "output_type": "execute_result"
    }
   ],
   "source": [
    "np.greater_equal(x,3)"
   ]
  },
  {
   "cell_type": "code",
   "execution_count": 5,
   "id": "037badbf",
   "metadata": {},
   "outputs": [],
   "source": [
    "# Two- dimensional array\n",
    "\n",
    "rng = np.random.RandomState(0) \n",
    "# RandomState exposes a number of methods for generating random numbers \n",
    "# drawn from a variety of probability distributions.\n",
    "x = rng.randint(10, size=(3,4))"
   ]
  },
  {
   "cell_type": "code",
   "execution_count": 6,
   "id": "109b1afd",
   "metadata": {},
   "outputs": [
    {
     "data": {
      "text/plain": [
       "array([[5, 0, 3, 3],\n",
       "       [7, 9, 3, 5],\n",
       "       [2, 4, 7, 6]])"
      ]
     },
     "execution_count": 6,
     "metadata": {},
     "output_type": "execute_result"
    }
   ],
   "source": [
    "x"
   ]
  },
  {
   "cell_type": "code",
   "execution_count": 35,
   "id": "1252a23e",
   "metadata": {},
   "outputs": [
    {
     "data": {
      "text/plain": [
       "array([[ True,  True,  True,  True],\n",
       "       [False, False,  True,  True],\n",
       "       [ True,  True, False, False]])"
      ]
     },
     "execution_count": 35,
     "metadata": {},
     "output_type": "execute_result"
    }
   ],
   "source": [
    "x <6 "
   ]
  },
  {
   "cell_type": "code",
   "execution_count": 36,
   "id": "ce74c279",
   "metadata": {},
   "outputs": [],
   "source": [
    "# So far we were getting the boolean results how about we want to have numbers as results"
   ]
  },
  {
   "cell_type": "markdown",
   "id": "92e8b9b7",
   "metadata": {},
   "source": [
    "## Working with Boolean Arrays"
   ]
  },
  {
   "cell_type": "code",
   "execution_count": 7,
   "id": "8d1c63e0",
   "metadata": {},
   "outputs": [
    {
     "name": "stdout",
     "output_type": "stream",
     "text": [
      "[[5 0 3 3]\n",
      " [7 9 3 5]\n",
      " [2 4 7 6]]\n"
     ]
    }
   ],
   "source": [
    "print(x)"
   ]
  },
  {
   "cell_type": "code",
   "execution_count": 38,
   "id": "7ec647a9",
   "metadata": {},
   "outputs": [
    {
     "data": {
      "text/plain": [
       "8"
      ]
     },
     "execution_count": 38,
     "metadata": {},
     "output_type": "execute_result"
    }
   ],
   "source": [
    "# To count the number of True entries in a boolean array\n",
    "# how many values less than 6?\n",
    "np.count_nonzero(x<6)"
   ]
  },
  {
   "cell_type": "code",
   "execution_count": 8,
   "id": "191345ae",
   "metadata": {},
   "outputs": [
    {
     "data": {
      "text/plain": [
       "8"
      ]
     },
     "execution_count": 8,
     "metadata": {},
     "output_type": "execute_result"
    }
   ],
   "source": [
    "# another way to get this information is to use np.sum\n",
    "np.sum(x<6)"
   ]
  },
  {
   "cell_type": "code",
   "execution_count": 9,
   "id": "edb0c5b4",
   "metadata": {},
   "outputs": [
    {
     "data": {
      "text/plain": [
       "array([4, 2, 2])"
      ]
     },
     "execution_count": 9,
     "metadata": {},
     "output_type": "execute_result"
    }
   ],
   "source": [
    "# The benefit of sum() is that this summation can be done along the rows or column as well:\n",
    "# how many values in each row with leass than 6\n",
    "\n",
    "np.sum(x<6, axis=1)"
   ]
  },
  {
   "cell_type": "code",
   "execution_count": 10,
   "id": "37182ca9",
   "metadata": {},
   "outputs": [
    {
     "data": {
      "text/plain": [
       "array([2, 2, 2, 2])"
      ]
     },
     "execution_count": 10,
     "metadata": {},
     "output_type": "execute_result"
    }
   ],
   "source": [
    "np.sum(x<6, axis=0) #"
   ]
  },
  {
   "cell_type": "code",
   "execution_count": 11,
   "id": "c4c7f841",
   "metadata": {},
   "outputs": [
    {
     "data": {
      "text/plain": [
       "True"
      ]
     },
     "execution_count": 11,
     "metadata": {},
     "output_type": "execute_result"
    }
   ],
   "source": [
    "# use of any() or all() values\n",
    "\n",
    "# are there any values greater than 8?\n",
    "\n",
    "np.any(x > 8)"
   ]
  },
  {
   "cell_type": "code",
   "execution_count": 12,
   "id": "01cf0bc4",
   "metadata": {},
   "outputs": [
    {
     "data": {
      "text/plain": [
       "False"
      ]
     },
     "execution_count": 12,
     "metadata": {},
     "output_type": "execute_result"
    }
   ],
   "source": [
    "# are there any values less than zero?\n",
    "\n",
    "np.any(x < 0)"
   ]
  },
  {
   "cell_type": "code",
   "execution_count": 13,
   "id": "881d5261",
   "metadata": {},
   "outputs": [
    {
     "data": {
      "text/plain": [
       "True"
      ]
     },
     "execution_count": 13,
     "metadata": {},
     "output_type": "execute_result"
    }
   ],
   "source": [
    "# are all values less than 10?\n",
    "\n",
    "np.all(x < 10)"
   ]
  },
  {
   "cell_type": "code",
   "execution_count": 14,
   "id": "9f197597",
   "metadata": {},
   "outputs": [
    {
     "data": {
      "text/plain": [
       "False"
      ]
     },
     "execution_count": 14,
     "metadata": {},
     "output_type": "execute_result"
    }
   ],
   "source": [
    "# are all values equal to 6\n",
    "\n",
    "np.all(x == 6)"
   ]
  },
  {
   "cell_type": "code",
   "execution_count": 15,
   "id": "b3bd975a",
   "metadata": {},
   "outputs": [
    {
     "data": {
      "text/plain": [
       "array([ True, False,  True])"
      ]
     },
     "execution_count": 15,
     "metadata": {},
     "output_type": "execute_result"
    }
   ],
   "source": [
    "# both the functions any() and all() can be used along axis\n",
    "\n",
    "# are all values in each row less than 8?\n",
    "\n",
    "np.all(x < 8, axis=1)"
   ]
  },
  {
   "cell_type": "code",
   "execution_count": 16,
   "id": "123b9968",
   "metadata": {},
   "outputs": [
    {
     "data": {
      "text/plain": [
       "array([[5, 0, 3, 3],\n",
       "       [7, 9, 3, 5],\n",
       "       [2, 4, 7, 6]])"
      ]
     },
     "execution_count": 16,
     "metadata": {},
     "output_type": "execute_result"
    }
   ],
   "source": [
    "x"
   ]
  },
  {
   "cell_type": "markdown",
   "id": "6ec8ebd6",
   "metadata": {},
   "source": [
    "## Example: Seattle rainfall "
   ]
  },
  {
   "cell_type": "code",
   "execution_count": 9,
   "id": "bd6d0ae1",
   "metadata": {},
   "outputs": [],
   "source": [
    "df = pd.read_csv(r'seattle-weather.csv', encoding='utf8', engine='python')"
   ]
  },
  {
   "cell_type": "code",
   "execution_count": 10,
   "id": "0626160b",
   "metadata": {},
   "outputs": [
    {
     "data": {
      "text/html": [
       "<div>\n",
       "<style scoped>\n",
       "    .dataframe tbody tr th:only-of-type {\n",
       "        vertical-align: middle;\n",
       "    }\n",
       "\n",
       "    .dataframe tbody tr th {\n",
       "        vertical-align: top;\n",
       "    }\n",
       "\n",
       "    .dataframe thead th {\n",
       "        text-align: right;\n",
       "    }\n",
       "</style>\n",
       "<table border=\"1\" class=\"dataframe\">\n",
       "  <thead>\n",
       "    <tr style=\"text-align: right;\">\n",
       "      <th></th>\n",
       "      <th>date</th>\n",
       "      <th>precipitation</th>\n",
       "      <th>temp_max</th>\n",
       "      <th>temp_min</th>\n",
       "      <th>wind</th>\n",
       "      <th>weather</th>\n",
       "    </tr>\n",
       "  </thead>\n",
       "  <tbody>\n",
       "    <tr>\n",
       "      <th>0</th>\n",
       "      <td>2012/1/1</td>\n",
       "      <td>0.0</td>\n",
       "      <td>12.8</td>\n",
       "      <td>5.0</td>\n",
       "      <td>4.7</td>\n",
       "      <td>drizzle</td>\n",
       "    </tr>\n",
       "    <tr>\n",
       "      <th>1</th>\n",
       "      <td>2012/1/2</td>\n",
       "      <td>10.9</td>\n",
       "      <td>10.6</td>\n",
       "      <td>2.8</td>\n",
       "      <td>4.5</td>\n",
       "      <td>rain</td>\n",
       "    </tr>\n",
       "    <tr>\n",
       "      <th>2</th>\n",
       "      <td>2012/1/3</td>\n",
       "      <td>0.8</td>\n",
       "      <td>11.7</td>\n",
       "      <td>7.2</td>\n",
       "      <td>2.3</td>\n",
       "      <td>rain</td>\n",
       "    </tr>\n",
       "    <tr>\n",
       "      <th>3</th>\n",
       "      <td>2012/1/4</td>\n",
       "      <td>20.3</td>\n",
       "      <td>12.2</td>\n",
       "      <td>5.6</td>\n",
       "      <td>4.7</td>\n",
       "      <td>rain</td>\n",
       "    </tr>\n",
       "    <tr>\n",
       "      <th>4</th>\n",
       "      <td>2012/1/5</td>\n",
       "      <td>1.3</td>\n",
       "      <td>8.9</td>\n",
       "      <td>2.8</td>\n",
       "      <td>6.1</td>\n",
       "      <td>rain</td>\n",
       "    </tr>\n",
       "    <tr>\n",
       "      <th>...</th>\n",
       "      <td>...</td>\n",
       "      <td>...</td>\n",
       "      <td>...</td>\n",
       "      <td>...</td>\n",
       "      <td>...</td>\n",
       "      <td>...</td>\n",
       "    </tr>\n",
       "    <tr>\n",
       "      <th>1456</th>\n",
       "      <td>2015/12/27</td>\n",
       "      <td>8.6</td>\n",
       "      <td>4.4</td>\n",
       "      <td>1.7</td>\n",
       "      <td>2.9</td>\n",
       "      <td>fog</td>\n",
       "    </tr>\n",
       "    <tr>\n",
       "      <th>1457</th>\n",
       "      <td>2015/12/28</td>\n",
       "      <td>1.5</td>\n",
       "      <td>5.0</td>\n",
       "      <td>1.7</td>\n",
       "      <td>1.3</td>\n",
       "      <td>fog</td>\n",
       "    </tr>\n",
       "    <tr>\n",
       "      <th>1458</th>\n",
       "      <td>2015/12/29</td>\n",
       "      <td>0.0</td>\n",
       "      <td>7.2</td>\n",
       "      <td>0.6</td>\n",
       "      <td>2.6</td>\n",
       "      <td>fog</td>\n",
       "    </tr>\n",
       "    <tr>\n",
       "      <th>1459</th>\n",
       "      <td>2015/12/30</td>\n",
       "      <td>0.0</td>\n",
       "      <td>5.6</td>\n",
       "      <td>-1.0</td>\n",
       "      <td>3.4</td>\n",
       "      <td>sun</td>\n",
       "    </tr>\n",
       "    <tr>\n",
       "      <th>1460</th>\n",
       "      <td>2015/12/31</td>\n",
       "      <td>0.0</td>\n",
       "      <td>5.6</td>\n",
       "      <td>-2.1</td>\n",
       "      <td>3.5</td>\n",
       "      <td>sun</td>\n",
       "    </tr>\n",
       "  </tbody>\n",
       "</table>\n",
       "<p>1461 rows × 6 columns</p>\n",
       "</div>"
      ],
      "text/plain": [
       "            date  precipitation  temp_max  temp_min  wind  weather\n",
       "0       2012/1/1            0.0      12.8       5.0   4.7  drizzle\n",
       "1       2012/1/2           10.9      10.6       2.8   4.5     rain\n",
       "2       2012/1/3            0.8      11.7       7.2   2.3     rain\n",
       "3       2012/1/4           20.3      12.2       5.6   4.7     rain\n",
       "4       2012/1/5            1.3       8.9       2.8   6.1     rain\n",
       "...          ...            ...       ...       ...   ...      ...\n",
       "1456  2015/12/27            8.6       4.4       1.7   2.9      fog\n",
       "1457  2015/12/28            1.5       5.0       1.7   1.3      fog\n",
       "1458  2015/12/29            0.0       7.2       0.6   2.6      fog\n",
       "1459  2015/12/30            0.0       5.6      -1.0   3.4      sun\n",
       "1460  2015/12/31            0.0       5.6      -2.1   3.5      sun\n",
       "\n",
       "[1461 rows x 6 columns]"
      ]
     },
     "execution_count": 10,
     "metadata": {},
     "output_type": "execute_result"
    }
   ],
   "source": [
    "df"
   ]
  },
  {
   "cell_type": "code",
   "execution_count": 11,
   "id": "47d1d050",
   "metadata": {},
   "outputs": [],
   "source": [
    "df['year'] = pd.DatetimeIndex(df['date']).year"
   ]
  },
  {
   "cell_type": "code",
   "execution_count": 12,
   "id": "5425bd51",
   "metadata": {},
   "outputs": [
    {
     "data": {
      "text/html": [
       "<div>\n",
       "<style scoped>\n",
       "    .dataframe tbody tr th:only-of-type {\n",
       "        vertical-align: middle;\n",
       "    }\n",
       "\n",
       "    .dataframe tbody tr th {\n",
       "        vertical-align: top;\n",
       "    }\n",
       "\n",
       "    .dataframe thead th {\n",
       "        text-align: right;\n",
       "    }\n",
       "</style>\n",
       "<table border=\"1\" class=\"dataframe\">\n",
       "  <thead>\n",
       "    <tr style=\"text-align: right;\">\n",
       "      <th></th>\n",
       "      <th>date</th>\n",
       "      <th>precipitation</th>\n",
       "      <th>temp_max</th>\n",
       "      <th>temp_min</th>\n",
       "      <th>wind</th>\n",
       "      <th>weather</th>\n",
       "      <th>year</th>\n",
       "    </tr>\n",
       "  </thead>\n",
       "  <tbody>\n",
       "    <tr>\n",
       "      <th>0</th>\n",
       "      <td>2012/1/1</td>\n",
       "      <td>0.0</td>\n",
       "      <td>12.8</td>\n",
       "      <td>5.0</td>\n",
       "      <td>4.7</td>\n",
       "      <td>drizzle</td>\n",
       "      <td>2012</td>\n",
       "    </tr>\n",
       "    <tr>\n",
       "      <th>1</th>\n",
       "      <td>2012/1/2</td>\n",
       "      <td>10.9</td>\n",
       "      <td>10.6</td>\n",
       "      <td>2.8</td>\n",
       "      <td>4.5</td>\n",
       "      <td>rain</td>\n",
       "      <td>2012</td>\n",
       "    </tr>\n",
       "    <tr>\n",
       "      <th>2</th>\n",
       "      <td>2012/1/3</td>\n",
       "      <td>0.8</td>\n",
       "      <td>11.7</td>\n",
       "      <td>7.2</td>\n",
       "      <td>2.3</td>\n",
       "      <td>rain</td>\n",
       "      <td>2012</td>\n",
       "    </tr>\n",
       "    <tr>\n",
       "      <th>3</th>\n",
       "      <td>2012/1/4</td>\n",
       "      <td>20.3</td>\n",
       "      <td>12.2</td>\n",
       "      <td>5.6</td>\n",
       "      <td>4.7</td>\n",
       "      <td>rain</td>\n",
       "      <td>2012</td>\n",
       "    </tr>\n",
       "    <tr>\n",
       "      <th>4</th>\n",
       "      <td>2012/1/5</td>\n",
       "      <td>1.3</td>\n",
       "      <td>8.9</td>\n",
       "      <td>2.8</td>\n",
       "      <td>6.1</td>\n",
       "      <td>rain</td>\n",
       "      <td>2012</td>\n",
       "    </tr>\n",
       "    <tr>\n",
       "      <th>...</th>\n",
       "      <td>...</td>\n",
       "      <td>...</td>\n",
       "      <td>...</td>\n",
       "      <td>...</td>\n",
       "      <td>...</td>\n",
       "      <td>...</td>\n",
       "      <td>...</td>\n",
       "    </tr>\n",
       "    <tr>\n",
       "      <th>1456</th>\n",
       "      <td>2015/12/27</td>\n",
       "      <td>8.6</td>\n",
       "      <td>4.4</td>\n",
       "      <td>1.7</td>\n",
       "      <td>2.9</td>\n",
       "      <td>fog</td>\n",
       "      <td>2015</td>\n",
       "    </tr>\n",
       "    <tr>\n",
       "      <th>1457</th>\n",
       "      <td>2015/12/28</td>\n",
       "      <td>1.5</td>\n",
       "      <td>5.0</td>\n",
       "      <td>1.7</td>\n",
       "      <td>1.3</td>\n",
       "      <td>fog</td>\n",
       "      <td>2015</td>\n",
       "    </tr>\n",
       "    <tr>\n",
       "      <th>1458</th>\n",
       "      <td>2015/12/29</td>\n",
       "      <td>0.0</td>\n",
       "      <td>7.2</td>\n",
       "      <td>0.6</td>\n",
       "      <td>2.6</td>\n",
       "      <td>fog</td>\n",
       "      <td>2015</td>\n",
       "    </tr>\n",
       "    <tr>\n",
       "      <th>1459</th>\n",
       "      <td>2015/12/30</td>\n",
       "      <td>0.0</td>\n",
       "      <td>5.6</td>\n",
       "      <td>-1.0</td>\n",
       "      <td>3.4</td>\n",
       "      <td>sun</td>\n",
       "      <td>2015</td>\n",
       "    </tr>\n",
       "    <tr>\n",
       "      <th>1460</th>\n",
       "      <td>2015/12/31</td>\n",
       "      <td>0.0</td>\n",
       "      <td>5.6</td>\n",
       "      <td>-2.1</td>\n",
       "      <td>3.5</td>\n",
       "      <td>sun</td>\n",
       "      <td>2015</td>\n",
       "    </tr>\n",
       "  </tbody>\n",
       "</table>\n",
       "<p>1461 rows × 7 columns</p>\n",
       "</div>"
      ],
      "text/plain": [
       "            date  precipitation  temp_max  temp_min  wind  weather  year\n",
       "0       2012/1/1            0.0      12.8       5.0   4.7  drizzle  2012\n",
       "1       2012/1/2           10.9      10.6       2.8   4.5     rain  2012\n",
       "2       2012/1/3            0.8      11.7       7.2   2.3     rain  2012\n",
       "3       2012/1/4           20.3      12.2       5.6   4.7     rain  2012\n",
       "4       2012/1/5            1.3       8.9       2.8   6.1     rain  2012\n",
       "...          ...            ...       ...       ...   ...      ...   ...\n",
       "1456  2015/12/27            8.6       4.4       1.7   2.9      fog  2015\n",
       "1457  2015/12/28            1.5       5.0       1.7   1.3      fog  2015\n",
       "1458  2015/12/29            0.0       7.2       0.6   2.6      fog  2015\n",
       "1459  2015/12/30            0.0       5.6      -1.0   3.4      sun  2015\n",
       "1460  2015/12/31            0.0       5.6      -2.1   3.5      sun  2015\n",
       "\n",
       "[1461 rows x 7 columns]"
      ]
     },
     "execution_count": 12,
     "metadata": {},
     "output_type": "execute_result"
    }
   ],
   "source": [
    "df"
   ]
  },
  {
   "cell_type": "code",
   "execution_count": 13,
   "id": "80beaf13",
   "metadata": {},
   "outputs": [],
   "source": [
    "df2012 = df[df['year']==2012]"
   ]
  },
  {
   "cell_type": "code",
   "execution_count": 14,
   "id": "df4e412f",
   "metadata": {},
   "outputs": [],
   "source": [
    "rainfall = df2012['precipitation']"
   ]
  },
  {
   "cell_type": "code",
   "execution_count": 15,
   "id": "118f5bd5",
   "metadata": {},
   "outputs": [
    {
     "data": {
      "text/plain": [
       "0       0.0\n",
       "1      10.9\n",
       "2       0.8\n",
       "3      20.3\n",
       "4       1.3\n",
       "       ... \n",
       "361     4.1\n",
       "362     0.0\n",
       "363     1.5\n",
       "364     0.0\n",
       "365     0.0\n",
       "Name: precipitation, Length: 366, dtype: float64"
      ]
     },
     "execution_count": 15,
     "metadata": {},
     "output_type": "execute_result"
    }
   ],
   "source": [
    "rainfall"
   ]
  },
  {
   "cell_type": "markdown",
   "id": "b989c008",
   "metadata": {},
   "source": [
    "## Boolean Operators"
   ]
  },
  {
   "cell_type": "markdown",
   "id": "a1688b3a",
   "metadata": {},
   "source": [
    "**- Bitwise logic operators**\n",
    "- &  bitwise_and\n",
    "- |  bitwise_or\n",
    "- ^  bitwise_xor\n",
    "- ~  bitwise_not"
   ]
  },
  {
   "cell_type": "markdown",
   "id": "987339a9",
   "metadata": {},
   "source": [
    "**Comparison operators and boolean opeartors are useful for compound questions**"
   ]
  },
  {
   "cell_type": "code",
   "execution_count": 43,
   "id": "23d4a369",
   "metadata": {},
   "outputs": [
    {
     "data": {
      "text/plain": [
       "55"
      ]
     },
     "execution_count": 43,
     "metadata": {},
     "output_type": "execute_result"
    }
   ],
   "source": [
    "# compound operators\n",
    "# All rainy days with less than 15mm and greater than 5mm\n",
    "# here parentheses are important because of operator precedence rules\n",
    "\n",
    "np.sum((rainfall < 15) & (rainfall > 5))"
   ]
  },
  {
   "cell_type": "code",
   "execution_count": null,
   "id": "eed71cf1",
   "metadata": {},
   "outputs": [],
   "source": [
    "# use of negation operator\n",
    "# A AND B is equivalent to NOT(A OR B)"
   ]
  },
  {
   "cell_type": "code",
   "execution_count": 45,
   "id": "4aaa04f6",
   "metadata": {},
   "outputs": [
    {
     "data": {
      "text/plain": [
       "55"
      ]
     },
     "execution_count": 45,
     "metadata": {},
     "output_type": "execute_result"
    }
   ],
   "source": [
    "np.sum(~((rainfall >= 15) | (rainfall <= 5)))"
   ]
  },
  {
   "cell_type": "code",
   "execution_count": 46,
   "id": "dee92235",
   "metadata": {},
   "outputs": [
    {
     "data": {
      "text/plain": [
       "0.0     189\n",
       "0.3      12\n",
       "1.5      10\n",
       "0.5       9\n",
       "0.8       8\n",
       "       ... \n",
       "17.3      1\n",
       "6.9       1\n",
       "10.4      1\n",
       "27.4      1\n",
       "23.9      1\n",
       "Name: precipitation, Length: 67, dtype: int64"
      ]
     },
     "execution_count": 46,
     "metadata": {},
     "output_type": "execute_result"
    }
   ],
   "source": [
    "rainfall.value_counts()"
   ]
  },
  {
   "cell_type": "markdown",
   "id": "238e4e4c",
   "metadata": {},
   "source": [
    "**Using seattle rainfall data answer below questions\n",
    "- How many number of days without rain in 2012?\n",
    "- How many number of days with rain in 2012?\n",
    "- How many rainy days were there with more than 5mm of rain in 2012?\n",
    "- How many rainy days were there with less than 15mm of rain in 2012?"
   ]
  },
  {
   "cell_type": "code",
   "execution_count": 16,
   "id": "72bdb75e",
   "metadata": {},
   "outputs": [
    {
     "data": {
      "text/html": [
       "<div>\n",
       "<style scoped>\n",
       "    .dataframe tbody tr th:only-of-type {\n",
       "        vertical-align: middle;\n",
       "    }\n",
       "\n",
       "    .dataframe tbody tr th {\n",
       "        vertical-align: top;\n",
       "    }\n",
       "\n",
       "    .dataframe thead th {\n",
       "        text-align: right;\n",
       "    }\n",
       "</style>\n",
       "<table border=\"1\" class=\"dataframe\">\n",
       "  <thead>\n",
       "    <tr style=\"text-align: right;\">\n",
       "      <th></th>\n",
       "      <th>date</th>\n",
       "      <th>precipitation</th>\n",
       "      <th>temp_max</th>\n",
       "      <th>temp_min</th>\n",
       "      <th>wind</th>\n",
       "      <th>weather</th>\n",
       "      <th>year</th>\n",
       "    </tr>\n",
       "  </thead>\n",
       "  <tbody>\n",
       "    <tr>\n",
       "      <th>0</th>\n",
       "      <td>2012/1/1</td>\n",
       "      <td>0.0</td>\n",
       "      <td>12.8</td>\n",
       "      <td>5.0</td>\n",
       "      <td>4.7</td>\n",
       "      <td>drizzle</td>\n",
       "      <td>2012</td>\n",
       "    </tr>\n",
       "    <tr>\n",
       "      <th>1</th>\n",
       "      <td>2012/1/2</td>\n",
       "      <td>10.9</td>\n",
       "      <td>10.6</td>\n",
       "      <td>2.8</td>\n",
       "      <td>4.5</td>\n",
       "      <td>rain</td>\n",
       "      <td>2012</td>\n",
       "    </tr>\n",
       "    <tr>\n",
       "      <th>2</th>\n",
       "      <td>2012/1/3</td>\n",
       "      <td>0.8</td>\n",
       "      <td>11.7</td>\n",
       "      <td>7.2</td>\n",
       "      <td>2.3</td>\n",
       "      <td>rain</td>\n",
       "      <td>2012</td>\n",
       "    </tr>\n",
       "    <tr>\n",
       "      <th>3</th>\n",
       "      <td>2012/1/4</td>\n",
       "      <td>20.3</td>\n",
       "      <td>12.2</td>\n",
       "      <td>5.6</td>\n",
       "      <td>4.7</td>\n",
       "      <td>rain</td>\n",
       "      <td>2012</td>\n",
       "    </tr>\n",
       "    <tr>\n",
       "      <th>4</th>\n",
       "      <td>2012/1/5</td>\n",
       "      <td>1.3</td>\n",
       "      <td>8.9</td>\n",
       "      <td>2.8</td>\n",
       "      <td>6.1</td>\n",
       "      <td>rain</td>\n",
       "      <td>2012</td>\n",
       "    </tr>\n",
       "    <tr>\n",
       "      <th>...</th>\n",
       "      <td>...</td>\n",
       "      <td>...</td>\n",
       "      <td>...</td>\n",
       "      <td>...</td>\n",
       "      <td>...</td>\n",
       "      <td>...</td>\n",
       "      <td>...</td>\n",
       "    </tr>\n",
       "    <tr>\n",
       "      <th>1456</th>\n",
       "      <td>2015/12/27</td>\n",
       "      <td>8.6</td>\n",
       "      <td>4.4</td>\n",
       "      <td>1.7</td>\n",
       "      <td>2.9</td>\n",
       "      <td>fog</td>\n",
       "      <td>2015</td>\n",
       "    </tr>\n",
       "    <tr>\n",
       "      <th>1457</th>\n",
       "      <td>2015/12/28</td>\n",
       "      <td>1.5</td>\n",
       "      <td>5.0</td>\n",
       "      <td>1.7</td>\n",
       "      <td>1.3</td>\n",
       "      <td>fog</td>\n",
       "      <td>2015</td>\n",
       "    </tr>\n",
       "    <tr>\n",
       "      <th>1458</th>\n",
       "      <td>2015/12/29</td>\n",
       "      <td>0.0</td>\n",
       "      <td>7.2</td>\n",
       "      <td>0.6</td>\n",
       "      <td>2.6</td>\n",
       "      <td>fog</td>\n",
       "      <td>2015</td>\n",
       "    </tr>\n",
       "    <tr>\n",
       "      <th>1459</th>\n",
       "      <td>2015/12/30</td>\n",
       "      <td>0.0</td>\n",
       "      <td>5.6</td>\n",
       "      <td>-1.0</td>\n",
       "      <td>3.4</td>\n",
       "      <td>sun</td>\n",
       "      <td>2015</td>\n",
       "    </tr>\n",
       "    <tr>\n",
       "      <th>1460</th>\n",
       "      <td>2015/12/31</td>\n",
       "      <td>0.0</td>\n",
       "      <td>5.6</td>\n",
       "      <td>-2.1</td>\n",
       "      <td>3.5</td>\n",
       "      <td>sun</td>\n",
       "      <td>2015</td>\n",
       "    </tr>\n",
       "  </tbody>\n",
       "</table>\n",
       "<p>1461 rows × 7 columns</p>\n",
       "</div>"
      ],
      "text/plain": [
       "            date  precipitation  temp_max  temp_min  wind  weather  year\n",
       "0       2012/1/1            0.0      12.8       5.0   4.7  drizzle  2012\n",
       "1       2012/1/2           10.9      10.6       2.8   4.5     rain  2012\n",
       "2       2012/1/3            0.8      11.7       7.2   2.3     rain  2012\n",
       "3       2012/1/4           20.3      12.2       5.6   4.7     rain  2012\n",
       "4       2012/1/5            1.3       8.9       2.8   6.1     rain  2012\n",
       "...          ...            ...       ...       ...   ...      ...   ...\n",
       "1456  2015/12/27            8.6       4.4       1.7   2.9      fog  2015\n",
       "1457  2015/12/28            1.5       5.0       1.7   1.3      fog  2015\n",
       "1458  2015/12/29            0.0       7.2       0.6   2.6      fog  2015\n",
       "1459  2015/12/30            0.0       5.6      -1.0   3.4      sun  2015\n",
       "1460  2015/12/31            0.0       5.6      -2.1   3.5      sun  2015\n",
       "\n",
       "[1461 rows x 7 columns]"
      ]
     },
     "execution_count": 16,
     "metadata": {},
     "output_type": "execute_result"
    }
   ],
   "source": [
    "df"
   ]
  },
  {
   "cell_type": "code",
   "execution_count": 17,
   "id": "88c46d0e",
   "metadata": {},
   "outputs": [
    {
     "data": {
      "text/plain": [
       "0        0.0\n",
       "1       10.9\n",
       "2        0.8\n",
       "3       20.3\n",
       "4        1.3\n",
       "        ... \n",
       "1456     8.6\n",
       "1457     1.5\n",
       "1458     0.0\n",
       "1459     0.0\n",
       "1460     0.0\n",
       "Name: precipitation, Length: 1461, dtype: float64"
      ]
     },
     "execution_count": 17,
     "metadata": {},
     "output_type": "execute_result"
    }
   ],
   "source": [
    "df['precipitation']"
   ]
  },
  {
   "cell_type": "code",
   "execution_count": 18,
   "id": "3dcf6a97",
   "metadata": {},
   "outputs": [
    {
     "data": {
      "text/plain": [
       "263"
      ]
     },
     "execution_count": 18,
     "metadata": {},
     "output_type": "execute_result"
    }
   ],
   "source": [
    "np.sum(df['precipitation']>5)"
   ]
  },
  {
   "cell_type": "code",
   "execution_count": 19,
   "id": "d1e3f098",
   "metadata": {},
   "outputs": [
    {
     "data": {
      "text/plain": [
       "533"
      ]
     },
     "execution_count": 19,
     "metadata": {},
     "output_type": "execute_result"
    }
   ],
   "source": [
    "# rainy days less than 15mm\n",
    "\n",
    "np.sum((df['precipitation']<15) & (df['precipitation'])>0)"
   ]
  },
  {
   "cell_type": "code",
   "execution_count": 49,
   "id": "53ad3964",
   "metadata": {},
   "outputs": [
    {
     "data": {
      "text/plain": [
       "189"
      ]
     },
     "execution_count": 49,
     "metadata": {},
     "output_type": "execute_result"
    }
   ],
   "source": [
    "# days without rain in 2012\n",
    "np.sum(rainfall==0)"
   ]
  },
  {
   "cell_type": "code",
   "execution_count": 50,
   "id": "06e71d9a",
   "metadata": {},
   "outputs": [
    {
     "data": {
      "text/plain": [
       "177"
      ]
     },
     "execution_count": 50,
     "metadata": {},
     "output_type": "execute_result"
    }
   ],
   "source": [
    "# days with rain in 2012\n",
    "np.sum(rainfall!=0)"
   ]
  },
  {
   "cell_type": "code",
   "execution_count": 51,
   "id": "6936139c",
   "metadata": {},
   "outputs": [
    {
     "data": {
      "text/plain": [
       "78"
      ]
     },
     "execution_count": 51,
     "metadata": {},
     "output_type": "execute_result"
    }
   ],
   "source": [
    "# rainy days greater than 5mm in 2012\n",
    "np.sum(rainfall>5)"
   ]
  },
  {
   "cell_type": "code",
   "execution_count": 52,
   "id": "5e783f5c",
   "metadata": {},
   "outputs": [
    {
     "data": {
      "text/plain": [
       "154"
      ]
     },
     "execution_count": 52,
     "metadata": {},
     "output_type": "execute_result"
    }
   ],
   "source": [
    "# rainy days less than 15mm in 2012\n",
    "\n",
    "np.sum((rainfall<15) & (rainfall)>0)"
   ]
  },
  {
   "cell_type": "code",
   "execution_count": 53,
   "id": "5b25d4d5",
   "metadata": {},
   "outputs": [
    {
     "data": {
      "text/plain": [
       "23"
      ]
     },
     "execution_count": 53,
     "metadata": {},
     "output_type": "execute_result"
    }
   ],
   "source": [
    "# rainy days greater than 15mm in 2012\n",
    "\n",
    "np.sum(rainfall>15)"
   ]
  },
  {
   "cell_type": "markdown",
   "id": "7ef38559",
   "metadata": {},
   "source": [
    "# Boolean Arrays as Masks"
   ]
  },
  {
   "cell_type": "markdown",
   "id": "33ca946e",
   "metadata": {},
   "source": [
    "- Boolean array as amask select an **array of all values in the array** by providing a condition\n",
    "- For example less than 5"
   ]
  },
  {
   "cell_type": "code",
   "execution_count": 54,
   "id": "8852298f",
   "metadata": {},
   "outputs": [
    {
     "data": {
      "text/plain": [
       "array([[5, 0, 3, 3],\n",
       "       [7, 9, 3, 5],\n",
       "       [2, 4, 7, 6]])"
      ]
     },
     "execution_count": 54,
     "metadata": {},
     "output_type": "execute_result"
    }
   ],
   "source": [
    "x"
   ]
  },
  {
   "cell_type": "code",
   "execution_count": 55,
   "id": "41abe10e",
   "metadata": {},
   "outputs": [
    {
     "data": {
      "text/plain": [
       "array([[False,  True,  True,  True],\n",
       "       [False, False,  True, False],\n",
       "       [ True,  True, False, False]])"
      ]
     },
     "execution_count": 55,
     "metadata": {},
     "output_type": "execute_result"
    }
   ],
   "source": [
    "x<5"
   ]
  },
  {
   "cell_type": "code",
   "execution_count": 56,
   "id": "a520a72d",
   "metadata": {},
   "outputs": [
    {
     "data": {
      "text/plain": [
       "array([0, 3, 3, 3, 2, 4])"
      ]
     },
     "execution_count": 56,
     "metadata": {},
     "output_type": "execute_result"
    }
   ],
   "source": [
    "# Mask operation is done by applying indexing on boolean array\n",
    "# return the 1D array with values having True condition\n",
    "\n",
    "x[x<5]"
   ]
  },
  {
   "cell_type": "code",
   "execution_count": 57,
   "id": "f9339535",
   "metadata": {},
   "outputs": [],
   "source": [
    "# We are free to operate on these values as we wish\n",
    "# We can compute some relevant statistics on our seattle rain data"
   ]
  },
  {
   "cell_type": "code",
   "execution_count": 91,
   "id": "813605aa",
   "metadata": {},
   "outputs": [],
   "source": [
    "pd.set_option('display.max_rows', 500)"
   ]
  },
  {
   "cell_type": "code",
   "execution_count": 92,
   "id": "2a1a1d5b",
   "metadata": {},
   "outputs": [
    {
     "data": {
      "text/plain": [
       "0       0.0\n",
       "1      10.9\n",
       "2       0.8\n",
       "3      20.3\n",
       "4       1.3\n",
       "5       2.5\n",
       "6       0.0\n",
       "7       0.0\n",
       "8       4.3\n",
       "9       1.0\n",
       "10      0.0\n",
       "11      0.0\n",
       "12      0.0\n",
       "13      4.1\n",
       "14      5.3\n",
       "15      2.5\n",
       "16      8.1\n",
       "17     19.8\n",
       "18     15.2\n",
       "19     13.5\n",
       "20      3.0\n",
       "21      6.1\n",
       "22      0.0\n",
       "23      8.6\n",
       "24      8.1\n",
       "25      4.8\n",
       "26      0.0\n",
       "27      0.0\n",
       "28     27.7\n",
       "29      3.6\n",
       "30      1.8\n",
       "31     13.5\n",
       "32      0.0\n",
       "33      0.0\n",
       "34      0.0\n",
       "35      0.0\n",
       "36      0.0\n",
       "37      0.3\n",
       "38      2.8\n",
       "39      2.5\n",
       "40      2.5\n",
       "41      0.8\n",
       "42      1.0\n",
       "43     11.4\n",
       "44      2.5\n",
       "45      0.0\n",
       "46      1.8\n",
       "47     17.3\n",
       "48      6.4\n",
       "49      0.0\n",
       "50      3.0\n",
       "51      0.8\n",
       "52      8.6\n",
       "53      0.0\n",
       "54     11.4\n",
       "55      0.0\n",
       "56      1.3\n",
       "57      0.0\n",
       "58      3.6\n",
       "59      0.8\n",
       "60      0.0\n",
       "61      2.0\n",
       "62      0.0\n",
       "63      0.0\n",
       "64      6.9\n",
       "65      0.5\n",
       "66      0.0\n",
       "67      0.0\n",
       "68      3.6\n",
       "69     10.4\n",
       "70     13.7\n",
       "71     19.3\n",
       "72      9.4\n",
       "73      8.6\n",
       "74     23.9\n",
       "75      8.4\n",
       "76      9.4\n",
       "77      3.6\n",
       "78      2.0\n",
       "79      3.6\n",
       "80      1.3\n",
       "81      4.1\n",
       "82      0.0\n",
       "83      0.0\n",
       "84      0.0\n",
       "85      0.0\n",
       "86      4.8\n",
       "87      1.3\n",
       "88     27.4\n",
       "89      5.6\n",
       "90     13.2\n",
       "91      1.5\n",
       "92      0.0\n",
       "93      1.5\n",
       "94      0.0\n",
       "95      4.6\n",
       "96      0.3\n",
       "97      0.0\n",
       "98      0.0\n",
       "99      0.0\n",
       "100     0.0\n",
       "101     2.3\n",
       "102     0.5\n",
       "103     0.0\n",
       "104     0.0\n",
       "105     0.0\n",
       "106     8.1\n",
       "107     1.8\n",
       "108     1.8\n",
       "109    10.9\n",
       "110     6.6\n",
       "111     0.0\n",
       "112     0.0\n",
       "113     0.0\n",
       "114     4.3\n",
       "115    10.7\n",
       "116     3.8\n",
       "117     0.8\n",
       "118     0.0\n",
       "119     4.3\n",
       "120     4.3\n",
       "121     0.5\n",
       "122     0.5\n",
       "123    18.5\n",
       "124     1.8\n",
       "125     0.0\n",
       "126     0.0\n",
       "127     0.0\n",
       "128     0.0\n",
       "129     0.0\n",
       "130     0.0\n",
       "131     0.0\n",
       "132     0.0\n",
       "133     0.0\n",
       "134     0.0\n",
       "135     0.0\n",
       "136     0.0\n",
       "137     0.0\n",
       "138     0.0\n",
       "139     0.0\n",
       "140     6.4\n",
       "141    14.0\n",
       "142     6.1\n",
       "143     0.3\n",
       "144     0.0\n",
       "145     0.0\n",
       "146     0.0\n",
       "147     0.0\n",
       "148     0.0\n",
       "149     0.0\n",
       "150     0.3\n",
       "151     3.8\n",
       "152     6.6\n",
       "153     0.3\n",
       "154     0.0\n",
       "155     1.3\n",
       "156    16.0\n",
       "157     0.0\n",
       "158    16.5\n",
       "159     1.5\n",
       "160     0.0\n",
       "161     0.0\n",
       "162     0.0\n",
       "163     0.8\n",
       "164     0.0\n",
       "165     0.0\n",
       "166     0.0\n",
       "167     0.0\n",
       "168     0.0\n",
       "169     3.0\n",
       "170     1.0\n",
       "171     0.0\n",
       "172     0.0\n",
       "173    15.7\n",
       "174     8.6\n",
       "175     0.0\n",
       "176     0.5\n",
       "177     0.0\n",
       "178     0.0\n",
       "179     0.0\n",
       "180     0.3\n",
       "181     3.0\n",
       "182     0.0\n",
       "183     2.0\n",
       "184     5.8\n",
       "185     0.0\n",
       "186     0.0\n",
       "187     0.0\n",
       "188     0.0\n",
       "189     0.0\n",
       "190     1.5\n",
       "191     0.0\n",
       "192     0.0\n",
       "193     0.0\n",
       "194     0.5\n",
       "195     0.0\n",
       "196     0.0\n",
       "197     0.3\n",
       "198     0.0\n",
       "199     0.0\n",
       "200     0.0\n",
       "201    15.2\n",
       "202     0.0\n",
       "203     1.0\n",
       "204     0.0\n",
       "205     0.0\n",
       "206     0.0\n",
       "207     0.0\n",
       "208     0.0\n",
       "209     0.0\n",
       "210     0.0\n",
       "211     0.0\n",
       "212     0.0\n",
       "213     0.0\n",
       "214     0.0\n",
       "215     0.0\n",
       "216     0.0\n",
       "217     0.0\n",
       "218     0.0\n",
       "219     0.0\n",
       "220     0.0\n",
       "221     0.0\n",
       "222     0.0\n",
       "223     0.0\n",
       "224     0.0\n",
       "225     0.0\n",
       "226     0.0\n",
       "227     0.0\n",
       "228     0.0\n",
       "229     0.0\n",
       "230     0.0\n",
       "231     0.0\n",
       "232     0.0\n",
       "233     0.0\n",
       "234     0.0\n",
       "235     0.0\n",
       "236     0.0\n",
       "237     0.0\n",
       "238     0.0\n",
       "239     0.0\n",
       "240     0.0\n",
       "241     0.0\n",
       "242     0.0\n",
       "243     0.0\n",
       "244     0.0\n",
       "245     0.0\n",
       "246     0.0\n",
       "247     0.0\n",
       "248     0.0\n",
       "249     0.0\n",
       "250     0.0\n",
       "251     0.0\n",
       "252     0.3\n",
       "253     0.3\n",
       "254     0.0\n",
       "255     0.0\n",
       "256     0.0\n",
       "257     0.0\n",
       "258     0.0\n",
       "259     0.0\n",
       "260     0.0\n",
       "261     0.0\n",
       "262     0.0\n",
       "263     0.0\n",
       "264     0.0\n",
       "265     0.3\n",
       "266     0.0\n",
       "267     0.0\n",
       "268     0.0\n",
       "269     0.0\n",
       "270     0.0\n",
       "271     0.0\n",
       "272     0.0\n",
       "273     0.0\n",
       "274     0.0\n",
       "275     0.0\n",
       "276     0.0\n",
       "277     0.0\n",
       "278     0.0\n",
       "279     0.0\n",
       "280     0.0\n",
       "281     0.0\n",
       "282     0.0\n",
       "283     0.0\n",
       "284     0.0\n",
       "285     2.0\n",
       "286     4.8\n",
       "287    16.5\n",
       "288     7.9\n",
       "289     0.0\n",
       "290     0.0\n",
       "291    20.8\n",
       "292     4.8\n",
       "293     0.5\n",
       "294     6.4\n",
       "295     8.9\n",
       "296     0.0\n",
       "297     7.1\n",
       "298     0.0\n",
       "299     1.5\n",
       "300    23.1\n",
       "301     6.1\n",
       "302    10.9\n",
       "303    34.5\n",
       "304    14.5\n",
       "305     9.7\n",
       "306     5.6\n",
       "307     0.5\n",
       "308     8.1\n",
       "309     0.8\n",
       "310     0.3\n",
       "311     0.0\n",
       "312     0.0\n",
       "313     0.0\n",
       "314     0.0\n",
       "315    15.2\n",
       "316     3.6\n",
       "317     5.3\n",
       "318     0.8\n",
       "319     0.0\n",
       "320     5.6\n",
       "321     6.1\n",
       "322     7.9\n",
       "323    54.1\n",
       "324     3.8\n",
       "325    11.2\n",
       "326     0.0\n",
       "327    32.0\n",
       "328     0.0\n",
       "329     0.0\n",
       "330     0.0\n",
       "331     0.0\n",
       "332     2.8\n",
       "333     1.5\n",
       "334    35.6\n",
       "335     4.1\n",
       "336    19.6\n",
       "337    13.0\n",
       "338    14.2\n",
       "339     1.5\n",
       "340     1.5\n",
       "341     1.0\n",
       "342     0.0\n",
       "343     1.5\n",
       "344     0.5\n",
       "345     3.0\n",
       "346     8.1\n",
       "347     2.3\n",
       "348     7.9\n",
       "349     5.3\n",
       "350    22.6\n",
       "351     2.0\n",
       "352     3.3\n",
       "353    13.7\n",
       "354    13.2\n",
       "355     1.8\n",
       "356     3.3\n",
       "357     6.6\n",
       "358     0.3\n",
       "359    13.5\n",
       "360     4.6\n",
       "361     4.1\n",
       "362     0.0\n",
       "363     1.5\n",
       "364     0.0\n",
       "365     0.0\n",
       "Name: precipitation, dtype: float64"
      ]
     },
     "execution_count": 92,
     "metadata": {},
     "output_type": "execute_result"
    }
   ],
   "source": [
    "rainfall"
   ]
  },
  {
   "cell_type": "code",
   "execution_count": 93,
   "id": "7a6f18f1",
   "metadata": {},
   "outputs": [
    {
     "data": {
      "text/plain": [
       "1      10.9\n",
       "2       0.8\n",
       "3      20.3\n",
       "4       1.3\n",
       "5       2.5\n",
       "8       4.3\n",
       "9       1.0\n",
       "13      4.1\n",
       "14      5.3\n",
       "15      2.5\n",
       "16      8.1\n",
       "17     19.8\n",
       "18     15.2\n",
       "19     13.5\n",
       "20      3.0\n",
       "21      6.1\n",
       "23      8.6\n",
       "24      8.1\n",
       "25      4.8\n",
       "28     27.7\n",
       "29      3.6\n",
       "30      1.8\n",
       "31     13.5\n",
       "37      0.3\n",
       "38      2.8\n",
       "39      2.5\n",
       "40      2.5\n",
       "41      0.8\n",
       "42      1.0\n",
       "43     11.4\n",
       "44      2.5\n",
       "46      1.8\n",
       "47     17.3\n",
       "48      6.4\n",
       "50      3.0\n",
       "51      0.8\n",
       "52      8.6\n",
       "54     11.4\n",
       "56      1.3\n",
       "58      3.6\n",
       "59      0.8\n",
       "61      2.0\n",
       "64      6.9\n",
       "65      0.5\n",
       "68      3.6\n",
       "69     10.4\n",
       "70     13.7\n",
       "71     19.3\n",
       "72      9.4\n",
       "73      8.6\n",
       "74     23.9\n",
       "75      8.4\n",
       "76      9.4\n",
       "77      3.6\n",
       "78      2.0\n",
       "79      3.6\n",
       "80      1.3\n",
       "81      4.1\n",
       "86      4.8\n",
       "87      1.3\n",
       "88     27.4\n",
       "89      5.6\n",
       "90     13.2\n",
       "91      1.5\n",
       "93      1.5\n",
       "95      4.6\n",
       "96      0.3\n",
       "101     2.3\n",
       "102     0.5\n",
       "106     8.1\n",
       "107     1.8\n",
       "108     1.8\n",
       "109    10.9\n",
       "110     6.6\n",
       "114     4.3\n",
       "115    10.7\n",
       "116     3.8\n",
       "117     0.8\n",
       "119     4.3\n",
       "120     4.3\n",
       "121     0.5\n",
       "122     0.5\n",
       "123    18.5\n",
       "124     1.8\n",
       "140     6.4\n",
       "141    14.0\n",
       "142     6.1\n",
       "143     0.3\n",
       "150     0.3\n",
       "151     3.8\n",
       "152     6.6\n",
       "153     0.3\n",
       "155     1.3\n",
       "156    16.0\n",
       "158    16.5\n",
       "159     1.5\n",
       "163     0.8\n",
       "169     3.0\n",
       "170     1.0\n",
       "173    15.7\n",
       "174     8.6\n",
       "176     0.5\n",
       "180     0.3\n",
       "181     3.0\n",
       "183     2.0\n",
       "184     5.8\n",
       "190     1.5\n",
       "194     0.5\n",
       "197     0.3\n",
       "201    15.2\n",
       "203     1.0\n",
       "252     0.3\n",
       "253     0.3\n",
       "265     0.3\n",
       "285     2.0\n",
       "286     4.8\n",
       "287    16.5\n",
       "288     7.9\n",
       "291    20.8\n",
       "292     4.8\n",
       "293     0.5\n",
       "294     6.4\n",
       "295     8.9\n",
       "297     7.1\n",
       "299     1.5\n",
       "300    23.1\n",
       "301     6.1\n",
       "302    10.9\n",
       "303    34.5\n",
       "304    14.5\n",
       "305     9.7\n",
       "306     5.6\n",
       "307     0.5\n",
       "308     8.1\n",
       "309     0.8\n",
       "310     0.3\n",
       "315    15.2\n",
       "316     3.6\n",
       "317     5.3\n",
       "318     0.8\n",
       "320     5.6\n",
       "321     6.1\n",
       "322     7.9\n",
       "323    54.1\n",
       "324     3.8\n",
       "325    11.2\n",
       "327    32.0\n",
       "332     2.8\n",
       "333     1.5\n",
       "334    35.6\n",
       "335     4.1\n",
       "336    19.6\n",
       "337    13.0\n",
       "338    14.2\n",
       "339     1.5\n",
       "340     1.5\n",
       "341     1.0\n",
       "343     1.5\n",
       "344     0.5\n",
       "345     3.0\n",
       "346     8.1\n",
       "347     2.3\n",
       "348     7.9\n",
       "349     5.3\n",
       "350    22.6\n",
       "351     2.0\n",
       "352     3.3\n",
       "353    13.7\n",
       "354    13.2\n",
       "355     1.8\n",
       "356     3.3\n",
       "357     6.6\n",
       "358     0.3\n",
       "359    13.5\n",
       "360     4.6\n",
       "361     4.1\n",
       "363     1.5\n",
       "Name: precipitation, dtype: float64"
      ]
     },
     "execution_count": 93,
     "metadata": {},
     "output_type": "execute_result"
    }
   ],
   "source": [
    "# Construct a mask on all rainy days\n",
    "\n",
    "rain = rainfall>0\n",
    "rainfall[rain]"
   ]
  },
  {
   "cell_type": "code",
   "execution_count": 62,
   "id": "ca5355b8",
   "metadata": {},
   "outputs": [],
   "source": [
    "# Construct a mask of all summer days (June 21st is the 173 day in 2012)\n",
    "\n",
    "summer = (np.arange(366)-173<90) & (np.arange(366)-173>0)"
   ]
  },
  {
   "cell_type": "code",
   "execution_count": 94,
   "id": "368deb66",
   "metadata": {},
   "outputs": [
    {
     "data": {
      "text/plain": [
       "174     8.6\n",
       "175     0.0\n",
       "176     0.5\n",
       "177     0.0\n",
       "178     0.0\n",
       "179     0.0\n",
       "180     0.3\n",
       "181     3.0\n",
       "182     0.0\n",
       "183     2.0\n",
       "184     5.8\n",
       "185     0.0\n",
       "186     0.0\n",
       "187     0.0\n",
       "188     0.0\n",
       "189     0.0\n",
       "190     1.5\n",
       "191     0.0\n",
       "192     0.0\n",
       "193     0.0\n",
       "194     0.5\n",
       "195     0.0\n",
       "196     0.0\n",
       "197     0.3\n",
       "198     0.0\n",
       "199     0.0\n",
       "200     0.0\n",
       "201    15.2\n",
       "202     0.0\n",
       "203     1.0\n",
       "204     0.0\n",
       "205     0.0\n",
       "206     0.0\n",
       "207     0.0\n",
       "208     0.0\n",
       "209     0.0\n",
       "210     0.0\n",
       "211     0.0\n",
       "212     0.0\n",
       "213     0.0\n",
       "214     0.0\n",
       "215     0.0\n",
       "216     0.0\n",
       "217     0.0\n",
       "218     0.0\n",
       "219     0.0\n",
       "220     0.0\n",
       "221     0.0\n",
       "222     0.0\n",
       "223     0.0\n",
       "224     0.0\n",
       "225     0.0\n",
       "226     0.0\n",
       "227     0.0\n",
       "228     0.0\n",
       "229     0.0\n",
       "230     0.0\n",
       "231     0.0\n",
       "232     0.0\n",
       "233     0.0\n",
       "234     0.0\n",
       "235     0.0\n",
       "236     0.0\n",
       "237     0.0\n",
       "238     0.0\n",
       "239     0.0\n",
       "240     0.0\n",
       "241     0.0\n",
       "242     0.0\n",
       "243     0.0\n",
       "244     0.0\n",
       "245     0.0\n",
       "246     0.0\n",
       "247     0.0\n",
       "248     0.0\n",
       "249     0.0\n",
       "250     0.0\n",
       "251     0.0\n",
       "252     0.3\n",
       "253     0.3\n",
       "254     0.0\n",
       "255     0.0\n",
       "256     0.0\n",
       "257     0.0\n",
       "258     0.0\n",
       "259     0.0\n",
       "260     0.0\n",
       "261     0.0\n",
       "262     0.0\n",
       "Name: precipitation, dtype: float64"
      ]
     },
     "execution_count": 94,
     "metadata": {},
     "output_type": "execute_result"
    }
   ],
   "source": [
    "rainfall[summer]"
   ]
  },
  {
   "cell_type": "code",
   "execution_count": 83,
   "id": "bd77f5a1",
   "metadata": {},
   "outputs": [
    {
     "data": {
      "text/plain": [
       "4.1"
      ]
     },
     "execution_count": 83,
     "metadata": {},
     "output_type": "execute_result"
    }
   ],
   "source": [
    "# Median precipitation on rainy days in 2012\n",
    "\n",
    "np.median(rainfall[rain])"
   ]
  },
  {
   "cell_type": "code",
   "execution_count": 84,
   "id": "6c80dfad",
   "metadata": {},
   "outputs": [
    {
     "data": {
      "text/plain": [
       "0.3"
      ]
     },
     "execution_count": 84,
     "metadata": {},
     "output_type": "execute_result"
    }
   ],
   "source": [
    "# Min precipitation on rainy days in 2012\n",
    "\n",
    "np.min(rainfall[rain])"
   ]
  },
  {
   "cell_type": "code",
   "execution_count": 74,
   "id": "df1e2ce4",
   "metadata": {},
   "outputs": [
    {
     "data": {
      "text/plain": [
       "54.1"
      ]
     },
     "execution_count": 74,
     "metadata": {},
     "output_type": "execute_result"
    }
   ],
   "source": [
    "# Max precipitation on rainy days in 2012\n",
    "\n",
    "np.max(rainfall[rain])"
   ]
  },
  {
   "cell_type": "code",
   "execution_count": 67,
   "id": "5a3b1f17",
   "metadata": {},
   "outputs": [
    {
     "data": {
      "text/plain": [
       "0.0"
      ]
     },
     "execution_count": 67,
     "metadata": {},
     "output_type": "execute_result"
    }
   ],
   "source": [
    "# Median precipitation on summer days in 2012\n",
    "\n",
    "np.median(rainfall[summer])"
   ]
  },
  {
   "cell_type": "code",
   "execution_count": 75,
   "id": "85cce52b",
   "metadata": {},
   "outputs": [
    {
     "data": {
      "text/plain": [
       "0.3"
      ]
     },
     "execution_count": 75,
     "metadata": {},
     "output_type": "execute_result"
    }
   ],
   "source": [
    "# Min precipitation on summer days in 2012\n",
    "\n",
    "np.min(rainfall[rain])"
   ]
  },
  {
   "cell_type": "code",
   "execution_count": 68,
   "id": "9883ac80",
   "metadata": {},
   "outputs": [
    {
     "data": {
      "text/plain": [
       "15.2"
      ]
     },
     "execution_count": 68,
     "metadata": {},
     "output_type": "execute_result"
    }
   ],
   "source": [
    "# Maximum precipitation on summer days in 2012\n",
    "\n",
    "np.max(rainfall[summer])"
   ]
  },
  {
   "cell_type": "code",
   "execution_count": 69,
   "id": "3c9db846",
   "metadata": {},
   "outputs": [
    {
     "data": {
      "text/plain": [
       "4.3"
      ]
     },
     "execution_count": 69,
     "metadata": {},
     "output_type": "execute_result"
    }
   ],
   "source": [
    "# Median precipitation on non-summer days in 2012\n",
    "\n",
    "np.median(rainfall[rain & ~summer])"
   ]
  },
  {
   "cell_type": "code",
   "execution_count": 72,
   "id": "4f0ba475",
   "metadata": {},
   "outputs": [
    {
     "data": {
      "text/plain": [
       "0.3"
      ]
     },
     "execution_count": 72,
     "metadata": {},
     "output_type": "execute_result"
    }
   ],
   "source": [
    "# Minimum precipitation on non-summer days in 2012\n",
    "\n",
    "np.min(rainfall[rain & ~summer])"
   ]
  },
  {
   "cell_type": "code",
   "execution_count": 76,
   "id": "66c330da",
   "metadata": {},
   "outputs": [
    {
     "data": {
      "text/plain": [
       "54.1"
      ]
     },
     "execution_count": 76,
     "metadata": {},
     "output_type": "execute_result"
    }
   ],
   "source": [
    "# Maximum precipitation on non-summer days in 2012\n",
    "\n",
    "np.max(rainfall[rain & ~summer])"
   ]
  },
  {
   "cell_type": "markdown",
   "id": "3f1d67ff",
   "metadata": {},
   "source": [
    "- By combining boolean operations, masking operations and aggregates we can quickly answer above questions"
   ]
  },
  {
   "cell_type": "markdown",
   "id": "c3af4d27",
   "metadata": {},
   "source": [
    "# Fancy Indexing"
   ]
  },
  {
   "cell_type": "markdown",
   "id": "bf34db0f",
   "metadata": {},
   "source": [
    "- Previously we saw simple indexing x[0], slices x[:5] , and boolean masks x[x<5]\n",
    "- In Fancy indexing we pass the array of indices instead of single scalars.\n",
    "- This allows us to quickly access and modify complicated subsets of an array values."
   ]
  },
  {
   "cell_type": "markdown",
   "id": "d3cbab0d",
   "metadata": {},
   "source": [
    "- To access multiple array elements at once we pass array of indices"
   ]
  },
  {
   "cell_type": "markdown",
   "id": "f352a244",
   "metadata": {},
   "source": [
    "## Fancy Indexing in Single dimension"
   ]
  },
  {
   "cell_type": "code",
   "execution_count": 113,
   "id": "61732d76",
   "metadata": {},
   "outputs": [],
   "source": [
    "rand = np.random.RandomState(42)\n",
    "\n",
    "x = rand.randint(100, size=10) #1D array"
   ]
  },
  {
   "cell_type": "code",
   "execution_count": 114,
   "id": "8bd3f823",
   "metadata": {},
   "outputs": [
    {
     "data": {
      "text/plain": [
       "array([51, 92, 14, 71, 60, 20, 82, 86, 74, 74])"
      ]
     },
     "execution_count": 114,
     "metadata": {},
     "output_type": "execute_result"
    }
   ],
   "source": [
    "x"
   ]
  },
  {
   "cell_type": "code",
   "execution_count": 115,
   "id": "fa27b00c",
   "metadata": {},
   "outputs": [
    {
     "data": {
      "text/plain": [
       "[71, 86, 14]"
      ]
     },
     "execution_count": 115,
     "metadata": {},
     "output_type": "execute_result"
    }
   ],
   "source": [
    "# Suppose we want to access three different elements\n",
    "\n",
    "[x[3], x[7], x[2]]"
   ]
  },
  {
   "cell_type": "code",
   "execution_count": 116,
   "id": "c0d701dd",
   "metadata": {},
   "outputs": [
    {
     "data": {
      "text/plain": [
       "array([71, 86, 14])"
      ]
     },
     "execution_count": 116,
     "metadata": {},
     "output_type": "execute_result"
    }
   ],
   "source": [
    "# Alternatively we can pass the single list or array of indices to obtain the same result\n",
    "\n",
    "ind = [3, 7, 2]\n",
    "x[ind]"
   ]
  },
  {
   "cell_type": "markdown",
   "id": "525ce572",
   "metadata": {},
   "source": [
    "- With fancy indexing shape of result reflects the shape of index arrays rather than the shape of the array being indexed"
   ]
  },
  {
   "cell_type": "code",
   "execution_count": 120,
   "id": "5bc66012",
   "metadata": {},
   "outputs": [],
   "source": [
    "ind = np.array([[3,7],\n",
    "              [4,5]])"
   ]
  },
  {
   "cell_type": "code",
   "execution_count": 124,
   "id": "14f2b416",
   "metadata": {},
   "outputs": [
    {
     "data": {
      "text/plain": [
       "array([[71, 86],\n",
       "       [60, 20]])"
      ]
     },
     "execution_count": 124,
     "metadata": {},
     "output_type": "execute_result"
    }
   ],
   "source": [
    "x[ind]"
   ]
  },
  {
   "cell_type": "markdown",
   "id": "b38faa1f",
   "metadata": {},
   "source": [
    "## Fancy Indexing in multiple dimensions"
   ]
  },
  {
   "cell_type": "code",
   "execution_count": 125,
   "id": "ba49f754",
   "metadata": {},
   "outputs": [],
   "source": [
    "X = np.arange(12).reshape(3,4)"
   ]
  },
  {
   "cell_type": "code",
   "execution_count": 126,
   "id": "0d0598c5",
   "metadata": {},
   "outputs": [
    {
     "data": {
      "text/plain": [
       "array([[ 0,  1,  2,  3],\n",
       "       [ 4,  5,  6,  7],\n",
       "       [ 8,  9, 10, 11]])"
      ]
     },
     "execution_count": 126,
     "metadata": {},
     "output_type": "execute_result"
    }
   ],
   "source": [
    "X"
   ]
  },
  {
   "cell_type": "code",
   "execution_count": 128,
   "id": "eb21bc47",
   "metadata": {},
   "outputs": [],
   "source": [
    "# In standard indexing first index refers to row and the second to column\n",
    "\n",
    "row = np.array([0,1,2])\n",
    "col = np.array([2,1,3])"
   ]
  },
  {
   "cell_type": "code",
   "execution_count": 129,
   "id": "41a7b318",
   "metadata": {},
   "outputs": [
    {
     "data": {
      "text/plain": [
       "array([ 2,  5, 11])"
      ]
     },
     "execution_count": 129,
     "metadata": {},
     "output_type": "execute_result"
    }
   ],
   "source": [
    "X[row,col]"
   ]
  },
  {
   "cell_type": "code",
   "execution_count": 130,
   "id": "fbecaceb",
   "metadata": {},
   "outputs": [],
   "source": [
    "# Notice that first value in result is X[0, 2]\n",
    "# The pairing of indices in fancy indexing follows all the briadcasting rules."
   ]
  },
  {
   "cell_type": "code",
   "execution_count": 132,
   "id": "07b27b90",
   "metadata": {},
   "outputs": [
    {
     "data": {
      "text/plain": [
       "array([[ 2,  1,  3],\n",
       "       [ 6,  5,  7],\n",
       "       [10,  9, 11]])"
      ]
     },
     "execution_count": 132,
     "metadata": {},
     "output_type": "execute_result"
    }
   ],
   "source": [
    "# If we combine the row vector and column vector then we get the two dimensional result\n",
    "\n",
    "X[row[:, np.newaxis], col]"
   ]
  },
  {
   "cell_type": "markdown",
   "id": "93288c20",
   "metadata": {},
   "source": [
    "# Combined Indexing"
   ]
  },
  {
   "cell_type": "markdown",
   "id": "6f42ab72",
   "metadata": {},
   "source": [
    "- To get more powerful operations, fancy indexing can be combined with other indexing schemes like simple \n",
    "indices, slicing, and masking"
   ]
  },
  {
   "cell_type": "code",
   "execution_count": 134,
   "id": "7b66d953",
   "metadata": {},
   "outputs": [
    {
     "name": "stdout",
     "output_type": "stream",
     "text": [
      "[[ 0  1  2  3]\n",
      " [ 4  5  6  7]\n",
      " [ 8  9 10 11]]\n"
     ]
    }
   ],
   "source": [
    "print(X)"
   ]
  },
  {
   "cell_type": "code",
   "execution_count": 135,
   "id": "c7f41f99",
   "metadata": {},
   "outputs": [
    {
     "data": {
      "text/plain": [
       "array([10,  8,  9])"
      ]
     },
     "execution_count": 135,
     "metadata": {},
     "output_type": "execute_result"
    }
   ],
   "source": [
    "# Combine fancy and simple indices\n",
    "\n",
    "X[2, [2, 0, 1]]"
   ]
  },
  {
   "cell_type": "code",
   "execution_count": 136,
   "id": "b0e237aa",
   "metadata": {},
   "outputs": [
    {
     "data": {
      "text/plain": [
       "array([[ 6,  4,  5],\n",
       "       [10,  8,  9]])"
      ]
     },
     "execution_count": 136,
     "metadata": {},
     "output_type": "execute_result"
    }
   ],
   "source": [
    "# Combine fancy and slicing\n",
    "\n",
    "X[1:, [2, 0, 1]]"
   ]
  },
  {
   "cell_type": "code",
   "execution_count": 137,
   "id": "95569e2c",
   "metadata": {},
   "outputs": [],
   "source": [
    "# Combine fancy indexing with mask\n",
    "\n",
    "mask = np.array([1,0,1,0], dtype = bool)"
   ]
  },
  {
   "cell_type": "code",
   "execution_count": 138,
   "id": "29596adb",
   "metadata": {},
   "outputs": [
    {
     "data": {
      "text/plain": [
       "array([ True, False,  True, False])"
      ]
     },
     "execution_count": 138,
     "metadata": {},
     "output_type": "execute_result"
    }
   ],
   "source": [
    "mask"
   ]
  },
  {
   "cell_type": "code",
   "execution_count": 139,
   "id": "97ed4280",
   "metadata": {},
   "outputs": [
    {
     "data": {
      "text/plain": [
       "array([[ 0,  2],\n",
       "       [ 4,  6],\n",
       "       [ 8, 10]])"
      ]
     },
     "execution_count": 139,
     "metadata": {},
     "output_type": "execute_result"
    }
   ],
   "source": [
    "X[row[:,np.newaxis], mask]"
   ]
  },
  {
   "cell_type": "markdown",
   "id": "ee0ab75a",
   "metadata": {},
   "source": [
    "- Combining all of these indexing options lead to a very flexible set of operations for accessing and modifying array values"
   ]
  },
  {
   "cell_type": "markdown",
   "id": "0dfdadd0",
   "metadata": {},
   "source": [
    "# Modify Values with Fancy Indexing"
   ]
  },
  {
   "cell_type": "markdown",
   "id": "7f5f8de7",
   "metadata": {},
   "source": [
    "- As fancy indexing can be used to access parts of an array, it can also be used as parts of an array"
   ]
  },
  {
   "cell_type": "code",
   "execution_count": 148,
   "id": "67fc4e79",
   "metadata": {},
   "outputs": [],
   "source": [
    "x = np.arange(10)\n",
    "i = np.array([2,1,8,4])"
   ]
  },
  {
   "cell_type": "code",
   "execution_count": 150,
   "id": "e74dfba3",
   "metadata": {},
   "outputs": [
    {
     "data": {
      "text/plain": [
       "array([0, 1, 2, 3, 4, 5, 6, 7, 8, 9])"
      ]
     },
     "execution_count": 150,
     "metadata": {},
     "output_type": "execute_result"
    }
   ],
   "source": [
    "x"
   ]
  },
  {
   "cell_type": "code",
   "execution_count": 151,
   "id": "64389ce6",
   "metadata": {},
   "outputs": [
    {
     "data": {
      "text/plain": [
       "array([2, 1, 8, 4])"
      ]
     },
     "execution_count": 151,
     "metadata": {},
     "output_type": "execute_result"
    }
   ],
   "source": [
    "x[i]"
   ]
  },
  {
   "cell_type": "code",
   "execution_count": 159,
   "id": "705dc626",
   "metadata": {},
   "outputs": [],
   "source": [
    "x[i]=99"
   ]
  },
  {
   "cell_type": "code",
   "execution_count": 160,
   "id": "4bee9232",
   "metadata": {},
   "outputs": [
    {
     "name": "stdout",
     "output_type": "stream",
     "text": [
      "[ 0 99 99  3 99  5  6  7 99  9]\n"
     ]
    }
   ],
   "source": [
    "print(x)"
   ]
  },
  {
   "cell_type": "code",
   "execution_count": 161,
   "id": "bdfa26b2",
   "metadata": {},
   "outputs": [],
   "source": [
    "# We can use any assignment type operator\n",
    "\n",
    "#x[i] = x[i] - 10\n",
    "x[i] -= 10"
   ]
  },
  {
   "cell_type": "code",
   "execution_count": 162,
   "id": "9243a05b",
   "metadata": {},
   "outputs": [
    {
     "data": {
      "text/plain": [
       "array([ 0, 89, 89,  3, 89,  5,  6,  7, 89,  9])"
      ]
     },
     "execution_count": 162,
     "metadata": {},
     "output_type": "execute_result"
    }
   ],
   "source": [
    "x"
   ]
  },
  {
   "cell_type": "code",
   "execution_count": 163,
   "id": "efe36496",
   "metadata": {},
   "outputs": [
    {
     "name": "stdout",
     "output_type": "stream",
     "text": [
      "[ 0 89 89  3 89  5  6  7 89  9]\n"
     ]
    }
   ],
   "source": [
    "print(x)"
   ]
  },
  {
   "cell_type": "code",
   "execution_count": 164,
   "id": "6cc974b3",
   "metadata": {},
   "outputs": [],
   "source": [
    "x = np.zeros(10)"
   ]
  },
  {
   "cell_type": "code",
   "execution_count": 165,
   "id": "06d6abc0",
   "metadata": {},
   "outputs": [
    {
     "data": {
      "text/plain": [
       "array([0., 0., 0., 0., 0., 0., 0., 0., 0., 0.])"
      ]
     },
     "execution_count": 165,
     "metadata": {},
     "output_type": "execute_result"
    }
   ],
   "source": [
    "x"
   ]
  },
  {
   "cell_type": "code",
   "execution_count": 166,
   "id": "4753713c",
   "metadata": {},
   "outputs": [],
   "source": [
    "x[[0,0]] = [4,6] # assigning multiple values to single index"
   ]
  },
  {
   "cell_type": "code",
   "execution_count": 167,
   "id": "2bce3a45",
   "metadata": {},
   "outputs": [
    {
     "name": "stdout",
     "output_type": "stream",
     "text": [
      "[6. 0. 0. 0. 0. 0. 0. 0. 0. 0.]\n"
     ]
    }
   ],
   "source": [
    "print(x)"
   ]
  },
  {
   "cell_type": "code",
   "execution_count": 168,
   "id": "ee68fee0",
   "metadata": {},
   "outputs": [],
   "source": [
    "# addition of values in an array\n",
    "\n",
    "i = [2,3,3,4,4,4]"
   ]
  },
  {
   "cell_type": "code",
   "execution_count": 169,
   "id": "e80b05ac",
   "metadata": {},
   "outputs": [
    {
     "name": "stdout",
     "output_type": "stream",
     "text": [
      "[6. 0. 1. 1. 1. 0. 0. 0. 0. 0.]\n"
     ]
    }
   ],
   "source": [
    "x[i] +=1 \n",
    "# x[i] = x[i] + 1\n",
    "print(x) "
   ]
  },
  {
   "cell_type": "code",
   "execution_count": 170,
   "id": "5624d0d0",
   "metadata": {},
   "outputs": [
    {
     "name": "stdout",
     "output_type": "stream",
     "text": [
      "[0. 0. 1. 2. 3. 0. 0. 0. 0. 0.]\n"
     ]
    }
   ],
   "source": [
    "# What if we want to repeat the operation\n",
    "\n",
    "x = np.zeros(10)\n",
    "np.add.at(x, i, 1)\n",
    "print(x)"
   ]
  },
  {
   "cell_type": "code",
   "execution_count": null,
   "id": "7aeb4aad",
   "metadata": {},
   "outputs": [],
   "source": []
  }
 ],
 "metadata": {
  "kernelspec": {
   "display_name": "Python 3.10.2 64-bit",
   "language": "python",
   "name": "python3"
  },
  "language_info": {
   "codemirror_mode": {
    "name": "ipython",
    "version": 3
   },
   "file_extension": ".py",
   "mimetype": "text/x-python",
   "name": "python",
   "nbconvert_exporter": "python",
   "pygments_lexer": "ipython3",
   "version": "3.10.2"
  },
  "toc": {
   "base_numbering": 1,
   "nav_menu": {},
   "number_sections": true,
   "sideBar": true,
   "skip_h1_title": false,
   "title_cell": "Table of Contents",
   "title_sidebar": "Contents",
   "toc_cell": false,
   "toc_position": {
    "height": "calc(100% - 180px)",
    "left": "10px",
    "top": "150px",
    "width": "288px"
   },
   "toc_section_display": true,
   "toc_window_display": true
  },
  "vscode": {
   "interpreter": {
    "hash": "af8cdbec20cabee94335913951c23f0843030a4cf1aa91f8cc372c55171c1b62"
   }
  }
 },
 "nbformat": 4,
 "nbformat_minor": 5
}
