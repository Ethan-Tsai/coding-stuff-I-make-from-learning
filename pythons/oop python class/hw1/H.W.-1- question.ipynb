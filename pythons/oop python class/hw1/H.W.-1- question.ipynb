{
 "cells": [
  {
   "cell_type": "markdown",
   "id": "8ee487e6",
   "metadata": {},
   "source": [
    "# NumPy Arrays"
   ]
  },
  {
   "cell_type": "code",
   "execution_count": 1,
   "id": "784e7153",
   "metadata": {},
   "outputs": [],
   "source": [
    "import numpy as np"
   ]
  },
  {
   "cell_type": "markdown",
   "id": "a297be94",
   "metadata": {},
   "source": [
    "## **Q1- Create one dimensional array using python list**\n",
    "- Data type needs to be float64 \n",
    "- Print dtype, shape, size, dimension, and memory consumption of each element and total array"
   ]
  },
  {
   "cell_type": "code",
   "execution_count": 9,
   "id": "b025a31a",
   "metadata": {},
   "outputs": [],
   "source": [
    "#create\n",
    "arr0 = np.array([1, 2, 3, 4, 5], dtype=float)"
   ]
  },
  {
   "cell_type": "code",
   "execution_count": 10,
   "id": "d0b78075",
   "metadata": {},
   "outputs": [
    {
     "name": "stdout",
     "output_type": "stream",
     "text": [
      "Data type = float64\n",
      "Shape = (5,)\n",
      "Size = 5\n",
      "Dimension = 1\n",
      "Each element memory size = 8\n",
      "Total array memory size = 40\n"
     ]
    }
   ],
   "source": [
    "# print\n",
    "print(f'Data type = {arr0.dtype}')\n",
    "print(f'Shape = {arr0.shape}')\n",
    "print(f'Size = {arr0.size}')\n",
    "print(f'Dimension = {arr0.ndim}')\n",
    "print(f'Each element memory size = {arr0.itemsize}')\n",
    "print(f'Total array memory size = {arr0.nbytes}')"
   ]
  },
  {
   "cell_type": "markdown",
   "id": "82d699e6",
   "metadata": {},
   "source": [
    "## **Q2- Create two dimensional array using python list**\n",
    "- Print dtype, shape, size, dimension, and memory consumption of each element and total array"
   ]
  },
  {
   "cell_type": "code",
   "execution_count": 13,
   "id": "c001cdb7",
   "metadata": {},
   "outputs": [],
   "source": [
    "#create\n",
    "arr1 = np.array([[1, 2, 3, 4], [5, 6, 7, 8]], dtype='int64')"
   ]
  },
  {
   "cell_type": "code",
   "execution_count": 14,
   "id": "aede4f26",
   "metadata": {},
   "outputs": [
    {
     "name": "stdout",
     "output_type": "stream",
     "text": [
      "Data type = int64\n",
      "Shape = (2, 4)\n",
      "Size = 8\n",
      "Dimension = 2\n",
      "Each element memory size = 8\n",
      "Total array memory size = 64\n"
     ]
    }
   ],
   "source": [
    "#print\n",
    "print(f'Data type = {arr1.dtype}')\n",
    "print(f'Shape = {arr1.shape}')\n",
    "print(f'Size = {arr1.size}')\n",
    "print(f'Dimension = {arr1.ndim}')\n",
    "print(f'Each element memory size = {arr1.itemsize}')\n",
    "print(f'Total array memory size = {arr1.nbytes}')"
   ]
  },
  {
   "cell_type": "markdown",
   "id": "969e71b4",
   "metadata": {},
   "source": [
    "## **Q3- Create a length of 10 integer array filled with zeros**"
   ]
  },
  {
   "cell_type": "code",
   "execution_count": 3,
   "id": "acb15aba",
   "metadata": {},
   "outputs": [
    {
     "data": {
      "text/plain": [
       "array([0, 0, 0, 0, 0, 0, 0, 0, 0, 0])"
      ]
     },
     "execution_count": 3,
     "metadata": {},
     "output_type": "execute_result"
    }
   ],
   "source": [
    "np.zeros(10, dtype=int)"
   ]
  },
  {
   "cell_type": "markdown",
   "id": "6b423b6d",
   "metadata": {},
   "source": [
    "## **Q4- Create a 4X5 floating point array filled with 1s**"
   ]
  },
  {
   "cell_type": "code",
   "execution_count": 4,
   "id": "3996c95b",
   "metadata": {},
   "outputs": [
    {
     "data": {
      "text/plain": [
       "array([[1., 1., 1., 1., 1.],\n",
       "       [1., 1., 1., 1., 1.],\n",
       "       [1., 1., 1., 1., 1.],\n",
       "       [1., 1., 1., 1., 1.]])"
      ]
     },
     "execution_count": 4,
     "metadata": {},
     "output_type": "execute_result"
    }
   ],
   "source": [
    "np.ones((4, 5), dtype=float)"
   ]
  },
  {
   "cell_type": "markdown",
   "id": "04bc7123",
   "metadata": {},
   "source": [
    "## **Q5- Create a 3x3 identity matrix**\n",
    "- Data type: int"
   ]
  },
  {
   "cell_type": "code",
   "execution_count": 9,
   "id": "8c79ec31",
   "metadata": {},
   "outputs": [
    {
     "data": {
      "text/plain": [
       "array([[1, 0, 0],\n",
       "       [0, 1, 0],\n",
       "       [0, 0, 1]])"
      ]
     },
     "execution_count": 9,
     "metadata": {},
     "output_type": "execute_result"
    }
   ],
   "source": [
    "np.identity(3, dtype=int)"
   ]
  },
  {
   "cell_type": "markdown",
   "id": "b4b96321",
   "metadata": {},
   "source": [
    "## **Q6- Create a one dimensional array of length 10**\n",
    "- Use numpy function arange to create the array\n",
    "- Assign new value (12) at the index of 5,6,7"
   ]
  },
  {
   "cell_type": "code",
   "execution_count": 17,
   "id": "bdf42ebf",
   "metadata": {},
   "outputs": [],
   "source": [
    "#create\n",
    "arr2 = np.arange(10, dtype=int)"
   ]
  },
  {
   "cell_type": "code",
   "execution_count": 16,
   "id": "e52f8add",
   "metadata": {},
   "outputs": [
    {
     "data": {
      "text/plain": [
       "array([ 0,  1,  2,  3,  4, 12, 12, 12,  8,  9])"
      ]
     },
     "execution_count": 16,
     "metadata": {},
     "output_type": "execute_result"
    }
   ],
   "source": [
    "#asign\n",
    "arr2[5:8] = 12\n",
    "arr2"
   ]
  },
  {
   "cell_type": "markdown",
   "id": "b000e17a",
   "metadata": {},
   "source": [
    "## **Q7- Create a 3x3 array**\n",
    "- a. Use numpy function arange and reshape() to create the array\n",
    "- b. Select the first two rows of array\n",
    "- c. Select the second row but only the first two columns \n",
    "- d. Select the third column but only the first two rows\n",
    "- e. Select the first column only\n",
    "- f. Assign the new value 15 to the last element of third row and third column and print the array"
   ]
  },
  {
   "cell_type": "code",
   "execution_count": 20,
   "id": "789ee028",
   "metadata": {},
   "outputs": [],
   "source": [
    "# a.\n",
    "# code\n",
    "arr3 = np.arange(1, 10).reshape(3,3)"
   ]
  },
  {
   "cell_type": "code",
   "execution_count": 21,
   "id": "262bb74b",
   "metadata": {},
   "outputs": [
    {
     "data": {
      "text/plain": [
       "array([[1, 2, 3],\n",
       "       [4, 5, 6],\n",
       "       [7, 8, 9]])"
      ]
     },
     "execution_count": 21,
     "metadata": {},
     "output_type": "execute_result"
    }
   ],
   "source": [
    "#print\n",
    "arr3"
   ]
  },
  {
   "cell_type": "code",
   "execution_count": 22,
   "id": "8382c9d2",
   "metadata": {},
   "outputs": [
    {
     "data": {
      "text/plain": [
       "array([[1, 2, 3],\n",
       "       [4, 5, 6]])"
      ]
     },
     "execution_count": 22,
     "metadata": {},
     "output_type": "execute_result"
    }
   ],
   "source": [
    "# b.\n",
    "arr3[:2,]"
   ]
  },
  {
   "cell_type": "code",
   "execution_count": 30,
   "id": "88e07ba0",
   "metadata": {},
   "outputs": [
    {
     "data": {
      "text/plain": [
       "array([4, 5])"
      ]
     },
     "execution_count": 30,
     "metadata": {},
     "output_type": "execute_result"
    }
   ],
   "source": [
    "# c.\n",
    "arr3[1,:2]"
   ]
  },
  {
   "cell_type": "code",
   "execution_count": 32,
   "id": "430ceb9c",
   "metadata": {},
   "outputs": [
    {
     "data": {
      "text/plain": [
       "array([[1],\n",
       "       [4],\n",
       "       [7]])"
      ]
     },
     "execution_count": 32,
     "metadata": {},
     "output_type": "execute_result"
    }
   ],
   "source": [
    "# d.\n",
    "arr3[:2, 2]"
   ]
  },
  {
   "cell_type": "code",
   "execution_count": 33,
   "id": "f3786f9a",
   "metadata": {},
   "outputs": [
    {
     "data": {
      "text/plain": [
       "array([[1],\n",
       "       [4],\n",
       "       [7]])"
      ]
     },
     "execution_count": 33,
     "metadata": {},
     "output_type": "execute_result"
    }
   ],
   "source": [
    "# e.\n",
    "arr3[:,:1]"
   ]
  },
  {
   "cell_type": "code",
   "execution_count": 34,
   "id": "bb288591",
   "metadata": {},
   "outputs": [],
   "source": [
    "# f.\n",
    "arr3[2, 2] = 15"
   ]
  },
  {
   "cell_type": "code",
   "execution_count": 35,
   "id": "2afe4e2d",
   "metadata": {},
   "outputs": [
    {
     "data": {
      "text/plain": [
       "array([[ 1,  2,  3],\n",
       "       [ 4,  5,  6],\n",
       "       [ 7,  8, 15]])"
      ]
     },
     "execution_count": 35,
     "metadata": {},
     "output_type": "execute_result"
    }
   ],
   "source": [
    "arr3"
   ]
  },
  {
   "cell_type": "markdown",
   "id": "6d792bfa",
   "metadata": {},
   "source": [
    "## **Q8- Create two arrays of 3x1 and 3x3 shape**\n",
    "- Join both the arrays horizontally and store the result in variable concat\n",
    "- Split the concat array into 2x3 and 1x3 shape"
   ]
  },
  {
   "cell_type": "code",
   "execution_count": 38,
   "id": "c7985a41",
   "metadata": {},
   "outputs": [],
   "source": [
    "#code\n",
    "arr4 = np.arange(97, 100).reshape(3, 1)"
   ]
  },
  {
   "cell_type": "code",
   "execution_count": 39,
   "id": "ec0ee2a8",
   "metadata": {},
   "outputs": [
    {
     "data": {
      "text/plain": [
       "array([[97],\n",
       "       [98],\n",
       "       [99]])"
      ]
     },
     "execution_count": 39,
     "metadata": {},
     "output_type": "execute_result"
    }
   ],
   "source": [
    "#print\n",
    "arr4"
   ]
  },
  {
   "cell_type": "code",
   "execution_count": 40,
   "id": "ad0fa454",
   "metadata": {},
   "outputs": [],
   "source": [
    "#code\n",
    "arr5 = np.arange(1, 10).reshape(3, 3)"
   ]
  },
  {
   "cell_type": "code",
   "execution_count": 41,
   "id": "17e66098",
   "metadata": {},
   "outputs": [
    {
     "data": {
      "text/plain": [
       "array([[1, 2, 3],\n",
       "       [4, 5, 6],\n",
       "       [7, 8, 9]])"
      ]
     },
     "execution_count": 41,
     "metadata": {},
     "output_type": "execute_result"
    }
   ],
   "source": [
    "#print\n",
    "arr5"
   ]
  },
  {
   "cell_type": "code",
   "execution_count": 45,
   "id": "fff8084e",
   "metadata": {},
   "outputs": [],
   "source": [
    "#code\n",
    "arr6 = np.hstack([arr4, arr5])"
   ]
  },
  {
   "cell_type": "code",
   "execution_count": 49,
   "id": "0f621d2d",
   "metadata": {},
   "outputs": [
    {
     "data": {
      "text/plain": [
       "array([[97,  1,  2,  3],\n",
       "       [98,  4,  5,  6],\n",
       "       [99,  7,  8,  9]])"
      ]
     },
     "execution_count": 49,
     "metadata": {},
     "output_type": "execute_result"
    }
   ],
   "source": [
    "#print\n",
    "arr6"
   ]
  },
  {
   "cell_type": "code",
   "execution_count": 50,
   "id": "5d1d8f2f",
   "metadata": {},
   "outputs": [
    {
     "data": {
      "text/plain": [
       "[array([[97,  1,  2,  3],\n",
       "        [98,  4,  5,  6]]),\n",
       " array([[99,  7,  8,  9]])]"
      ]
     },
     "execution_count": 50,
     "metadata": {},
     "output_type": "execute_result"
    }
   ],
   "source": [
    "np.vsplit(arr6, [2])"
   ]
  },
  {
   "cell_type": "code",
   "execution_count": 51,
   "id": "379a674b",
   "metadata": {},
   "outputs": [
    {
     "data": {
      "text/plain": [
       "[array([[97,  1],\n",
       "        [98,  4],\n",
       "        [99,  7]]),\n",
       " array([[2, 3],\n",
       "        [5, 6],\n",
       "        [8, 9]])]"
      ]
     },
     "execution_count": 51,
     "metadata": {},
     "output_type": "execute_result"
    }
   ],
   "source": [
    "np.hsplit(arr6, [2])"
   ]
  },
  {
   "cell_type": "code",
   "execution_count": 52,
   "id": "79c113fe",
   "metadata": {},
   "outputs": [
    {
     "data": {
      "text/plain": [
       "[array([[97,  1,  2],\n",
       "        [98,  4,  5],\n",
       "        [99,  7,  8]]),\n",
       " array([[3],\n",
       "        [6],\n",
       "        [9]])]"
      ]
     },
     "execution_count": 52,
     "metadata": {},
     "output_type": "execute_result"
    }
   ],
   "source": [
    "np.hsplit(arr6, [3])"
   ]
  }
 ],
 "metadata": {
  "kernelspec": {
   "display_name": "Python 3.9.7 64-bit",
   "language": "python",
   "name": "python3"
  },
  "language_info": {
   "codemirror_mode": {
    "name": "ipython",
    "version": 3
   },
   "file_extension": ".py",
   "mimetype": "text/x-python",
   "name": "python",
   "nbconvert_exporter": "python",
   "pygments_lexer": "ipython3",
   "version": "3.9.7"
  },
  "toc": {
   "base_numbering": 1,
   "nav_menu": {},
   "number_sections": true,
   "sideBar": true,
   "skip_h1_title": false,
   "title_cell": "Table of Contents",
   "title_sidebar": "Contents",
   "toc_cell": false,
   "toc_position": {},
   "toc_section_display": true,
   "toc_window_display": true
  },
  "vscode": {
   "interpreter": {
    "hash": "ccc4e194e61914dee5ed0ddb7d5c2edfc9b4a097a99aa6a9614e030905ed375c"
   }
  }
 },
 "nbformat": 4,
 "nbformat_minor": 5
}
