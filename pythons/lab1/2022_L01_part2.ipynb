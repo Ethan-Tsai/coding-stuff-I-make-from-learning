{
 "cells": [
  {
   "cell_type": "markdown",
   "metadata": {},
   "source": [
    "# MIS102 程式設計實習 - Lecture02"
   ]
  },
  {
   "cell_type": "markdown",
   "metadata": {},
   "source": [
    "### Outline this week\n",
    "\n",
    "- 運算式 Expression, 運算子 Operator, 運算元 Operand\n",
    "- 條件運算式 Conditional Statement\n",
    "- 格式字串 Formatted String\n",
    "- 意外處理 Exception Handling\n",
    "- Lab 練習\n",
    "\n",
    "----"
   ]
  },
  {
   "cell_type": "markdown",
   "metadata": {},
   "source": [
    "### 運算式 Expression, 運算子 Operator, 運算元 Operand\n",
    "\n",
    "在底下運算式的例子中,\n",
    "\n",
    "* `a`, `b`, `c` 為 operand\n",
    "* `+` 為 operator\n",
    "* `a = 2`, `b = 3`, `c = a + b` 為 expression"
   ]
  },
  {
   "cell_type": "code",
   "execution_count": 1,
   "metadata": {},
   "outputs": [],
   "source": [
    "a = 2\n",
    "b = 3\n",
    "c = a + b"
   ]
  },
  {
   "cell_type": "markdown",
   "metadata": {},
   "source": [
    "Operator 有以下幾種\n",
    "\n",
    "1. Arithmetic operators (加減乘除, etc.)\n",
    "2. Comparison operators (比大小)\n",
    "3. Assignment operators (指定值)\n",
    "4. Logical operators (邏輯, 對錯)\n",
    "5. Bitwise operators (位元運算, 這學期不會提到)"
   ]
  },
  {
   "cell_type": "markdown",
   "metadata": {},
   "source": [
    "#### 1. Arithmetic operators (加減乘除, etc.)\n",
    "\n",
    "| Operator | Name | Description | Example |\n",
    "| -------- | ---- | ----------- | ------- |\n",
    "| `+` | 加 | 將兩 operands 相加 | `10 + 20 → 30` |\n",
    "| `-` | 減 | 將左邊的 operand 減去右邊的 operand | `10 - 20 → -10` |\n",
    "| `*` | 乘 | 將兩 operands 相乘 | `10 * 20 → 200` |\n",
    "| `/` | 真除法(division) | 將左邊 operand 除以右邊 operand | `10 / 20 → 0.5` |\n",
    "| `%` | 餘 | 左邊 operand 除以右邊 operand 後的餘數 | `10 % 20 → 10` |\n",
    "| `**` | 乘冪 | 左邊 operand 為底, 右邊 operand 為次方數 | `100 ** .5 → 10` |\n",
    "| `//` | 假除法(Floor division) | 將左邊 operand 除以右邊 operand, 直接忽略小數點以後的所有數字 | `9//2 → 4` |"
   ]
  },
  {
   "cell_type": "markdown",
   "metadata": {},
   "source": [
    "#### 2. Comparison operators (比大小)\n",
    "| Operator | Description | Example |\n",
    "| -------- | ----------- | ------- |\n",
    "| `==` | 確認兩 operands 是否相等 | `(10 == 20) → False` |\n",
    "| `!=` | 確認兩 operands 是否不同 | `(10 != 20) → True` |\n",
    "| `>` | 左邊 operand 是否大於右邊 operand | `(10 > 20) → False` |\n",
    "| `<` | 左邊 operand 是否小於右邊 operand | `(10 < 20) → True` |\n",
    "| `>=` | 左邊 operand 是否大於右邊或等於 operand | `(10 >= 20) → False` |\n",
    "| `<=` | 左邊 operand 是否小於右邊或等於 operand | `(10 <= 20) → True` |\n",
    "\n"
   ]
  },
  {
   "cell_type": "code",
   "execution_count": 2,
   "metadata": {},
   "outputs": [
    {
     "name": "stdout",
     "output_type": "stream",
     "text": [
      "True False 1 0\n",
      "True False True\n"
     ]
    }
   ],
   "source": [
    "# 'False' and 'True' are aliases for the integer '0' and '1', respectively.\n",
    "print(True, False, True + 0, False + 0)\n",
    "\n",
    "# basic usage of operand and comparison operators\n",
    "print(a == 2, b > 5, b <= 3)"
   ]
  },
  {
   "cell_type": "markdown",
   "metadata": {},
   "source": [
    "#### 3. Assignment operators (指定值)\n",
    "\n",
    " | Operator | Description | Example |\n",
    " | :------: | :---------: | ------- |\n",
    " | `=` | assignment operator, 將右邊 operand assign 給左邊 operand | `c = a + b` will assign value of `a + b` into `c` |\n",
    " | `+=` | - | `c += a` is equicalent to `c = c + a` |\n",
    " | `-=` | - | `c -= a` is equicalent to `c = c - a` |\n",
    " | `*=` | - | `c *= a` is equicalent to `c = c * a` |\n",
    " | `/=` | - | `c /= a` is equicalent to `c = c / a` |\n",
    " | `%=` | - | `c %= a` is equicalent to `c = c % a` |\n",
    " | `**=` | - | `c **= a` is equicalent to `c = c ** a` |\n",
    " | `//=` | - | `c //= a` is equicalent to `c = c // a` |\n",
    " "
   ]
  },
  {
   "cell_type": "markdown",
   "metadata": {},
   "source": [
    "**Note:**\n",
    "注意！Python 並沒有 C/C++ 的 `n++, ++n, n-- or --n`\n",
    "\n",
    "這幾種運算子要用 `n += 1` or `n -= 1` 取代"
   ]
  },
  {
   "cell_type": "markdown",
   "metadata": {},
   "source": [
    "#### 4. Logical operators (邏輯, 是非對錯)\n",
    "| Operator | Description | Example |\n",
    "| -------- | ----------- | ------- |\n",
    "| and | 左邊與右邊的 operands **皆為 True**, 其值輸出為True | `(True and 0) → False` |\n",
    "| or | 左邊與右邊的 operands **任一為 True**, 其值輸出為True | `(True or 0) → True` |\n",
    "| not | 如果 oprand 為 False, 則輸出為 True; 如果 oprand 為 True, 則輸出為 False | `not 7 → False` <br> `not 0 → True` <br> `not \"hello\" → False` <br> `not False → True` |\n",
    "\n",
    "----"
   ]
  },
  {
   "cell_type": "markdown",
   "metadata": {},
   "source": [
    "### 條件運算式 Conditional Statement\n",
    "\n",
    "> 人生的選擇決定一切。 —— Bill Gates <br>\n",
    "\n",
    "本小節帶你一窺 Python 處理**選擇結構**的語法, 會盡量舉一些生動的例子."
   ]
  },
  {
   "cell_type": "markdown",
   "metadata": {},
   "source": [
    "#### One-way decisions using `if`\n",
    "\n",
    "> 如果午餐不知道吃什麼, 就隨機吧！ —— Teaching assistant\n",
    "\n",
    "```Python\n",
    "if lunch_have_no_idea == True:\n",
    "    random_one_restaurant()\n",
    "```\n",
    "\n",
    "* 記得要**縮排** Indentation, 建議縮排以空白為主, 盡量少用 tab  \n",
    "  在 Python 中, 你可以選擇一個縮排要幾個空格（通常為 4，少數為 2）, 但是要統一"
   ]
  },
  {
   "cell_type": "code",
   "execution_count": 3,
   "metadata": {},
   "outputs": [
    {
     "name": "stdout",
     "output_type": "stream",
     "text": [
      "Got A+\n",
      "You pass this class.\n",
      "All done\n"
     ]
    }
   ],
   "source": [
    "i = 90\n",
    "if i >= 90:\n",
    "    print('Got A+')\n",
    "\n",
    "    print('You pass this class.')    # 空行並不影響, 只要你有做好縮排, 註解也不影響\n",
    "print('All done')    # 當你停止縮排, 代表我們跳出 if 階段的程式碼了\n",
    "\n",
    "if (i > 100): # 括號可有可無，強力建議省略，因為他很醜\n",
    "    print('Something wrong!')"
   ]
  },
  {
   "cell_type": "markdown",
   "metadata": {},
   "source": [
    "#### Two-way decisions using `if` and `else`\n",
    "\n",
    "> 如果缺席大於三次, 會被當; 否則, 不會被當 —— 體育老師\n",
    "\n",
    "```Python\n",
    "if absence_count > 3:\n",
    "    fail_class()\n",
    "else:\n",
    "    pass_class()\n",
    "```"
   ]
  },
  {
   "cell_type": "markdown",
   "metadata": {},
   "source": [
    "#### Nested decisions\n",
    "\n",
    "> 如果你餓了, 微波冰箱的食物, 吃了; 否則, 如果有功課, 先把它做完, 之後去洗澡 —— 老母\n",
    "\n",
    "```Python\n",
    "if hungry == True:\n",
    "    # Multiple statement here is ok\n",
    "    microwave_food()\n",
    "    eat_food()\n",
    "else:\n",
    "    # Nested decision strucutre is ok\n",
    "    if is_exist_homework == True:\n",
    "        do_homework()\n",
    "    take_a_bath()\n",
    "```\n",
    "\n",
    "\n"
   ]
  },
  {
   "cell_type": "markdown",
   "metadata": {},
   "source": [
    "#### Multi-way decisions using `elif`\n",
    "\n",
    "> 如果你月考考 100 分, 送你信義區地契; 如果你月考考 90 分以上, 送你保時捷; 其餘, 讓你去補習 —— 超凱的老爸\n",
    "\n",
    "```Python\n",
    "if midterm == 100:\n",
    "    get_Xinyi_estate()\n",
    "elif midterm >= 90:\n",
    "    get_Porsche_car()\n",
    "else:\n",
    "    get_after_school_tutoring()\n",
    "```\n",
    "\n",
    "> Python 中沒有像是 C 的 switch —— 紹銘助教  \n",
    "> 不過 C 的 switch 也少用一點，效率太差了，nintendo swtich 倒是可以玩一下 —— 耀融助教  "
   ]
  },
  {
   "cell_type": "markdown",
   "metadata": {},
   "source": [
    "####  Ternary operator\n",
    "- 正常做法 \n",
    "```python\n",
    "True if condition else False\n",
    "```\n",
    "- and,or operator\n",
    "```python\n",
    "condition and True or False\n",
    "```"
   ]
  },
  {
   "cell_type": "code",
   "execution_count": 4,
   "metadata": {},
   "outputs": [
    {
     "name": "stdout",
     "output_type": "stream",
     "text": [
      "10\n",
      "10\n"
     ]
    }
   ],
   "source": [
    "n1 = 10\n",
    "n2 = 30\n",
    "min_n = n1 if n1 < n2 else n2\n",
    "print(min_n)\n",
    "\n",
    "min_n = n1 < n2 and n1 or n2\n",
    "print(min_n)"
   ]
  },
  {
   "cell_type": "markdown",
   "metadata": {},
   "source": [
    "### 格式字串 Formatted String\n",
    "\n",
    "在 c 裡面，我們的 `printf` 有很多可以調整的參數、技巧\n",
    "\n",
    "這一節就要介紹 Python 中如何輸出變數和字串\n",
    "\n",
    "---\n",
    "\n",
    "我們前面提到要將變數與字串連結可以用\n",
    "```python\n",
    "age = 23\n",
    "print('I am ' + str(age) + ' years old.')\n",
    "```\n",
    "這樣的用法又醜又慢（真的很爛，不要再用了霸脫 TAT）\n",
    "\n",
    "Python 中主要有以下三種方法可以串接變數與字串"
   ]
  },
  {
   "cell_type": "markdown",
   "metadata": {},
   "source": [
    "#### 1. %-string\n",
    "\n",
    "這是最老的方法，Python 被發明時就有了，用法基本上和 C 的 `printf` 一模一樣\n",
    "```python\n",
    "'value is %d, another is %f' % (value1, value2)\n",
    "```\n",
    "優點是~~很老~~，我是說和 C 很像，所以可以無痛轉移  \n",
    "缺點是東西變多的時候不易閱讀\n",
    "\n",
    "#### 2. str.format() (從 Python 2.6 後可使用)\n",
    "上面的例子可改寫成\n",
    "```python\n",
    "'value is {}, another is {}'.format(value1, value2)\n",
    "```\n",
    "這個用法是現在大家最常用的\n",
    "\n",
    "#### 3. f-string (從 Python 3.6 後可使用)\n",
    "上面的例子可改寫成\n",
    "```python\n",
    "f'value is {value1}, another is {value2}'\n",
    "```\n",
    "\n",
    "小知識：速度比較上，f-string > %-string > str.format()"
   ]
  },
  {
   "cell_type": "code",
   "execution_count": 5,
   "metadata": {},
   "outputs": [
    {
     "name": "stdout",
     "output_type": "stream",
     "text": [
      "n1 = 4, n2 = 2.780000\n",
      "n1 = 4, n2 = 2.780000\n",
      "n1 = 4, n2 = 2.78\n"
     ]
    }
   ],
   "source": [
    "n1 = 4\n",
    "n2 = 2.78\n",
    "\n",
    "## method 1\n",
    "print('n1 = %d, n2 = %f' % (n1, n2))\n",
    "\n",
    "## method 2\n",
    "print('n1 = %d, n2 = %f' % (n1, n2))\n",
    "\n",
    "## method 3\n",
    "print(f'n1 = {n1}, n2 = {n2}')"
   ]
  },
  {
   "cell_type": "markdown",
   "metadata": {},
   "source": [
    "如果我們需要更詳細的格式 e.g. `%3d` `%.4f` 這類的格式要怎麼辦呢\n",
    "\n",
    "**%-string** 的做法和 C 一模一樣，在 % 後加上格式就可\n",
    "\n",
    "**str.format()** 和 **f-string** 則需要在 {} 內加入冒號 : ，並在後面指定格式"
   ]
  },
  {
   "cell_type": "code",
   "execution_count": null,
   "metadata": {},
   "outputs": [
    {
     "name": "stdout",
     "output_type": "stream",
     "text": [
      "n1 =   3, n2 = 3.1410\n",
      "n1 =   3, n2 = 3.1410\n",
      "n1 =   3, n2 = 3.1410\n"
     ]
    }
   ],
   "source": [
    "n1 = 3\n",
    "n2 = 3.141\n",
    "\n",
    "# advanced\n",
    "## method 1\n",
    "print('n1 = %3d, n2 = %.04f' % (n1, n2))\n",
    "\n",
    "## method 2\n",
    "## 和上面是一樣的效果\n",
    "print('n1 = {:3d}, n2 = {:.4f}'.format(n1, n2))\n",
    "\n",
    "## method 3\n",
    "## 和上面是一樣的效果\n",
    "print(f'n1 = {n1:3d}, n2 = {n2:.4f}')"
   ]
  },
  {
   "cell_type": "code",
   "execution_count": 7,
   "metadata": {},
   "outputs": [
    {
     "name": "stdout",
     "output_type": "stream",
     "text": [
      "n1 = 003, n2 =     3.141\n",
      "n1 = 011\n",
      "n1 = 3.000000\n",
      "\n",
      "n2 = 3.141      \n",
      "n2 =       3.141\n",
      "n2 =    3.141   \n",
      "n2 = ---3.141---\n"
     ]
    }
   ],
   "source": [
    "## : 後面的格式有更多的變化\n",
    "# 加入零到指定長度  and  指定整體和小數點後的位數\n",
    "print(f'n1 = {n1:03d}, n2 = {n2:9.3f}')\n",
    "# 可以用不同型態輸出，b 為 binary 格式\n",
    "print(f'n1 = {n1:03b}')\n",
    "print(f'n1 = {n1:03f}')\n",
    "print()\n",
    "\n",
    "# 最前面可加入 '<', '>' or '=' 來決定要靠左、靠右或置中\n",
    "# 還可以放入指定字完來填滿剩餘的空位\n",
    "print(f'n2 = {n2:<11.3f}')\n",
    "print(f'n2 = {n2:>11.3f}')\n",
    "print(f'n2 = {n2:^11.3f}')\n",
    "print(f'n2 = {n2:-^11.3f}')"
   ]
  },
  {
   "cell_type": "markdown",
   "metadata": {},
   "source": [
    "還有一個方法可以顯示變數  \n",
    "```python\n",
    "print(字串1, 變數, 字串2)\n",
    "```"
   ]
  },
  {
   "cell_type": "code",
   "execution_count": 14,
   "metadata": {},
   "outputs": [
    {
     "name": "stdout",
     "output_type": "stream",
     "text": [
      "I am DragonChen from Taiwan\n"
     ]
    }
   ],
   "source": [
    "name = 'DragonChen'\n",
    "country = 'Taiwan'\n",
    "print('I am', name, 'from', country)"
   ]
  },
  {
   "cell_type": "code",
   "execution_count": null,
   "metadata": {},
   "outputs": [],
   "source": [
    "將字串用逗號分隔，可以在 `print()` function 內自動分隔\n",
    "注意！\n",
    "我們之後會再提到  "
   ]
  },
  {
   "cell_type": "markdown",
   "metadata": {},
   "source": [
    "### 意外處理\n",
    "\n",
    "人生有很多意外, 總要有個 Plan B 來以防萬一, 在 Python 中也不意外\n",
    "\n",
    "在此介紹 `try` / `except` 來解決程式中的意外處理\n",
    "\n",
    "如上一週最後的練習, 我們會要求使用者輸入身高跟體重, 進而計算他的BMI\n",
    "\n",
    "如果使用者輸入的身高體重時意外輸入了文字, 而身為程式設計師的我們就要對此情況做意外處理"
   ]
  },
  {
   "cell_type": "code",
   "execution_count": 1,
   "metadata": {},
   "outputs": [
    {
     "ename": "AssertionError",
     "evalue": "",
     "output_type": "error",
     "traceback": [
      "\u001b[1;31m---------------------------------------------------------------------------\u001b[0m",
      "\u001b[1;31mKeyboardInterrupt\u001b[0m                         Traceback (most recent call last)",
      "\u001b[1;32mc:\\Users\\eddie\\OneDrive\\文档\\GitHub\\coding-stuff-I-make-from-learning\\pythons\\lab1\\2022_L01_part2.ipynb Cell 30'\u001b[0m in \u001b[0;36m<module>\u001b[1;34m\u001b[0m\n\u001b[0;32m      <a href='vscode-notebook-cell:/c%3A/Users/eddie/OneDrive/%E6%96%87%E6%A1%A3/GitHub/coding-stuff-I-make-from-learning/pythons/lab1/2022_L01_part2.ipynb#ch0000029?line=2'>3</a>\u001b[0m \u001b[39mtry\u001b[39;00m:\n\u001b[1;32m----> <a href='vscode-notebook-cell:/c%3A/Users/eddie/OneDrive/%E6%96%87%E6%A1%A3/GitHub/coding-stuff-I-make-from-learning/pythons/lab1/2022_L01_part2.ipynb#ch0000029?line=3'>4</a>\u001b[0m     height \u001b[39m=\u001b[39m \u001b[39minput\u001b[39;49m(\u001b[39m'\u001b[39;49m\u001b[39mHeigt(m): \u001b[39;49m\u001b[39m'\u001b[39;49m)\n\u001b[0;32m      <a href='vscode-notebook-cell:/c%3A/Users/eddie/OneDrive/%E6%96%87%E6%A1%A3/GitHub/coding-stuff-I-make-from-learning/pythons/lab1/2022_L01_part2.ipynb#ch0000029?line=4'>5</a>\u001b[0m     height \u001b[39m=\u001b[39m \u001b[39mfloat\u001b[39m(height)\n",
      "File \u001b[1;32m~\\AppData\\Roaming\\Python\\Python39\\site-packages\\ipykernel\\kernelbase.py:1075\u001b[0m, in \u001b[0;36mKernel.raw_input\u001b[1;34m(self, prompt)\u001b[0m\n\u001b[0;32m   <a href='file:///~/AppData/Roaming/Python/Python39/site-packages/ipykernel/kernelbase.py?line=1071'>1072</a>\u001b[0m     \u001b[39mraise\u001b[39;00m StdinNotImplementedError(\n\u001b[0;32m   <a href='file:///~/AppData/Roaming/Python/Python39/site-packages/ipykernel/kernelbase.py?line=1072'>1073</a>\u001b[0m         \u001b[39m\"\u001b[39m\u001b[39mraw_input was called, but this frontend does not support input requests.\u001b[39m\u001b[39m\"\u001b[39m\n\u001b[0;32m   <a href='file:///~/AppData/Roaming/Python/Python39/site-packages/ipykernel/kernelbase.py?line=1073'>1074</a>\u001b[0m     )\n\u001b[1;32m-> <a href='file:///~/AppData/Roaming/Python/Python39/site-packages/ipykernel/kernelbase.py?line=1074'>1075</a>\u001b[0m \u001b[39mreturn\u001b[39;00m \u001b[39mself\u001b[39;49m\u001b[39m.\u001b[39;49m_input_request(\n\u001b[0;32m   <a href='file:///~/AppData/Roaming/Python/Python39/site-packages/ipykernel/kernelbase.py?line=1075'>1076</a>\u001b[0m     \u001b[39mstr\u001b[39;49m(prompt),\n\u001b[0;32m   <a href='file:///~/AppData/Roaming/Python/Python39/site-packages/ipykernel/kernelbase.py?line=1076'>1077</a>\u001b[0m     \u001b[39mself\u001b[39;49m\u001b[39m.\u001b[39;49m_parent_ident[\u001b[39m\"\u001b[39;49m\u001b[39mshell\u001b[39;49m\u001b[39m\"\u001b[39;49m],\n\u001b[0;32m   <a href='file:///~/AppData/Roaming/Python/Python39/site-packages/ipykernel/kernelbase.py?line=1077'>1078</a>\u001b[0m     \u001b[39mself\u001b[39;49m\u001b[39m.\u001b[39;49mget_parent(\u001b[39m\"\u001b[39;49m\u001b[39mshell\u001b[39;49m\u001b[39m\"\u001b[39;49m),\n\u001b[0;32m   <a href='file:///~/AppData/Roaming/Python/Python39/site-packages/ipykernel/kernelbase.py?line=1078'>1079</a>\u001b[0m     password\u001b[39m=\u001b[39;49m\u001b[39mFalse\u001b[39;49;00m,\n\u001b[0;32m   <a href='file:///~/AppData/Roaming/Python/Python39/site-packages/ipykernel/kernelbase.py?line=1079'>1080</a>\u001b[0m )\n",
      "File \u001b[1;32m~\\AppData\\Roaming\\Python\\Python39\\site-packages\\ipykernel\\kernelbase.py:1120\u001b[0m, in \u001b[0;36mKernel._input_request\u001b[1;34m(self, prompt, ident, parent, password)\u001b[0m\n\u001b[0;32m   <a href='file:///~/AppData/Roaming/Python/Python39/site-packages/ipykernel/kernelbase.py?line=1117'>1118</a>\u001b[0m \u001b[39mexcept\u001b[39;00m \u001b[39mKeyboardInterrupt\u001b[39;00m:\n\u001b[0;32m   <a href='file:///~/AppData/Roaming/Python/Python39/site-packages/ipykernel/kernelbase.py?line=1118'>1119</a>\u001b[0m     \u001b[39m# re-raise KeyboardInterrupt, to truncate traceback\u001b[39;00m\n\u001b[1;32m-> <a href='file:///~/AppData/Roaming/Python/Python39/site-packages/ipykernel/kernelbase.py?line=1119'>1120</a>\u001b[0m     \u001b[39mraise\u001b[39;00m \u001b[39mKeyboardInterrupt\u001b[39;00m(\u001b[39m\"\u001b[39m\u001b[39mInterrupted by user\u001b[39m\u001b[39m\"\u001b[39m) \u001b[39mfrom\u001b[39;00m \u001b[39mNone\u001b[39m\n\u001b[0;32m   <a href='file:///~/AppData/Roaming/Python/Python39/site-packages/ipykernel/kernelbase.py?line=1120'>1121</a>\u001b[0m \u001b[39mexcept\u001b[39;00m \u001b[39mException\u001b[39;00m:\n",
      "\u001b[1;31mKeyboardInterrupt\u001b[0m: Interrupted by user",
      "\nDuring handling of the above exception, another exception occurred:\n",
      "\u001b[1;31mSystemExit\u001b[0m                                Traceback (most recent call last)",
      "    \u001b[1;31m[... skipping hidden 1 frame]\u001b[0m\n",
      "\u001b[1;32mc:\\Users\\eddie\\OneDrive\\文档\\GitHub\\coding-stuff-I-make-from-learning\\pythons\\lab1\\2022_L01_part2.ipynb Cell 30'\u001b[0m in \u001b[0;36m<module>\u001b[1;34m\u001b[0m\n\u001b[0;32m      <a href='vscode-notebook-cell:/c%3A/Users/eddie/OneDrive/%E6%96%87%E6%A1%A3/GitHub/coding-stuff-I-make-from-learning/pythons/lab1/2022_L01_part2.ipynb#ch0000029?line=5'>6</a>\u001b[0m \u001b[39mexcept\u001b[39;00m:\n\u001b[1;32m----> <a href='vscode-notebook-cell:/c%3A/Users/eddie/OneDrive/%E6%96%87%E6%A1%A3/GitHub/coding-stuff-I-make-from-learning/pythons/lab1/2022_L01_part2.ipynb#ch0000029?line=6'>7</a>\u001b[0m     sys\u001b[39m.\u001b[39;49mexit(\u001b[39m'\u001b[39;49m\u001b[39mInput `height` must be an float\u001b[39;49m\u001b[39m'\u001b[39;49m)\n\u001b[0;32m      <a href='vscode-notebook-cell:/c%3A/Users/eddie/OneDrive/%E6%96%87%E6%A1%A3/GitHub/coding-stuff-I-make-from-learning/pythons/lab1/2022_L01_part2.ipynb#ch0000029?line=8'>9</a>\u001b[0m \u001b[39mtry\u001b[39;00m:\n",
      "\u001b[1;31mSystemExit\u001b[0m: Input `height` must be an float",
      "\nDuring handling of the above exception, another exception occurred:\n",
      "\u001b[1;31mAssertionError\u001b[0m                            Traceback (most recent call last)",
      "    \u001b[1;31m[... skipping hidden 1 frame]\u001b[0m\n",
      "File \u001b[1;32m~\\AppData\\Roaming\\Python\\Python39\\site-packages\\IPython\\core\\interactiveshell.py:1927\u001b[0m, in \u001b[0;36mInteractiveShell.showtraceback\u001b[1;34m(self, exc_tuple, filename, tb_offset, exception_only, running_compiled_code)\u001b[0m\n\u001b[0;32m   <a href='file:///~/AppData/Roaming/Python/Python39/site-packages/IPython/core/interactiveshell.py?line=1923'>1924</a>\u001b[0m \u001b[39mif\u001b[39;00m exception_only:\n\u001b[0;32m   <a href='file:///~/AppData/Roaming/Python/Python39/site-packages/IPython/core/interactiveshell.py?line=1924'>1925</a>\u001b[0m     stb \u001b[39m=\u001b[39m [\u001b[39m'\u001b[39m\u001b[39mAn exception has occurred, use \u001b[39m\u001b[39m%\u001b[39m\u001b[39mtb to see \u001b[39m\u001b[39m'\u001b[39m\n\u001b[0;32m   <a href='file:///~/AppData/Roaming/Python/Python39/site-packages/IPython/core/interactiveshell.py?line=1925'>1926</a>\u001b[0m            \u001b[39m'\u001b[39m\u001b[39mthe full traceback.\u001b[39m\u001b[39m\\n\u001b[39;00m\u001b[39m'\u001b[39m]\n\u001b[1;32m-> <a href='file:///~/AppData/Roaming/Python/Python39/site-packages/IPython/core/interactiveshell.py?line=1926'>1927</a>\u001b[0m     stb\u001b[39m.\u001b[39mextend(\u001b[39mself\u001b[39;49m\u001b[39m.\u001b[39;49mInteractiveTB\u001b[39m.\u001b[39;49mget_exception_only(etype,\n\u001b[0;32m   <a href='file:///~/AppData/Roaming/Python/Python39/site-packages/IPython/core/interactiveshell.py?line=1927'>1928</a>\u001b[0m                                                      value))\n\u001b[0;32m   <a href='file:///~/AppData/Roaming/Python/Python39/site-packages/IPython/core/interactiveshell.py?line=1928'>1929</a>\u001b[0m \u001b[39melse\u001b[39;00m:\n\u001b[0;32m   <a href='file:///~/AppData/Roaming/Python/Python39/site-packages/IPython/core/interactiveshell.py?line=1929'>1930</a>\u001b[0m     \u001b[39mtry\u001b[39;00m:\n\u001b[0;32m   <a href='file:///~/AppData/Roaming/Python/Python39/site-packages/IPython/core/interactiveshell.py?line=1930'>1931</a>\u001b[0m         \u001b[39m# Exception classes can customise their traceback - we\u001b[39;00m\n\u001b[0;32m   <a href='file:///~/AppData/Roaming/Python/Python39/site-packages/IPython/core/interactiveshell.py?line=1931'>1932</a>\u001b[0m         \u001b[39m# use this in IPython.parallel for exceptions occurring\u001b[39;00m\n\u001b[0;32m   <a href='file:///~/AppData/Roaming/Python/Python39/site-packages/IPython/core/interactiveshell.py?line=1932'>1933</a>\u001b[0m         \u001b[39m# in the engines. This should return a list of strings.\u001b[39;00m\n",
      "File \u001b[1;32m~\\AppData\\Roaming\\Python\\Python39\\site-packages\\IPython\\core\\ultratb.py:578\u001b[0m, in \u001b[0;36mListTB.get_exception_only\u001b[1;34m(self, etype, value)\u001b[0m\n\u001b[0;32m    <a href='file:///~/AppData/Roaming/Python/Python39/site-packages/IPython/core/ultratb.py?line=569'>570</a>\u001b[0m \u001b[39mdef\u001b[39;00m \u001b[39mget_exception_only\u001b[39m(\u001b[39mself\u001b[39m, etype, value):\n\u001b[0;32m    <a href='file:///~/AppData/Roaming/Python/Python39/site-packages/IPython/core/ultratb.py?line=570'>571</a>\u001b[0m     \u001b[39m\"\"\"Only print the exception type and message, without a traceback.\u001b[39;00m\n\u001b[0;32m    <a href='file:///~/AppData/Roaming/Python/Python39/site-packages/IPython/core/ultratb.py?line=571'>572</a>\u001b[0m \n\u001b[0;32m    <a href='file:///~/AppData/Roaming/Python/Python39/site-packages/IPython/core/ultratb.py?line=572'>573</a>\u001b[0m \u001b[39m    Parameters\u001b[39;00m\n\u001b[1;32m   (...)\u001b[0m\n\u001b[0;32m    <a href='file:///~/AppData/Roaming/Python/Python39/site-packages/IPython/core/ultratb.py?line=575'>576</a>\u001b[0m \u001b[39m    value : exception value\u001b[39;00m\n\u001b[0;32m    <a href='file:///~/AppData/Roaming/Python/Python39/site-packages/IPython/core/ultratb.py?line=576'>577</a>\u001b[0m \u001b[39m    \"\"\"\u001b[39;00m\n\u001b[1;32m--> <a href='file:///~/AppData/Roaming/Python/Python39/site-packages/IPython/core/ultratb.py?line=577'>578</a>\u001b[0m     \u001b[39mreturn\u001b[39;00m ListTB\u001b[39m.\u001b[39;49mstructured_traceback(\u001b[39mself\u001b[39;49m, etype, value)\n",
      "File \u001b[1;32m~\\AppData\\Roaming\\Python\\Python39\\site-packages\\IPython\\core\\ultratb.py:436\u001b[0m, in \u001b[0;36mListTB.structured_traceback\u001b[1;34m(self, etype, evalue, etb, tb_offset, context)\u001b[0m\n\u001b[0;32m    <a href='file:///~/AppData/Roaming/Python/Python39/site-packages/IPython/core/ultratb.py?line=432'>433</a>\u001b[0m     chained_exc_ids\u001b[39m.\u001b[39madd(\u001b[39mid\u001b[39m(exception[\u001b[39m1\u001b[39m]))\n\u001b[0;32m    <a href='file:///~/AppData/Roaming/Python/Python39/site-packages/IPython/core/ultratb.py?line=433'>434</a>\u001b[0m     chained_exceptions_tb_offset \u001b[39m=\u001b[39m \u001b[39m0\u001b[39m\n\u001b[0;32m    <a href='file:///~/AppData/Roaming/Python/Python39/site-packages/IPython/core/ultratb.py?line=434'>435</a>\u001b[0m     out_list \u001b[39m=\u001b[39m (\n\u001b[1;32m--> <a href='file:///~/AppData/Roaming/Python/Python39/site-packages/IPython/core/ultratb.py?line=435'>436</a>\u001b[0m         \u001b[39mself\u001b[39;49m\u001b[39m.\u001b[39;49mstructured_traceback(\n\u001b[0;32m    <a href='file:///~/AppData/Roaming/Python/Python39/site-packages/IPython/core/ultratb.py?line=436'>437</a>\u001b[0m             etype, evalue, (etb, chained_exc_ids),\n\u001b[0;32m    <a href='file:///~/AppData/Roaming/Python/Python39/site-packages/IPython/core/ultratb.py?line=437'>438</a>\u001b[0m             chained_exceptions_tb_offset, context)\n\u001b[0;32m    <a href='file:///~/AppData/Roaming/Python/Python39/site-packages/IPython/core/ultratb.py?line=438'>439</a>\u001b[0m         \u001b[39m+\u001b[39m chained_exception_message\n\u001b[0;32m    <a href='file:///~/AppData/Roaming/Python/Python39/site-packages/IPython/core/ultratb.py?line=439'>440</a>\u001b[0m         \u001b[39m+\u001b[39m out_list)\n\u001b[0;32m    <a href='file:///~/AppData/Roaming/Python/Python39/site-packages/IPython/core/ultratb.py?line=441'>442</a>\u001b[0m \u001b[39mreturn\u001b[39;00m out_list\n",
      "File \u001b[1;32m~\\AppData\\Roaming\\Python\\Python39\\site-packages\\IPython\\core\\ultratb.py:1105\u001b[0m, in \u001b[0;36mAutoFormattedTB.structured_traceback\u001b[1;34m(self, etype, value, tb, tb_offset, number_of_lines_of_context)\u001b[0m\n\u001b[0;32m   <a href='file:///~/AppData/Roaming/Python/Python39/site-packages/IPython/core/ultratb.py?line=1102'>1103</a>\u001b[0m \u001b[39melse\u001b[39;00m:\n\u001b[0;32m   <a href='file:///~/AppData/Roaming/Python/Python39/site-packages/IPython/core/ultratb.py?line=1103'>1104</a>\u001b[0m     \u001b[39mself\u001b[39m\u001b[39m.\u001b[39mtb \u001b[39m=\u001b[39m tb\n\u001b[1;32m-> <a href='file:///~/AppData/Roaming/Python/Python39/site-packages/IPython/core/ultratb.py?line=1104'>1105</a>\u001b[0m \u001b[39mreturn\u001b[39;00m FormattedTB\u001b[39m.\u001b[39;49mstructured_traceback(\n\u001b[0;32m   <a href='file:///~/AppData/Roaming/Python/Python39/site-packages/IPython/core/ultratb.py?line=1105'>1106</a>\u001b[0m     \u001b[39mself\u001b[39;49m, etype, value, tb, tb_offset, number_of_lines_of_context)\n",
      "File \u001b[1;32m~\\AppData\\Roaming\\Python\\Python39\\site-packages\\IPython\\core\\ultratb.py:999\u001b[0m, in \u001b[0;36mFormattedTB.structured_traceback\u001b[1;34m(self, etype, value, tb, tb_offset, number_of_lines_of_context)\u001b[0m\n\u001b[0;32m    <a href='file:///~/AppData/Roaming/Python/Python39/site-packages/IPython/core/ultratb.py?line=995'>996</a>\u001b[0m mode \u001b[39m=\u001b[39m \u001b[39mself\u001b[39m\u001b[39m.\u001b[39mmode\n\u001b[0;32m    <a href='file:///~/AppData/Roaming/Python/Python39/site-packages/IPython/core/ultratb.py?line=996'>997</a>\u001b[0m \u001b[39mif\u001b[39;00m mode \u001b[39min\u001b[39;00m \u001b[39mself\u001b[39m\u001b[39m.\u001b[39mverbose_modes:\n\u001b[0;32m    <a href='file:///~/AppData/Roaming/Python/Python39/site-packages/IPython/core/ultratb.py?line=997'>998</a>\u001b[0m     \u001b[39m# Verbose modes need a full traceback\u001b[39;00m\n\u001b[1;32m--> <a href='file:///~/AppData/Roaming/Python/Python39/site-packages/IPython/core/ultratb.py?line=998'>999</a>\u001b[0m     \u001b[39mreturn\u001b[39;00m VerboseTB\u001b[39m.\u001b[39;49mstructured_traceback(\n\u001b[0;32m   <a href='file:///~/AppData/Roaming/Python/Python39/site-packages/IPython/core/ultratb.py?line=999'>1000</a>\u001b[0m         \u001b[39mself\u001b[39;49m, etype, value, tb, tb_offset, number_of_lines_of_context\n\u001b[0;32m   <a href='file:///~/AppData/Roaming/Python/Python39/site-packages/IPython/core/ultratb.py?line=1000'>1001</a>\u001b[0m     )\n\u001b[0;32m   <a href='file:///~/AppData/Roaming/Python/Python39/site-packages/IPython/core/ultratb.py?line=1001'>1002</a>\u001b[0m \u001b[39melif\u001b[39;00m mode \u001b[39m==\u001b[39m \u001b[39m'\u001b[39m\u001b[39mMinimal\u001b[39m\u001b[39m'\u001b[39m:\n\u001b[0;32m   <a href='file:///~/AppData/Roaming/Python/Python39/site-packages/IPython/core/ultratb.py?line=1002'>1003</a>\u001b[0m     \u001b[39mreturn\u001b[39;00m ListTB\u001b[39m.\u001b[39mget_exception_only(\u001b[39mself\u001b[39m, etype, value)\n",
      "File \u001b[1;32m~\\AppData\\Roaming\\Python\\Python39\\site-packages\\IPython\\core\\ultratb.py:852\u001b[0m, in \u001b[0;36mVerboseTB.structured_traceback\u001b[1;34m(self, etype, evalue, etb, tb_offset, number_of_lines_of_context)\u001b[0m\n\u001b[0;32m    <a href='file:///~/AppData/Roaming/Python/Python39/site-packages/IPython/core/ultratb.py?line=849'>850</a>\u001b[0m \u001b[39m\"\"\"Return a nice text document describing the traceback.\"\"\"\u001b[39;00m\n\u001b[0;32m    <a href='file:///~/AppData/Roaming/Python/Python39/site-packages/IPython/core/ultratb.py?line=850'>851</a>\u001b[0m \u001b[39massert\u001b[39;00m etb \u001b[39mis\u001b[39;00m \u001b[39mnot\u001b[39;00m \u001b[39mNone\u001b[39;00m\n\u001b[1;32m--> <a href='file:///~/AppData/Roaming/Python/Python39/site-packages/IPython/core/ultratb.py?line=851'>852</a>\u001b[0m formatted_exception \u001b[39m=\u001b[39m \u001b[39mself\u001b[39;49m\u001b[39m.\u001b[39;49mformat_exception_as_a_whole(etype, evalue, etb, number_of_lines_of_context,\n\u001b[0;32m    <a href='file:///~/AppData/Roaming/Python/Python39/site-packages/IPython/core/ultratb.py?line=852'>853</a>\u001b[0m                                                        tb_offset)\n\u001b[0;32m    <a href='file:///~/AppData/Roaming/Python/Python39/site-packages/IPython/core/ultratb.py?line=854'>855</a>\u001b[0m colors \u001b[39m=\u001b[39m \u001b[39mself\u001b[39m\u001b[39m.\u001b[39mColors  \u001b[39m# just a shorthand + quicker name lookup\u001b[39;00m\n\u001b[0;32m    <a href='file:///~/AppData/Roaming/Python/Python39/site-packages/IPython/core/ultratb.py?line=855'>856</a>\u001b[0m colorsnormal \u001b[39m=\u001b[39m colors\u001b[39m.\u001b[39mNormal  \u001b[39m# used a lot\u001b[39;00m\n",
      "File \u001b[1;32m~\\AppData\\Roaming\\Python\\Python39\\site-packages\\IPython\\core\\ultratb.py:786\u001b[0m, in \u001b[0;36mVerboseTB.format_exception_as_a_whole\u001b[1;34m(self, etype, evalue, etb, number_of_lines_of_context, tb_offset)\u001b[0m\n\u001b[0;32m    <a href='file:///~/AppData/Roaming/Python/Python39/site-packages/IPython/core/ultratb.py?line=783'>784</a>\u001b[0m \u001b[39massert\u001b[39;00m \u001b[39misinstance\u001b[39m(tb_offset, \u001b[39mint\u001b[39m)\n\u001b[0;32m    <a href='file:///~/AppData/Roaming/Python/Python39/site-packages/IPython/core/ultratb.py?line=784'>785</a>\u001b[0m head \u001b[39m=\u001b[39m \u001b[39mself\u001b[39m\u001b[39m.\u001b[39mprepare_header(etype, \u001b[39mself\u001b[39m\u001b[39m.\u001b[39mlong_header)\n\u001b[1;32m--> <a href='file:///~/AppData/Roaming/Python/Python39/site-packages/IPython/core/ultratb.py?line=785'>786</a>\u001b[0m records \u001b[39m=\u001b[39m \u001b[39mself\u001b[39;49m\u001b[39m.\u001b[39;49mget_records(etb, number_of_lines_of_context, tb_offset)\n\u001b[0;32m    <a href='file:///~/AppData/Roaming/Python/Python39/site-packages/IPython/core/ultratb.py?line=787'>788</a>\u001b[0m frames \u001b[39m=\u001b[39m []\n\u001b[0;32m    <a href='file:///~/AppData/Roaming/Python/Python39/site-packages/IPython/core/ultratb.py?line=788'>789</a>\u001b[0m skipped \u001b[39m=\u001b[39m \u001b[39m0\u001b[39m\n",
      "File \u001b[1;32m~\\AppData\\Roaming\\Python\\Python39\\site-packages\\IPython\\core\\ultratb.py:840\u001b[0m, in \u001b[0;36mVerboseTB.get_records\u001b[1;34m(self, etb, number_of_lines_of_context, tb_offset)\u001b[0m\n\u001b[0;32m    <a href='file:///~/AppData/Roaming/Python/Python39/site-packages/IPython/core/ultratb.py?line=833'>834</a>\u001b[0m options \u001b[39m=\u001b[39m stack_data\u001b[39m.\u001b[39mOptions(\n\u001b[0;32m    <a href='file:///~/AppData/Roaming/Python/Python39/site-packages/IPython/core/ultratb.py?line=834'>835</a>\u001b[0m     before\u001b[39m=\u001b[39mbefore,\n\u001b[0;32m    <a href='file:///~/AppData/Roaming/Python/Python39/site-packages/IPython/core/ultratb.py?line=835'>836</a>\u001b[0m     after\u001b[39m=\u001b[39mafter,\n\u001b[0;32m    <a href='file:///~/AppData/Roaming/Python/Python39/site-packages/IPython/core/ultratb.py?line=836'>837</a>\u001b[0m     pygments_formatter\u001b[39m=\u001b[39mformatter,\n\u001b[0;32m    <a href='file:///~/AppData/Roaming/Python/Python39/site-packages/IPython/core/ultratb.py?line=837'>838</a>\u001b[0m )\n\u001b[0;32m    <a href='file:///~/AppData/Roaming/Python/Python39/site-packages/IPython/core/ultratb.py?line=838'>839</a>\u001b[0m \u001b[39massert\u001b[39;00m etb \u001b[39mis\u001b[39;00m \u001b[39mnot\u001b[39;00m \u001b[39mNone\u001b[39;00m\n\u001b[1;32m--> <a href='file:///~/AppData/Roaming/Python/Python39/site-packages/IPython/core/ultratb.py?line=839'>840</a>\u001b[0m \u001b[39mreturn\u001b[39;00m \u001b[39mlist\u001b[39;49m(stack_data\u001b[39m.\u001b[39;49mFrameInfo\u001b[39m.\u001b[39;49mstack_data(etb, options\u001b[39m=\u001b[39;49moptions))[tb_offset:]\n",
      "File \u001b[1;32m~\\AppData\\Roaming\\Python\\Python39\\site-packages\\stack_data\\core.py:546\u001b[0m, in \u001b[0;36mFrameInfo.stack_data\u001b[1;34m(cls, frame_or_tb, options, collapse_repeated_frames)\u001b[0m\n\u001b[0;32m    <a href='file:///~/AppData/Roaming/Python/Python39/site-packages/stack_data/core.py?line=529'>530</a>\u001b[0m \u001b[39m@classmethod\u001b[39m\n\u001b[0;32m    <a href='file:///~/AppData/Roaming/Python/Python39/site-packages/stack_data/core.py?line=530'>531</a>\u001b[0m \u001b[39mdef\u001b[39;00m \u001b[39mstack_data\u001b[39m(\n\u001b[0;32m    <a href='file:///~/AppData/Roaming/Python/Python39/site-packages/stack_data/core.py?line=531'>532</a>\u001b[0m         \u001b[39mcls\u001b[39m,\n\u001b[1;32m   (...)\u001b[0m\n\u001b[0;32m    <a href='file:///~/AppData/Roaming/Python/Python39/site-packages/stack_data/core.py?line=535'>536</a>\u001b[0m         collapse_repeated_frames: \u001b[39mbool\u001b[39m \u001b[39m=\u001b[39m \u001b[39mTrue\u001b[39;00m\n\u001b[0;32m    <a href='file:///~/AppData/Roaming/Python/Python39/site-packages/stack_data/core.py?line=536'>537</a>\u001b[0m ) \u001b[39m-\u001b[39m\u001b[39m>\u001b[39m Iterator[Union[\u001b[39m'\u001b[39m\u001b[39mFrameInfo\u001b[39m\u001b[39m'\u001b[39m, RepeatedFrames]]:\n\u001b[0;32m    <a href='file:///~/AppData/Roaming/Python/Python39/site-packages/stack_data/core.py?line=537'>538</a>\u001b[0m     \u001b[39m\"\"\"\u001b[39;00m\n\u001b[0;32m    <a href='file:///~/AppData/Roaming/Python/Python39/site-packages/stack_data/core.py?line=538'>539</a>\u001b[0m \u001b[39m    An iterator of FrameInfo and RepeatedFrames objects representing\u001b[39;00m\n\u001b[0;32m    <a href='file:///~/AppData/Roaming/Python/Python39/site-packages/stack_data/core.py?line=539'>540</a>\u001b[0m \u001b[39m    a full traceback or stack. Similar consecutive frames are collapsed into RepeatedFrames\u001b[39;00m\n\u001b[1;32m   (...)\u001b[0m\n\u001b[0;32m    <a href='file:///~/AppData/Roaming/Python/Python39/site-packages/stack_data/core.py?line=543'>544</a>\u001b[0m \u001b[39m    and optionally an Options object to configure.\u001b[39;00m\n\u001b[0;32m    <a href='file:///~/AppData/Roaming/Python/Python39/site-packages/stack_data/core.py?line=544'>545</a>\u001b[0m \u001b[39m    \"\"\"\u001b[39;00m\n\u001b[1;32m--> <a href='file:///~/AppData/Roaming/Python/Python39/site-packages/stack_data/core.py?line=545'>546</a>\u001b[0m     stack \u001b[39m=\u001b[39m \u001b[39mlist\u001b[39;49m(iter_stack(frame_or_tb))\n\u001b[0;32m    <a href='file:///~/AppData/Roaming/Python/Python39/site-packages/stack_data/core.py?line=547'>548</a>\u001b[0m     \u001b[39m# Reverse the stack from a frame so that it's in the same order\u001b[39;00m\n\u001b[0;32m    <a href='file:///~/AppData/Roaming/Python/Python39/site-packages/stack_data/core.py?line=548'>549</a>\u001b[0m     \u001b[39m# as the order from a traceback, which is the order of a printed\u001b[39;00m\n\u001b[0;32m    <a href='file:///~/AppData/Roaming/Python/Python39/site-packages/stack_data/core.py?line=549'>550</a>\u001b[0m     \u001b[39m# traceback when read top to bottom (most recent call last)\u001b[39;00m\n\u001b[0;32m    <a href='file:///~/AppData/Roaming/Python/Python39/site-packages/stack_data/core.py?line=550'>551</a>\u001b[0m     \u001b[39mif\u001b[39;00m is_frame(frame_or_tb):\n",
      "File \u001b[1;32m~\\AppData\\Roaming\\Python\\Python39\\site-packages\\stack_data\\utils.py:98\u001b[0m, in \u001b[0;36miter_stack\u001b[1;34m(frame_or_tb)\u001b[0m\n\u001b[0;32m     <a href='file:///~/AppData/Roaming/Python/Python39/site-packages/stack_data/utils.py?line=95'>96</a>\u001b[0m \u001b[39mwhile\u001b[39;00m frame_or_tb:\n\u001b[0;32m     <a href='file:///~/AppData/Roaming/Python/Python39/site-packages/stack_data/utils.py?line=96'>97</a>\u001b[0m     \u001b[39myield\u001b[39;00m frame_or_tb\n\u001b[1;32m---> <a href='file:///~/AppData/Roaming/Python/Python39/site-packages/stack_data/utils.py?line=97'>98</a>\u001b[0m     \u001b[39mif\u001b[39;00m is_frame(frame_or_tb):\n\u001b[0;32m     <a href='file:///~/AppData/Roaming/Python/Python39/site-packages/stack_data/utils.py?line=98'>99</a>\u001b[0m         frame_or_tb \u001b[39m=\u001b[39m frame_or_tb\u001b[39m.\u001b[39mf_back\n\u001b[0;32m    <a href='file:///~/AppData/Roaming/Python/Python39/site-packages/stack_data/utils.py?line=99'>100</a>\u001b[0m     \u001b[39melse\u001b[39;00m:\n",
      "File \u001b[1;32m~\\AppData\\Roaming\\Python\\Python39\\site-packages\\stack_data\\utils.py:91\u001b[0m, in \u001b[0;36mis_frame\u001b[1;34m(frame_or_tb)\u001b[0m\n\u001b[0;32m     <a href='file:///~/AppData/Roaming/Python/Python39/site-packages/stack_data/utils.py?line=89'>90</a>\u001b[0m \u001b[39mdef\u001b[39;00m \u001b[39mis_frame\u001b[39m(frame_or_tb: Union[FrameType, TracebackType]) \u001b[39m-\u001b[39m\u001b[39m>\u001b[39m \u001b[39mbool\u001b[39m:\n\u001b[1;32m---> <a href='file:///~/AppData/Roaming/Python/Python39/site-packages/stack_data/utils.py?line=90'>91</a>\u001b[0m     assert_(\u001b[39misinstance\u001b[39;49m(frame_or_tb, (types\u001b[39m.\u001b[39;49mFrameType, types\u001b[39m.\u001b[39;49mTracebackType)))\n\u001b[0;32m     <a href='file:///~/AppData/Roaming/Python/Python39/site-packages/stack_data/utils.py?line=91'>92</a>\u001b[0m     \u001b[39mreturn\u001b[39;00m \u001b[39misinstance\u001b[39m(frame_or_tb, (types\u001b[39m.\u001b[39mFrameType,))\n",
      "File \u001b[1;32m~\\AppData\\Roaming\\Python\\Python39\\site-packages\\stack_data\\utils.py:172\u001b[0m, in \u001b[0;36massert_\u001b[1;34m(condition, error)\u001b[0m\n\u001b[0;32m    <a href='file:///~/AppData/Roaming/Python/Python39/site-packages/stack_data/utils.py?line=169'>170</a>\u001b[0m \u001b[39mif\u001b[39;00m \u001b[39misinstance\u001b[39m(error, \u001b[39mstr\u001b[39m):\n\u001b[0;32m    <a href='file:///~/AppData/Roaming/Python/Python39/site-packages/stack_data/utils.py?line=170'>171</a>\u001b[0m     error \u001b[39m=\u001b[39m \u001b[39mAssertionError\u001b[39;00m(error)\n\u001b[1;32m--> <a href='file:///~/AppData/Roaming/Python/Python39/site-packages/stack_data/utils.py?line=171'>172</a>\u001b[0m \u001b[39mraise\u001b[39;00m error\n",
      "\u001b[1;31mAssertionError\u001b[0m: "
     ]
    }
   ],
   "source": [
    "import sys    # import is like include in C, we will talk it later.\n",
    "\n",
    "try:\n",
    "    height = input('Heigt(m): ')\n",
    "    height = float(height)\n",
    "except:\n",
    "    sys.exit('Input `height` must be an float')\n",
    "    \n",
    "try:\n",
    "    weight = input('Weight(kg): ')\n",
    "    weight = int(weight)\n",
    "except:\n",
    "    sys.exit('Input `weight` must be an integer or a integer')\n",
    "    \n",
    "print('BMI is %d' %(weight / (height*height)))"
   ]
  },
  {
   "cell_type": "markdown",
   "metadata": {},
   "source": [
    "----\n",
    "\n",
    "### 練習時間\n",
    "\n",
    "請開啟一份新的 Python 筆記檔案（.ipynb）, 檔名請存成「學號_L02.ipynb」，若有多個檔案，請壓縮後上傳 \n",
    "\n",
    "例如: B044020025_L02.ipynb, 寫完上傳至網大.\n",
    "\n",
    "Question:  \n",
    "參考中山成績等第制度 <http://www.stuapp.nsysu.edu.tw/tch_sco_degree/desc.html> 中的**表四**  \n",
    "讓使用者輸入成績, 告訴他等第成績, 以及有沒有及格(學士班及格標準)  \n",
    "請使用至少兩種 formatted-string 的方法（不可使用 str(變數) 和 +）\n",
    "\n",
    "Bonus: 請加入判斷式確認分數在範圍內（0 <= 分數 <= 100）且格式正確  \n",
    "超出範圍時請終止程式\n",
    "\n",
    "Output samples:\n",
    "```\n",
    "Plaese input your score: 95\n",
    "Your grade is A+\n",
    "Congratulations! you pass this class.\n",
    "\n",
    "Plaese input your score: 59\n",
    "Your grade is D\n",
    "Sorry, you fail this class.\n",
    "\n",
    "Please input your score: -10\n",
    "Your score out of range!\n",
    "```\n",
    "\n"
   ]
  }
 ],
 "metadata": {
  "kernelspec": {
   "display_name": "Python 3",
   "language": "python",
   "name": "python3"
  },
  "language_info": {
   "codemirror_mode": {
    "name": "ipython",
    "version": 3
   },
   "file_extension": ".py",
   "mimetype": "text/x-python",
   "name": "python",
   "nbconvert_exporter": "python",
   "pygments_lexer": "ipython3",
   "version": "3.9.7"
  }
 },
 "nbformat": 4,
 "nbformat_minor": 4
}
