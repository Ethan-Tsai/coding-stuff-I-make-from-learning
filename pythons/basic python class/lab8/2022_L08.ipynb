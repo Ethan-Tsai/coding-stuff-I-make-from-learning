{
 "cells": [
  {
   "cell_type": "markdown",
   "metadata": {},
   "source": [
    "# MIS132 程式設計實習 - Lecture08"
   ]
  },
  {
   "cell_type": "markdown",
   "metadata": {},
   "source": [
    "## Outline this week\n",
    "\n",
    "- List Trick and List Comprehension\n",
    "  - some list trick\n",
    "  - list comprehension\n",
    "  - list comprehension usage\n",
    "  - else(dict, tuple)\n",
    "- Lab 練習"
   ]
  },
  {
   "cell_type": "markdown",
   "metadata": {},
   "source": [
    "## 介紹\n",
    "### Something about list?\n",
    "\n",
    "迴圈和陣列常常被放在一起使用，例如我們要新增一個包含 1-10 的陣列，我們可以這樣寫"
   ]
  },
  {
   "cell_type": "code",
   "execution_count": 1,
   "metadata": {},
   "outputs": [
    {
     "name": "stdout",
     "output_type": "stream",
     "text": [
      "[1, 2, 3, 4, 5, 6, 7, 8, 9, 10]\n"
     ]
    }
   ],
   "source": [
    "# method 1\n",
    "arr = []\n",
    "for i in range(1, 11):\n",
    "    arr.append(i)\n",
    "print(arr)"
   ]
  },
  {
   "cell_type": "markdown",
   "metadata": {},
   "source": [
    "阿這樣寫很不 Pythonic，因為這裏很多東西是多餘的：「i 沒有被用到，他是多餘的，append 被呼叫了 10 次，他是多餘的，range 和 for 在視覺上是多餘的」\n",
    "\n",
    "有個 trick 可以使用 `range` 和 `list` 來初始化陣列"
   ]
  },
  {
   "cell_type": "code",
   "execution_count": 2,
   "metadata": {},
   "outputs": [
    {
     "name": "stdout",
     "output_type": "stream",
     "text": [
      "range(1, 11)\n",
      "(3, 4, 5)\n"
     ]
    }
   ],
   "source": [
    "r1 = range(1, 11)\n",
    "print(r1)\n",
    "# 這是啥？\n",
    "\n",
    "r2 = (3, 4, 5)\n",
    "# r2[2] = 10 # <--- 會出錯，怎麼辦\n",
    "print(r2)"
   ]
  },
  {
   "cell_type": "markdown",
   "metadata": {},
   "source": [
    "知道怎麼轉換型態嗎？可以使用 `SOME_TYPE(VAR_NAME)` 來**強制轉換型態**"
   ]
  },
  {
   "cell_type": "code",
   "execution_count": 3,
   "metadata": {},
   "outputs": [
    {
     "name": "stdout",
     "output_type": "stream",
     "text": [
      "10.0\n",
      "3\n",
      "-----\n",
      "[1, 2, 3, 4, 5, 6, 7, 8, 9, 10]\n",
      "-----\n",
      "(3, 4, 5)\n",
      "[3, 4, 10]\n"
     ]
    }
   ],
   "source": [
    "print(float(10))\n",
    "print(int(3.14))\n",
    "print('-----')\n",
    "\n",
    "# 那 list 可以嗎？可以\n",
    "print(list(range(1, 11)))\n",
    "print('-----')\n",
    "print(r2)\n",
    "r3 = list(r2)\n",
    "r3[2] = 10\n",
    "print(r3)"
   ]
  },
  {
   "cell_type": "markdown",
   "metadata": {},
   "source": [
    "這邊的 `list(range())` 就是比較 Pythonic，比較簡單的做法，我們比較一下速度\n",
    "\n",
    "Jupyter 支援一些自帶的 trick，在「每個 cell 的第一行，開頭使用 `%%SOME_COMMAND` 可以呼叫一些 magic method of jupyter，你可以打 %% 後按下 TAB 來查看\n",
    "\n",
    "我們使用 %%time 這個指令來計算 cell 執行時間，輸出結果看 user 或 total 都可以，我們來比較一下幾種陣列初始化的方法"
   ]
  },
  {
   "cell_type": "code",
   "execution_count": 5,
   "metadata": {},
   "outputs": [
    {
     "name": "stdout",
     "output_type": "stream",
     "text": [
      "CPU times: user 11.4 ms, sys: 1.78 ms, total: 13.2 ms\n",
      "Wall time: 13.2 ms\n"
     ]
    }
   ],
   "source": [
    "%%time\n",
    "# method 1 original\n",
    "arr = []\n",
    "for i in range(100000):\n",
    "    arr.append(i)"
   ]
  },
  {
   "cell_type": "code",
   "execution_count": 6,
   "metadata": {},
   "outputs": [
    {
     "name": "stdout",
     "output_type": "stream",
     "text": [
      "CPU times: user 3.36 ms, sys: 1.48 ms, total: 4.84 ms\n",
      "Wall time: 4.96 ms\n"
     ]
    }
   ],
   "source": [
    "%%time\n",
    "# method 2 init trick\n",
    "arr = list(range(100000))"
   ]
  },
  {
   "cell_type": "code",
   "execution_count": 7,
   "metadata": {},
   "outputs": [
    {
     "name": "stdout",
     "output_type": "stream",
     "text": [
      "CPU times: user 4.96 ms, sys: 1.63 ms, total: 6.58 ms\n",
      "Wall time: 6.98 ms\n"
     ]
    }
   ],
   "source": [
    "%%time\n",
    "# method 3 我們待會介紹這個\n",
    "arr = [i for i in range(100000)]"
   ]
  },
  {
   "cell_type": "markdown",
   "metadata": {},
   "source": [
    "最快和最慢大概差了 5-7 倍，如果你的初始化更大的陣列，時間差會越明顯\n",
    "\n",
    "所以！**沒有跑的慢的語言和框架，只有不會寫的工程師**\n",
    "\n",
    "如果你一開始就花一些時間記得這些細節，那你以後可以省下更多的時間（例如你的程式要跑個兩三個小時，你省下 20% 就有半小時了）"
   ]
  },
  {
   "cell_type": "markdown",
   "metadata": {},
   "source": [
    "### List Comprehension\n",
    "\n",
    "接著看看剛剛出現的一個寫法，陣列初始化只是比較小的情境\n",
    "如果是「維護陣列裡面的東西呢」，假如我要從陣列中取出所有東西\n",
    "一個一個印出來，如果你是 C 語言大師，你應該會這樣寫"
   ]
  },
  {
   "cell_type": "code",
   "execution_count": 8,
   "metadata": {},
   "outputs": [],
   "source": [
    "arr = [3, 4, 5, 6, 7, 8, 9]"
   ]
  },
  {
   "cell_type": "code",
   "execution_count": 9,
   "metadata": {},
   "outputs": [
    {
     "name": "stdout",
     "output_type": "stream",
     "text": [
      "3, 4, 5, 6, 7, 8, 9, "
     ]
    }
   ],
   "source": [
    "# method 1\n",
    "for i in range(0, len(arr)):\n",
    "    print(arr[i], end=', ')"
   ]
  },
  {
   "cell_type": "markdown",
   "metadata": {},
   "source": [
    "如果要求把所有偶數的數字印出來就好呢？"
   ]
  },
  {
   "cell_type": "code",
   "execution_count": 10,
   "metadata": {},
   "outputs": [
    {
     "name": "stdout",
     "output_type": "stream",
     "text": [
      "4, 6, 8, "
     ]
    }
   ],
   "source": [
    "for i in range(0, len(arr)):\n",
    "    if arr[i] % 2 == 0:\n",
    "        print(arr[i], end=', ')"
   ]
  },
  {
   "cell_type": "markdown",
   "metadata": {},
   "source": [
    "再幫我把所有的東西做平方"
   ]
  },
  {
   "cell_type": "code",
   "execution_count": 11,
   "metadata": {},
   "outputs": [
    {
     "name": "stdout",
     "output_type": "stream",
     "text": [
      "16, 36, 64, "
     ]
    }
   ],
   "source": [
    "for i in range(0, len(arr)):\n",
    "    if arr[i] % 2 == 0:\n",
    "        print(arr[i] ** 2, end=', ')"
   ]
  },
  {
   "cell_type": "markdown",
   "metadata": {},
   "source": [
    "easy peasy, right?\n",
    "\n",
    "這樣寫實際上能跑，但他不一定是**優秀的扣**  \n",
    "實際上，當我個人看到這段扣的時候，我就會覺得你是個 Python 初學者\n",
    "\n",
    "因為這段扣很欠缺優化、執行起來很慢，又不好閱讀  \n",
    "\n",
    "---"
   ]
  },
  {
   "cell_type": "markdown",
   "metadata": {},
   "source": [
    "### List Comprehension Usage\n",
    "#### Basic"
   ]
  },
  {
   "cell_type": "markdown",
   "metadata": {},
   "source": [
    "Python 有一個東西就是來解決 `for` 和 `range` 執行慢的方法，叫做**list comprehension**，中文叫列表推導式、列表表達式...但都沒有統一，我都叫 list comprehension\n",
    "\n",
    "他長這樣\n",
    "\n",
    "```python\n",
    "# 數值           範圍\n",
    "[ i  for i in range(1, 11) ]\n",
    "```\n",
    "\n",
    "你要從 for 開始把它切成兩段來看，後面是迴圈範圍，前面是每個元素的初始化，所以他會按照後面的 `range` 把所有的數字取出來，放到同一個陣列裡面"
   ]
  },
  {
   "cell_type": "code",
   "execution_count": 12,
   "metadata": {},
   "outputs": [
    {
     "name": "stdout",
     "output_type": "stream",
     "text": [
      "[1, 2, 3, 4, 5, 6, 7, 8, 9, 10]\n"
     ]
    }
   ],
   "source": [
    "l = [i for i in range(1, 11)]\n",
    "print(l)"
   ]
  },
  {
   "cell_type": "markdown",
   "metadata": {},
   "source": [
    "最後回傳的結果和 `list(range(1, 11))` 是一模一樣的\n",
    "\n",
    "同樣如果是陣列維護呢？我們可以使用 list comprehension 來處理\n",
    "\n",
    "還記得這個嗎"
   ]
  },
  {
   "cell_type": "code",
   "execution_count": 17,
   "metadata": {},
   "outputs": [
    {
     "name": "stdout",
     "output_type": "stream",
     "text": [
      "3, 4, 5, 6, 7, 8, 9, CPU times: user 749 µs, sys: 702 µs, total: 1.45 ms\n",
      "Wall time: 3.68 ms\n"
     ]
    }
   ],
   "source": [
    "%%time\n",
    "# method 1\n",
    "for i in range(0, len(arr)):\n",
    "    print(arr[i], end=', ')"
   ]
  },
  {
   "cell_type": "code",
   "execution_count": 18,
   "metadata": {},
   "outputs": [
    {
     "name": "stdout",
     "output_type": "stream",
     "text": [
      "[3, 4, 5, 6, 7, 8, 9]\n",
      "[3, 4, 5, 6, 7, 8, 9]\n",
      "CPU times: user 343 µs, sys: 106 µs, total: 449 µs\n",
      "Wall time: 452 µs\n"
     ]
    }
   ],
   "source": [
    "%%time\n",
    "# 寫成 list comprehension\n",
    "print(arr)\n",
    "print([a for a in arr])"
   ]
  },
  {
   "cell_type": "markdown",
   "metadata": {},
   "source": [
    "有沒有比較簡單呢？這個實際跑起來也會比 for 快\n",
    "\n",
    "#### 判斷式\n",
    "\n",
    "接著可以加入 if 在最後面，他會「從範圍取出數值，做判斷是否留下來，如果是按照數值的格式放在一個新陣列」\n",
    "\n",
    "```python\n",
    "# 數值       範圍          判斷式\n",
    "[ i     for a in arr     if a % 2 == 0]\n",
    "```"
   ]
  },
  {
   "cell_type": "code",
   "execution_count": 19,
   "metadata": {},
   "outputs": [
    {
     "name": "stdout",
     "output_type": "stream",
     "text": [
      "4, 6, 8, "
     ]
    }
   ],
   "source": [
    "for i in range(0, len(arr)):\n",
    "    if arr[i] % 2 == 0:\n",
    "        print(arr[i], end=', ')"
   ]
  },
  {
   "cell_type": "code",
   "execution_count": 20,
   "metadata": {},
   "outputs": [
    {
     "name": "stdout",
     "output_type": "stream",
     "text": [
      "[4, 6, 8]\n"
     ]
    }
   ],
   "source": [
    "print([a for a in arr if a % 2 == 0])"
   ]
  },
  {
   "cell_type": "markdown",
   "metadata": {},
   "source": [
    "#### 數值輸出\n",
    "\n",
    "最前面的輸出是 list comprehension 的最後一步，你可以對他做類似 `a + 1`、`a * 2 - 1` 這種數值輸出的操作"
   ]
  },
  {
   "cell_type": "code",
   "execution_count": 21,
   "metadata": {},
   "outputs": [
    {
     "name": "stdout",
     "output_type": "stream",
     "text": [
      "[3, 4, 5, 6, 7, 8, 9]\n",
      "[3, 4, 5, 6, 7, 8, 9]\n"
     ]
    }
   ],
   "source": [
    "print(arr)\n",
    "print([a for a in arr])"
   ]
  },
  {
   "cell_type": "code",
   "execution_count": 22,
   "metadata": {},
   "outputs": [
    {
     "name": "stdout",
     "output_type": "stream",
     "text": [
      "[9, 16, 25, 36, 49, 64, 81]\n"
     ]
    }
   ],
   "source": [
    "# 修改數值輸出\n",
    "print([a ** 2 for a in arr])"
   ]
  },
  {
   "cell_type": "markdown",
   "metadata": {},
   "source": [
    "#### 混合數值輸出與判斷式"
   ]
  },
  {
   "cell_type": "code",
   "execution_count": 23,
   "metadata": {},
   "outputs": [
    {
     "name": "stdout",
     "output_type": "stream",
     "text": [
      "16, 36, 64, "
     ]
    }
   ],
   "source": [
    "# 加上數值的修改，e.g. 平方\n",
    "for i in range(0, len(arr)):\n",
    "    if arr[i] % 2 == 0:\n",
    "        print(arr[i] ** 2, end=', ')"
   ]
  },
  {
   "cell_type": "code",
   "execution_count": 24,
   "metadata": {},
   "outputs": [
    {
     "name": "stdout",
     "output_type": "stream",
     "text": [
      "[16, 36, 64]\n"
     ]
    }
   ],
   "source": [
    "print([a ** 2 for a in arr if a % 2 == 0])"
   ]
  },
  {
   "cell_type": "markdown",
   "metadata": {},
   "source": [
    "當然他還是有缺點的，當長度過長的時候，他的可讀性也會下降，不過大部分的時候，他都是我陣列操作的首選"
   ]
  },
  {
   "cell_type": "markdown",
   "metadata": {},
   "source": [
    "### with dict"
   ]
  },
  {
   "cell_type": "markdown",
   "metadata": {},
   "source": [
    "怎麼初始化一個 dict 呢，假設我們的 keys 和 values 使用陣列儲存  \n",
    "你需要 `zip(ARR1, ARR2)`，他會把各個元素用 tuple 回傳"
   ]
  },
  {
   "cell_type": "code",
   "execution_count": 25,
   "metadata": {},
   "outputs": [],
   "source": [
    "keys = ['a', 'b', 123]\n",
    "values = ['apple', 'banana', 'yoyoyo']"
   ]
  },
  {
   "cell_type": "code",
   "execution_count": 26,
   "metadata": {},
   "outputs": [
    {
     "name": "stdout",
     "output_type": "stream",
     "text": [
      "a apple\n",
      "b banana\n",
      "123 yoyoyo\n"
     ]
    }
   ],
   "source": [
    "for i in range(0, len(keys)):\n",
    "    k = keys[i]\n",
    "    v = values[i]\n",
    "    print(k, v)"
   ]
  },
  {
   "cell_type": "code",
   "execution_count": 27,
   "metadata": {},
   "outputs": [
    {
     "name": "stdout",
     "output_type": "stream",
     "text": [
      "a apple\n",
      "b banana\n",
      "123 yoyoyo\n"
     ]
    }
   ],
   "source": [
    "for k, v in zip(keys, values):\n",
    "    print(k, v)"
   ]
  },
  {
   "cell_type": "code",
   "execution_count": 28,
   "metadata": {},
   "outputs": [
    {
     "name": "stdout",
     "output_type": "stream",
     "text": [
      "{'a': 'apple', 'b': 'banana', 123: 'yoyoyo'}\n"
     ]
    }
   ],
   "source": [
    "d = {}\n",
    "for k, v in zip(keys, values):\n",
    "    d[k] = v\n",
    "print(d)"
   ]
  },
  {
   "cell_type": "markdown",
   "metadata": {},
   "source": [
    "comprehension 也可以用在 dict！\n",
    "\n",
    "```python\n",
    "# 數值           範圍\n",
    "{ k: v   for k, v in zip(keys, values)}\n",
    "```"
   ]
  },
  {
   "cell_type": "code",
   "execution_count": 29,
   "metadata": {},
   "outputs": [
    {
     "data": {
      "text/plain": [
       "{'a': 'apple', 'b': 'banana', 123: 'yoyoyo'}"
      ]
     },
     "execution_count": 29,
     "metadata": {},
     "output_type": "execute_result"
    }
   ],
   "source": [
    "{ k: v   for k, v in zip(keys, values)}"
   ]
  },
  {
   "cell_type": "markdown",
   "metadata": {},
   "source": [
    "或是 `tuple` 也可以\n",
    "這邊不能使用 `( )` 來初始化，因為他會是另一種 type generator，這是比較進階的 Python\n",
    "我們不會講的那裡"
   ]
  },
  {
   "cell_type": "code",
   "execution_count": 30,
   "metadata": {},
   "outputs": [
    {
     "name": "stdout",
     "output_type": "stream",
     "text": [
      "<generator object <genexpr> at 0x7f8608776200>\n",
      "[1, 4, 9, 16]\n"
     ]
    }
   ],
   "source": [
    "# 錯的，generator\n",
    "g = (i ** 2 for i in range(1, 5))\n",
    "print(g)\n",
    "print(list(g)) # generator 要這樣才會正確顯示"
   ]
  },
  {
   "cell_type": "code",
   "execution_count": 31,
   "metadata": {},
   "outputs": [
    {
     "data": {
      "text/plain": [
       "(1, 4, 9, 16)"
      ]
     },
     "execution_count": 31,
     "metadata": {},
     "output_type": "execute_result"
    }
   ],
   "source": [
    "tuple(i ** 2 for i in range(1, 5))"
   ]
  },
  {
   "cell_type": "markdown",
   "metadata": {},
   "source": [
    "### Lab練習\n",
    "\n",
    "請開啟一份新的 .ipynb 筆記檔案, 檔名為「L08.ipynb」，寫完上傳至網大.\n",
    "\n",
    "- 請利用 list comprehension 轉換下列的 Python code\n",
    "\n",
    "1. 基本"
   ]
  },
  {
   "cell_type": "code",
   "execution_count": 27,
   "metadata": {},
   "outputs": [
    {
     "name": "stdout",
     "output_type": "stream",
     "text": [
      "[33, 55, 77, 99]\n"
     ]
    }
   ],
   "source": [
    "arr = [3, 5, 7, 9]\n",
    "output = []\n",
    "for a in arr:\n",
    "    output.append(a * 11)\n",
    "print(output)"
   ]
  },
  {
   "cell_type": "markdown",
   "metadata": {},
   "source": [
    "2. 判斷式"
   ]
  },
  {
   "cell_type": "code",
   "execution_count": 28,
   "metadata": {},
   "outputs": [
    {
     "name": "stdout",
     "output_type": "stream",
     "text": [
      "[4, 7, 22]\n"
     ]
    }
   ],
   "source": [
    "arr = [1, 4, 7, 10, 13, 16, 19, 22]\n",
    "output = []\n",
    "for a in arr:\n",
    "    if '1' not in str(a):\n",
    "        output.append(a)\n",
    "print(output)"
   ]
  },
  {
   "cell_type": "markdown",
   "metadata": {},
   "source": [
    "3. 複雜"
   ]
  },
  {
   "cell_type": "code",
   "execution_count": null,
   "metadata": {},
   "outputs": [],
   "source": [
    "arr = list(range(1, 101))\n",
    "\n",
    "def is_prime(n):\n",
    "    ...\n",
    "\n",
    "output = []\n",
    "\n",
    "for a in arr:\n",
    "    if is_prime(a):\n",
    "        output.append('{} is prime'.format(a))\n",
    "# 把上面三行改成一個 comprehension\n",
    "\n",
    "print(output)\n",
    "print('has', len(output))"
   ]
  },
  {
   "cell_type": "markdown",
   "metadata": {},
   "source": [
    "output is \n",
    "```\n",
    "['2 is prime', '3 is prime', '5 is prime', '7 is prime', '11 is prime', '13 is prime', '17 is prime', '19 is prime', '23 is prime', '29 is prime', '31 is prime', '37 is prime', '41 is prime', '43 is prime', '47 is prime', '53 is prime', '59 is prime', '61 is prime', '67 is prime', '71 is prime', '73 is prime', '79 is prime', '83 is prime', '89 is prime', '97 is prime']\n",
    "has 25\n",
    "```"
   ]
  },
  {
   "cell_type": "markdown",
   "metadata": {},
   "source": [
    "4. dict comprehension\n",
    "請自己寫一個 dict comprehension，建立任何一個 dict（類似上面的）"
   ]
  }
 ],
 "metadata": {
  "kernelspec": {
   "display_name": "Python 3",
   "language": "python",
   "name": "python3"
  },
  "language_info": {
   "codemirror_mode": {
    "name": "ipython",
    "version": 3
   },
   "file_extension": ".py",
   "mimetype": "text/x-python",
   "name": "python",
   "nbconvert_exporter": "python",
   "pygments_lexer": "ipython3",
   "version": "3.8.12"
  }
 },
 "nbformat": 4,
 "nbformat_minor": 4
}
