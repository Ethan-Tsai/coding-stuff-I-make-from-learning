{
 "cells": [
  {
   "cell_type": "markdown",
   "metadata": {},
   "source": [
    "# MIS132 程式設計實習 - Lecture03"
   ]
  },
  {
   "cell_type": "markdown",
   "metadata": {},
   "source": [
    "## Outline\n",
    "\n",
    "- Function\n",
    "  - Function definition\n",
    "  - Difference between **argument** and **parameter**\n",
    "  - default parameter and print()\n",
    "- Iteration\n",
    "  - for loop\n",
    "  - while loop\n",
    "  - do-while loop\n",
    "- Lab 練習"
   ]
  },
  {
   "cell_type": "markdown",
   "metadata": {},
   "source": [
    "## Function\n",
    "\n",
    "### Function definition\n",
    "\n",
    "在 C 中宣告 function 的語法是\n",
    "\n",
    "```C\n",
    "int square(int x) {\n",
    "\treturn(x * x);\n",
    "}\n",
    "```\n",
    "\n",
    "而在 Python 中宣告 function 的語法是\n",
    "\n",
    "```python\n",
    "def square(x):\n",
    "\treturn x * x\n",
    "```\n",
    "\n",
    "> 寫程式很常會用到重複的內容...\n",
    ">\n",
    "> 例如某知名youtuber每次的開頭都一樣，這時候就可以建立一個專屬於他的開場的函式。\n"
   ]
  },
  {
   "cell_type": "code",
   "execution_count": 2,
   "metadata": {},
   "outputs": [
    {
     "name": "stdout",
     "output_type": "stream",
     "text": [
      "嗨！大家今天過得好嗎？\n",
      "歡迎回到ＸＸ太太\n",
      "今天我們要講是 Expression and Conditional\n",
      "--------------------\n",
      "第一個部分 Expression 會提到...\n",
      "\n",
      "\n",
      "\n",
      "嗨！大家今天過得好嗎？\n",
      "歡迎回到ＸＸ太太\n",
      "今天我們要講是 Function and Iteration\n",
      "--------------------\n",
      "Function 和我們在 C 使用的...\n"
     ]
    }
   ],
   "source": [
    "# 定義函式名稱\n",
    "def opening(topic):\n",
    "    print('嗨！大家今天過得好嗎？') # function 裡記得縮排後輸入你要放入的內容。\n",
    "    print('歡迎回到ＸＸ太太')\n",
    "    print('今天我們要講是 ' + topic)\n",
    "    print('-' * 20)\n",
    "\n",
    "# 主程式中，透過執行定義好的 function 名稱，來執行程式。   \n",
    "## week 2\n",
    "opening('Expression and Conditional')\n",
    "print('第一個部分 Expression 會提到...')\n",
    "\n",
    "...\n",
    "\n",
    "print('\\n\\n')\n",
    "\n",
    "## week3\n",
    "opening('Function and Iteration')\n",
    "print('Function 和我們在 C 使用的...')"
   ]
  },
  {
   "cell_type": "markdown",
   "metadata": {},
   "source": [
    "呼叫固定段落的程式碼後，再加入其他程式邏輯，是很常見的形式\n",
    "\n",
    "更是初學者邁向初階工程師的關鍵之一"
   ]
  },
  {
   "cell_type": "markdown",
   "metadata": {},
   "source": [
    "#### Note!\n",
    "Python 中有些 Build-in 的 function,\n",
    "\n",
    "> e.g. ```int(), float(), max(), type(), raw_input()```\n",
    "\n",
    "而你也可以建立你自己需要的 function\n",
    "\n",
    "function 的取名和變數取名一樣, 請避免保留字\n",
    "\n",
    "### Difference between argument and parameter\n",
    ">An **argument** is an expression used when calling the method.\n",
    ">\n",
    ">A **parameter** is the variable which is part of the method’s signature (method declaration).\n",
    "\n",
    "```python\n",
    "def greet(lang):\n",
    "#         ^^^^ this is a parameter (actual parameter)\n",
    "\tif(lang == \"es\"):\n",
    "    \tprint(\"Hola\")\n",
    "    elif(lang == \"fr\"):\n",
    "    \tprint(\"Bonjour\")\n",
    "    else:\n",
    "    \tprint(\"Hello\")\n",
    "      \n",
    "greet(lang = \"fr\")\n",
    "#            ^^^^ this is an argument (formal argument)\n",
    "```\n",
    "\n",
    "\n",
    "#### 練習！練習！\n",
    "請把之前常常用的計算bmi寫成一個function"
   ]
  },
  {
   "cell_type": "code",
   "execution_count": null,
   "metadata": {},
   "outputs": [],
   "source": [
    "# Code Here\n",
    "\n",
    "### Please define your BMI function let following code can run.\n",
    "### 請不要修改下列 code\n",
    "\n",
    "#===== start of your bmi function =====#\n",
    "def bmi():\n",
    "\n",
    "#==== end of your bmi function =====#\n",
    "\n",
    "weight = input('Enter your weight in kg...')\n",
    "height = input('Enter your height in m...')\n",
    "print('Your BMI is %f' % bmi(weight, height))"
   ]
  },
  {
   "cell_type": "markdown",
   "metadata": {},
   "source": [
    "### default parameter and print()\n",
    "\n",
    "print 是我們學的第一個 bulit-in function，實際上他有非常多東西可以調\n",
    "\n",
    "我們先從 function 的 default parameter 開始學，Python 的函式可以用 `=` 指定預設參數給 argument，看看下面的 function"
   ]
  },
  {
   "cell_type": "code",
   "execution_count": 3,
   "metadata": {},
   "outputs": [
    {
     "name": "stdout",
     "output_type": "stream",
     "text": [
      "28.27431\n",
      "50.26544\n",
      "18\n",
      "27\n",
      "22.5\n"
     ]
    }
   ],
   "source": [
    "def get_area(r, pi=3.14159):\n",
    "    return r * r * pi\n",
    "\n",
    "print(get_area(3))\n",
    "print(get_area(4))\n",
    "\n",
    "# 假如我們對 pi 有不同的見解，也可以傳不同的數值\n",
    "print(get_area(3, 2))\n",
    "print(get_area(3, 3))\n",
    "print(get_area(3, pi=2.5)) # 或用 key 傳入"
   ]
  },
  {
   "cell_type": "markdown",
   "metadata": {},
   "source": [
    "接下來要談到 print 函式，他雖然是我們第一個學的函式，其實功能非常的多、有很多 default parameter，我們可以使用 \n",
    "```python\n",
    "help(SOME_FUNCTION)\n",
    "```\n",
    "\n",
    "來查看他的文件"
   ]
  },
  {
   "cell_type": "code",
   "execution_count": 4,
   "metadata": {},
   "outputs": [
    {
     "name": "stdout",
     "output_type": "stream",
     "text": [
      "Help on built-in function print in module builtins:\n",
      "\n",
      "print(...)\n",
      "    print(value, ..., sep=' ', end='\\n', file=sys.stdout, flush=False)\n",
      "    \n",
      "    Prints the values to a stream, or to sys.stdout by default.\n",
      "    Optional keyword arguments:\n",
      "    file:  a file-like object (stream); defaults to the current sys.stdout.\n",
      "    sep:   string inserted between values, default a space.\n",
      "    end:   string appended after the last value, default a newline.\n",
      "    flush: whether to forcibly flush the stream.\n",
      "\n"
     ]
    }
   ],
   "source": [
    "help(print)"
   ]
  },
  {
   "cell_type": "markdown",
   "metadata": {},
   "source": [
    "我們可以來用我們的 Python 知識來猜看看這個 function 的定義，想看看要怎麼傳入不同的參數呢？例如我們想修改 sep or end 參數"
   ]
  },
  {
   "cell_type": "code",
   "execution_count": 5,
   "metadata": {},
   "outputs": [
    {
     "name": "stdout",
     "output_type": "stream",
     "text": [
      "a\n",
      "a b\n",
      "a apple Ellipsis\n"
     ]
    }
   ],
   "source": [
    "print('a')\n",
    "print('a', 'b') # 好像不是這樣\n",
    "print('a', 'apple', ...) # 也不是這樣"
   ]
  },
  {
   "cell_type": "markdown",
   "metadata": {},
   "source": [
    "`...` 是 Python 一個比較進階的東西，我們不會談到，他在這邊的功用是「宣告時後面的每個參數都**必須要有預設值**，使用時**只能用 key 傳入**」，所以簡單來說，我們如果想要修改 sep 或 end，必須使用 key 傳入"
   ]
  },
  {
   "cell_type": "code",
   "execution_count": 6,
   "metadata": {},
   "outputs": [
    {
     "name": "stdout",
     "output_type": "stream",
     "text": [
      "\\ _ /\n",
      "\\^_^/\n",
      "\\@_@/??\\o_o/\n",
      "newline"
     ]
    }
   ],
   "source": [
    "print('\\\\', '_', '/') # defalut of sep is space\n",
    "print('\\\\', '_', '/', sep='^') # use 'o' sep\n",
    "\n",
    "print('\\\\', '_', '/', sep='@', end='??') # replace end\n",
    "print('\\\\', 'o_o', '/', sep='', end='\\nnewline')"
   ]
  },
  {
   "cell_type": "markdown",
   "metadata": {},
   "source": [
    "--- \n",
    "## Iteration\n",
    "\n",
    "### For Loop\n",
    "\n",
    "for 用於知道迴圈要作幾次時，Python 中, for 通常與 function `range()` 搭配\n",
    "\n",
    "\n",
    "#### 語法與範例\n",
    "\n",
    "C 的 for 語法是\n",
    "\n",
    "```c\n",
    "for (int i = 初始值; 終止條件; 迴圈步數) { ... }\n",
    "```\n",
    "\n",
    "Python 的 range 也是和他類似\n",
    "\n",
    "```python\n",
    "for i in range(初始值, 終止數字, 迴圈步數): ...\n",
    "```\n",
    "\n",
    "我們來看看一個 C 的迴圈\n",
    "\n",
    "```c\n",
    "for (int i = 1; i < 10; i++) {\n",
    "    printf(\"Square of %d is %d\\n\", i, i * i);\n",
    "}\n",
    "```\n",
    "\n",
    "接著把上面 C 改成 Python\n",
    "\n",
    "```python\n",
    "for i in range(1, 10, 1):\n",
    "    print('Square of ' + str(i) + ' = ' + str(i**2))\n",
    "print('-' * 20)\n",
    "```\n",
    "\n",
    "這兩個人完全等價，基本上沒有任何區別，值得注意的是 **Python for 的終止條件只會是小於**、最後的步數預設值是 1，可以省略\n",
    "\n",
    "所以如果你的 i 要從 3 ~ 10，你的 range 可以改成\n",
    "\n",
    "```python\n",
    "for i in range(3, 11): # 省略 step\n",
    "    pass\n",
    "```"
   ]
  },
  {
   "cell_type": "code",
   "execution_count": 7,
   "metadata": {},
   "outputs": [
    {
     "name": "stdout",
     "output_type": "stream",
     "text": [
      "Square of 1 = 1\n",
      "Square of 3 = 9\n",
      "Square of 5 = 25\n",
      "Square of 7 = 49\n",
      "Square of 9 = 81\n",
      "--------------------\n",
      "Square of 5 = 25\n",
      "Square of 10 = 100\n",
      "Square of 15 = 225\n",
      "Square of 20 = 400\n",
      "--------------------\n",
      "Square of 11 = 121\n",
      "Square of 9 = 81\n",
      "Square of 7 = 49\n",
      "Square of 5 = 25\n",
      "Square of 3 = 9\n",
      "Square of 1 = 1\n",
      "--------------------\n"
     ]
    }
   ],
   "source": [
    "# 依序為 range(初始值, 終止值（小於）, step)\n",
    "for i in range(1, 10, 2):\n",
    "    print('Square of {} = {}'.format(i, i ** 2))\n",
    "print('-' * 20)\n",
    "\n",
    "for i in range(5, 21, 5):\n",
    "    print('Square of {} = {}'.format(i, i ** 2))\n",
    "print('-' * 20)\n",
    "\n",
    "for i in range(11, 0, -2):\n",
    "    print('Square of {} = {}'.format(i, i ** 2))\n",
    "print('-' * 20)"
   ]
  },
  {
   "cell_type": "markdown",
   "metadata": {},
   "source": [
    "### While Loop\n",
    "\n",
    "while 迴圈用於你不知道迴圈何時會結束, 每一輪 while 迴圈會去確認條件式是否為 True, 為 True 則會繼續執行下去\n",
    "\n",
    "for example: 計算 n! 何時會大於 600"
   ]
  },
  {
   "cell_type": "code",
   "execution_count": 8,
   "metadata": {},
   "outputs": [
    {
     "name": "stdout",
     "output_type": "stream",
     "text": [
      "factor(7) = 720\n",
      "6! <= 600 < 7!\n"
     ]
    }
   ],
   "source": [
    "# Initialize factorial_num to 1\n",
    "factorial_num = 1\n",
    "# Set limit to 600\n",
    "limit = 600\n",
    "# Initialize iteration counter: i\n",
    "i = 1\n",
    "\n",
    "while factorial_num <= limit:\n",
    "    factorial_num = factorial_num * i\n",
    "    i += 1\n",
    "\n",
    "print(f'factor({i}) = {factorial_num}')\n",
    "print(f'{i - 1}! <= {limit} < {i}!')"
   ]
  },
  {
   "cell_type": "markdown",
   "metadata": {},
   "source": [
    "#### Note!\n",
    "當你在執行過程中想要結束回圈，可以使用**\"break\"**\n",
    "\n",
    "下面的程式碼會發現\"while\"後面的條件是沒有設定停止循環的規則。"
   ]
  },
  {
   "cell_type": "code",
   "execution_count": 9,
   "metadata": {},
   "outputs": [
    {
     "name": "stdout",
     "output_type": "stream",
     "text": [
      "1\n",
      "2\n",
      "3\n",
      "4\n",
      "5\n",
      "6\n",
      "7\n",
      "8\n",
      "9\n",
      "10\n"
     ]
    }
   ],
   "source": [
    "i = 1\n",
    "while True:          # 當條件為1時進入回圈，此為無窮迴圈\n",
    "    print(i)         # 輸出1~10\n",
    "    i += 1\n",
    "    if i > 10:     # 當i大於10的時候跳出迴圈\n",
    "        break"
   ]
  },
  {
   "cell_type": "markdown",
   "metadata": {},
   "source": [
    "#### Note2!\n",
    "如果想要在特定情況下不執行循環，可以使用**\"continue\"**。\n",
    "\n",
    "下面的程式碼適當數字為偶數時不進入循環。"
   ]
  },
  {
   "cell_type": "code",
   "execution_count": 10,
   "metadata": {},
   "outputs": [
    {
     "name": "stdout",
     "output_type": "stream",
     "text": [
      "1\n",
      "3\n",
      "5\n",
      "7\n",
      "9\n"
     ]
    }
   ],
   "source": [
    "i = 0\n",
    "while i < 10:   \n",
    "    i += 1\n",
    "    if i%2 == 0:     # 當數字為雙數時跳過\n",
    "        continue\n",
    "    print (i)         # 輸出單數"
   ]
  },
  {
   "cell_type": "markdown",
   "metadata": {},
   "source": [
    "---\n",
    "## 作業\n",
    "\n",
    "#### 注意:\n",
    "\n",
    "請開啟一份新的 Python 筆記檔案（.ipynb）, 檔名請存成「學號_L03.ipynb」，若有多個檔案，請壓縮後上傳 \n",
    "\n",
    "例如: B054020014_L03.ipynb, 寫完上傳至網大.\n",
    "\n",
    "#### 題目:\n",
    "\n",
    "> **持續讓使用者輸入的整數** `n`，並印出一個 `n * n` 乘法表\n",
    ">\n",
    "> 務必將印出乘法表寫成 function `print_multiplication_table(n)`\n",
    ">\n",
    "> **若輸入數字小於 1**, 則結束迴圈，結束程式\n",
    ">\n",
    "> 輸出時請讓每個數字長度一致為 3，不足 3 者輸出空格\n",
    "\n",
    "> Bonus: \n",
    "\n",
    "#### Output Example:\n",
    "\n",
    "```\n",
    "Please input n: 10\n",
    "  1   2   3   4   5   6   7   8   9  10 \n",
    "  2   4   6   8  10  12  14  16  18  20 \n",
    "  3   6   9  12  15  18  21  24  27  30 \n",
    "  4   8  12  16  20  24  28  32  36  40 \n",
    "  5  10  15  20  25  30  35  40  45  50 \n",
    "  6  12  18  24  30  36  42  48  54  60 \n",
    "  7  14  21  28  35  42  49  56  63  70 \n",
    "  8  16  24  32  40  48  56  64  72  80 \n",
    "  9  18  27  36  45  54  63  72  81  90 \n",
    " 10  20  30  40  50  60  70  80  90 100 \n",
    "Please input n: 3\n",
    "  1   2   3 \n",
    "  2   4   6 \n",
    "  3   6   9 \n",
    "Please input n: 0\n",
    "Bye.\n",
    "```\n",
    "\n",
    "Hint: remember how Python print string with format(last lecture)"
   ]
  },
  {
   "cell_type": "code",
   "execution_count": null,
   "metadata": {},
   "outputs": [],
   "source": []
  }
 ],
 "metadata": {
  "kernelspec": {
   "display_name": "Python 3",
   "language": "python",
   "name": "python3"
  },
  "language_info": {
   "codemirror_mode": {
    "name": "ipython",
    "version": 3
   },
   "file_extension": ".py",
   "mimetype": "text/x-python",
   "name": "python",
   "nbconvert_exporter": "python",
   "pygments_lexer": "ipython3",
   "version": "3.6.8"
  }
 },
 "nbformat": 4,
 "nbformat_minor": 4
}
