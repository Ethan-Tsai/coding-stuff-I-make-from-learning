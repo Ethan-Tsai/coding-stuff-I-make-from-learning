{
 "cells": [
  {
   "cell_type": "code",
   "execution_count": null,
   "metadata": {},
   "outputs": [],
   "source": [
    "while True:\n",
    "    # 輸入內容\n",
    "    n = int(input('Please input n: '))\n",
    "\n",
    "    # 小於1時結束\n",
    "    if n < 1:\n",
    "        break\n",
    "    \n",
    "    # 每行為以 i 為首項公差為 i 的等差數列\n",
    "    for i in range(1, n + 1, 1):\n",
    "        for j in range(i, i * n + 1, i):\n",
    "            if j >= 100:\n",
    "                print('', j, end='')\n",
    "            elif j >= 10:\n",
    "                print(' ', j, end='')\n",
    "            else:\n",
    "                print('  ', j, end='')\n",
    "\n",
    "        print()\n",
    "    print()\n",
    "\n",
    "print('Bye.')"
   ]
  }
 ],
 "metadata": {
  "interpreter": {
   "hash": "28781f49791c3bada5e2f19e2923aab45c34dbf6d5bf6ae9c3704ed1275928d5"
  },
  "kernelspec": {
   "display_name": "Python 3.10.2 64-bit",
   "language": "python",
   "name": "python3"
  },
  "language_info": {
   "codemirror_mode": {
    "name": "ipython",
    "version": 3
   },
   "file_extension": ".py",
   "mimetype": "text/x-python",
   "name": "python",
   "nbconvert_exporter": "python",
   "pygments_lexer": "ipython3",
   "version": "3.10.2"
  },
  "orig_nbformat": 4
 },
 "nbformat": 4,
 "nbformat_minor": 2
}
