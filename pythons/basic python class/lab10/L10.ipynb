{
 "cells": [
  {
   "cell_type": "markdown",
   "metadata": {},
   "source": [
    "### 1. 建立一個 6x6 的矩陣，讓 1,2,3,4,5 落在對角線上，並取出部分 matrix hint:  \n"
   ]
  },
  {
   "cell_type": "code",
   "execution_count": 6,
   "metadata": {},
   "outputs": [
    {
     "name": "stdout",
     "output_type": "stream",
     "text": [
      "[[1 0 0 0 0]\n",
      " [0 2 0 0 0]\n",
      " [0 0 3 0 0]\n",
      " [0 0 0 4 0]\n",
      " [0 0 0 0 5]]\n",
      "\n",
      "[[0 3 0 0]\n",
      " [0 0 4 0]\n",
      " [0 0 0 5]]\n"
     ]
    }
   ],
   "source": [
    "import numpy as np\n",
    "\n",
    "a = np.diag(np.arange(1, 6))\n",
    "\n",
    "print('a = ')\n",
    "print(a)\n",
    "\n",
    "b = a[2:5, 1:5]\n",
    "print('b = ')\n",
    "print(b)"
   ]
  },
  {
   "cell_type": "markdown",
   "metadata": {},
   "source": [
    "### 2. 建立從 0 ~ pi * 2 的隨機 array，裡面包含 21 個元素，並對該陣列取 cos 或 sin"
   ]
  },
  {
   "cell_type": "code",
   "execution_count": 11,
   "metadata": {},
   "outputs": [
    {
     "name": "stdout",
     "output_type": "stream",
     "text": [
      "a = \n",
      "[0.97913957 1.16606221 5.49184661 3.17102604 1.85548228 5.47288249\n",
      " 4.59231037 5.38851759 0.06568551 2.65468613 4.79691782 6.10156861\n",
      " 0.52529778 5.56427417 0.16840126 2.97329335 0.39413996 2.38973415\n",
      " 1.33312431 3.75307571 6.00271884]\n",
      "sin(a) = \n",
      "[ 0.83001778  0.91920713 -0.71129487 -0.02942914  0.9597499  -0.72449593\n",
      " -0.99279922 -0.78000119  0.06563829  0.46789417 -0.99642956 -0.18061992\n",
      "  0.50147066 -0.65856567  0.16760644  0.16750592  0.38401423  0.68299743\n",
      "  0.97188871 -0.57408241 -0.27680392]\n",
      "cos(a) = \n",
      "[ 0.55773692  0.39377437  0.70289374 -0.99956687 -0.28085606  0.68927907\n",
      " -0.11979025  0.62577803  0.99784348 -0.8837845   0.08442821  0.98355297\n",
      "  0.86517465  0.75252326  0.98585399 -0.98587107  0.92332717 -0.73042078\n",
      "  0.23544073 -0.81879752  0.96092642]\n"
     ]
    }
   ],
   "source": [
    "import numpy as np\n",
    "\n",
    "a = np.random.uniform(0, np.pi * 2, 21)\n",
    "\n",
    "print('a = ')\n",
    "print(a)\n",
    "\n",
    "print('sin(a) = ')\n",
    "print(np.sin(a))\n",
    "\n",
    "print('cos(a) = ')\n",
    "print(np.cos(a))"
   ]
  },
  {
   "cell_type": "markdown",
   "metadata": {},
   "source": [
    "### 3. 請找一個 numpy 有關 數值運算、線性代數的函式，並附上至少兩個範例 code"
   ]
  },
  {
   "cell_type": "markdown",
   "metadata": {},
   "source": [
    "這次介紹的是`numpy`中用來解方程式的`x = numpy.linalg.solve(a, b)`\n",
    "1. 其代表意義是解出`x`矩陣使`ax = b`\n",
    "2. 驗算可以使用`np.allcolse(np.dot(a, x), b)`"
   ]
  },
  {
   "cell_type": "markdown",
   "metadata": {},
   "source": [
    "#### 範例1 解出\n",
    "```\n",
    "3x + y = 5\n",
    "4x + 5y = 14\n",
    "```"
   ]
  },
  {
   "cell_type": "code",
   "execution_count": 6,
   "metadata": {},
   "outputs": [
    {
     "name": "stdout",
     "output_type": "stream",
     "text": [
      "[1. 2.]\n",
      "True\n"
     ]
    }
   ],
   "source": [
    "import numpy as np\n",
    "\n",
    "a = np.array([[3, 1], [4, 5]])\n",
    "b = np.array([5, 14])\n",
    "\n",
    "x = np.linalg.solve(a, b)\n",
    "\n",
    "print(x)\n",
    "\n",
    "print(np.allclose(np.dot(a, x), b))"
   ]
  },
  {
   "cell_type": "markdown",
   "metadata": {},
   "source": [
    "#### 範例2 解出\n",
    "```\n",
    "x + y + z = 6\n",
    "2x + 3y + 4z = 20\n",
    "x + 2y + z = 8\n",
    "```"
   ]
  },
  {
   "cell_type": "code",
   "execution_count": 5,
   "metadata": {},
   "outputs": [
    {
     "name": "stdout",
     "output_type": "stream",
     "text": [
      "[1. 2. 3.]\n",
      "True\n"
     ]
    }
   ],
   "source": [
    "import numpy as np\n",
    "\n",
    "a = np.array([[1, 1, 1], [2, 3, 4], [1, 2, 1]])\n",
    "b = np.array([6, 20, 8])\n",
    "\n",
    "x = np.linalg.solve(a, b)\n",
    "\n",
    "print(x)\n",
    "\n",
    "print(np.allclose(np.dot(a, x), b))"
   ]
  }
 ],
 "metadata": {
  "interpreter": {
   "hash": "82ed002fa2d4956f5c6aec99bcefe0f73a9f79882f3c9e2319b14958a5896ac5"
  },
  "kernelspec": {
   "display_name": "Python 3.9.2 64-bit",
   "language": "python",
   "name": "python3"
  },
  "language_info": {
   "codemirror_mode": {
    "name": "ipython",
    "version": 3
   },
   "file_extension": ".py",
   "mimetype": "text/x-python",
   "name": "python",
   "nbconvert_exporter": "python",
   "pygments_lexer": "ipython3",
   "version": "3.9.2"
  },
  "orig_nbformat": 4
 },
 "nbformat": 4,
 "nbformat_minor": 2
}
