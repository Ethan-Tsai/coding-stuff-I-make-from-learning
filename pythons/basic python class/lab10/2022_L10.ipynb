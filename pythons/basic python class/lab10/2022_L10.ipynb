{
 "cells": [
  {
   "cell_type": "markdown",
   "metadata": {},
   "source": [
    "# MIS132 程式設計實習 - Lecture10"
   ]
  },
  {
   "cell_type": "markdown",
   "metadata": {},
   "source": [
    "## Outline this week\n",
    "\n",
    "- NumPy 矩陣運算\n",
    "  - 數值運算、矩陣乘法\n",
    "  - 常用的函式\n",
    "  - Indexing、Slicing\n",
    "- Lab 練習"
   ]
  },
  {
   "cell_type": "markdown",
   "metadata": {},
   "source": [
    "## NumPy 矩陣運算\n",
    "### 數值運算\n",
    "\n",
    "NumPy 的 array 可以直接套用 +、-、*、/......等基本運算\n",
    "\n",
    "但是陣列的 size 要相同才可以"
   ]
  },
  {
   "cell_type": "code",
   "execution_count": 1,
   "metadata": {},
   "outputs": [],
   "source": [
    "import numpy as np"
   ]
  },
  {
   "cell_type": "code",
   "execution_count": 2,
   "metadata": {},
   "outputs": [
    {
     "name": "stdout",
     "output_type": "stream",
     "text": [
      "a [4 5 6 7 8]\n",
      "b [2. 2. 2. 2. 2.]\n"
     ]
    }
   ],
   "source": [
    "a = np.arange(4, 9)\n",
    "print('a', a)\n",
    "b = np.ones(5) * 2\n",
    "print('b', b)"
   ]
  },
  {
   "cell_type": "code",
   "execution_count": 3,
   "metadata": {},
   "outputs": [
    {
     "name": "stdout",
     "output_type": "stream",
     "text": [
      "a + b [ 6.  7.  8.  9. 10.]\n",
      "a - b [2. 3. 4. 5. 6.]\n"
     ]
    }
   ],
   "source": [
    "print('a + b', a + b)\n",
    "print('a - b', a - b)"
   ]
  },
  {
   "cell_type": "code",
   "execution_count": 4,
   "metadata": {},
   "outputs": [
    {
     "name": "stdout",
     "output_type": "stream",
     "text": [
      "a * b [ 8. 10. 12. 14. 16.]\n",
      "a / b [2.  2.5 3.  3.5 4. ]\n"
     ]
    }
   ],
   "source": [
    "# 注意這兩個是 dot-wise\n",
    "print('a * b', a * b)\n",
    "print('a / b', a / b)"
   ]
  },
  {
   "cell_type": "markdown",
   "metadata": {},
   "source": [
    "來點複雜的運算"
   ]
  },
  {
   "cell_type": "code",
   "execution_count": 5,
   "metadata": {},
   "outputs": [
    {
     "name": "stdout",
     "output_type": "stream",
     "text": [
      "a // b [2. 2. 3. 3. 4.]\n"
     ]
    }
   ],
   "source": [
    "# truncate\n",
    "print('a // b', a // b)"
   ]
  },
  {
   "cell_type": "code",
   "execution_count": 6,
   "metadata": {},
   "outputs": [
    {
     "name": "stdout",
     "output_type": "stream",
     "text": [
      "a ** b [16. 25. 36. 49. 64.]\n"
     ]
    }
   ],
   "source": [
    "print('a ** b', a ** b)"
   ]
  },
  {
   "cell_type": "code",
   "execution_count": 7,
   "metadata": {},
   "outputs": [
    {
     "name": "stdout",
     "output_type": "stream",
     "text": [
      "a += 2 [ 6  7  8  9 10]\n"
     ]
    }
   ],
   "source": [
    "a += 2\n",
    "print('a += 2', a)"
   ]
  },
  {
   "cell_type": "code",
   "execution_count": 8,
   "metadata": {},
   "outputs": [
    {
     "name": "stdout",
     "output_type": "stream",
     "text": [
      "b -= 3 [-1. -1. -1. -1. -1.]\n"
     ]
    }
   ],
   "source": [
    "b -= 3\n",
    "print('b -= 3', b)"
   ]
  },
  {
   "cell_type": "markdown",
   "metadata": {},
   "source": [
    "### 矩陣乘法\n",
    "\n",
    "![](https://i.imgur.com/VlBLSXb.png)"
   ]
  },
  {
   "cell_type": "code",
   "execution_count": 9,
   "metadata": {},
   "outputs": [
    {
     "name": "stdout",
     "output_type": "stream",
     "text": [
      "a [[1 2]\n",
      " [3 4]]\n",
      "b [[5 6]\n",
      " [7 8]]\n",
      "--------------------\n",
      "Matrix Multiplication\n",
      "[[19 22]\n",
      " [43 50]]\n",
      "[[19 22]\n",
      " [43 50]]\n",
      "Dot-wise Multiplication\n",
      "[[ 5 12]\n",
      " [21 32]]\n"
     ]
    }
   ],
   "source": [
    "a = np.array([[1, 2], [3, 4]])\n",
    "print('a', a)\n",
    "b = np.array([[5, 6], [7, 8]])\n",
    "print('b', b)\n",
    "print('-' * 20)\n",
    "\n",
    "print('Matrix Multiplication')\n",
    "print(a.dot(b))\n",
    "# or\n",
    "print(np.dot(a, b))\n",
    "\n",
    "print('Dot-wise Multiplication')\n",
    "print(a * b)"
   ]
  },
  {
   "cell_type": "markdown",
   "metadata": {},
   "source": [
    "### 常用函式\n",
    "\n",
    "NumPy 裡面有「非常多」數值運算的 Function、常數......等\n",
    "\n",
    "先來點簡單的"
   ]
  },
  {
   "cell_type": "code",
   "execution_count": 10,
   "metadata": {},
   "outputs": [
    {
     "name": "stdout",
     "output_type": "stream",
     "text": [
      "pi\t 3.141592653589793\n",
      "e\t 2.718281828459045\n",
      "log(e)\t 2.302585092994046\n",
      "log(2)\t 6.643856189774724\n",
      "log(10)\t 3.0\n"
     ]
    }
   ],
   "source": [
    "print('pi\\t', np.pi)\n",
    "print('e\\t', np.e)\n",
    "print('log(e)\\t', np.log(10))\n",
    "print('log(2)\\t', np.log2(100))\n",
    "print('log(10)\\t', np.log10(1000))"
   ]
  },
  {
   "cell_type": "markdown",
   "metadata": {},
   "source": [
    "當然也支援一整個陣列的運算"
   ]
  },
  {
   "cell_type": "code",
   "execution_count": 20,
   "metadata": {},
   "outputs": [
    {
     "data": {
      "text/plain": [
       "array([4, 3, 1, 2])"
      ]
     },
     "execution_count": 20,
     "metadata": {},
     "output_type": "execute_result"
    }
   ],
   "source": [
    "a = np.random.randint(0, 5, size=4)\n",
    "a"
   ]
  },
  {
   "cell_type": "code",
   "execution_count": 21,
   "metadata": {},
   "outputs": [
    {
     "name": "stdout",
     "output_type": "stream",
     "text": [
      "log(e)\t [1.38629436 1.09861229 0.         0.69314718]\n",
      "log(2)\t [2.        1.5849625 0.        1.       ]\n",
      "log(10)\t [0.60205999 0.47712125 0.         0.30103   ]\n",
      "sqrt\t [2.         1.73205081 1.         1.41421356]\n",
      "exp\t [54.59815003 20.08553692  2.71828183  7.3890561 ]\n"
     ]
    }
   ],
   "source": [
    "print('log(e)\\t', np.log(a))\n",
    "print('log(2)\\t', np.log2(a))\n",
    "print('log(10)\\t', np.log10(a))\n",
    "print('sqrt\\t', np.sqrt(a))\n",
    "print('exp\\t', np.exp(a))"
   ]
  },
  {
   "cell_type": "markdown",
   "metadata": {},
   "source": [
    "#### Indexing & slicing\n",
    "\n",
    "NumPy 支援原生 Python 大部分的 indexing"
   ]
  },
  {
   "cell_type": "code",
   "execution_count": 22,
   "metadata": {},
   "outputs": [
    {
     "data": {
      "text/plain": [
       "array([3, 4, 5, 6, 7, 8, 9])"
      ]
     },
     "execution_count": 22,
     "metadata": {},
     "output_type": "execute_result"
    }
   ],
   "source": [
    "a = np.arange(3, 10)\n",
    "a"
   ]
  },
  {
   "cell_type": "code",
   "execution_count": 23,
   "metadata": {},
   "outputs": [
    {
     "data": {
      "text/plain": [
       "array([5, 6, 7])"
      ]
     },
     "execution_count": 23,
     "metadata": {},
     "output_type": "execute_result"
    }
   ],
   "source": [
    "a[2:5]"
   ]
  },
  {
   "cell_type": "code",
   "execution_count": 24,
   "metadata": {},
   "outputs": [
    {
     "data": {
      "text/plain": [
       "array([4, 6, 8])"
      ]
     },
     "execution_count": 24,
     "metadata": {},
     "output_type": "execute_result"
    }
   ],
   "source": [
    "a[1:6:2]"
   ]
  },
  {
   "cell_type": "code",
   "execution_count": 25,
   "metadata": {},
   "outputs": [
    {
     "data": {
      "text/plain": [
       "array([7, 6, 5, 4, 3])"
      ]
     },
     "execution_count": 25,
     "metadata": {},
     "output_type": "execute_result"
    }
   ],
   "source": [
    "a[4::-1]"
   ]
  },
  {
   "cell_type": "code",
   "execution_count": 26,
   "metadata": {},
   "outputs": [
    {
     "data": {
      "text/plain": [
       "array([9, 8, 7, 6, 5, 4, 3])"
      ]
     },
     "execution_count": 26,
     "metadata": {},
     "output_type": "execute_result"
    }
   ],
   "source": [
    "a[::-1]"
   ]
  },
  {
   "cell_type": "markdown",
   "metadata": {},
   "source": [
    "值得注意的是，當我們 array 維度 >= 2 的時候，我們的 NumPy indexing 會比較複雜\n",
    "\n",
    "我們可以使用 ` , ` 來分隔多個維度的 indexing\n",
    "\n",
    "```python\n",
    "arr[d1_start:d1_end , d2_start:d2_end]\n",
    "```"
   ]
  },
  {
   "cell_type": "code",
   "execution_count": 27,
   "metadata": {},
   "outputs": [
    {
     "data": {
      "text/plain": [
       "array([[ 0,  1,  2,  3],\n",
       "       [ 4,  5,  6,  7],\n",
       "       [ 8,  9, 10, 11],\n",
       "       [12, 13, 14, 15]])"
      ]
     },
     "execution_count": 27,
     "metadata": {},
     "output_type": "execute_result"
    }
   ],
   "source": [
    "a = np.arange(16).reshape(4, 4)\n",
    "a"
   ]
  },
  {
   "cell_type": "code",
   "execution_count": 28,
   "metadata": {},
   "outputs": [
    {
     "data": {
      "text/plain": [
       "array([[ 4,  5,  6,  7],\n",
       "       [ 8,  9, 10, 11]])"
      ]
     },
     "execution_count": 28,
     "metadata": {},
     "output_type": "execute_result"
    }
   ],
   "source": [
    "a[1:3]\n",
    "# 這樣只會取出 row 的資料"
   ]
  },
  {
   "cell_type": "code",
   "execution_count": 29,
   "metadata": {},
   "outputs": [
    {
     "data": {
      "text/plain": [
       "array([[0, 1, 2],\n",
       "       [4, 5, 6]])"
      ]
     },
     "execution_count": 29,
     "metadata": {},
     "output_type": "execute_result"
    }
   ],
   "source": [
    "a[0:2, 0:3]"
   ]
  },
  {
   "cell_type": "code",
   "execution_count": 30,
   "metadata": {},
   "outputs": [
    {
     "data": {
      "text/plain": [
       "array([[ 5,  6],\n",
       "       [ 9, 10]])"
      ]
     },
     "execution_count": 30,
     "metadata": {},
     "output_type": "execute_result"
    }
   ],
   "source": [
    "a[1:3, 1:3]"
   ]
  },
  {
   "cell_type": "markdown",
   "metadata": {},
   "source": [
    "如果我只想取出 column 的資料呢？\n",
    "\n",
    "我們可以在要「全部取出」的 dimension 使用 ` : ` 來代表省略"
   ]
  },
  {
   "cell_type": "code",
   "execution_count": 31,
   "metadata": {},
   "outputs": [
    {
     "data": {
      "text/plain": [
       "array([[ 1,  2],\n",
       "       [ 5,  6],\n",
       "       [ 9, 10],\n",
       "       [13, 14]])"
      ]
     },
     "execution_count": 31,
     "metadata": {},
     "output_type": "execute_result"
    }
   ],
   "source": [
    "a[:, 1:3]"
   ]
  },
  {
   "cell_type": "code",
   "execution_count": 32,
   "metadata": {},
   "outputs": [
    {
     "data": {
      "text/plain": [
       "array([[ 2,  3],\n",
       "       [ 6,  7],\n",
       "       [10, 11],\n",
       "       [14, 15]])"
      ]
     },
     "execution_count": 32,
     "metadata": {},
     "output_type": "execute_result"
    }
   ],
   "source": [
    "a[:, 2:4]"
   ]
  },
  {
   "cell_type": "markdown",
   "metadata": {},
   "source": [
    "### Lab練習\n",
    "\n",
    "請開啟一份新的 .ipynb 筆記檔案, 檔名為「L10.ipynb」，寫完上傳至網大.\n",
    "\n",
    "### 請利用 numpy 建立以下 array\n",
    "\n",
    "1. 建立一個 6x6 的矩陣，讓 1,2,3,4,5 落在對角線上，並取出部分 matrix hint:  \n",
    "**Hint: indexing + assign   or  np.diag**  \n",
    "\n",
    "    1. 先建立\n",
    "    ```python\n",
    "    [[1 0 0 0 0]\n",
    "     [0 2 0 0 0]\n",
    "     [0 0 3 0 0]\n",
    "     [0 0 0 4 0]\n",
    "     [0 0 0 0 5]]\n",
    "    ```\n",
    "    2. 再取出\n",
    "    ```python\n",
    "    [[0 3 0 0]\n",
    "     [0 0 4 0]\n",
    "     [0 0 0 5]]\n",
    "    ```\n",
    "2. 建立從 0 ~ pi * 2 的隨機 array，裡面包含 21 個元素，並對該陣列取 cos 或 sin\n",
    "    1. 建立矩陣隨機 array，下方為範例\n",
    "    ```python\n",
    "    [ 0.          0.31415927  0.62831853  0.9424778   1.25663706  1.57079633\n",
    "      1.88495559  2.19911486  2.51327412  2.82743339  3.14159265  3.45575192\n",
    "      3.76991118  4.08407045  4.39822972  4.71238898  5.02654825  5.34070751\n",
    "      5.65486678  5.96902604  6.28318531]\n",
    "    ```\n",
    "    2. 對 array 取 cos(or sin)，下方為範例\n",
    "    ```python\n",
    "    [  1.00000000e+00   9.51056516e-01   8.09016994e-01   5.87785252e-01\n",
    "       3.09016994e-01   6.12323400e-17  -3.09016994e-01  -5.87785252e-01\n",
    "      -8.09016994e-01  -9.51056516e-01  -1.00000000e+00  -9.51056516e-01\n",
    "      -8.09016994e-01  -5.87785252e-01  -3.09016994e-01  -1.83697020e-16\n",
    "       3.09016994e-01   5.87785252e-01   8.09016994e-01   9.51056516e-01\n",
    "       1.00000000e+00]\n",
    "    ```\n",
    "3. 請找一個 numpy 有關 數值運算、線性代數的函式，並附上至少兩個範例 code"
   ]
  },
  {
   "cell_type": "markdown",
   "metadata": {},
   "source": []
  }
 ],
 "metadata": {
  "interpreter": {
   "hash": "d72ea1df57038982b9a63a3d76ef8e2bcad40fc67ac17bcb0c02aaab5f66876d"
  },
  "kernelspec": {
   "display_name": "Python 3.8.12 ('base')",
   "language": "python",
   "name": "python3"
  },
  "language_info": {
   "codemirror_mode": {
    "name": "ipython",
    "version": 3
   },
   "file_extension": ".py",
   "mimetype": "text/x-python",
   "name": "python",
   "nbconvert_exporter": "python",
   "pygments_lexer": "ipython3",
   "version": "3.8.12"
  }
 },
 "nbformat": 4,
 "nbformat_minor": 4
}
