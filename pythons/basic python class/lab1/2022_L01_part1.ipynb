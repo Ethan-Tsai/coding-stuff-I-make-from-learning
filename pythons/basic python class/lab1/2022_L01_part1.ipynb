{
 "cells": [
  {
   "cell_type": "markdown",
   "metadata": {},
   "source": [
    "# MIS102 程式設計實習 - Lecture1"
   ]
  },
  {
   "cell_type": "markdown",
   "metadata": {},
   "source": [
    "## Jupyter notebook? Jupyterhub? Jupyterlab?\n",
    "> Jupyer Notebook（以前稱為IPython notebook） 是一個介於IDE(Pycharm, Spider)以及Editor(Sublime text, Atom, VScode, 記事本)之間的一個讓你可以寫code的工具。  \n",
    "> 利用直譯語言的特性，可以很容易的逐行執行並且做到資料視覺化，而且可輸出成 Html5嵌入到任何網頁或是Blog上，或是用notebook的形式分享。  \n",
    "> 由於容易分享，許多資料分析、機器學習的平台(ex: Kaggle)上面的討論都是以Jupyter notebook的形式出現，並且支援多種主流的直譯語言像是Python, R, Julia。  \n",
    "> 由於說明與程式碼混合的特性，也特別適合拿來教學。  \n",
    "\n",
    "| Jupyter notebook | Jupyterhub | Jupyterlab |\n",
    "|------------|---------------|------------|\n",
    "| Single User | Multi user | Newer Version |  \n",
    "\n",
    "詳細 markdown 語法可參考：https://markdown.tw/#philosophy"
   ]
  },
  {
   "cell_type": "markdown",
   "metadata": {},
   "source": [
    "## Hello World\n",
    "大家記得我們在 C 中**最初的感動**是什麼嗎?\n",
    "\n",
    "沒錯, 就是那行 Hello world\n",
    "\n",
    "打了數行的程式碼, 最終在黑框框列印出了一段字 `Hello world.`\n",
    "\n",
    "> Hello world\n",
    "\n",
    "```\n",
    "#include <stdio.h>\n",
    "\n",
    "int main(void) {\n",
    "  printf(\"Hello world.\\n\");\n",
    "  return(0);\n",
    "}\n",
    "```\n",
    "\n",
    "而在 Python 中, 要印出**最初的感動**其實很簡單\n",
    "\n",
    "就是以下一行程式碼而已"
   ]
  },
  {
   "cell_type": "code",
   "execution_count": 1,
   "metadata": {},
   "outputs": [
    {
     "name": "stdout",
     "output_type": "stream",
     "text": [
      "Hello world.\n"
     ]
    }
   ],
   "source": [
    "print('Hello world.')"
   ]
  },
  {
   "cell_type": "markdown",
   "metadata": {},
   "source": [
    "## 發現新天地 (´・ω・`)\n",
    "\n",
    "Q: 為什麼為什麼為什麼？？？？？\n",
    "- 因為 Python 是**直譯式程式語言**, 相較於 C 的**編譯式程式語言**特性\n",
    "> **直譯式程式語言** : 隨著你提供的程式碼傻傻的一行一行執行下來, 直到出錯才停止  \n",
    "> **編譯式程式語言** : 透過編譯器全盤式地檢查**語法**都無錯誤後才會讓你執行程式\n",
    ">\n",
    "> 因為編譯式語言會透過編譯器將程式碼轉為二進制語言，編譯器會優化程式碼, 在電腦上執行速度會比直譯式來的快很多，雖然直譯式語言提供了方便性, 效能很難跟上編譯式的語言，不過 Python 也是可以編譯成二進制語言的。\n",
    "\n",
    "Q: 助教說人話好嗎？\n",
    "- 簡而言之就是 Python 是個方便快速上手的程式語言 :)\n",
    "- 然後！比較容易找出 bug ~~~~~\n",
    "- 可以讓你睡多一點，省一點肝"
   ]
  },
  {
   "cell_type": "markdown",
   "metadata": {},
   "source": [
    "## 抓bug囉～\n",
    "\n",
    "- 以下 Python code 是一個執行到一半會壞掉的程式碼，你能一秒抓出bug嗎？\n",
    "``` python\n",
    "print('Is this okay?')\n",
    "print('If I want to print my name %s?' % ('SteveHsu'))\n",
    "print('What if I want to print my name %s in variable?' % (my_name))\n",
    "```\n",
    "\n",
    "\n",
    "Python 可以！"
   ]
  },
  {
   "cell_type": "code",
   "execution_count": 2,
   "metadata": {},
   "outputs": [
    {
     "name": "stdout",
     "output_type": "stream",
     "text": [
      "Is this okay?\n",
      "If I want to print my name SteveHsu?\n"
     ]
    },
    {
     "ename": "NameError",
     "evalue": "name 'my_name' is not defined",
     "output_type": "error",
     "traceback": [
      "\u001b[0;31m---------------------------------------------------------------------------\u001b[0m",
      "\u001b[0;31mNameError\u001b[0m                                 Traceback (most recent call last)",
      "\u001b[0;32m<ipython-input-2-d284441e5c55>\u001b[0m in \u001b[0;36m<module>\u001b[0;34m\u001b[0m\n\u001b[1;32m      1\u001b[0m \u001b[0mprint\u001b[0m\u001b[0;34m(\u001b[0m\u001b[0;34m'Is this okay?'\u001b[0m\u001b[0;34m)\u001b[0m\u001b[0;34m\u001b[0m\u001b[0;34m\u001b[0m\u001b[0m\n\u001b[1;32m      2\u001b[0m \u001b[0mprint\u001b[0m\u001b[0;34m(\u001b[0m\u001b[0;34m'If I want to print my name %s?'\u001b[0m \u001b[0;34m%\u001b[0m \u001b[0;34m(\u001b[0m\u001b[0;34m'SteveHsu'\u001b[0m\u001b[0;34m)\u001b[0m\u001b[0;34m)\u001b[0m\u001b[0;34m\u001b[0m\u001b[0;34m\u001b[0m\u001b[0m\n\u001b[0;32m----> 3\u001b[0;31m \u001b[0mprint\u001b[0m\u001b[0;34m(\u001b[0m\u001b[0;34m'What if I want to print my name %s in variable?'\u001b[0m \u001b[0;34m%\u001b[0m \u001b[0;34m(\u001b[0m\u001b[0mmy_name\u001b[0m\u001b[0;34m)\u001b[0m\u001b[0;34m)\u001b[0m\u001b[0;34m\u001b[0m\u001b[0;34m\u001b[0m\u001b[0m\n\u001b[0m",
      "\u001b[0;31mNameError\u001b[0m: name 'my_name' is not defined"
     ]
    }
   ],
   "source": [
    "print('Is this okay?')\n",
    "print('If I want to print my name %s?' % ('SteveHsu'))\n",
    "print('What if I want to print my name %s in variable?' % (my_name))"
   ]
  },
  {
   "cell_type": "markdown",
   "metadata": {},
   "source": [
    "仔細看看這個 Error  \n",
    "你會發現他給你非常多資訊\n",
    "- 出錯的種類 -> NameError\n",
    "- 出錯的行數 -> line3\n",
    "- 詳細錯誤內容 -> name 'my_name' is not defined\n",
    "\n",
    "因此我們可以診斷出，我們第三行的程式碼，my_name 變數沒有先宣告，因此呼叫他時出現了 NameError\n",
    "\n",
    "**很好懂對吧！**"
   ]
  },
  {
   "cell_type": "markdown",
   "metadata": {},
   "source": [
    "## 上課唄 _:(´□`」 ∠):_\n",
    "### Outline\n",
    "\n",
    "* [常數 Constants](#constants)\n",
    "* [變數 Variables](#variables)\n",
    "  * [變數命名規則 Variable name rules](#variable_name_ruels)\n",
    "  * [保留字 Resercved words](#reserved_words)\n",
    "* [Sentences or Lines](#sentences_or_lines)\n",
    "* [賦值敘述句 Assignment statements](#assignment_statements)\n",
    "* [數值表達 Numeric expressions](#numeric_expressions)\n",
    "  * [計算順序 Order of evaluation](#order_of_evaluation)\n",
    "  * [整數與浮點數混雜 Mixing integer and floating](#mixing_integer_and_floating)\n",
    "* [型別 Type](#type)\n",
    "* [使用者輸入 User input](#user_input)\n",
    "* [註解 Comments](#comments)\n",
    "* [字串運算 String operations](#string_operations)\n",
    "* [變數名稱 Variable names](#variable_names)"
   ]
  },
  {
   "cell_type": "markdown",
   "metadata": {},
   "source": [
    "<a href=\"constants\"></a>\n",
    "### 常數 Constants\n",
    "\n",
    "常數為一個固定的值，例如一個數字，字元或是字串。因為它的值無法做改變，所以我們都稱它為常數。\n",
    "\n",
    "可分為二類: \n",
    "\n",
    "1. 數值常數\n",
    "\n",
    "2. 字串常數\n",
    "\t* 字串常數被單引號(`'`)或是雙引號(`\"`)包圍\n",
    "\t* 還有一種多行字串('''你的字串''')，特殊狀況會用到"
   ]
  },
  {
   "cell_type": "code",
   "execution_count": 3,
   "metadata": {},
   "outputs": [
    {
     "name": "stdout",
     "output_type": "stream",
     "text": [
      "123\n",
      "9.83\n",
      "Hello world\n",
      "Hello world\n"
     ]
    }
   ],
   "source": [
    "print(123)  # numeric constant\n",
    "print(9.83) # numeric constant\n",
    "print('Hello world') # string constant\n",
    "print(\"Hello world\") # string constant"
   ]
  },
  {
   "cell_type": "markdown",
   "metadata": {},
   "source": [
    "<a href=\"variables\"></a>\n",
    "### 變數 Variables\n",
    "\n",
    "通常程式設計師會需要一個記憶體空間來存取資料, 為了方便存取那個記憶體空間, 我們會將它取一個名字. \n",
    "\n",
    "而這個記憶體空間就是這小節的主角: **變數**\n",
    "\n",
    "而在一個變數中, 我們可以隨意更改它記憶體空間中的值"
   ]
  },
  {
   "cell_type": "code",
   "execution_count": 4,
   "metadata": {},
   "outputs": [
    {
     "name": "stdout",
     "output_type": "stream",
     "text": [
      "100 15y\n"
     ]
    }
   ],
   "source": [
    "x = 12.2\n",
    "y = 14\n",
    "x = 100\n",
    "y = '15y'\n",
    "print(x, y)"
   ]
  },
  {
   "cell_type": "markdown",
   "metadata": {},
   "source": [
    "<a href=\"variable_name_rules\"></a>\n",
    "### 變數命名規則 Variable name rules\n",
    "\n",
    "1. 變數的名字必須從字母(letter)或是底線(underscore `_`)開始\n",
    "\n",
    "2. 只能包含字母, 數字跟底線\n",
    "\n",
    "3. 大小寫代表不同的變數\n",
    "\n",
    "4. Example\n",
    "\n",
    "```python\n",
    "spam  eggs  spam123  _speed  # Good variable names\n",
    "23spam  #sign  var.12  # Bad \n",
    "spam  Spam  SPAM  # Different\n",
    "```"
   ]
  },
  {
   "cell_type": "markdown",
   "metadata": {},
   "source": [
    "<a href=\"reserved_words\"></a>\n",
    "### 保留字 Reserved words\n",
    "\n",
    "Python 中有一些保留字, 你不能用這些保留字當作你變數的名字\n",
    "\n",
    "```python\n",
    "and del for is raise assert elif \n",
    "from lambda return break else \n",
    "global not try class except if \n",
    "or while continue exec import \n",
    "pass yield def finally in print as with\n",
    "```"
   ]
  },
  {
   "cell_type": "markdown",
   "metadata": {},
   "source": [
    "<a href=\"sentences_or_lines\"></a>\n",
    "### Sentences or lines\n",
    "\n",
    "```python\n",
    "x = 2        # 賦值敘述 Assignment statement\n",
    "x = x + 2    # 賦值敘述 ft.表達句 Assignment with expression\n",
    "print(x)     # 輸出敘述 Print statement\n",
    "\n",
    "# Variable: x\n",
    "# Operator: +\n",
    "# Constant: 2\n",
    "# Reserved word: print\n",
    "```"
   ]
  },
  {
   "cell_type": "markdown",
   "metadata": {},
   "source": [
    "<a href=\"assignment_statements\"></a>\n",
    "### 賦值敘述句 Assignment statements\n",
    "\n",
    "當我們想要指定一個值給一個變數時, 我們會用賦值敘述句 (`=`)\n",
    "\n",
    "在 `=` 的右邊放上表達式 expression, `=` 左邊放上變數 variable\n",
    "\n",
    "`variable = expression`\n",
    "\n",
    "當右側的 expression 被計算完後, 會把結果 assign 給左邊的變數"
   ]
  },
  {
   "cell_type": "code",
   "execution_count": 5,
   "metadata": {},
   "outputs": [
    {
     "name": "stdout",
     "output_type": "stream",
     "text": [
      "0.9359999999999999\n"
     ]
    }
   ],
   "source": [
    "x = 0.6\n",
    "x = 3.9 * x * (1 - x)\n",
    "print(x)"
   ]
  },
  {
   "cell_type": "markdown",
   "metadata": {},
   "source": [
    "<a href=\"numeric_expressions\"></a>\n",
    "### 數值表達 Numeric expressions\n",
    "\n",
    "| 運算子 | 動作 |\n",
    "| ----- | ---- |\n",
    "| + | 加 |\n",
    "| - | 減 |\n",
    "| * | 乘 |\n",
    "| / | 除 |\n",
    "| **| n次方 |\n",
    "| % | 餘 |"
   ]
  },
  {
   "cell_type": "code",
   "execution_count": 6,
   "metadata": {},
   "outputs": [
    {
     "name": "stdout",
     "output_type": "stream",
     "text": [
      "4\n"
     ]
    }
   ],
   "source": [
    "# + 的用法\n",
    "xx = 2\n",
    "xx = xx + 2\n",
    "print(xx)"
   ]
  },
  {
   "cell_type": "code",
   "execution_count": 7,
   "metadata": {},
   "outputs": [
    {
     "name": "stdout",
     "output_type": "stream",
     "text": [
      "5280\n"
     ]
    }
   ],
   "source": [
    "# * 的用法\n",
    "yy = 440 * 12\n",
    "print(yy)\n"
   ]
  },
  {
   "cell_type": "code",
   "execution_count": 8,
   "metadata": {},
   "outputs": [
    {
     "name": "stdout",
     "output_type": "stream",
     "text": [
      "5.28\n"
     ]
    }
   ],
   "source": [
    "# / 的用法\n",
    "zz = yy / 1000 #  / 一定會回傳 float，跟 C 不一樣喔，記得！！\n",
    "print(zz)"
   ]
  },
  {
   "cell_type": "code",
   "execution_count": 9,
   "metadata": {},
   "outputs": [
    {
     "name": "stdout",
     "output_type": "stream",
     "text": [
      "3\n"
     ]
    }
   ],
   "source": [
    "# % 的用法\n",
    "jj = 23\n",
    "kk = jj % 5\n",
    "print(kk)"
   ]
  },
  {
   "cell_type": "code",
   "execution_count": 10,
   "metadata": {},
   "outputs": [
    {
     "name": "stdout",
     "output_type": "stream",
     "text": [
      "64\n"
     ]
    }
   ],
   "source": [
    "# **的用法\n",
    "print(4**3)"
   ]
  },
  {
   "cell_type": "markdown",
   "metadata": {},
   "source": [
    "## 計算順序 Order of evaluation\n",
    "\n",
    "順序性為\n",
    "\n",
    "1. 括號 Parenthesis\n",
    "2. 指數 Exponentiation (power)\n",
    "3. 乘, 除, 餘\n",
    "4. 加, 減\n",
    "5. 由左至右"
   ]
  },
  {
   "cell_type": "code",
   "execution_count": 11,
   "metadata": {},
   "outputs": [
    {
     "name": "stdout",
     "output_type": "stream",
     "text": [
      "11.0\n"
     ]
    }
   ],
   "source": [
    "x = 1 + 2 ** 3 / 4 * 5\n",
    "print(x)"
   ]
  },
  {
   "cell_type": "markdown",
   "metadata": {},
   "source": [
    "<a href=\"mixing_integer_and_floating\"></a>\n",
    "### 整數與浮點數混雜 Mixing integer and floating\n",
    "\n",
    "當整數 integer 與浮點數 floating 混雜計算時, 整數會被轉為浮點數來作運算\n",
    "\n",
    "Note: float 位階高於 integer "
   ]
  },
  {
   "cell_type": "code",
   "execution_count": 12,
   "metadata": {},
   "outputs": [
    {
     "name": "stdout",
     "output_type": "stream",
     "text": [
      "0.99\n",
      "6\n",
      "6.6\n",
      "-5.0\n"
     ]
    }
   ],
   "source": [
    "print(99 / 100.0)\n",
    "print(2 * 3)\n",
    "print(2 * 3.3)\n",
    "print(1 + 2 * 3 / 4.0 - 5 - 2.5)"
   ]
  },
  {
   "cell_type": "markdown",
   "metadata": {},
   "source": [
    "<a href=\"type\"></a>\n",
    "### 型別 Type\n",
    "\n",
    "在 Python 中, 變數都有各自的型別 type.\n",
    "\n",
    "因為 Python 是高階語言, 所以它會自動偵測變數的型別, 而不像 C, 你必須事先宣告\n",
    "\n",
    "在 C 中\n",
    "```C\n",
    "int main(void) {\n",
    "    int i = 0;\n",
    "    char x[12] = \"Hello world\";\n",
    "    return(0)  \n",
    "}\n",
    "```\n",
    "\n",
    "在 Python 中\n",
    "```Python\n",
    "i = 0\n",
    "x = \"Hello world\"\n",
    "```\n",
    "\n",
    "Python 本身知道數值與字串的差別\n",
    "\n",
    "舉例來說, `+` 對於數字和字串會有不同的作用"
   ]
  },
  {
   "cell_type": "code",
   "execution_count": 13,
   "metadata": {},
   "outputs": [
    {
     "name": "stdout",
     "output_type": "stream",
     "text": [
      "4.5\n",
      "3.01.5\n"
     ]
    },
    {
     "ename": "TypeError",
     "evalue": "unsupported operand type(s) for +: 'float' and 'str'",
     "output_type": "error",
     "traceback": [
      "\u001b[0;31m---------------------------------------------------------------------------\u001b[0m",
      "\u001b[0;31mTypeError\u001b[0m                                 Traceback (most recent call last)",
      "\u001b[0;32m<ipython-input-13-fa461fedf871>\u001b[0m in \u001b[0;36m<module>\u001b[0;34m\u001b[0m\n\u001b[1;32m      1\u001b[0m \u001b[0mprint\u001b[0m\u001b[0;34m(\u001b[0m\u001b[0;36m3.0\u001b[0m \u001b[0;34m+\u001b[0m \u001b[0;36m1.5\u001b[0m\u001b[0;34m)\u001b[0m\u001b[0;34m\u001b[0m\u001b[0;34m\u001b[0m\u001b[0m\n\u001b[1;32m      2\u001b[0m \u001b[0mprint\u001b[0m\u001b[0;34m(\u001b[0m\u001b[0;34m'3.0'\u001b[0m \u001b[0;34m+\u001b[0m \u001b[0;34m'1.5'\u001b[0m\u001b[0;34m)\u001b[0m\u001b[0;34m\u001b[0m\u001b[0;34m\u001b[0m\u001b[0m\n\u001b[0;32m----> 3\u001b[0;31m \u001b[0mprint\u001b[0m\u001b[0;34m(\u001b[0m\u001b[0;36m3.0\u001b[0m \u001b[0;34m+\u001b[0m \u001b[0;34m'1.5'\u001b[0m\u001b[0;34m)\u001b[0m\u001b[0;34m\u001b[0m\u001b[0;34m\u001b[0m\u001b[0m\n\u001b[0m",
      "\u001b[0;31mTypeError\u001b[0m: unsupported operand type(s) for +: 'float' and 'str'"
     ]
    }
   ],
   "source": [
    "print(3.0 + 1.5)\n",
    "print('3.0' + '1.5')\n",
    "print(3.0 + '1.5')"
   ]
  },
  {
   "cell_type": "markdown",
   "metadata": {},
   "source": [
    "在 `+` 的方面, 數字與字串無法混用\n",
    "\n",
    "如果你想知道你的變數目前是什麼型別, 你可以用 function `type()`"
   ]
  },
  {
   "cell_type": "code",
   "execution_count": 14,
   "metadata": {},
   "outputs": [
    {
     "name": "stdout",
     "output_type": "stream",
     "text": [
      "<class 'int'>\n",
      "<class 'float'>\n",
      "<class 'int'>\n",
      "<class 'float'>\n",
      "<class 'str'>\n"
     ]
    }
   ],
   "source": [
    "xx = 1\n",
    "print(type(xx))\n",
    "temp = 98.6\n",
    "print(type(temp))\n",
    "print(type(1))\n",
    "print(type(1.0))\n",
    "print(type('1.0'))"
   ]
  },
  {
   "cell_type": "markdown",
   "metadata": {},
   "source": [
    "型別之間有點彈性, 所以其實是可以作轉換的"
   ]
  },
  {
   "cell_type": "code",
   "execution_count": 15,
   "metadata": {},
   "outputs": [
    {
     "name": "stdout",
     "output_type": "stream",
     "text": [
      "6\n",
      "6.0\n",
      "<class 'int'>\n",
      "42.0\n",
      "<class 'float'>\n",
      "0.0\n"
     ]
    }
   ],
   "source": [
    "print(3 * 2)\n",
    "print(float(3) * 2)\n",
    "\n",
    "i = 42\n",
    "print(type(i))\n",
    "f = float(i)\n",
    "print(f)\n",
    "print(type(f))\n",
    "\n",
    "print(1 + 2 * float(3) / 4 - 2.5)"
   ]
  },
  {
   "cell_type": "markdown",
   "metadata": {},
   "source": [
    "所以如果你想把數值變數跟字串變數用 + 連接起來, 也不是辦不到\n",
    "\n",
    "只是你必須先將數值變數轉為字串型別\n",
    "\n",
    "<p color=\"red\">但是這個很醜，不推薦</p>\n",
    "\n",
    "後面會教怎麼把他包進去"
   ]
  },
  {
   "cell_type": "code",
   "execution_count": 16,
   "metadata": {},
   "outputs": [
    {
     "data": {
      "text/plain": [
       "'There are 24hour in one day.'"
      ]
     },
     "execution_count": 16,
     "metadata": {},
     "output_type": "execute_result"
    }
   ],
   "source": [
    "\"There are \" + str(24) + \"hour in one day.\""
   ]
  },
  {
   "cell_type": "markdown",
   "metadata": {},
   "source": [
    "字串變數也能轉成數值變數, 不過你得注意字串變數的內容是否都為數字"
   ]
  },
  {
   "cell_type": "code",
   "execution_count": 17,
   "metadata": {},
   "outputs": [
    {
     "name": "stdout",
     "output_type": "stream",
     "text": [
      "246\n",
      "246.2\n"
     ]
    }
   ],
   "source": [
    "sval = \"123\"\n",
    "print( int(sval) * 2)\n",
    "\n",
    "sval = \"123.1\"\n",
    "print( float(sval) * 2) "
   ]
  },
  {
   "cell_type": "markdown",
   "metadata": {},
   "source": [
    "！！！你各位注意！！！  \n",
    "！！！以下為各位示範幾種錯誤運用！！！"
   ]
  },
  {
   "cell_type": "code",
   "execution_count": 18,
   "metadata": {},
   "outputs": [
    {
     "ename": "ValueError",
     "evalue": "invalid literal for int() with base 10: '123.1'",
     "output_type": "error",
     "traceback": [
      "\u001b[0;31m---------------------------------------------------------------------------\u001b[0m",
      "\u001b[0;31mValueError\u001b[0m                                Traceback (most recent call last)",
      "\u001b[0;32m<ipython-input-18-e4eb6df7f179>\u001b[0m in \u001b[0;36m<module>\u001b[0;34m\u001b[0m\n\u001b[0;32m----> 1\u001b[0;31m \u001b[0mprint\u001b[0m\u001b[0;34m(\u001b[0m \u001b[0mint\u001b[0m\u001b[0;34m(\u001b[0m\u001b[0msval\u001b[0m\u001b[0;34m)\u001b[0m \u001b[0;34m*\u001b[0m \u001b[0;36m2\u001b[0m\u001b[0;34m)\u001b[0m \u001b[0;31m# 錯誤的轉變型態\u001b[0m\u001b[0;34m\u001b[0m\u001b[0;34m\u001b[0m\u001b[0m\n\u001b[0m",
      "\u001b[0;31mValueError\u001b[0m: invalid literal for int() with base 10: '123.1'"
     ]
    }
   ],
   "source": [
    "print( int(sval) * 2) # 錯誤的轉變型態"
   ]
  },
  {
   "cell_type": "code",
   "execution_count": 19,
   "metadata": {},
   "outputs": [
    {
     "ename": "ValueError",
     "evalue": "invalid literal for int() with base 10: '123y'",
     "output_type": "error",
     "traceback": [
      "\u001b[0;31m---------------------------------------------------------------------------\u001b[0m",
      "\u001b[0;31mValueError\u001b[0m                                Traceback (most recent call last)",
      "\u001b[0;32m<ipython-input-19-735579bd864a>\u001b[0m in \u001b[0;36m<module>\u001b[0;34m\u001b[0m\n\u001b[1;32m      1\u001b[0m \u001b[0mnsval\u001b[0m \u001b[0;34m=\u001b[0m \u001b[0;34m\"123y\"\u001b[0m    \u001b[0;31m# 包含非數值的內容\u001b[0m\u001b[0;34m\u001b[0m\u001b[0;34m\u001b[0m\u001b[0m\n\u001b[0;32m----> 2\u001b[0;31m \u001b[0mprint\u001b[0m\u001b[0;34m(\u001b[0m \u001b[0mint\u001b[0m\u001b[0;34m(\u001b[0m\u001b[0mnsval\u001b[0m\u001b[0;34m)\u001b[0m \u001b[0;34m*\u001b[0m \u001b[0;36m2\u001b[0m\u001b[0;34m)\u001b[0m\u001b[0;34m\u001b[0m\u001b[0;34m\u001b[0m\u001b[0m\n\u001b[0m",
      "\u001b[0;31mValueError\u001b[0m: invalid literal for int() with base 10: '123y'"
     ]
    }
   ],
   "source": [
    "nsval = \"123y\"    # 包含非數值的內容\n",
    "print( int(nsval) * 2)"
   ]
  },
  {
   "cell_type": "code",
   "execution_count": 20,
   "metadata": {},
   "outputs": [
    {
     "ename": "ValueError",
     "evalue": "invalid literal for int() with base 10: '123.1.1'",
     "output_type": "error",
     "traceback": [
      "\u001b[0;31m---------------------------------------------------------------------------\u001b[0m",
      "\u001b[0;31mValueError\u001b[0m                                Traceback (most recent call last)",
      "\u001b[0;32m<ipython-input-20-cfb31abad54a>\u001b[0m in \u001b[0;36m<module>\u001b[0;34m\u001b[0m\n\u001b[1;32m      1\u001b[0m \u001b[0mnsval\u001b[0m \u001b[0;34m=\u001b[0m \u001b[0;34m\"123.1.1\"\u001b[0m \u001b[0;31m# 錯誤的格式\u001b[0m\u001b[0;34m\u001b[0m\u001b[0;34m\u001b[0m\u001b[0m\n\u001b[0;32m----> 2\u001b[0;31m \u001b[0mprint\u001b[0m\u001b[0;34m(\u001b[0m \u001b[0mint\u001b[0m\u001b[0;34m(\u001b[0m\u001b[0mnsval\u001b[0m\u001b[0;34m)\u001b[0m \u001b[0;34m*\u001b[0m \u001b[0;36m2\u001b[0m\u001b[0;34m)\u001b[0m\u001b[0;34m\u001b[0m\u001b[0;34m\u001b[0m\u001b[0m\n\u001b[0m",
      "\u001b[0;31mValueError\u001b[0m: invalid literal for int() with base 10: '123.1.1'"
     ]
    }
   ],
   "source": [
    "nsval = \"123.1.1\" # 錯誤的格式\n",
    "print( int(nsval) * 2)"
   ]
  },
  {
   "cell_type": "markdown",
   "metadata": {},
   "source": [
    "### 使用者輸入 User input\n",
    "\n",
    "如果你想要從使用者手中讀取一個數字, 我們變需要 input 函式來為我們讀取使用者輸入的字串, 再將字串轉成數字型態\n",
    "\n",
    "之後我們會提到如何對使用者輸入的資訊做防呆保護, 以免獲得的資訊並不是我們想要的"
   ]
  },
  {
   "cell_type": "code",
   "execution_count": 21,
   "metadata": {},
   "outputs": [
    {
     "name": "stdout",
     "output_type": "stream",
     "text": [
      "Europe floor? 5\n"
     ]
    },
    {
     "name": "stdout",
     "output_type": "stream",
     "text": [
      "US floor 6\n"
     ]
    }
   ],
   "source": [
    "inp = input('Europe floor?')\n",
    "usf = int(inp) + 1\n",
    "print('US floor', usf)"
   ]
  },
  {
   "cell_type": "markdown",
   "metadata": {},
   "source": [
    "<a href=\"comments\"></a>\n",
    "### 註解 Comments\n",
    "\n",
    "在 Python 程式碼中, 只要在 `#` 後面的都是註解\n",
    "\n",
    "```python\n",
    "# Comment one\n",
    "print(\"Hello world\") # Comment two\n",
    "# print(\"No show) Comment three\n",
    "```\n",
    "\n",
    "> 在 VScode, Atom or Jupyter 這些現代的 editor 中  \n",
    "> 你可以使用快捷鍵 `Ctrl + /` 或 `Cmd + /` 來快速註解（或取消註解）  \n",
    "> 而且可以一次註解多行，非常非常非常方便，希望大家都會  \n",
    "\n",
    "插入註解很重要, 當你與其他人共同開發程式, 甚至是自己維護一個小專案時\n",
    "\n",
    "你總需要了解別人的想法（或是過去的自己那神奇的想法）\n",
    "\n",
    "在程式碼中插入適當的註解, 告訴別人這段程式碼存在的意義也是一件很有意義的事情唷\n",
    "\n",
    "除了在說明程式碼的存在意義以外, 也可以拿來暫時關閉某段程式碼, 方便我們除錯 debug\n",
    "\n",
    "以下是一段程式碼, 雖然 for, if 的語法還沒告訴你們,\n",
    "\n",
    "但你們仍然可以透過註解來了解部分程式碼執行的目的."
   ]
  },
  {
   "cell_type": "code",
   "execution_count": null,
   "metadata": {},
   "outputs": [],
   "source": [
    " # Get the name of the file and open it\n",
    "name = input('Enter file:')\n",
    "handle = open(name, 'r')\n",
    "text = handle.read()\n",
    "words = text.split()\n",
    "\n",
    "# Count word frequency\n",
    "counts = dict()\n",
    "for word in words:\n",
    "   counts[word] = counts.get(word,0) + 1\n",
    "\n",
    "# Find the most common word\n",
    "bigcount = None\n",
    "bigword = None\n",
    "for word,count in counts.items():\n",
    "    if bigcount is None or count > bigcount:\n",
    "        bigword = word\n",
    "        bigcount = count\n",
    "        \n",
    "# All done\n",
    "print(bigword, bigcount)"
   ]
  },
  {
   "cell_type": "markdown",
   "metadata": {},
   "source": [
    "<a href=\"string_operations\"></a>\n",
    "### 字串運算 String operations\n",
    "\n",
    "有些在運算元 operators 能夠應用到字串上, 如\n",
    "\n",
    "* `+` 用來連接字串\n",
    "* `*` 用來重複字串"
   ]
  },
  {
   "cell_type": "code",
   "execution_count": 23,
   "metadata": {},
   "outputs": [
    {
     "name": "stdout",
     "output_type": "stream",
     "text": [
      "Jupyter notebook\n",
      "今年幾倍今年幾倍今年幾倍今年幾倍今年幾倍\n"
     ]
    }
   ],
   "source": [
    "print('Jup' + 'yter' + ' note' + 'book')\n",
    "print('今年幾倍' * 5)"
   ]
  },
  {
   "cell_type": "markdown",
   "metadata": {},
   "source": [
    "<a href=\"variable_names\"></a>\n",
    "### 變數名稱 Variable names\n",
    "\n",
    "身為程式設計師, 我們要為我們的程式碼負責, 變數名稱也是其中一個重要的要項\n",
    "\n",
    "幫每個變數找到最適切的名字變成我們的工作, 在很多時候, 程式設計師總帶著英文詞典\n",
    "\n",
    "試著幫你的變數找一個好記憶, 富涵義的名稱很重要\n",
    "\n",
    "思考以下例子\n",
    "\n",
    "Example 1.\n",
    "```python\n",
    "x1q3z9ocd = 35.0\n",
    "x1q3z9afd = 12.50\n",
    "x1q3p9afd = x1q3z9ocd * x1q3z9afd\n",
    "print(x1q3p9afd)\n",
    "```\n",
    "\n",
    "你覺得例子1看起來如何？順眼嗎？你能否從程式碼知道例子1在做什麼**有意義**的事情？\n",
    "\n",
    "再思考以下例子\n",
    "\n",
    "Example 2.\n",
    "```python\n",
    "a = 35.0\n",
    "b = 12.50\n",
    "c = a * b\n",
    "print(c)\n",
    "```\n",
    "再看看最後這個例子\n",
    "\n",
    "Example 3.\n",
    "```python\n",
    "hours = 35.0\n",
    "rate = 12.50\n",
    "pay = hours * rate\n",
    "print(pay)\n",
    "```\n",
    "\n",
    "看到例子3, 你終於參透這段程式碼是在計算慣老闆有沒有給滿員工 24k 薪水了\n",
    "\n",
    "一切都因為變數名稱而明朗起來, 這就是**取適當變數名稱**的魔力\n",
    "\n",
    "現在交給你了, 請好好控制它！"
   ]
  },
  {
   "cell_type": "markdown",
   "metadata": {},
   "source": [
    "### 練習時間\n",
    "Question:  \n",
    "**Write a program to introduce user by their type.**\n",
    "\n",
    "- Step 1: Please let user enter their name,birth year,weight and height.\n",
    "\n",
    "- Step 2: Print a title \"This is my first practice in python class.\"\n",
    "\n",
    "- Step 3: Print your name with user input.\n",
    "\n",
    "- Step 4: Print your age with user input.\n",
    "\n",
    "- Step 5: Print User BMI \n",
    "\n",
    "Bonus.  \n",
    "Please calculate how many chars are in the Question string. \n",
    "\n",
    "Example output:\n",
    "```\n",
    "Enter your name...shaomin\n",
    "Enter your birth year...1996\n",
    "Enter your weight in kg...80\n",
    "Enter your height in m...1.89\n",
    "This is my first practice in python class.\n",
    "My name is shaomin.\n",
    "I am 23 years old.\n",
    "My BMI number is 22.395789591556788\n",
    "Title has 42 units long.\n",
    "```"
   ]
  },
  {
   "cell_type": "code",
   "execution_count": 2,
   "metadata": {},
   "outputs": [
    {
     "name": "stdout",
     "output_type": "stream",
     "text": [
      "This is my first practice in python class.\n",
      "My name is hi.I am 24 years old.\n",
      "My BMI number is 22.22222222222222.\n"
     ]
    }
   ],
   "source": [
    "name = input('Enter your name...')\n",
    "birth = int(input('Enter your birth year...'))\n",
    "weight = int(input('Enter your weight in kg...'))\n",
    "height = float(input('Enter your height in m...'))\n",
    "\n",
    "print(f'This is my first practice in python class.\\n\\\n",
    "        My name is {name}.\\n\\\n",
    "        I am {2022- birth} years old.\\n\\\n",
    "        My BMI number is {weight / height ** 2}.'\n",
    "      )\n"
   ]
  },
  {
   "cell_type": "markdown",
   "metadata": {},
   "source": [
    "## Reference\n",
    "- [工商 Jupyter 介紹](https://www.smalldragon.tw/how-to-python-jupyter/)\n",
    "\n",
    "- [Jupyter Notebook介紹](https://medium.com/jameslearningnote/資料分析-機器學習-第1-2講-jupyter-notebook介紹-705f023e3720)\n",
    "\n",
    "- [Jupyter 名稱相關介紹](https://zh.wikipedia.org/wiki/Jupyter项目)"
   ]
  }
 ],
 "metadata": {
  "kernelspec": {
   "display_name": "Python 3",
   "language": "python",
   "name": "python3"
  },
  "language_info": {
   "codemirror_mode": {
    "name": "ipython",
    "version": 3
   },
   "file_extension": ".py",
   "mimetype": "text/x-python",
   "name": "python",
   "nbconvert_exporter": "python",
   "pygments_lexer": "ipython3",
   "version": "3.9.7"
  }
 },
 "nbformat": 4,
 "nbformat_minor": 4
}
