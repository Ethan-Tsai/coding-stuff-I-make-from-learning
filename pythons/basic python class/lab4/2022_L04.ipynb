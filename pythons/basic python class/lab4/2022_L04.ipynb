{
 "cells": [
  {
   "cell_type": "markdown",
   "metadata": {},
   "source": [
    "# MIS132 程式設計實習 - Lecture04 list"
   ]
  },
  {
   "cell_type": "markdown",
   "metadata": {},
   "source": [
    "### Outline this week\n",
    "\n",
    "* List\n",
    "  - 建立與修改 create and matipulate\n",
    "  - 索引 indexing\n",
    "  - list 自帶 function\n",
    "* Lab 練習\n",
    "\n",
    "----"
   ]
  },
  {
   "cell_type": "markdown",
   "metadata": {},
   "source": [
    "## List\n",
    "\n",
    "Q. List 是啥？list 與以前說過的變數型態(e.g. int, float, str)有何差別？\n",
    "\n",
    "A. 在 Python 中，list 也是一種變數型態, 拿來**收集(collect)多個值**\b\n",
    "> ex. 假設今天要列出助教們，決定給每個助教一個代號，方便後面call助教出來用。\n",
    "```python\n",
    "TA_A = 'steven'\n",
    "TA_B = 'chantung'\n",
    "TA_C = 'zackary'\n",
    "TA_D = 'lailai'\n",
    "TA_E = 'louis'\n",
    "```\n",
    ">\n",
    "> 阿如果是要記錄學生，編號 A - Z 都不夠用"
   ]
  },
  {
   "cell_type": "markdown",
   "metadata": {},
   "source": [
    "### 建立與修改\n",
    "\n",
    "這裡就很適合使用 list 來儲存所有的助教資料\n",
    "\n",
    "宣告 list 的方式是以**中括號(square brackets)**來包住多個值, 裡面每個值以**逗號(comma)**來區分開來\n",
    "\n",
    "Note: Python 的括號中允許你換行（其他時候不行），例如這邊建一個 list 可以讓你換行換到開心\n"
   ]
  },
  {
   "cell_type": "code",
   "execution_count": 2,
   "metadata": {},
   "outputs": [
    {
     "name": "stdout",
     "output_type": "stream",
     "text": [
      "[1, 3, 5, 11, 100]\n",
      "['steven', 'chantung', 'zackary', 'lailai', 'louis']\n",
      "<class 'list'>\n"
     ]
    }
   ],
   "source": [
    "nums = [1, 3, 5, 11, 100]\n",
    "TAs = ['steven', 'chantung', 'zackary', 'lailai', 'louis']\n",
    "\n",
    "big_list = [\n",
    "    2147483648,\n",
    "    3.141592475934,\n",
    "    'something is very big so sentence is way too long', # 最後面的逗號可加可不加，建議可以加\n",
    "]\n",
    "\n",
    "print(nums)\n",
    "print(TAs)\n",
    "print(big_list)\n",
    "print(type(nums))"
   ]
  },
  {
   "cell_type": "markdown",
   "metadata": {},
   "source": [
    "- list 裡的每個元素(element) 可以是任何 python 的物件, 甚至是另外一個 list\n",
    "\n",
    "- 而 list 也可以是空的唷"
   ]
  },
  {
   "cell_type": "code",
   "execution_count": 17,
   "metadata": {},
   "outputs": [
    {
     "name": "stdout",
     "output_type": "stream",
     "text": [
      "[1, 3.14, ['steven', 'chantung', 'zackary', 'lailai', 'louis'], [5, 6], 7, 'yoyo', <built-in function print>]\n",
      "[]\n"
     ]
    }
   ],
   "source": [
    "print([1, 3.14, TAs, [5, 6], 7, 'yoyo', print])\n",
    "print([])"
   ]
  },
  {
   "cell_type": "markdown",
   "metadata": {},
   "source": [
    "如同我們在 C 中操作陣列(array)。 Python中我們可以用中括號搭配數字索引來取得第 i 個 list 的元素\n",
    "\n",
    "這個我們在後續的 indexing 環節會談的更詳細\n",
    "\n",
    "Note：list 使用數字索引的方式取得元素，**數字是從 0 開始**。"
   ]
  },
  {
   "cell_type": "code",
   "execution_count": 18,
   "metadata": {},
   "outputs": [
    {
     "name": "stdout",
     "output_type": "stream",
     "text": [
      "chantung\n"
     ]
    }
   ],
   "source": [
    "print(TAs[1])"
   ]
  },
  {
   "cell_type": "markdown",
   "metadata": {},
   "source": [
    "#### 陣列維護\n",
    "\n",
    "Q. list 建好了以後，可以改變內容ㄇ？\n",
    "\n",
    "A. 在 python 中\n",
    "\n",
    "使用 `Array.append(元素)`（Array 要換成實際 list 變數的名稱），可以加入元素到**最後面**\n",
    "\n",
    "不同於 string 型態, list 型態是**可以**修改、更動內容的！"
   ]
  },
  {
   "cell_type": "code",
   "execution_count": 7,
   "metadata": {},
   "outputs": [
    {
     "name": "stdout",
     "output_type": "stream",
     "text": [
      "hello world\n"
     ]
    },
    {
     "ename": "TypeError",
     "evalue": "'str' object does not support item assignment",
     "output_type": "error",
     "traceback": [
      "\u001b[1;31m---------------------------------------------------------------------------\u001b[0m",
      "\u001b[1;31mTypeError\u001b[0m                                 Traceback (most recent call last)",
      "\u001b[1;32mc:\\Users\\eddie\\OneDrive\\文档\\GitHub\\coding-stuff-I-make-from-learning\\pythons\\lab4\\2022_L04.ipynb Cell 11'\u001b[0m in \u001b[0;36m<cell line: 3>\u001b[1;34m()\u001b[0m\n\u001b[0;32m      <a href='vscode-notebook-cell:/c%3A/Users/eddie/OneDrive/%E6%96%87%E6%A1%A3/GitHub/coding-stuff-I-make-from-learning/pythons/lab4/2022_L04.ipynb#ch0000010?line=0'>1</a>\u001b[0m str1 \u001b[39m=\u001b[39m \u001b[39m'\u001b[39m\u001b[39mhello world\u001b[39m\u001b[39m'\u001b[39m\n\u001b[0;32m      <a href='vscode-notebook-cell:/c%3A/Users/eddie/OneDrive/%E6%96%87%E6%A1%A3/GitHub/coding-stuff-I-make-from-learning/pythons/lab4/2022_L04.ipynb#ch0000010?line=1'>2</a>\u001b[0m \u001b[39mprint\u001b[39m(str1)\n\u001b[1;32m----> <a href='vscode-notebook-cell:/c%3A/Users/eddie/OneDrive/%E6%96%87%E6%A1%A3/GitHub/coding-stuff-I-make-from-learning/pythons/lab4/2022_L04.ipynb#ch0000010?line=2'>3</a>\u001b[0m str1[\u001b[39m0\u001b[39m] \u001b[39m=\u001b[39m \u001b[39m'\u001b[39m\u001b[39mn\u001b[39m\u001b[39m'\u001b[39m\n\u001b[0;32m      <a href='vscode-notebook-cell:/c%3A/Users/eddie/OneDrive/%E6%96%87%E6%A1%A3/GitHub/coding-stuff-I-make-from-learning/pythons/lab4/2022_L04.ipynb#ch0000010?line=3'>4</a>\u001b[0m \u001b[39mprint\u001b[39m(str1)\n",
      "\u001b[1;31mTypeError\u001b[0m: 'str' object does not support item assignment"
     ]
    }
   ],
   "source": [
    "str1 = 'hello world'\n",
    "print(str1)\n",
    "str1[0] = 'n'\n",
    "print(str1)"
   ]
  },
  {
   "cell_type": "code",
   "execution_count": 20,
   "metadata": {},
   "outputs": [
    {
     "name": "stdout",
     "output_type": "stream",
     "text": [
      "['Ferris wheel', 'Disneyland', 'F1']\n",
      "['Ferris wheel', 'Disneyland', 'F1', 'iphone']\n",
      "['Ferris wheel', '', 'F1', 'iphone']\n"
     ]
    }
   ],
   "source": [
    "politics = ['Ferris wheel','Disneyland', 'F1']\n",
    "print(politics)\n",
    "\n",
    "politics.append('iphone')\n",
    "print(politics)\n",
    "\n",
    "politics[1] = ''\n",
    "print(politics)"
   ]
  },
  {
   "cell_type": "markdown",
   "metadata": {},
   "source": [
    "### 索引 Indexing"
   ]
  },
  {
   "cell_type": "markdown",
   "metadata": {},
   "source": [
    ">上次的上課其實我們就用過list了\n",
    "```python\n",
    "for i in [5, 4, 3, 2, 1]:\n",
    "    print(i)\n",
    "print(\"End!\")\n",
    "```\n",
    "\n",
    "- python 很常運用 list 與迴圈的搭配\n",
    "\n",
    "如果你在使用 C 語言的陣列，你想要取出所有元素要怎麼\b弄呢\n",
    "\n",
    "如果你是 C 語言大師，你應該很快就能想到，我們可以用 index 變數"
   ]
  },
  {
   "cell_type": "code",
   "execution_count": 8,
   "metadata": {},
   "outputs": [
    {
     "name": "stdout",
     "output_type": "stream",
     "text": [
      "Have a good days, steven\n",
      "Have a good days, chantung\n",
      "Have a good days, zackary\n",
      "Have a good days, lailai\n",
      "Have a good days, louis\n"
     ]
    }
   ],
   "source": [
    "for i in range(0, len(TAs)):\n",
    "    TA = TAs[i]\n",
    "    print(f'Have a good days, {TA}')"
   ]
  },
  {
   "cell_type": "markdown",
   "metadata": {},
   "source": [
    "在 Python 中這樣也是沒有錯，不過有更簡潔的寫法\n",
    "\n",
    "因為我們的 i 是多餘的，range 的邊界也是整個 list 跑一遍（最普通的 case），所以我們可以搭配 in 關鍵字，來依次取出元素，然後放到我們要的關鍵字中\n",
    "\n",
    "Note: 他會**取出元素**，並且每次**建立一個變數是你給定的名字**\n",
    "\n",
    "```python\n",
    "for 元素變數 in 陣列:\n",
    "    print(元素變數)\n",
    "    # 元素變數會依次取出 陣列[0] 陣列[1] ...\n",
    "```"
   ]
  },
  {
   "cell_type": "code",
   "execution_count": 26,
   "metadata": {},
   "outputs": [
    {
     "name": "stdout",
     "output_type": "stream",
     "text": [
      "Have a good days, steven\n",
      "Have a good days, chantung\n",
      "Have a good days, zackary\n",
      "Have a good days, lailai\n",
      "Have a good days, louis\n",
      "Done!\n"
     ]
    }
   ],
   "source": [
    "for TA in TAs:\n",
    "    print(f'Have a good days, {TA}')\n",
    "print('Done!')"
   ]
  },
  {
   "cell_type": "markdown",
   "metadata": {},
   "source": [
    "有沒有覺得很簡單，而且乾淨俐落呢！"
   ]
  },
  {
   "cell_type": "markdown",
   "metadata": {},
   "source": [
    "Note: 這裡的 print() 裡面的 `f''` 的用途是我們可以在要印出的字串中加入變數跟表達式，讓輸出的格式更豐富，詳細可以參考 [python 輸出和輸入](https://docs.python.org/zh-tw/3.6/tutorial/inputoutput.html)"
   ]
  },
  {
   "cell_type": "markdown",
   "metadata": {},
   "source": [
    "如果要更進階地取出元素，我們就需要 indexing，indexing 是存取陣列的方法，基本的格式是\n",
    "\n",
    "```python\n",
    "陣列 [ 索引 ]\n",
    "```\n",
    "\n",
    "索引有很多格式可以存取陣列，用法和效果與之前學的 `range` 非常像"
   ]
  },
  {
   "cell_type": "markdown",
   "metadata": {},
   "source": [
    "1. 數字取出單個元素\n",
    "\n",
    "放入**單個數字**可以取出裡面的元素\n",
    "\n",
    "index 從 0 開始記得嗎？你也可放入負數，他會從後面取出元素，例如 `-1` 就代表「從後面取出第一個元素」"
   ]
  },
  {
   "cell_type": "code",
   "execution_count": 29,
   "metadata": {},
   "outputs": [
    {
     "name": "stdout",
     "output_type": "stream",
     "text": [
      "1\n",
      "5\n",
      "9\n",
      "3\n"
     ]
    }
   ],
   "source": [
    "nums = [1, 3, 5, 7, 9]\n",
    "\n",
    "print(nums[0]) # 1\n",
    "print(nums[2]) # 5\n",
    "print(nums[-1]) # 9 從後面取出第一個\n",
    "print(nums[-4]) # 3 從後面取出第四個"
   ]
  },
  {
   "cell_type": "markdown",
   "metadata": {},
   "source": [
    "2. 取出一個範圍的陣列\n",
    "\n",
    "我們可以使用兩個數字來取出其中一段的 list，語法為\n",
    "\n",
    "```python\n",
    "陣列 [ 起始 index : 結束 index ]\n",
    "```\n",
    "\n",
    "**注意！**，他會回傳的是**一整個陣列**，而且只會取到**小於但不等於結束 index**的範圍"
   ]
  },
  {
   "cell_type": "code",
   "execution_count": 32,
   "metadata": {},
   "outputs": [
    {
     "name": "stdout",
     "output_type": "stream",
     "text": [
      "['a', 'b', 'c', 'd']\n",
      "['e', 'f', 'g']\n",
      "['b', 'c', 'd', 'e', 'f']\n"
     ]
    }
   ],
   "source": [
    "chars = ['a', 'b', 'c', 'd', 'e', 'f', 'g', 'h']\n",
    "\n",
    "print(chars[0:4])\n",
    "print(chars[4:7]) # 不包含最後一個 'h'\n",
    "print(chars[1:-2]) # 也可以反過來\n"
   ]
  },
  {
   "cell_type": "markdown",
   "metadata": {},
   "source": [
    "還行嗎，我們還有最後一個方法\n",
    "\n",
    "3. 加入 step，跳過部分元素\n",
    "\n",
    "可以加入第三個數字代表 step 步數，每次跳過一定的元素\n",
    "\n",
    "```python\n",
    "陣列 [ 起始 index : 結束 index : 步數 step ]\n",
    "```"
   ]
  },
  {
   "cell_type": "code",
   "execution_count": 40,
   "metadata": {},
   "outputs": [
    {
     "name": "stdout",
     "output_type": "stream",
     "text": [
      "all [1, 3, 5, 7, 9, 11, 13, 15, 17]\n",
      "[1, 5, 9]\n",
      "[3, 9, 15]\n",
      "[13, 11, 9, 7, 5, 3]\n",
      "[17, 13, 9, 5, 1]\n"
     ]
    }
   ],
   "source": [
    "# list 可以用 + 串在一起，和 string 一樣\n",
    "long_nums = nums + [11, 13, 15, 17]\n",
    "print('all', long_nums)\n",
    "# [1, 3, 5, 7, 9, 11, 13, 15, 17]\n",
    "\n",
    "print(long_nums[0:6:2])\n",
    "print(long_nums[1:-1:3])\n",
    "print(long_nums[-3:0:-1]) # 負數也可優\n",
    "print(long_nums[::-2]) # 省略兩個"
   ]
  },
  {
   "cell_type": "markdown",
   "metadata": {},
   "source": [
    "補充，可忽略\n",
    "`:` 之間的數字有預設值，可以忽略\n",
    "- 起始 index: 預設 0\n",
    "- 結束 index: 預設 len(陣列)\n",
    "- 步數 step: 預設 1"
   ]
  },
  {
   "cell_type": "code",
   "execution_count": 11,
   "metadata": {},
   "outputs": [
    {
     "name": "stdout",
     "output_type": "stream",
     "text": [
      "[1, 5, 9]\n",
      "[5, 11, 17]\n",
      "[7, 9, 11]\n"
     ]
    }
   ],
   "source": [
    "print(long_nums[:6:2]) # 和上面那個 [0:6:2] 一模一樣\n",
    "print(long_nums[2::3]) # 省略 len(long_nums)\n",
    "print(long_nums[3:6:]) # 省略 step=1"
   ]
  },
  {
   "cell_type": "markdown",
   "metadata": {},
   "source": [
    "### list 自帶 function"
   ]
  },
  {
   "cell_type": "markdown",
   "metadata": {},
   "source": [
    "list 自帶有非常多 function，讓我們來看看"
   ]
  },
  {
   "cell_type": "code",
   "execution_count": 12,
   "metadata": {},
   "outputs": [
    {
     "name": "stdout",
     "output_type": "stream",
     "text": [
      "funs ['__add__', '__class__', '__contains__', '__delattr__', '__delitem__', '__dir__', '__doc__', '__eq__', '__format__', '__ge__', '__getattribute__', '__getitem__', '__gt__', '__hash__', '__iadd__', '__imul__', '__init__', '__init_subclass__', '__iter__', '__le__', '__len__', '__lt__', '__mul__', '__ne__', '__new__', '__reduce__', '__reduce_ex__', '__repr__', '__reversed__', '__rmul__', '__setattr__', '__setitem__', '__sizeof__', '__str__', '__subclasshook__', 'append', 'clear', 'copy', 'count', 'extend', 'index', 'insert', 'pop', 'remove', 'reverse', 'sort']\n"
     ]
    }
   ],
   "source": [
    "# list內建函數(method)\n",
    "x = []\n",
    "# x = list() # 也可以用這個建新陣列\n",
    "\n",
    "#print(type(x))\n",
    "funs = dir(x)\n",
    "print('funs', funs) # 怎麼這摸多"
   ]
  },
  {
   "cell_type": "markdown",
   "metadata": {},
   "source": [
    "Oops！怎麼這摸多看不懂的，我來刪掉一些長得像是 `__FUN__` 的 magic method，我們之後才會談到他們"
   ]
  },
  {
   "cell_type": "code",
   "execution_count": 13,
   "metadata": {},
   "outputs": [
    {
     "name": "stdout",
     "output_type": "stream",
     "text": [
      "['append', 'clear', 'copy', 'count', 'extend', 'index', 'insert', 'pop', 'remove', 'reverse', 'sort']\n"
     ]
    }
   ],
   "source": [
    "print([f for f in funs if '__' not in f]) # 我刪掉一些長得像是 __FUN__ 的 magic method"
   ]
  },
  {
   "cell_type": "markdown",
   "metadata": {},
   "source": [
    "#### list.function 們\n",
    "\n",
    "Okay！其中 `append` 是我們看過的 function\n",
    "\n",
    "其中 `clear`, `extend`, `insert`, `pop`, `remove` 是跟修改陣列有關的  \n",
    "`count`, `index`, 是跟搜尋陣列有關  \n",
    "`reverse`, `copy` and `sort` 則是跟操作整個陣列有關\n",
    "\n",
    "我們會介紹其中三四個有趣的 function，其他有興趣歡迎上網搜尋"
   ]
  },
  {
   "cell_type": "markdown",
   "metadata": {},
   "source": [
    "#### insert and pop\n",
    "\n",
    "insert 是插入數字到陣列，和 `append` 不同的是他可以指定插入的位置，他會插入元素到**指定 index 的那個元素前面**\n",
    "\n",
    "```python\n",
    "ll = [...]\n",
    "ll.insert( 插入 index, 插入元素 )\n",
    "```\n",
    "\n",
    "`pop` 則是和 `append` 相對，從 list 中**移除最後的元素並回傳**\n",
    "\n",
    "```python\n",
    "n = ll.pop() # 回傳最後一個元素\n",
    "```"
   ]
  },
  {
   "cell_type": "code",
   "execution_count": 14,
   "metadata": {},
   "outputs": [
    {
     "name": "stdout",
     "output_type": "stream",
     "text": [
      "[3, 4, 5, 6]\n",
      "[3, 4, 5, 100, 6]\n",
      "----------\n",
      "6\n",
      "[3, 4, 5, 100]\n"
     ]
    }
   ],
   "source": [
    "ll = [3, 4, 5, 6]\n",
    "\n",
    "print(ll)\n",
    "ll.insert(3, 100)\n",
    "print(ll)\n",
    "print('----------')\n",
    "\n",
    "n = ll.pop()\n",
    "print(n)\n",
    "print(ll)"
   ]
  },
  {
   "cell_type": "markdown",
   "metadata": {},
   "source": [
    "#### count and index\n",
    "\n",
    "count 會搜尋你給定的元素，在 list 中搜尋，回傳出現的次數\n",
    "\n",
    "```python\n",
    "ll = [...]\n",
    "ll.count( 元素 ) # 元素出現在 list 中的次數\n",
    "```\n",
    "\n",
    "index 則是會搜尋元素，回傳他**第一個出現的位置 index**\n",
    "\n",
    "```python\n",
    "ll.index( 元素 ) # 第一次出現的 index\n",
    "```"
   ]
  },
  {
   "cell_type": "code",
   "execution_count": 15,
   "metadata": {},
   "outputs": [
    {
     "name": "stdout",
     "output_type": "stream",
     "text": [
      "ll [3, 4, 5, 100, 4, 5, 1000]\n",
      "1\n",
      "2\n",
      "--------\n",
      "3\n",
      "1\n",
      "6\n"
     ]
    }
   ],
   "source": [
    "ll = ll + [4, 5, 1000]\n",
    "print('ll', ll)\n",
    "\n",
    "print(ll.count(3))\n",
    "print(ll.count(4))\n",
    "print('--------')\n",
    "print(ll.index(100))\n",
    "print(ll.index(4))\n",
    "print(ll.index(1000))"
   ]
  },
  {
   "cell_type": "code",
   "execution_count": 16,
   "metadata": {},
   "outputs": [
    {
     "name": "stdout",
     "output_type": "stream",
     "text": [
      "True\n",
      "False\n",
      "True\n"
     ]
    }
   ],
   "source": [
    "# 透過 `in` 來查看某元素是否在 list 中\n",
    "some = [1, 9, 21, 10, 16]\n",
    "print(9 in some)\n",
    "print(15 in some)\n",
    "print(20 not in some)"
   ]
  },
  {
   "cell_type": "markdown",
   "metadata": {},
   "source": [
    "#### reverse and sort\n",
    "\n",
    "reverse 是將給定陣列所有元素倒過來，注意**他不會回傳**\n",
    "\n",
    "```python\n",
    "ll = [...]\n",
    "ll.reverse()\n",
    "print(ll) # 所有元素反過來\n",
    "```\n",
    "\n",
    "sort 是依次比較裡面的元素做排序，**預設是從小到大**，注意**他不會回傳**\n",
    "```python\n",
    "ll.sort()\n",
    "print(ll) # 排好順序的\n",
    "```\n",
    "\n",
    "阿你可以修改 sort 的順序\n",
    "\n",
    "```python\n",
    "ll.sort(reverse=True)\n",
    "print(ll) # 從大排到小\n",
    "```"
   ]
  },
  {
   "cell_type": "code",
   "execution_count": 17,
   "metadata": {},
   "outputs": [
    {
     "name": "stdout",
     "output_type": "stream",
     "text": [
      "[1000, 50, 100, 1, 10, 5]\n"
     ]
    }
   ],
   "source": [
    "nums = [5, 10, 1, 100, 50, 1000]\n",
    "\n",
    "nums.reverse()\n",
    "print(nums)"
   ]
  },
  {
   "cell_type": "code",
   "execution_count": 18,
   "metadata": {},
   "outputs": [
    {
     "name": "stdout",
     "output_type": "stream",
     "text": [
      "[5, 10, 1, 100, 50, 1000]\n"
     ]
    }
   ],
   "source": [
    "# 額外加碼，你也可以用 indexing 來做 reverse\n",
    "# [::-1] 代表 從 0 ~ len(nums) 然後 step -1 代表整個返過來\n",
    "# 記得他不會修改 nums 你要再把他存起來或取代原本的變數\n",
    "reverse_nums = nums[::-1]\n",
    "print(reverse_nums)"
   ]
  },
  {
   "cell_type": "code",
   "execution_count": 19,
   "metadata": {},
   "outputs": [
    {
     "name": "stdout",
     "output_type": "stream",
     "text": [
      "[1, 5, 10, 50, 100, 1000]\n",
      "[1000, 100, 50, 10, 5, 1]\n"
     ]
    }
   ],
   "source": [
    "nums.sort()\n",
    "print(nums)\n",
    "\n",
    "nums.sort(reverse=True)\n",
    "print(nums)"
   ]
  },
  {
   "cell_type": "markdown",
   "metadata": {},
   "source": [
    "注意，`sort` 裡面的元素必須之間可以比較才可以\n",
    "\n",
    "最簡單的 case 就是裡面的類型都是 int, float, 或 string"
   ]
  },
  {
   "cell_type": "code",
   "execution_count": 20,
   "metadata": {},
   "outputs": [
    {
     "name": "stdout",
     "output_type": "stream",
     "text": [
      "['america', 'apple', 'dragon', 'ideal', 'iphone']\n",
      "[2, 3, 3.13, 40]\n"
     ]
    }
   ],
   "source": [
    "ll = ['iphone', 'apple', 'america', 'dragon', 'ideal']\n",
    "ll.sort()\n",
    "print(ll) # 按照字典旭排列\n",
    "\n",
    "ll = [3, 2, 3.13, 40] # int 和 float 也可以比較\n",
    "ll.sort()\n",
    "print(ll)"
   ]
  },
  {
   "cell_type": "code",
   "execution_count": 21,
   "metadata": {},
   "outputs": [
    {
     "ename": "TypeError",
     "evalue": "'<' not supported between instances of 'str' and 'int'",
     "output_type": "error",
     "traceback": [
      "\u001b[0;31m---------------------------------------------------------------------------\u001b[0m",
      "\u001b[0;31mTypeError\u001b[0m                                 Traceback (most recent call last)",
      "\u001b[0;32m<ipython-input-21-0029cfe751cc>\u001b[0m in \u001b[0;36m<module>\u001b[0;34m\u001b[0m\n\u001b[1;32m      1\u001b[0m \u001b[0mll\u001b[0m \u001b[0;34m=\u001b[0m \u001b[0;34m[\u001b[0m\u001b[0;36m4\u001b[0m\u001b[0;34m,\u001b[0m \u001b[0;36m3\u001b[0m\u001b[0;34m,\u001b[0m \u001b[0;36m10\u001b[0m\u001b[0;34m,\u001b[0m \u001b[0;34m'30'\u001b[0m\u001b[0;34m]\u001b[0m \u001b[0;31m# 這樣就不行\u001b[0m\u001b[0;34m\u001b[0m\u001b[0;34m\u001b[0m\u001b[0m\n\u001b[0;32m----> 2\u001b[0;31m \u001b[0mll\u001b[0m\u001b[0;34m.\u001b[0m\u001b[0msort\u001b[0m\u001b[0;34m(\u001b[0m\u001b[0;34m)\u001b[0m\u001b[0;34m\u001b[0m\u001b[0;34m\u001b[0m\u001b[0m\n\u001b[0m\u001b[1;32m      3\u001b[0m \u001b[0mprint\u001b[0m\u001b[0;34m(\u001b[0m\u001b[0mll\u001b[0m\u001b[0;34m)\u001b[0m\u001b[0;34m\u001b[0m\u001b[0;34m\u001b[0m\u001b[0m\n",
      "\u001b[0;31mTypeError\u001b[0m: '<' not supported between instances of 'str' and 'int'"
     ]
    }
   ],
   "source": [
    "ll = [4, 3, 10, '30'] # 這樣就不行\n",
    "ll.sort()\n",
    "print(ll)"
   ]
  },
  {
   "cell_type": "markdown",
   "metadata": {},
   "source": [
    "### Lab 練習\n",
    "\n",
    "請開啟一份新的 .ipynb 筆記檔案, 檔名為「學號_L04.ipynb」，寫完上傳至網大.\n",
    "\n",
    "Question: 現在有一個已經包含人名和分數的排行榜，小美現在要輸入他的分數和名字，系統要列出小美落在第幾名和排序過後的排行榜人名\n",
    "\n",
    "詳細\n",
    "1. 輸入名字和分數\n",
    "2. 插入分數至分數 list，並排去\n",
    "3. 找到分數 list 中分數屬於第幾個位置\n",
    "4. 輸出位置排名\n",
    "5. 按照位置插入名字至名字 list\n",
    "\n",
    "**給你照抄和提示的扣：**\n",
    "```python\n",
    "names = ['dragon', 'meng', 'Hsuan Ju', 'yihuang']\n",
    "scores = [100, 90, 59, 10]\n",
    "\n",
    "name = input('..')\n",
    "print(...)\n",
    "\n",
    "# ===== 放入對的位置，找到排名 =====\n",
    "\n",
    "# .append and .sort\n",
    "\n",
    "rank = ... # 用 .index 找到他排第幾名\n",
    "\n",
    "# ===== 插入並顯示 =====\n",
    "\n",
    "names.insert(...) # 把名字塞到對的位置\n",
    "\n",
    "# 通通印出來\n",
    "# 最少要印名字出來，請幫我字串長度設定為 10 + 靠右對齊\n",
    "```\n",
    "\n",
    "需要用到的 function: `.append`, `.sort`, `.index`, `.insert`\n",
    "\n",
    "**Bonus:**\n",
    "二選一：  \n",
    "1. 使用 index 同時印出分數與名字，(5 points)\n",
    "2. 不使用 index 使用 `zip()` function，在一個 for 同時印出 `scores` 和 `names` 的內容 (20 points)"
   ]
  },
  {
   "cell_type": "markdown",
   "metadata": {},
   "source": [
    "#### Input and Output samples:\n",
    "```\n",
    "Please input your name:  steve\n",
    "Please input your score:  80\n",
    "\n",
    "You are rank #3 right now\n",
    "    dragon\n",
    "      meng\n",
    "     steve\n",
    "  Hsuan Ju\n",
    "   yihuang\n",
    "```\n",
    "\n",
    "bonus 的最後面應該長這樣\n",
    "```\n",
    "...\n",
    "    dragon 100\n",
    "      meng  90\n",
    "     steve  80\n",
    "  Hsuan Ju  59\n",
    "   yihuang  10\n",
    "```"
   ]
  }
 ],
 "metadata": {
  "kernelspec": {
   "display_name": "Python 3",
   "language": "python",
   "name": "python3"
  },
  "language_info": {
   "codemirror_mode": {
    "name": "ipython",
    "version": 3
   },
   "file_extension": ".py",
   "mimetype": "text/x-python",
   "name": "python",
   "nbconvert_exporter": "python",
   "pygments_lexer": "ipython3",
   "version": "3.10.2"
  }
 },
 "nbformat": 4,
 "nbformat_minor": 4
}
