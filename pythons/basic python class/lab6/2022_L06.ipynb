{
 "cells": [
  {
   "cell_type": "markdown",
   "metadata": {},
   "source": [
    "# MIS132 程式設計實習 - Lecture06"
   ]
  },
  {
   "cell_type": "markdown",
   "metadata": {},
   "source": [
    "## Outline this week\n",
    "\n",
    "- Module\n",
    "  - 介紹\n",
    "  - 基本使用\n",
    "- Built-in Module\n",
    "- Third-Party Module\n",
    "- Lab 練習"
   ]
  },
  {
   "cell_type": "markdown",
   "metadata": {},
   "source": [
    "## 介紹\n",
    "### What is module?\n",
    "\n",
    "Function 由很多行 code 組成\n",
    "\n",
    "Module 則可以被理解成很多 Function, Variable, class ......等的集合體\n",
    "\n",
    "到目前為止，我們寫的每個檔案其實也都算是一個 Module\n",
    "\n",
    "Module 可以自己建立，也可以使用 Python 內建的，或下載別人建立好的。\n",
    "\n",
    "### Why module?\n",
    "\n",
    "有些程式碼擁有以下特性：**複雜、很常使用、很冗長** => 我們可以寫一個 function 去包裝程式內容\n",
    "\n",
    "當這個很複雜的程式碼，在 A.py, B.py, C.py中都會用到 => 把這個function複製到每個檔案中嗎？\n",
    "\n",
    "**NO**，我們可以建立一個 .py 的 Module，把 Function 放在裡面，每個要使用該 Function 的檔案去 import 這個共用的 Module => 這就是 Module\n",
    "\n",
    "---\n",
    "用 Module 思考、把檔案切開來有什麼好處？\n",
    "\n",
    "1. Simplicity 簡單\n",
    "    - 如果使用 Module 在思考，你可以把整個大問題切割成很多小部分，每次專注於解決一個小問題，這樣寫起來會比較簡單\n",
    "    - Function 或 Module 如果不是這個檔案的重點，我們可以讓現在的 Python Code 變的乾淨、好閱讀\n",
    "2. Maintainability 易於維護\n",
    "    如果 Function 的內容要修改，我們不用去每個檔案進行修改，只需要修改 Module，全部檔案都會被改變\n",
    "3. Reusability 可重複使用\n",
    "    因為我們專注於單一問題，所以下次遇到這個問題時，就可以把上次寫的 Module 拿出來用，或是也可以上網去找別人寫好的 Module，也能解決問題\n",
    "4. Namespace 命名空間\n",
    "    每個 Module 都有獨立的 namespace，可以確保 main script 的 namespace 夠用、不會被污染"
   ]
  },
  {
   "cell_type": "markdown",
   "metadata": {},
   "source": [
    "#### Example\n",
    "\n",
    "還記得之前教 function 的時候，理科太太的範例嗎？\n",
    "```python\n",
    "def opening(topic):\n",
    "    print('嗨！大家今天過得好嗎？') # function 裡記得縮排後輸入你要放入的內容。\n",
    "    print('歡迎回到ＸＸ太太')\n",
    "    print('今天我們要講是 ' + topic)\n",
    "    print('-' * 20)\n",
    "```\n",
    "假設理科太太的每部影片字幕檔都是一個檔案(.py)，然而他的開頭每次都一樣，這時候我們可以透過import建立好的 Module，來節省我們寫 code 的時間。"
   ]
  },
  {
   "cell_type": "code",
   "execution_count": 1,
   "metadata": {},
   "outputs": [
    {
     "ename": "ModuleNotFoundError",
     "evalue": "No module named 'L06_module'",
     "output_type": "error",
     "traceback": [
      "\u001b[1;31m---------------------------------------------------------------------------\u001b[0m",
      "\u001b[1;31mModuleNotFoundError\u001b[0m                       Traceback (most recent call last)",
      "\u001b[1;32mc:\\Users\\user\\Documents\\GitHub\\coding-stuff-I-make-from-learning\\pythons\\lab6\\2022_L06.ipynb Cell 5'\u001b[0m in \u001b[0;36m<cell line: 1>\u001b[1;34m()\u001b[0m\n\u001b[1;32m----> <a href='vscode-notebook-cell:/c%3A/Users/user/Documents/GitHub/coding-stuff-I-make-from-learning/pythons/lab6/2022_L06.ipynb#ch0000004?line=0'>1</a>\u001b[0m \u001b[39mimport\u001b[39;00m \u001b[39mL06_module\u001b[39;00m\n\u001b[0;32m      <a href='vscode-notebook-cell:/c%3A/Users/user/Documents/GitHub/coding-stuff-I-make-from-learning/pythons/lab6/2022_L06.ipynb#ch0000004?line=2'>3</a>\u001b[0m \u001b[39m# day 1\u001b[39;00m\n\u001b[0;32m      <a href='vscode-notebook-cell:/c%3A/Users/user/Documents/GitHub/coding-stuff-I-make-from-learning/pythons/lab6/2022_L06.ipynb#ch0000004?line=3'>4</a>\u001b[0m L06_module\u001b[39m.\u001b[39mopening(\u001b[39m'\u001b[39m\u001b[39mday1 - Youtube\u001b[39m\u001b[39m'\u001b[39m)\n",
      "\u001b[1;31mModuleNotFoundError\u001b[0m: No module named 'L06_module'"
     ]
    }
   ],
   "source": [
    "import L06_module\n",
    "\n",
    "# day 1\n",
    "L06_module.opening('day1 - Youtube')\n",
    "print('內容 of day1')"
   ]
  },
  {
   "cell_type": "code",
   "execution_count": 2,
   "metadata": {},
   "outputs": [
    {
     "name": "stdout",
     "output_type": "stream",
     "text": [
      "嗨！大家今天過得好嗎？\n",
      "歡迎回到ＸＸ太太\n",
      "今天我們要講是 day2 - Facebook\n",
      "--------------------\n",
      "內容 of day2\n"
     ]
    }
   ],
   "source": [
    "# day 2\n",
    "L06_module.opening('day2 - Facebook')\n",
    "print('內容 of day2')"
   ]
  },
  {
   "cell_type": "markdown",
   "metadata": {},
   "source": [
    "**注意：從上面的程式碼可以看到要呼叫某個 Module 裡頭的 function，必須使用 \"MODULE.FUNC_NAME\" 的方式執行。**"
   ]
  },
  {
   "cell_type": "markdown",
   "metadata": {},
   "source": [
    "## Step by Step learning module\n",
    "### Create a Module\n",
    "要建立一個 Module，就把你要用的 code 存成一個 .py 的檔案即可:\n",
    "\n",
    "```python\n",
    "# Save this code in a file named my_module.py\n",
    "PI = 3.14159265\n",
    "\n",
    "def circle_area(radius):\n",
    "    area = radius * radius * PI\n",
    "    return area\n",
    "```\n",
    "\n",
    "### Use a Module\n",
    "\n",
    "透過 `import MODULE_NAME` 的方式，載入剛剛建立好的module：\n",
    "\n",
    "接著可以使用 `MODULE_NAME.FUNC_NAME` 或 `MODULE_NAME.VARIABLE_NAME` 使用 `.` 去呼叫 module 底下的成員，**變數和函式都可以**"
   ]
  },
  {
   "cell_type": "code",
   "execution_count": 1,
   "metadata": {},
   "outputs": [
    {
     "name": "stdout",
     "output_type": "stream",
     "text": [
      "3.14159265\n",
      "28.27433385\n"
     ]
    }
   ],
   "source": [
    "# Import the module named mymodule, and call the function:\n",
    "import my_module\n",
    "\n",
    "# 呼叫變數\n",
    "print(my_module.PI)\n",
    "\n",
    "# 呼叫 Function\n",
    "print(my_module.circle_area(3))"
   ]
  },
  {
   "cell_type": "markdown",
   "metadata": {},
   "source": [
    "### Variables in Module\n",
    "- The module can contain functions, as already described, but also variables of all types (arrays, dictionaries, objects etc):\n",
    "Module 可以包含任何變數（array, dict......等）\n",
    "\n",
    "> Save this code in the file mymodule.py\n",
    "\n",
    "```python\n",
    "p1 = {\n",
    "  \"name\": \"John\",\n",
    "  \"age\": 36,\n",
    "  \"country\": \"Norway\"\n",
    "}\n",
    "people = [p1, 'annie', 'Jack']\n",
    "```"
   ]
  },
  {
   "cell_type": "code",
   "execution_count": 1,
   "metadata": {},
   "outputs": [
    {
     "name": "stdout",
     "output_type": "stream",
     "text": [
      "age 36\n",
      "p1 {'name': 'John', 'age': 36, 'country': 'Norway'}\n",
      "people [{'name': 'John', 'age': 36, 'country': 'Norway'}, 'annie', 'Jack']\n"
     ]
    }
   ],
   "source": [
    "import my_module\n",
    "\n",
    "print('age', my_module.p1['age'])\n",
    "print('p1', my_module.p1)\n",
    "print('people', my_module.people)"
   ]
  },
  {
   "cell_type": "markdown",
   "metadata": {},
   "source": [
    "NOTE!! \n",
    "- 當一個程式已經 import 過，做了更改再 import 一次，並無法覆蓋上次 import 的結果。**（在.ipynb檔中必須 restart kernel 才能重新 import 新的 Module 進來。）**\n",
    "\n",
    "### Re-naming a Module\n",
    "- 如果module名稱太長，程式又很常需要用到module裡面的內容，這時候就可以在import的時候幫module給個比較短的名稱！\n"
   ]
  },
  {
   "cell_type": "code",
   "execution_count": 2,
   "metadata": {},
   "outputs": [
    {
     "name": "stdout",
     "output_type": "stream",
     "text": [
      "36\n"
     ]
    }
   ],
   "source": [
    "# Create an alias for mymodule called mx:\n",
    "import my_module as mx\n",
    "\n",
    "a = mx.p1['age']\n",
    "print(a)"
   ]
  },
  {
   "cell_type": "markdown",
   "metadata": {},
   "source": [
    "## Built-in Modules\n",
    "\n",
    "Python 內建有很多 Module，你只要在你需要的時候載進來就可以使用"
   ]
  },
  {
   "cell_type": "code",
   "execution_count": 3,
   "metadata": {},
   "outputs": [
    {
     "name": "stdout",
     "output_type": "stream",
     "text": [
      "Linux\n"
     ]
    }
   ],
   "source": [
    "# Import and use the platform module:\n",
    "import platform\n",
    "\n",
    "x = platform.system()\n",
    "print(x)"
   ]
  },
  {
   "cell_type": "code",
   "execution_count": 4,
   "metadata": {},
   "outputs": [
    {
     "name": "stdout",
     "output_type": "stream",
     "text": [
      "json {\n",
      "  \"name\": \"John\",\n",
      "  \"age\": 36,\n",
      "  \"country\": \"Norway\"\n",
      "}\n"
     ]
    }
   ],
   "source": [
    "import json\n",
    "\n",
    "string = json.dumps(my_module.p1, indent='  ')\n",
    "print('json', string)"
   ]
  },
  {
   "cell_type": "markdown",
   "metadata": {},
   "source": [
    "### Using the dir() Function\n",
    "之前我有使用過一個 built-in function `dir()`，他可以把某個 Module 或 Object 底下可以使用的 variables 或 functions 印出來"
   ]
  },
  {
   "cell_type": "code",
   "execution_count": 5,
   "metadata": {},
   "outputs": [
    {
     "name": "stdout",
     "output_type": "stream",
     "text": [
      "['Barrier', 'BoundedSemaphore', 'BrokenBarrierError', 'Condition', 'Event', 'Lock', 'RLock', 'Semaphore', 'TIMEOUT_MAX', 'Thread', 'ThreadError', 'Timer', 'WeakSet', '_CRLock', '_DummyThread', '_MainThread', '_PyRLock', '_RLock', '__all__', '__builtins__', '__cached__', '__doc__', '__file__', '__loader__', '__name__', '__package__', '__spec__', '_active', '_active_limbo_lock', '_after_fork', '_allocate_lock', '_count', '_counter', '_dangling', '_deque', '_enumerate', '_format_exc', '_islice', '_limbo', '_main_thread', '_newname', '_pickSomeNonDaemonThread', '_profile_hook', '_set_sentinel', '_shutdown', '_start_new_thread', '_sys', '_time', '_trace_hook', 'activeCount', 'active_count', 'currentThread', 'current_thread', 'enumerate', 'get_ident', 'local', 'main_thread', 'setprofile', 'settrace', 'stack_size']\n",
      "['JSONDecodeError', 'JSONDecoder', 'JSONEncoder', '__all__', '__author__', '__builtins__', '__cached__', '__doc__', '__file__', '__loader__', '__name__', '__package__', '__path__', '__spec__', '__version__', '_default_decoder', '_default_encoder', 'codecs', 'decoder', 'detect_encoding', 'dump', 'dumps', 'encoder', 'load', 'loads', 'scanner']\n"
     ]
    }
   ],
   "source": [
    "# List all the defined names belonging to the a module:\n",
    "import threading, sys\n",
    "\n",
    "print(dir(threading))\n",
    "print(dir(json))"
   ]
  },
  {
   "cell_type": "markdown",
   "metadata": {},
   "source": [
    "#### Import From Module\n",
    "- You can choose to import only parts from a module, by using the from keyword.\n",
    "\n",
    "```python\n",
    "# The module named mymodule has function and dictionary:\n",
    "def circle_area(radius):\n",
    "    area = radius * radius * PI\n",
    "    return area\n",
    "\n",
    "p1 = {\n",
    "  \"name\": \"John\",\n",
    "  \"age\": 36,\n",
    "  \"country\": \"Norway\"\n",
    "}\n",
    "```"
   ]
  },
  {
   "cell_type": "code",
   "execution_count": 6,
   "metadata": {},
   "outputs": [
    {
     "name": "stdout",
     "output_type": "stream",
     "text": [
      "area 28.27433385\n",
      "p1 {'name': 'John', 'age': 36, 'country': 'Norway'}\n"
     ]
    }
   ],
   "source": [
    "# Import only the person1 dictionary from the module:\n",
    "from my_module import circle_area, p1\n",
    "\n",
    "print('area', circle_area(3))\n",
    "print('p1', p1)"
   ]
  },
  {
   "cell_type": "markdown",
   "metadata": {},
   "source": [
    "### 內建module\n",
    "\n",
    "#### OS 模組\n",
    "提供顯示系統環境參數與指令功能函數\n",
    "```python\n",
    "os.rename(src, dst)\n",
    "```\n",
    "> 對檔案或目錄更換名稱\n",
    ">\n",
    "> src引數是原本的資料夾\n",
    ">\n",
    ">dst引數是修改後的資料夾名稱\n",
    "\n",
    "```python\n",
    "os.remove(path) 移除檔案\n",
    "```\n",
    "\n",
    "> path引數傳入檔案位置\n",
    ">\n",
    "> 不會移除資料夾\n",
    "\n",
    "```python\n",
    " os.removedirs(path)\n",
    "```\n",
    "> 移除空的資料夾 \n",
    "\n",
    "```python\n",
    " os.listdir(path)\n",
    "```\n",
    ">輸出path引數位置的目錄和檔案名稱\n",
    "\n",
    "#### random模組\n",
    "```python\n",
    "random.random()\n",
    "```\n",
    ">隨機產生0.0<=x<1.0之間的數字\n",
    " \n",
    "```python\n",
    "random.uniform(num1, num2) \n",
    "```\n",
    ">隨機產生num1<=x<num2的數字\n",
    "\n",
    "```python\n",
    "random.randint(1,10)  \n",
    "```\n",
    ">產生一個1到10的數字\n",
    "\n",
    "```python\n",
    "random.randrange(0,101) \n",
    "```\n",
    ">產生一個0到100的數字\n",
    "\n",
    "#### sys模組\n",
    "```python\n",
    "sys.version\n",
    "```\n",
    "> 回傳目前安裝在系統上的Python版本\n",
    "\n",
    "```python\n",
    "sys.argv[0]\n",
    "```\n",
    "> 會回傳此程式檔案的位置與名稱\n",
    "\n",
    "```python\n",
    "sys.argv\n",
    "```\n",
    "> 帶入參數以list形式儲存\n",
    "\n",
    "```python\n",
    "sys.platform\n",
    "```\n",
    "> 取得目前作業系統的版本\n",
    "\n",
    "```python\n",
    "sys.exit()\n",
    "```\n",
    ">宣告sys.exit(0)終止程式"
   ]
  },
  {
   "cell_type": "markdown",
   "metadata": {},
   "source": [
    "### 第三方module\n",
    "> python社群提供了大量的第三方模組，使用方式與標準庫 類似。它們的功能無所不包，覆蓋科學計算、 Web開發、 資料庫介面、圖形系統多個領域，並且大 多成熟而穩定。 第三方模組可以使用Python或者C語言編寫。\n",
    "\n",
    ">您也許聽過「不要重造輪子」這句話，或是 DRY (Don't Repeat Yourself )，講得就是「別人已經寫好的東西，就拿去用吧，不用自己再重新寫一套」。\n",
    "\n",
    "#### 安裝方法\n",
    "- 方法1\n",
    "    - 下載原始碼，手動執行 python3 setup.py install 安装\n",
    "- 方法2\n",
    "    - 利用第三方安裝工具(如pip，easy_install，distribute等) 自動化工具安裝\n",
    "#### pip\n",
    "- 安裝套件\n",
    "    - pip3 install SomePackage (自動安裝最新版本)\n",
    "    - pip3 install SomePackage==1.0.4 (指定版本)\n",
    "    - pip3 install 'SomePackage>=1.0.4' (指定最小版本)\n",
    "- 更新套件\n",
    "    - pip3 install -U SamePackage\n",
    "- 刪除套件\n",
    "    - pip3 uninstall SomePackage\n",
    "    \n",
    "python3 可以安裝的套件有很多個，需要什麼自己找吧～"
   ]
  },
  {
   "cell_type": "markdown",
   "metadata": {},
   "source": [
    "例如我使用 ujson 這個 Module\n",
    "\n",
    "首先使用 `pip3` 下載"
   ]
  },
  {
   "cell_type": "code",
   "execution_count": 7,
   "metadata": {},
   "outputs": [
    {
     "name": "stdout",
     "output_type": "stream",
     "text": [
      "Defaulting to user installation because normal site-packages is not writeable\n",
      "Collecting ujson\n",
      "  Downloading ujson-4.3.0-cp36-cp36m-manylinux_2_17_x86_64.manylinux2014_x86_64.whl (216 kB)\n",
      "\u001b[K     |████████████████████████████████| 216 kB 397 kB/s eta 0:00:01\n",
      "\u001b[?25hInstalling collected packages: ujson\n",
      "Successfully installed ujson-4.3.0\n",
      "\u001b[33mWARNING: You are using pip version 21.0.1; however, version 21.3.1 is available.\n",
      "You should consider upgrading via the '/bin/python3 -m pip install --upgrade pip' command.\u001b[0m\n"
     ]
    }
   ],
   "source": [
    "!pip3 install ujson"
   ]
  },
  {
   "cell_type": "code",
   "execution_count": 2,
   "metadata": {},
   "outputs": [
    {
     "name": "stdout",
     "output_type": "stream",
     "text": [
      "[1,4,5,{\"key\":\"value\"}]\n"
     ]
    }
   ],
   "source": [
    "# 記得先重啟 notebook\n",
    "import ujson\n",
    "\n",
    "string = ujson.dumps([1, 4, 5, {'key': 'value'}])\n",
    "print(string)"
   ]
  },
  {
   "cell_type": "markdown",
   "metadata": {},
   "source": [
    "### Lab練習\n",
    "\n",
    "請上傳一個壓縮檔包含以下檔案\n",
    "\n",
    "1. 自己寫一個 Module\n",
    "\n",
    "請建立兩個檔案：`main.py` 和 `lab_module.py`\n",
    "\n",
    "請把之前的作業其中一段寫成 Function（你可以參考我公布在網大的解答）並放到 `lab_module.py`\n",
    "\n",
    "然後再 `main.py` 中呼叫 Module，計算完剩下的部分\n",
    "\n",
    "2. 尋找一個第三方 Module\n",
    "\n",
    "請上網找一個 Python 第三方 Module 和他的範例\n",
    "\n",
    "請上傳一個 .ipynb 叫做「lab06_third.ipynb」，說明這個 Module 的內容和目的是啥，並附上簡單的範例 code"
   ]
  }
 ],
 "metadata": {
  "kernelspec": {
   "display_name": "Python 3",
   "language": "python",
   "name": "python3"
  },
  "language_info": {
   "codemirror_mode": {
    "name": "ipython",
    "version": 3
   },
   "file_extension": ".py",
   "mimetype": "text/x-python",
   "name": "python",
   "nbconvert_exporter": "python",
   "pygments_lexer": "ipython3",
   "version": "3.9.2"
  }
 },
 "nbformat": 4,
 "nbformat_minor": 4
}
