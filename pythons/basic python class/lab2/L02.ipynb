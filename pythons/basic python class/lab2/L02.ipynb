{
 "cells": [
  {
   "cell_type": "code",
   "execution_count": null,
   "metadata": {},
   "outputs": [],
   "source": [
    "score = 0\n",
    "\n",
    "# 轉換對照表\n",
    "score_range = {\n",
    "    'A+': {'min': 90, 'max': 100},\n",
    "    'A ': {'min': 85, 'max': 89},\n",
    "    'A-': {'min': 80, 'max': 84},\n",
    "    'B+': {'min': 77, 'max': 79},\n",
    "    'B ': {'min': 73, 'max': 76},\n",
    "    'B-': {'min': 70, 'max': 72},\n",
    "    'C+': {'min': 67, 'max': 69},\n",
    "    'C ': {'min': 63, 'max': 66},\n",
    "    'C-': {'min': 60, 'max': 62},\n",
    "    'D ': {'min': 50, 'max': 59},\n",
    "    'E ': {'min': 40, 'max': 49},\n",
    "    'F ': {'min': 0, 'max': 39}\n",
    "}\n",
    "\n",
    "# 信息差異\n",
    "is_pass_msg = {\n",
    "    0: 'Congratulations! you pass ',\n",
    "    1: 'Sorry, you fail '\n",
    "}\n",
    "\n",
    "while True:\n",
    "    # 資料輸入\n",
    "    try:\n",
    "        score = int(input(\"Please input your score: \"))\n",
    "\n",
    "    except ValueError:\n",
    "        print('What are you input? Check again\\n')\n",
    "\n",
    "        continue\n",
    "\n",
    "    # 判定是否為有效範圍\n",
    "    if 0 <= score <= 100:\n",
    "        # 逐步檢驗\n",
    "        for grade in score_range:\n",
    "            if score_range[grade]['min'] <= score <= score_range[grade]['max']:\n",
    "                print(f'Your grade is {grade}')\n",
    "\n",
    "                # 檢驗是否及格\n",
    "                if score >= 60:\n",
    "                    print('{}this class.\\n'.format(is_pass_msg[0]))\n",
    "                else:\n",
    "                    print('{}this class.\\n'.format(is_pass_msg[1]))\n",
    "\n",
    "                continue\n",
    "\n",
    "    else:\n",
    "        print('Your score out of range!')\n",
    "\n",
    "        break\n"
   ]
  }
 ],
 "metadata": {
  "interpreter": {
   "hash": "28781f49791c3bada5e2f19e2923aab45c34dbf6d5bf6ae9c3704ed1275928d5"
  },
  "kernelspec": {
   "display_name": "Python 3.10.2 64-bit",
   "language": "python",
   "name": "python3"
  },
  "language_info": {
   "codemirror_mode": {
    "name": "ipython",
    "version": 3
   },
   "file_extension": ".py",
   "mimetype": "text/x-python",
   "name": "python",
   "nbconvert_exporter": "python",
   "pygments_lexer": "ipython3",
   "version": "3.10.2"
  },
  "orig_nbformat": 4
 },
 "nbformat": 4,
 "nbformat_minor": 2
}
