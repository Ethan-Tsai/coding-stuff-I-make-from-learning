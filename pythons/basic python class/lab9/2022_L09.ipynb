{
 "cells": [
  {
   "cell_type": "markdown",
   "metadata": {},
   "source": [
    "# MIS132 程式設計實習 - Lecture09"
   ]
  },
  {
   "cell_type": "markdown",
   "metadata": {},
   "source": [
    "## Outline this week\n",
    "\n",
    "- (二維)陣列運算介紹\n",
    "- NumPy\n",
    "  - NumPy 介紹\n",
    "  - 陣列基礎\n",
    "  - 建立陣列\n",
    "  - 統計數值\n",
    "- Lab 練習"
   ]
  },
  {
   "cell_type": "markdown",
   "metadata": {},
   "source": [
    "## (二維)陣列運算介紹\n",
    "\n",
    "基本 Python 中，一維陣列是基本且常用的資料結構，暫存結果、取代迴圈...等都是很重要的用法。\n",
    "\n",
    "在**科學運算、資料分析**中則略有不同，二維陣列（或更高維度的陣列）是更常用到的資料型態。\n",
    "\n",
    "科學計算通常指的是包含線性代數、矩陣運算、矩陣運算、數值分析、微積分...等功能。\n",
    "\n",
    "以 Python 舉例，NumPy、Pandas、Matplotlib 這三個資料科學最常用的套件，都是以（二維）陣列為基底的系統，進一步說，他們都是以 NumPy 為主的，因此今天的主角就是 NumPy。"
   ]
  },
  {
   "cell_type": "markdown",
   "metadata": {},
   "source": [
    "## Numpy\n",
    "### Numpy 介紹\n",
    "\n",
    "現在的科學運算有**絕大多數**都是以 NumPy 寫成的，Numpy 在 2020 年更是登上的最頂級的 Nature 期刊，介紹了這個強大無比的套件\n",
    "\n",
    "![](https://i.imgur.com/XrNWbqS.png)\n",
    "\n",
    "總結一下，Numpy 有以下這幾個優點：\n",
    "1. 大量以**多維陣列為主的數學運算**函式\n",
    "2. 執行速度超快（以 C 寫成）、擁有極佳的優化\n",
    "3. 可以以 Numpy Array 取代 Python List\n",
    "4. 被廣泛應用在機器學習、物理、化學、航空...等領域\n",
    "\n",
    "總而言之，如果你要成為 Python 資料工程師，NumPy 是你一定要會的 Package 之一"
   ]
  },
  {
   "cell_type": "markdown",
   "metadata": {},
   "source": [
    "### NumPy 陣列基礎\n",
    "\n",
    "讓我們從基礎開始，首先我們要知道陣列的名詞，列（row）和欄（column）\n",
    "\n",
    "![Image of Yaktocat](https://static.coderbridge.com/img/techbridge/images/kdchang/arrays.png)\n",
    "\n",
    "接著我們可以開始 NumPying 了"
   ]
  },
  {
   "cell_type": "code",
   "execution_count": 3,
   "metadata": {},
   "outputs": [
    {
     "name": "stdout",
     "output_type": "stream",
     "text": [
      "1.22.3\n"
     ]
    }
   ],
   "source": [
    "import numpy as np\n",
    "print(np.__version__)"
   ]
  },
  {
   "cell_type": "markdown",
   "metadata": {},
   "source": [
    "Python 的陣列是 `list()` 或 `[]`，NumPy 陣列則是 `numpy.array`\n",
    "\n",
    "使用 `numpy.array` 可以把 Python List 轉成 NumPy\n",
    "```python\n",
    "arr = np.array([1, 2, 3, 4, 5])\n",
    "```\n",
    "\n",
    "NumPy 有一個重點：**所有元素都要是同一型態，e.g. 整數、浮點數**，這點和 C 一模一樣，因為這樣才能在記憶體中更好的儲存大型陣列、在運算時也不用去判斷每個元素是什麼型態"
   ]
  },
  {
   "cell_type": "code",
   "execution_count": 2,
   "metadata": {},
   "outputs": [
    {
     "name": "stdout",
     "output_type": "stream",
     "text": [
      "a -> [1 2 3 4 5]\n",
      "a type int64\n",
      "b -> [1.1 2.2 3.3 4.4]\n",
      "b type float64\n"
     ]
    }
   ],
   "source": [
    "a = np.array([1, 2, 3, 4, 5])\n",
    "print('a ->', a)\n",
    "print('a type', a.dtype)\n",
    "\n",
    "b = np.array([1.1, 2.2, 3.3, 4.4])\n",
    "print('b ->', b)\n",
    "print('b type', b.dtype)"
   ]
  },
  {
   "cell_type": "code",
   "execution_count": 3,
   "metadata": {},
   "outputs": [
    {
     "data": {
      "text/plain": [
       "array([1, 2, 3, 4, 5])"
      ]
     },
     "execution_count": 3,
     "metadata": {},
     "output_type": "execute_result"
    }
   ],
   "source": [
    "a"
   ]
  },
  {
   "cell_type": "markdown",
   "metadata": {},
   "source": [
    "當我們有了 NumPy 的陣列後，我們可以先看看陣列的一些重要屬性，例如他的形狀和元素大小\n",
    "\n",
    "這在運算中通常很好用\n",
    "\n",
    "| Function | Description |\n",
    "| :---: | --- |\n",
    "| arr.ndim | array 的維度 |\n",
    "| **arr.shape** | array 每個維度的 size，會回傳 Tuple |\n",
    "| arr.size | array 總元素數量，等於 shape 的相乘 |\n",
    "| **arr.dtype** | array 內變數的型態，e.g. int64, float64 |\n",
    "| arr.itemsize | 陣列內每個元素的大小（Bytes） |\n",
    "| arr.nbytes | 陣列內所有元素的大小（Bytes），等於 size * itemsize |"
   ]
  },
  {
   "cell_type": "code",
   "execution_count": 4,
   "metadata": {},
   "outputs": [
    {
     "name": "stdout",
     "output_type": "stream",
     "text": [
      "aa [[1 3 5 7]\n",
      " [2 4 6 8]]\n",
      "-----------\n",
      "ndim\t: 2\n",
      "shape\t: (2, 4)\n",
      "size\t: 8\n",
      "dtype\t: int32\n",
      "itemsize: 4\n",
      "nbytes\t: 32\n"
     ]
    }
   ],
   "source": [
    "aa = np.array([[1, 3, 5, 7], [2, 4, 6, 8]])\n",
    "print('aa', aa)\n",
    "print('-----------')\n",
    "print('ndim\\t:', aa.ndim)\n",
    "print('shape\\t:', aa.shape)\n",
    "print('size\\t:', aa.size)\n",
    "print('dtype\\t:', aa.dtype)\n",
    "print('itemsize:', aa.itemsize)\n",
    "print('nbytes\\t:', aa.nbytes)"
   ]
  },
  {
   "cell_type": "markdown",
   "metadata": {},
   "source": [
    "### 建立陣列\n",
    "\n",
    "除了從 Python List 把所有元素打出來，我們可以用一些 Function 來建立陣列\n",
    "\n",
    "#### np.arange\n",
    "\n",
    "```python\n",
    "np.arange( 起始值, 結束值, 步幅, dtype=資料型態 )\n",
    "```\n",
    "\n",
    "arange 可以像是 Python 的 range 一樣，快速且自動化建立好陣列、初始化所有內容"
   ]
  },
  {
   "cell_type": "code",
   "execution_count": 5,
   "metadata": {},
   "outputs": [],
   "source": [
    "# # trick to display all outputs instread the last one\n",
    "# from IPython.core.interactiveshell import InteractiveShell\n",
    "# # InteractiveShell.ast_node_interactivity = 'last' # original setting\n",
    "# InteractiveShell.ast_node_interactivity = 'all'"
   ]
  },
  {
   "cell_type": "code",
   "execution_count": 6,
   "metadata": {},
   "outputs": [
    {
     "data": {
      "text/plain": [
       "array([0, 1, 2, 3, 4, 5, 6, 7, 8, 9])"
      ]
     },
     "execution_count": 6,
     "metadata": {},
     "output_type": "execute_result"
    }
   ],
   "source": [
    "c1 = np.arange(10)\n",
    "# like -> list(range(10))\n",
    "c1"
   ]
  },
  {
   "cell_type": "code",
   "execution_count": 7,
   "metadata": {},
   "outputs": [
    {
     "data": {
      "text/plain": [
       "array([3, 4, 5, 6, 7, 8])"
      ]
     },
     "execution_count": 7,
     "metadata": {},
     "output_type": "execute_result"
    }
   ],
   "source": [
    "c2 = np.arange(3, 9)\n",
    "c2"
   ]
  },
  {
   "cell_type": "code",
   "execution_count": 8,
   "metadata": {},
   "outputs": [
    {
     "name": "stderr",
     "output_type": "stream",
     "text": [
      "/var/folders/yb/vl7yj3hd0mvd1j5t18vzth880000gn/T/ipykernel_93016/112194571.py:1: DeprecationWarning: `np.float` is a deprecated alias for the builtin `float`. To silence this warning, use `float` by itself. Doing this will not modify any behavior and is safe. If you specifically wanted the numpy scalar type, use `np.float64` here.\n",
      "Deprecated in NumPy 1.20; for more details and guidance: https://numpy.org/devdocs/release/1.20.0-notes.html#deprecations\n",
      "  c3 = np.arange(5, 15, 1.5, dtype=np.float)\n"
     ]
    },
    {
     "data": {
      "text/plain": [
       "array([ 5. ,  6.5,  8. ,  9.5, 11. , 12.5, 14. ])"
      ]
     },
     "execution_count": 8,
     "metadata": {},
     "output_type": "execute_result"
    }
   ],
   "source": [
    "c3 = np.arange(5, 15, 1.5, dtype=np.float)\n",
    "c3"
   ]
  },
  {
   "cell_type": "markdown",
   "metadata": {},
   "source": [
    "---\n",
    "\n",
    "#### np.zeros & np.ones\n",
    "\n",
    "```python\n",
    "np.zeros( ( 陣列每個維度的大小 ) )\n",
    "np.ones( ( 陣列每個維度的大小 ) )\n",
    "```\n",
    "\n",
    "zeros 能建立全部為零的陣列，裡面的參數代表每個維度的 size，類似 shape 會回傳的結果\n",
    "ones 則是全部為一的陣列"
   ]
  },
  {
   "cell_type": "code",
   "execution_count": 9,
   "metadata": {},
   "outputs": [
    {
     "data": {
      "text/plain": [
       "array([0., 0., 0.])"
      ]
     },
     "execution_count": 9,
     "metadata": {},
     "output_type": "execute_result"
    }
   ],
   "source": [
    "d1 = np.zeros(3)\n",
    "d1"
   ]
  },
  {
   "cell_type": "code",
   "execution_count": 10,
   "metadata": {},
   "outputs": [
    {
     "data": {
      "text/plain": [
       "dtype('float64')"
      ]
     },
     "execution_count": 10,
     "metadata": {},
     "output_type": "execute_result"
    }
   ],
   "source": [
    "d1.dtype"
   ]
  },
  {
   "cell_type": "code",
   "execution_count": 35,
   "metadata": {},
   "outputs": [],
   "source": [
    "# 會出錯\n",
    "# d2 = np.zeros(2, 5) # 不能傳入 2 個參數，要傳入「1 個 tuple 內含 2 個數字」才可以"
   ]
  },
  {
   "cell_type": "code",
   "execution_count": 11,
   "metadata": {},
   "outputs": [
    {
     "data": {
      "text/plain": [
       "array([[0., 0., 0., 0., 0.],\n",
       "       [0., 0., 0., 0., 0.]])"
      ]
     },
     "execution_count": 11,
     "metadata": {},
     "output_type": "execute_result"
    }
   ],
   "source": [
    "d2 = np.zeros((2, 5))\n",
    "d2"
   ]
  },
  {
   "cell_type": "code",
   "execution_count": 12,
   "metadata": {},
   "outputs": [
    {
     "data": {
      "text/plain": [
       "array([[[0., 0., 0.],\n",
       "        [0., 0., 0.]],\n",
       "\n",
       "       [[0., 0., 0.],\n",
       "        [0., 0., 0.]],\n",
       "\n",
       "       [[0., 0., 0.],\n",
       "        [0., 0., 0.]]])"
      ]
     },
     "execution_count": 12,
     "metadata": {},
     "output_type": "execute_result"
    }
   ],
   "source": [
    "d3 = np.zeros((3, 2, 3))\n",
    "d3"
   ]
  },
  {
   "cell_type": "code",
   "execution_count": 13,
   "metadata": {},
   "outputs": [
    {
     "data": {
      "text/plain": [
       "array([[1., 1., 1., 1., 1.],\n",
       "       [1., 1., 1., 1., 1.]])"
      ]
     },
     "execution_count": 13,
     "metadata": {},
     "output_type": "execute_result"
    }
   ],
   "source": [
    "d4 = np.ones((2, 5))\n",
    "d4"
   ]
  },
  {
   "cell_type": "code",
   "execution_count": 14,
   "metadata": {},
   "outputs": [
    {
     "data": {
      "text/plain": [
       "array([[1., 1.],\n",
       "       [1., 1.],\n",
       "       [1., 1.],\n",
       "       [1., 1.],\n",
       "       [1., 1.]])"
      ]
     },
     "execution_count": 14,
     "metadata": {},
     "output_type": "execute_result"
    }
   ],
   "source": [
    "d5 = np.ones((5, 2))\n",
    "d5"
   ]
  },
  {
   "cell_type": "code",
   "execution_count": 8,
   "metadata": {},
   "outputs": [
    {
     "data": {
      "text/plain": [
       "array([[[1.]]])"
      ]
     },
     "execution_count": 8,
     "metadata": {},
     "output_type": "execute_result"
    }
   ],
   "source": [
    "d6 = np.ones((1, 1, 1))\n",
    "# or 考慮用 .squeeze 來處理\n",
    "d6"
   ]
  },
  {
   "cell_type": "markdown",
   "metadata": {},
   "source": [
    "---\n",
    "#### np.ranndom.rand\n",
    "\n",
    "```python\n",
    "np.ranndom.rand( 陣列大小 )\n",
    "```\n",
    "\n",
    "用隨機數值（float）初始化給定 size 的一維陣列，range 為 0~1"
   ]
  },
  {
   "cell_type": "code",
   "execution_count": 16,
   "metadata": {},
   "outputs": [
    {
     "data": {
      "text/plain": [
       "array([0.11813785, 0.55069187, 0.37049376])"
      ]
     },
     "execution_count": 16,
     "metadata": {},
     "output_type": "execute_result"
    }
   ],
   "source": [
    "e1 = np.random.rand(3)\n",
    "e1"
   ]
  },
  {
   "cell_type": "code",
   "execution_count": 17,
   "metadata": {},
   "outputs": [
    {
     "data": {
      "text/plain": [
       "array([0.01847021, 0.00758915, 0.05868624, 0.07258856, 0.02569261,\n",
       "       0.19872129, 0.23377923, 0.23829357, 0.85163463, 0.43465695])"
      ]
     },
     "execution_count": 17,
     "metadata": {},
     "output_type": "execute_result"
    }
   ],
   "source": [
    "e2 = np.random.rand(10)\n",
    "e2"
   ]
  },
  {
   "cell_type": "markdown",
   "metadata": {},
   "source": [
    "---\n",
    "#### np.linspace\n",
    "\n",
    "```python\n",
    "np.linspace( 起始值, 結束值, 元素個數 )\n",
    "```\n",
    "\n",
    "linspace 在繪圖時很常用到，會在給定的範圍內平均地產出你指定數量的數字"
   ]
  },
  {
   "cell_type": "code",
   "execution_count": 18,
   "metadata": {},
   "outputs": [
    {
     "data": {
      "text/plain": [
       "array([3.  , 3.25, 3.5 , 3.75, 4.  , 4.25, 4.5 , 4.75, 5.  ])"
      ]
     },
     "execution_count": 18,
     "metadata": {},
     "output_type": "execute_result"
    }
   ],
   "source": [
    "f1 = np.linspace(3, 5, 9)\n",
    "f1"
   ]
  },
  {
   "cell_type": "code",
   "execution_count": 19,
   "metadata": {},
   "outputs": [
    {
     "data": {
      "text/plain": [
       "(9,)"
      ]
     },
     "execution_count": 19,
     "metadata": {},
     "output_type": "execute_result"
    }
   ],
   "source": [
    "f1.shape"
   ]
  },
  {
   "cell_type": "code",
   "execution_count": 20,
   "metadata": {},
   "outputs": [
    {
     "data": {
      "text/plain": [
       "array([ 1.        ,  1.55555556,  2.11111111,  2.66666667,  3.22222222,\n",
       "        3.77777778,  4.33333333,  4.88888889,  5.44444444,  6.        ,\n",
       "        6.55555556,  7.11111111,  7.66666667,  8.22222222,  8.77777778,\n",
       "        9.33333333,  9.88888889, 10.44444444, 11.        ])"
      ]
     },
     "execution_count": 20,
     "metadata": {},
     "output_type": "execute_result"
    }
   ],
   "source": [
    "f2 = np.linspace(1, 11, 19)\n",
    "f2"
   ]
  },
  {
   "cell_type": "code",
   "execution_count": 21,
   "metadata": {},
   "outputs": [
    {
     "data": {
      "text/plain": [
       "array([ 5. ,  5.5,  6. ,  6.5,  7. ,  7.5,  8. ,  8.5,  9. ,  9.5, 10. ])"
      ]
     },
     "execution_count": 21,
     "metadata": {},
     "output_type": "execute_result"
    }
   ],
   "source": [
    "f3 = np.linspace(5, 10, 11)\n",
    "f3"
   ]
  },
  {
   "cell_type": "markdown",
   "metadata": {},
   "source": [
    "### 統計函數\n",
    "\n",
    "np 針對最常用的統計函數表現非常優異，e.g. mean, max, std...等\n",
    "\n",
    "<font color='red'>重要！你有兩種用法可以使用</color>\n",
    "1. `np.mean(array_name)`\n",
    "2. `array_name.mean()`\n",
    "\n",
    "下面介紹幾種方法，並和原始 Python List 比較速度"
   ]
  },
  {
   "cell_type": "markdown",
   "metadata": {},
   "source": [
    "#### np.mean()\n",
    "回傳 mean 平均值"
   ]
  },
  {
   "cell_type": "code",
   "execution_count": 5,
   "metadata": {},
   "outputs": [
    {
     "data": {
      "text/plain": [
       "array([ 1. ,  2.5,  4. ,  5.5,  7. ,  8.5, 10. , 11.5, 13. , 14.5])"
      ]
     },
     "execution_count": 5,
     "metadata": {},
     "output_type": "execute_result"
    }
   ],
   "source": [
    "g1 = np.arange(1, 16, 1.5)\n",
    "g1"
   ]
  },
  {
   "cell_type": "code",
   "execution_count": 6,
   "metadata": {},
   "outputs": [
    {
     "data": {
      "text/plain": [
       "7.75"
      ]
     },
     "execution_count": 6,
     "metadata": {},
     "output_type": "execute_result"
    }
   ],
   "source": [
    "np.mean(g1)"
   ]
  },
  {
   "cell_type": "code",
   "execution_count": 7,
   "metadata": {},
   "outputs": [
    {
     "data": {
      "text/plain": [
       "7.75"
      ]
     },
     "execution_count": 7,
     "metadata": {},
     "output_type": "execute_result"
    }
   ],
   "source": [
    "g1.mean()\n",
    "# 後面範例以這種方式為主"
   ]
  },
  {
   "cell_type": "markdown",
   "metadata": {},
   "source": [
    "---\n",
    "#### np.max() & np.min()\n",
    "回傳 min 和 max 最大最小值"
   ]
  },
  {
   "cell_type": "code",
   "execution_count": 24,
   "metadata": {},
   "outputs": [
    {
     "data": {
      "text/plain": [
       "array([0.59219243, 0.35223626, 0.22317217, 0.4906097 , 0.79264391,\n",
       "       0.73409181, 0.87179432, 0.10078101, 0.37691464, 0.59564422])"
      ]
     },
     "execution_count": 24,
     "metadata": {},
     "output_type": "execute_result"
    }
   ],
   "source": [
    "g2 = np.random.rand(10)\n",
    "g2"
   ]
  },
  {
   "cell_type": "code",
   "execution_count": 25,
   "metadata": {},
   "outputs": [
    {
     "data": {
      "text/plain": [
       "0.10078101048741728"
      ]
     },
     "execution_count": 25,
     "metadata": {},
     "output_type": "execute_result"
    }
   ],
   "source": [
    "g2.min()"
   ]
  },
  {
   "cell_type": "code",
   "execution_count": 26,
   "metadata": {},
   "outputs": [
    {
     "data": {
      "text/plain": [
       "0.8717943165282939"
      ]
     },
     "execution_count": 26,
     "metadata": {},
     "output_type": "execute_result"
    }
   ],
   "source": [
    "g2.max()"
   ]
  },
  {
   "cell_type": "markdown",
   "metadata": {},
   "source": [
    "---\n",
    "#### 針對二維陣列的操作\n",
    "\n",
    "上面提到的幾種 function 可以用 axis 來指定我們運算的範圍\n",
    "```python\n",
    "np.max(g3, axis=int)\n",
    "g3.max(axis=int)\n",
    "```"
   ]
  },
  {
   "cell_type": "code",
   "execution_count": 11,
   "metadata": {},
   "outputs": [
    {
     "name": "stdout",
     "output_type": "stream",
     "text": [
      "[[0.48256368 0.55484628 0.60912261]\n",
      " [0.92819357 0.7862191  0.00407556]\n",
      " [0.51597255 0.14696987 0.32821533]]\n",
      "---\n",
      "0.928193565888449\n",
      "[0.92819357 0.7862191  0.60912261]\n",
      "[0.60912261 0.92819357 0.51597255]\n",
      "---\n",
      "0.928193565888449\n",
      "[0.92819357 0.7862191  0.60912261]\n",
      "[0.60912261 0.92819357 0.51597255]\n"
     ]
    }
   ],
   "source": [
    "g3 = np.random.rand(9).reshape(3, 3)\n",
    "print(g3)\n",
    "print('---')\n",
    "print(g3.max())           # 所有元素的最大值\n",
    "print(g3.max(axis=0))     # 每個 column 的最大值\n",
    "print(g3.max(axis=1))     # 每個 row 的最大值\n",
    "print('---')\n",
    "print(np.max(g3))         # 所有元素的最大值\n",
    "print(np.max(g3, axis=0)) # 每個 column 的最大值\n",
    "print(np.max(g3, axis=1)) # 每個 row 的最大值"
   ]
  },
  {
   "cell_type": "markdown",
   "metadata": {},
   "source": [
    "### Lab練習\n",
    "\n",
    "請開啟一份新的 .ipynb 筆記檔案, 檔名為「L09.ipynb」，寫完上傳至網大.\n",
    "\n",
    "- 請利用 numpy 建立以下 array\n",
    "\n",
    "1. 建立一個長度為 15 的隨機向量，每個數值介在 0~2 hint: random.rand\n",
    "2. 建立一个 6 x 6 的矩陣，其中每個的數值介在 0~5 hint: reshape\n",
    "3. 建立一個 3x3x3 的隨機矩陣，分別計算所有的、按照 axis=0、按照 axis=2 的 mean\n",
    "4. 了解 reshape、dot 或任意 numpy function 的用法，並舉出兩個實際操作的例子"
   ]
  }
 ],
 "metadata": {
  "interpreter": {
   "hash": "82ed002fa2d4956f5c6aec99bcefe0f73a9f79882f3c9e2319b14958a5896ac5"
  },
  "kernelspec": {
   "display_name": "Python 3.9.2 64-bit",
   "language": "python",
   "name": "python3"
  },
  "language_info": {
   "codemirror_mode": {
    "name": "ipython",
    "version": 3
   },
   "file_extension": ".py",
   "mimetype": "text/x-python",
   "name": "python",
   "nbconvert_exporter": "python",
   "pygments_lexer": "ipython3",
   "version": "3.9.2"
  }
 },
 "nbformat": 4,
 "nbformat_minor": 4
}
