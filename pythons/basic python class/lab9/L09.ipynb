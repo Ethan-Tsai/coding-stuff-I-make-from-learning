{
 "cells": [
  {
   "cell_type": "markdown",
   "metadata": {},
   "source": [
    "1. 建立一個長度為 15 的隨機向量，每個數值介在 0~2"
   ]
  },
  {
   "cell_type": "code",
   "execution_count": 78,
   "metadata": {},
   "outputs": [
    {
     "name": "stdout",
     "output_type": "stream",
     "text": [
      "[1.55377893 0.58983938 0.30997356 1.51838392 0.35260261 1.83967115\n",
      " 1.40666261 1.15524832 0.2595012  1.74991355 0.36216069 0.89568176\n",
      " 0.92865797 0.31407946 0.86489572]\n"
     ]
    }
   ],
   "source": [
    "import numpy as np\n",
    "\n",
    "a = np.random.uniform(0, 2, 15)\n",
    "\n",
    "print(a)"
   ]
  },
  {
   "cell_type": "markdown",
   "metadata": {},
   "source": [
    "2. 建立一个 6 x 6 的矩陣，其中每個的數值介在 0~5 hint: reshape"
   ]
  },
  {
   "cell_type": "code",
   "execution_count": 108,
   "metadata": {},
   "outputs": [
    {
     "name": "stdout",
     "output_type": "stream",
     "text": [
      "[[2.98215614 1.62719069 0.74956625 4.42566687 1.77198747 4.25955128]\n",
      " [4.26107474 0.70030838 1.35594169 1.03517299 3.96815712 2.02716734]\n",
      " [3.58159644 3.26853512 3.27937965 2.71128471 3.07021453 2.8769668 ]\n",
      " [0.79610266 1.54927387 3.65675496 2.86629223 1.09499769 2.70695565]\n",
      " [4.70194844 0.50784545 2.78817877 3.73713728 1.84287915 4.89076362]\n",
      " [4.91867909 3.76114029 2.55891543 2.68910023 3.27586269 4.69442071]]\n"
     ]
    }
   ],
   "source": [
    "import numpy as np\n",
    "\n",
    "a = np.random.uniform(0, 5, 36).reshape(6, 6)\n",
    "\n",
    "print(a)"
   ]
  },
  {
   "cell_type": "markdown",
   "metadata": {},
   "source": [
    "3. 建立一個 3x3x3 的隨機矩陣，分別計算所有的、按照 axis=0、按照 axis=2 的 mean"
   ]
  },
  {
   "cell_type": "code",
   "execution_count": 109,
   "metadata": {},
   "outputs": [
    {
     "name": "stdout",
     "output_type": "stream",
     "text": [
      "[[[0.41563724 0.54992241 0.79205898]\n",
      "  [0.69329207 0.40802865 0.27435855]\n",
      "  [0.83760489 0.04582638 0.99653967]]\n",
      "\n",
      " [[0.25009932 0.62660127 0.82074859]\n",
      "  [0.42128361 0.89831866 0.08353867]\n",
      "  [0.45686723 0.07380801 0.15153711]]\n",
      "\n",
      " [[0.72675354 0.86227731 0.23983357]\n",
      "  [0.34553592 0.93389241 0.57957374]\n",
      "  [0.7959616  0.06755783 0.33990493]]]\n",
      "---\n",
      "All elements mean =  0.5069393403702854\n",
      "Axis=0 elements mean =  [[0.46416337 0.67960033 0.61754705]\n",
      " [0.48670386 0.74674658 0.31249032]\n",
      " [0.69681124 0.06239741 0.4959939 ]]\n",
      "Axis=2 elements mean =  [[0.58587288 0.45855975 0.62665698]\n",
      " [0.56581639 0.46771365 0.22740412]\n",
      " [0.60962148 0.61966736 0.40114146]]\n"
     ]
    }
   ],
   "source": [
    "import numpy as np\n",
    "\n",
    "a = np.random.uniform(size=27).reshape(3, 3, 3)\n",
    "\n",
    "print(a)\n",
    "print('---')\n",
    "print('All elements mean = ', a.mean())\n",
    "print('Axis=0 elements mean = ', a.mean(axis=0))\n",
    "print('Axis=2 elements mean = ', a.mean(axis=2))\n",
    "\n"
   ]
  },
  {
   "cell_type": "markdown",
   "metadata": {},
   "source": [
    "4. 了解 reshape、dot 或任意 numpy function 的用法，並舉出兩個實際操作的例子\n",
    "\n",
    "* `random.uniform(n, m, c)`\n",
    "    * 產生數為浮點數\n",
    "    * n~m為範圍\n",
    "    * c為產生資料數\n",
    "\n",
    "* `reshape(n1, n2, ...)`\n",
    "    * 將目前資料轉換成 n1 * n2 * ... 的陣列\n",
    "    * 其中一個數據可以為`-1 `代表需要計算\n",
    "    * 須確保待轉換陣列數組數是可以轉換成後方的，否則會報錯\n",
    "\n",
    "* `dot(a, b)`\n",
    "    * 主要實現矩陣內積運算\n",
    "    * 在a為mxn條件下，b須為nxp或者n矩陣\n"
   ]
  },
  {
   "cell_type": "code",
   "execution_count": 112,
   "metadata": {},
   "outputs": [
    {
     "name": "stdout",
     "output_type": "stream",
     "text": [
      "a =  [[1 2 3]\n",
      " [4 5 6]]\n",
      "b =  [[1 2]\n",
      " [3 4]\n",
      " [5 6]]\n",
      "a dot b =  [[22 28]\n",
      " [49 64]]\n"
     ]
    }
   ],
   "source": [
    "import numpy as np\n",
    "\n",
    "a = np.array([[1, 2, 3], \n",
    "              [4, 5, 6]])\n",
    "b = np.array([[1, 2],\n",
    "              [3, 4],\n",
    "              [5, 6]])\n",
    "\n",
    "print('a = ', a)\n",
    "print('b = ', b)\n",
    "\n",
    "print('a dot b = ', np.dot(a, b))"
   ]
  },
  {
   "cell_type": "code",
   "execution_count": 117,
   "metadata": {},
   "outputs": [
    {
     "name": "stdout",
     "output_type": "stream",
     "text": [
      "a =  [[ 0.08754168 -0.88316145  0.51314014 -0.83289719]\n",
      " [ 0.69456098 -0.48094115  0.7473821   0.64764354]\n",
      " [ 0.72154996 -0.80881057 -0.31931405  0.64107567]]\n",
      "b =  [[-0.51717296  0.7143758   0.78303123]\n",
      " [ 0.87970581 -0.35325852 -0.49663303]\n",
      " [ 0.48079837  0.46107269 -0.4392533 ]\n",
      " [ 0.96549288  0.22355627 -0.25553948]]\n",
      "a dot b =  [[-1.37963581  0.42491748  0.49459463]\n",
      " [ 0.20234044  1.15545637  0.28892565]\n",
      " [-0.61925315  0.79726655  0.94311779]]\n"
     ]
    }
   ],
   "source": [
    "import numpy as np\n",
    "\n",
    "a = np.random.uniform(-1, 1, 12).reshape(3, -1)\n",
    "b = np.random.uniform(-1, 1, 12).reshape(-1, 3)\n",
    "\n",
    "print('a = ', a)\n",
    "print('b = ', b)\n",
    "\n",
    "print('a dot b = ', np.dot(a, b))"
   ]
  }
 ],
 "metadata": {
  "interpreter": {
   "hash": "82ed002fa2d4956f5c6aec99bcefe0f73a9f79882f3c9e2319b14958a5896ac5"
  },
  "kernelspec": {
   "display_name": "Python 3.9.2 64-bit",
   "language": "python",
   "name": "python3"
  },
  "language_info": {
   "name": "python",
   "version": "3.9.2"
  },
  "orig_nbformat": 4
 },
 "nbformat": 4,
 "nbformat_minor": 2
}
