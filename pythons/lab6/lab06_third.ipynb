{
 "cells": [
  {
   "cell_type": "markdown",
   "metadata": {},
   "source": [
    "## EasyOCR\n",
    "\n",
    "- 介紹\n",
    "- 安裝與官網\n",
    "- 使用方式\n",
    "- 實例"
   ]
  },
  {
   "cell_type": "markdown",
   "metadata": {},
   "source": [
    "## 介紹\n",
    "### What is EasyOCR?\n",
    "\n",
    "EasyOCR 是一個第三方函式庫用於圖像文字識別\n",
    "\n",
    "其特色有\n",
    "\n",
    "- 支持70種語言\n",
    "\n",
    "- 使用簡易\n",
    "\n",
    "- 允許使用外部訓練集"
   ]
  },
  {
   "cell_type": "markdown",
   "metadata": {},
   "source": [
    "## 安裝與官網\n",
    "\n",
    "採用 `pip` 安裝\n",
    "\n",
    "最新版:\n",
    "\n",
    "``` bash\n",
    "pip install easyocr\n",
    "```\n",
    "\n",
    "穩定版:\n",
    "\n",
    "``` bash\n",
    "pip install git+git://github.com/jaidedai/easyocr.git\n",
    "```\n",
    "\n",
    "官網:\n",
    "https://github.com/JaidedAI/EasyOCR/blob/master/README.md\n"
   ]
  },
  {
   "cell_type": "markdown",
   "metadata": {},
   "source": [
    "## 使用方式\n",
    "\n",
    "以官網範例做例子\n",
    "\n",
    "``` python\n",
    "import easyocr\n",
    "reader = easyocr.Reader(['ch_sim','en'], gpu=False) # 這僅需跑一次讓模塊載入記憶體\n",
    "result = reader.readtext('chinese.jpg')\n",
    "```\n",
    "\n",
    "上方 `easyocr.Reader()` 內資料為\n",
    "1. `['ch_sim','en']` : 語言資料，這邊例子是中文簡體與英文\n",
    "2. `gpu=False` : 這邊代表運算是否用GPU\n",
    "\n",
    "<img src=\"/JaidedAI/EasyOCR/blob/master/examples/example2.png\" alt=\"example2.png\">\n",
    "\n",
    "在最上方事例正常會讀取出\n",
    "``` bash\n",
    "[([[189, 75], [469, 75], [469, 165], [189, 165]], '愚园路', 0.3754989504814148),\n",
    " ([[86, 80], [134, 80], [134, 128], [86, 128]], '西', 0.40452659130096436),\n",
    " ([[517, 81], [565, 81], [565, 123], [517, 123]], '东', 0.9989598989486694),\n",
    " ([[78, 126], [136, 126], [136, 156], [78, 156]], '315', 0.8125889301300049),\n",
    " ([[514, 126], [574, 126], [574, 156], [514, 156]], '309', 0.4971577227115631),\n",
    " ([[226, 170], [414, 170], [414, 220], [226, 220]], 'Yuyuan Rd.', 0.8261902332305908),\n",
    " ([[79, 173], [125, 173], [125, 213], [79, 213]], 'W', 0.9848111271858215),\n",
    " ([[529, 173], [569, 173], [569, 213], [529, 213]], 'E', 0.8405593633651733)]\n",
    "```\n",
    "\n",
    "上方共識別了8組資料，以第一筆為例，其主要參數為\n",
    "1. `[[189, 75], [469, 75], [469, 165], [189, 165]]` : 識別座標4個定位點\n",
    "2. `'愚园路'` : 判定的字"
   ]
  },
  {
   "cell_type": "markdown",
   "metadata": {},
   "source": []
  },
  {
   "cell_type": "markdown",
   "metadata": {},
   "source": [
    "## 實際操作\n",
    "\n",
    "在這個例子中，我引入CV2用來識別紅色的字其設定為\n",
    "\n",
    "1. 需有個`box.png`在這個資料夾目錄\n",
    "\n",
    "2. 需安裝繁體中文訓練集 (首次執行會自動下載到根目錄`./model`)\n",
    "\n",
    "3. 這邊我是識別紅色的字，如果`color_detect`為`True`即可做色彩處理\n",
    "\n",
    "4. 圖片預處理後會存在`box_conv.png`\n",
    "\n",
    "5. 圖片探測框圖像化存在`box_detect.png`\n",
    "\n",
    "實際展示可以去github位置看 : https://github.com/whats2000/coding-stuff-I-make-from-learning/tree/main/pythons/lab6"
   ]
  },
  {
   "cell_type": "code",
   "execution_count": 2,
   "metadata": {},
   "outputs": [
    {
     "name": "stderr",
     "output_type": "stream",
     "text": [
      "CUDA not available - defaulting to CPU. Note: This module is much faster with a GPU.\n"
     ]
    },
    {
     "name": "stdout",
     "output_type": "stream",
     "text": [
      "偵測字串:  [([[0, 39], [245, 39], [245, 77], [0, 77]], '倒計時::1分 54秒', 0.7812354200434776)]\n"
     ]
    }
   ],
   "source": [
    "import numpy as np\n",
    "from PIL import Image, ImageDraw\n",
    "import easyocr\n",
    "import cv2\n",
    "\n",
    "reader = easyocr.Reader(['ch_tra'], gpu=True, model_storage_directory='../model')\n",
    "\n",
    "\n",
    "def detect_png(color_detect=False):\n",
    "    pre_img = cv2.cvtColor(cv2.imread(r'box.png'), cv2.COLOR_BGR2HSV)\n",
    "\n",
    "    if color_detect:\n",
    "        low_hsv = np.array([0, 43, 46])\n",
    "        high_hsv = np.array([10, 255, 255])\n",
    "\n",
    "        pre2_img = cv2.inRange(pre_img, lowerb=low_hsv, upperb=high_hsv)\n",
    "    else:\n",
    "        pre2_img = pre_img\n",
    "\n",
    "    cv2.imwrite('box_conv.png', pre2_img)\n",
    "\n",
    "    detect_text = reader.readtext(r'box_conv.png')\n",
    "\n",
    "    img = Image.open(r'box_conv.png')\n",
    "    draw = ImageDraw.Draw(img)\n",
    "\n",
    "    for t in detect_text:\n",
    "        draw.rectangle((tuple(t[0][0]), tuple(t[0][2])), fill=None, outline='red', width=2)\n",
    "\n",
    "    img.save(\"box_detect.png\")\n",
    "\n",
    "    print('偵測字串: ', detect_text)\n",
    "\n",
    "\n",
    "detect_png(False)\n"
   ]
  },
  {
   "cell_type": "code",
   "execution_count": null,
   "metadata": {},
   "outputs": [],
   "source": []
  }
 ],
 "metadata": {
  "interpreter": {
   "hash": "247ab06e135bb35fa78c5eff31b2a9a0050dcb5fb773c2631d2a29ac689eeccb"
  },
  "kernelspec": {
   "display_name": "Python 3.9.2 64-bit",
   "language": "python",
   "name": "python3"
  },
  "language_info": {
   "codemirror_mode": {
    "name": "ipython",
    "version": 3
   },
   "file_extension": ".py",
   "mimetype": "text/x-python",
   "name": "python",
   "nbconvert_exporter": "python",
   "pygments_lexer": "ipython3",
   "version": "3.9.2"
  },
  "orig_nbformat": 4
 },
 "nbformat": 4,
 "nbformat_minor": 2
}
