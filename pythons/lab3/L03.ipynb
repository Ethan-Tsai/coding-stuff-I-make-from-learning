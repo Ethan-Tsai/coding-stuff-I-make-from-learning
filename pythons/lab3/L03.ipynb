{
 "cells": [
  {
   "cell_type": "code",
   "execution_count": null,
   "metadata": {},
   "outputs": [],
   "source": [
    "while True:\n",
    "    # 輸入內容\n",
    "    n = int(input('Please input n: '))\n",
    "\n",
    "    # 小於1時結束\n",
    "    if n < 1:\n",
    "        break\n",
    "    \n",
    "    # 每行為以 i 為首項公差為 i 的等差數列\n",
    "    for i in range(1, n + 1, 1):\n",
    "        for j in range(i, i * n + 1, i):\n",
    "            if j >= 100:\n",
    "                print('', j, end='')\n",
    "            elif j >= 10:\n",
    "                print(' ', j, end='')\n",
    "            else:\n",
    "                print('  ', j, end='')\n",
    "\n",
    "        print()\n",
    "    print()\n",
    "\n",
    "print('Bye.')"
   ]
  }
 ],
 "metadata": {
  "language_info": {
   "name": "python"
  },
  "orig_nbformat": 4
 },
 "nbformat": 4,
 "nbformat_minor": 2
}
