{
 "cells": [
  {
   "cell_type": "code",
   "execution_count": 7,
   "metadata": {},
   "outputs": [
    {
     "name": "stdout",
     "output_type": "stream",
     "text": [
      "\n",
      "You are rank #3 right now\n",
      "\n",
      "    dragon        100\n",
      "      meng         90\n",
      "     Steve         59\n",
      "  Hsuan Ju         59\n",
      "   yihuang         10\n"
     ]
    }
   ],
   "source": [
    "names = ['dragon', 'meng', 'Hsuan Ju', 'yihuang']\n",
    "scores = [100, 90, 59, 10]\n",
    "\n",
    "name = input('Please input your name: ')\n",
    "score = int(input('Please input your score: '))\n",
    "\n",
    "print()\n",
    "# ===== 放入對的位置，找到排名 =====\n",
    "\n",
    "# .append and .sort\n",
    "scores.append(score)\n",
    "scores.sort(reverse=True)\n",
    "\n",
    "rank = scores.index(score) # 用 .index 找到他排第幾名\n",
    "\n",
    "print(f'You are rank #{rank + 1} right now')\n",
    "print()\n",
    "\n",
    "names.insert(rank, name)  # 把名字塞到對的位置\n",
    "\n",
    "# 通通印出來\n",
    "# 最少要印名字出來，請幫我字串長度設定為 10 + 靠右對齊\n",
    "for it_name, it_score in zip(names, scores):\n",
    "    print('{:>10}'.format(it_name), '{:>10}'.format(it_score))\n"
   ]
  }
 ],
 "metadata": {
  "interpreter": {
   "hash": "28781f49791c3bada5e2f19e2923aab45c34dbf6d5bf6ae9c3704ed1275928d5"
  },
  "kernelspec": {
   "display_name": "Python 3.10.2 64-bit",
   "language": "python",
   "name": "python3"
  },
  "language_info": {
   "codemirror_mode": {
    "name": "ipython",
    "version": 3
   },
   "file_extension": ".py",
   "mimetype": "text/x-python",
   "name": "python",
   "nbconvert_exporter": "python",
   "pygments_lexer": "ipython3",
   "version": "3.10.2"
  },
  "orig_nbformat": 4
 },
 "nbformat": 4,
 "nbformat_minor": 2
}
